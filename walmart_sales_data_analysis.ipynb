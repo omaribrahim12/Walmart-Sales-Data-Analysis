{
 "cells": [
  {
   "cell_type": "code",
   "execution_count": 0,
   "metadata": {
    "application/vnd.databricks.v1+cell": {
     "cellMetadata": {
      "byteLimit": 2048000,
      "implicitDf": true,
      "rowLimit": 10000
     },
     "inputWidgets": {},
     "nuid": "980e471f-41ca-41c0-a7bf-3c9fdcac9104",
     "showTitle": false,
     "title": ""
    }
   },
   "outputs": [
    {
     "output_type": "display_data",
     "data": {
      "text/html": [
       "<style scoped>\n",
       "  .table-result-container {\n",
       "    max-height: 300px;\n",
       "    overflow: auto;\n",
       "  }\n",
       "  table, th, td {\n",
       "    border: 1px solid black;\n",
       "    border-collapse: collapse;\n",
       "  }\n",
       "  th, td {\n",
       "    padding: 5px;\n",
       "  }\n",
       "  th {\n",
       "    text-align: left;\n",
       "  }\n",
       "</style><div class='table-result-container'><table class='table-result'><thead style='background-color: white'><tr><th>Invoice ID</th><th>Branch</th><th>City</th><th>Customer type</th><th>Gender</th><th>Product line</th><th>Unit price</th><th>Quantity</th><th>Tax 5%</th><th>Total</th><th>Date</th><th>Time</th><th>Payment</th><th>cogs</th><th>gross margin percentage</th><th>gross income</th><th>Rating</th></tr></thead><tbody><tr><td>750-67-8428</td><td>A</td><td>Yangon</td><td>Member</td><td>Female</td><td>Health and beauty</td><td>74.69</td><td>7</td><td>26.1415</td><td>548.9715</td><td>2019-01-05</td><td>2024-03-19T13:08:00Z</td><td>Ewallet</td><td>522.83</td><td>4.761904762</td><td>26.1415</td><td>9.1</td></tr><tr><td>226-31-3081</td><td>C</td><td>Naypyitaw</td><td>Normal</td><td>Female</td><td>Electronic accessories</td><td>15.28</td><td>5</td><td>3.82</td><td>80.22</td><td>2019-03-08</td><td>2024-03-19T10:29:00Z</td><td>Cash</td><td>76.4</td><td>4.761904762</td><td>3.82</td><td>9.6</td></tr><tr><td>631-41-3108</td><td>A</td><td>Yangon</td><td>Normal</td><td>Male</td><td>Home and lifestyle</td><td>46.33</td><td>7</td><td>16.2155</td><td>340.5255</td><td>2019-03-03</td><td>2024-03-19T13:23:00Z</td><td>Credit card</td><td>324.31</td><td>4.761904762</td><td>16.2155</td><td>7.4</td></tr><tr><td>123-19-1176</td><td>A</td><td>Yangon</td><td>Member</td><td>Male</td><td>Health and beauty</td><td>58.22</td><td>8</td><td>23.288</td><td>489.048</td><td>2019-01-27</td><td>2024-03-19T20:33:00Z</td><td>Ewallet</td><td>465.76</td><td>4.761904762</td><td>23.288</td><td>8.4</td></tr><tr><td>373-73-7910</td><td>A</td><td>Yangon</td><td>Normal</td><td>Male</td><td>Sports and travel</td><td>86.31</td><td>7</td><td>30.2085</td><td>634.3785</td><td>2019-02-08</td><td>2024-03-19T10:37:00Z</td><td>Ewallet</td><td>604.17</td><td>4.761904762</td><td>30.2085</td><td>5.3</td></tr></tbody></table></div>"
      ]
     },
     "metadata": {
      "application/vnd.databricks.v1+output": {
       "addedWidgets": {},
       "aggData": [],
       "aggError": "",
       "aggOverflow": false,
       "aggSchema": [],
       "aggSeriesLimitReached": false,
       "aggType": "",
       "arguments": {},
       "columnCustomDisplayInfos": {},
       "data": [
        [
         "750-67-8428",
         "A",
         "Yangon",
         "Member",
         "Female",
         "Health and beauty",
         74.69,
         7,
         26.1415,
         548.9715,
         "2019-01-05",
         "2024-03-19T13:08:00Z",
         "Ewallet",
         522.83,
         4.761904762,
         26.1415,
         9.1
        ],
        [
         "226-31-3081",
         "C",
         "Naypyitaw",
         "Normal",
         "Female",
         "Electronic accessories",
         15.28,
         5,
         3.82,
         80.22,
         "2019-03-08",
         "2024-03-19T10:29:00Z",
         "Cash",
         76.4,
         4.761904762,
         3.82,
         9.6
        ],
        [
         "631-41-3108",
         "A",
         "Yangon",
         "Normal",
         "Male",
         "Home and lifestyle",
         46.33,
         7,
         16.2155,
         340.5255,
         "2019-03-03",
         "2024-03-19T13:23:00Z",
         "Credit card",
         324.31,
         4.761904762,
         16.2155,
         7.4
        ],
        [
         "123-19-1176",
         "A",
         "Yangon",
         "Member",
         "Male",
         "Health and beauty",
         58.22,
         8,
         23.288,
         489.048,
         "2019-01-27",
         "2024-03-19T20:33:00Z",
         "Ewallet",
         465.76,
         4.761904762,
         23.288,
         8.4
        ],
        [
         "373-73-7910",
         "A",
         "Yangon",
         "Normal",
         "Male",
         "Sports and travel",
         86.31,
         7,
         30.2085,
         634.3785,
         "2019-02-08",
         "2024-03-19T10:37:00Z",
         "Ewallet",
         604.17,
         4.761904762,
         30.2085,
         5.3
        ]
       ],
       "datasetInfos": [],
       "dbfsResultPath": null,
       "isJsonSchema": true,
       "metadata": {
        "dataframeName": "_sqldf",
        "executionCount": 2
       },
       "overflow": false,
       "plotOptions": {
        "customPlotOptions": {},
        "displayType": "table",
        "pivotAggregation": null,
        "pivotColumns": null,
        "xColumns": null,
        "yColumns": null
       },
       "removedWidgets": [],
       "schema": [
        {
         "metadata": "{}",
         "name": "Invoice ID",
         "type": "\"string\""
        },
        {
         "metadata": "{}",
         "name": "Branch",
         "type": "\"string\""
        },
        {
         "metadata": "{}",
         "name": "City",
         "type": "\"string\""
        },
        {
         "metadata": "{}",
         "name": "Customer type",
         "type": "\"string\""
        },
        {
         "metadata": "{}",
         "name": "Gender",
         "type": "\"string\""
        },
        {
         "metadata": "{}",
         "name": "Product line",
         "type": "\"string\""
        },
        {
         "metadata": "{}",
         "name": "Unit price",
         "type": "\"double\""
        },
        {
         "metadata": "{}",
         "name": "Quantity",
         "type": "\"long\""
        },
        {
         "metadata": "{}",
         "name": "Tax 5%",
         "type": "\"double\""
        },
        {
         "metadata": "{}",
         "name": "Total",
         "type": "\"double\""
        },
        {
         "metadata": "{\"__detected_date_formats\":\"yyyy-M-d\"}",
         "name": "Date",
         "type": "\"date\""
        },
        {
         "metadata": "{}",
         "name": "Time",
         "type": "\"timestamp\""
        },
        {
         "metadata": "{}",
         "name": "Payment",
         "type": "\"string\""
        },
        {
         "metadata": "{}",
         "name": "cogs",
         "type": "\"double\""
        },
        {
         "metadata": "{}",
         "name": "gross margin percentage",
         "type": "\"double\""
        },
        {
         "metadata": "{}",
         "name": "gross income",
         "type": "\"double\""
        },
        {
         "metadata": "{}",
         "name": "Rating",
         "type": "\"double\""
        }
       ],
       "type": "table"
      }
     },
     "output_type": "display_data"
    }
   ],
   "source": [
    "%sql\n",
    "SELECT * FROM `walmartsales_dataanalysis`.`default`.`walmart_sales_data_csv`\n",
    "limit 5;"
   ]
  },
  {
   "cell_type": "markdown",
   "metadata": {
    "application/vnd.databricks.v1+cell": {
     "cellMetadata": {},
     "inputWidgets": {},
     "nuid": "40c3f416-bdd3-485a-82c1-cf5751460881",
     "showTitle": false,
     "title": ""
    }
   },
   "source": [
    "# Feature Engineering"
   ]
  },
  {
   "cell_type": "markdown",
   "metadata": {
    "application/vnd.databricks.v1+cell": {
     "cellMetadata": {},
     "inputWidgets": {},
     "nuid": "406c4f59-efd6-43a9-9ac5-8df3f7d04e27",
     "showTitle": false,
     "title": ""
    }
   },
   "source": [
    "### Add Time of day Column"
   ]
  },
  {
   "cell_type": "code",
   "execution_count": 0,
   "metadata": {
    "application/vnd.databricks.v1+cell": {
     "cellMetadata": {
      "byteLimit": 2048000,
      "implicitDf": true,
      "rowLimit": 10000
     },
     "inputWidgets": {},
     "nuid": "60772f97-ce9f-40f5-9066-eb44b3af0610",
     "showTitle": false,
     "title": ""
    }
   },
   "outputs": [
    {
     "output_type": "display_data",
     "data": {
      "text/html": [
       "<style scoped>\n",
       "  .table-result-container {\n",
       "    max-height: 300px;\n",
       "    overflow: auto;\n",
       "  }\n",
       "  table, th, td {\n",
       "    border: 1px solid black;\n",
       "    border-collapse: collapse;\n",
       "  }\n",
       "  th, td {\n",
       "    padding: 5px;\n",
       "  }\n",
       "  th {\n",
       "    text-align: left;\n",
       "  }\n",
       "</style><div class='table-result-container'><table class='table-result'><thead style='background-color: white'><tr><th>Time</th><th>time_of_day</th></tr></thead><tbody><tr><td>2024-03-19T13:08:00Z</td><td>Afternoon</td></tr><tr><td>2024-03-19T10:29:00Z</td><td>Morning</td></tr><tr><td>2024-03-19T13:23:00Z</td><td>Afternoon</td></tr><tr><td>2024-03-19T20:33:00Z</td><td>Evening</td></tr><tr><td>2024-03-19T10:37:00Z</td><td>Morning</td></tr><tr><td>2024-03-19T18:30:00Z</td><td>Evening</td></tr><tr><td>2024-03-19T14:36:00Z</td><td>Afternoon</td></tr><tr><td>2024-03-19T11:38:00Z</td><td>Morning</td></tr><tr><td>2024-03-19T17:15:00Z</td><td>Evening</td></tr><tr><td>2024-03-19T13:27:00Z</td><td>Afternoon</td></tr><tr><td>2024-03-19T18:07:00Z</td><td>Evening</td></tr><tr><td>2024-03-19T17:03:00Z</td><td>Evening</td></tr><tr><td>2024-03-19T10:25:00Z</td><td>Morning</td></tr><tr><td>2024-03-19T16:48:00Z</td><td>Evening</td></tr><tr><td>2024-03-19T19:21:00Z</td><td>Evening</td></tr><tr><td>2024-03-19T16:19:00Z</td><td>Evening</td></tr><tr><td>2024-03-19T11:03:00Z</td><td>Morning</td></tr><tr><td>2024-03-19T10:39:00Z</td><td>Morning</td></tr><tr><td>2024-03-19T18:00:00Z</td><td>Evening</td></tr><tr><td>2024-03-19T15:30:00Z</td><td>Afternoon</td></tr><tr><td>2024-03-19T11:24:00Z</td><td>Morning</td></tr><tr><td>2024-03-19T10:40:00Z</td><td>Morning</td></tr><tr><td>2024-03-19T12:20:00Z</td><td>Afternoon</td></tr><tr><td>2024-03-19T11:15:00Z</td><td>Morning</td></tr><tr><td>2024-03-19T17:36:00Z</td><td>Evening</td></tr><tr><td>2024-03-19T19:20:00Z</td><td>Evening</td></tr><tr><td>2024-03-19T15:31:00Z</td><td>Afternoon</td></tr><tr><td>2024-03-19T12:17:00Z</td><td>Afternoon</td></tr><tr><td>2024-03-19T19:48:00Z</td><td>Evening</td></tr><tr><td>2024-03-19T15:36:00Z</td><td>Afternoon</td></tr><tr><td>2024-03-19T19:39:00Z</td><td>Evening</td></tr><tr><td>2024-03-19T12:43:00Z</td><td>Afternoon</td></tr><tr><td>2024-03-19T14:49:00Z</td><td>Afternoon</td></tr><tr><td>2024-03-19T10:12:00Z</td><td>Morning</td></tr><tr><td>2024-03-19T10:42:00Z</td><td>Morning</td></tr><tr><td>2024-03-19T12:28:00Z</td><td>Afternoon</td></tr><tr><td>2024-03-19T19:15:00Z</td><td>Evening</td></tr><tr><td>2024-03-19T17:17:00Z</td><td>Evening</td></tr><tr><td>2024-03-19T13:24:00Z</td><td>Afternoon</td></tr><tr><td>2024-03-19T13:01:00Z</td><td>Afternoon</td></tr><tr><td>2024-03-19T18:45:00Z</td><td>Evening</td></tr><tr><td>2024-03-19T10:11:00Z</td><td>Morning</td></tr><tr><td>2024-03-19T13:03:00Z</td><td>Afternoon</td></tr><tr><td>2024-03-19T20:39:00Z</td><td>Evening</td></tr><tr><td>2024-03-19T19:47:00Z</td><td>Evening</td></tr><tr><td>2024-03-19T18:00:00Z</td><td>Evening</td></tr><tr><td>2024-03-19T17:24:00Z</td><td>Evening</td></tr><tr><td>2024-03-19T15:47:00Z</td><td>Afternoon</td></tr><tr><td>2024-03-19T12:45:00Z</td><td>Afternoon</td></tr><tr><td>2024-03-19T17:08:00Z</td><td>Evening</td></tr><tr><td>2024-03-19T10:19:00Z</td><td>Morning</td></tr><tr><td>2024-03-19T15:10:00Z</td><td>Afternoon</td></tr><tr><td>2024-03-19T14:42:00Z</td><td>Afternoon</td></tr><tr><td>2024-03-19T15:46:00Z</td><td>Afternoon</td></tr><tr><td>2024-03-19T11:49:00Z</td><td>Morning</td></tr><tr><td>2024-03-19T19:01:00Z</td><td>Evening</td></tr><tr><td>2024-03-19T11:26:00Z</td><td>Morning</td></tr><tr><td>2024-03-19T11:28:00Z</td><td>Morning</td></tr><tr><td>2024-03-19T15:55:00Z</td><td>Afternoon</td></tr><tr><td>2024-03-19T20:36:00Z</td><td>Evening</td></tr><tr><td>2024-03-19T17:47:00Z</td><td>Evening</td></tr><tr><td>2024-03-19T10:55:00Z</td><td>Morning</td></tr><tr><td>2024-03-19T13:40:00Z</td><td>Afternoon</td></tr><tr><td>2024-03-19T12:27:00Z</td><td>Afternoon</td></tr><tr><td>2024-03-19T14:35:00Z</td><td>Afternoon</td></tr><tr><td>2024-03-19T16:40:00Z</td><td>Evening</td></tr><tr><td>2024-03-19T15:43:00Z</td><td>Afternoon</td></tr><tr><td>2024-03-19T15:01:00Z</td><td>Afternoon</td></tr><tr><td>2024-03-19T10:04:00Z</td><td>Morning</td></tr><tr><td>2024-03-19T18:50:00Z</td><td>Evening</td></tr><tr><td>2024-03-19T12:46:00Z</td><td>Afternoon</td></tr><tr><td>2024-03-19T16:19:00Z</td><td>Evening</td></tr><tr><td>2024-03-19T18:17:00Z</td><td>Evening</td></tr><tr><td>2024-03-19T18:21:00Z</td><td>Evening</td></tr><tr><td>2024-03-19T10:55:00Z</td><td>Morning</td></tr><tr><td>2024-03-19T17:04:00Z</td><td>Evening</td></tr><tr><td>2024-03-19T14:20:00Z</td><td>Afternoon</td></tr><tr><td>2024-03-19T15:48:00Z</td><td>Afternoon</td></tr><tr><td>2024-03-19T16:24:00Z</td><td>Evening</td></tr><tr><td>2024-03-19T18:56:00Z</td><td>Evening</td></tr><tr><td>2024-03-19T14:42:00Z</td><td>Afternoon</td></tr><tr><td>2024-03-19T19:56:00Z</td><td>Evening</td></tr><tr><td>2024-03-19T18:37:00Z</td><td>Evening</td></tr><tr><td>2024-03-19T18:45:00Z</td><td>Evening</td></tr><tr><td>2024-03-19T10:17:00Z</td><td>Morning</td></tr><tr><td>2024-03-19T14:31:00Z</td><td>Afternoon</td></tr><tr><td>2024-03-19T10:23:00Z</td><td>Morning</td></tr><tr><td>2024-03-19T20:35:00Z</td><td>Evening</td></tr><tr><td>2024-03-19T16:57:00Z</td><td>Evening</td></tr><tr><td>2024-03-19T17:55:00Z</td><td>Evening</td></tr><tr><td>2024-03-19T10:25:00Z</td><td>Morning</td></tr><tr><td>2024-03-19T19:54:00Z</td><td>Evening</td></tr><tr><td>2024-03-19T16:42:00Z</td><td>Evening</td></tr><tr><td>2024-03-19T12:09:00Z</td><td>Afternoon</td></tr><tr><td>2024-03-19T20:05:00Z</td><td>Evening</td></tr><tr><td>2024-03-19T20:38:00Z</td><td>Evening</td></tr><tr><td>2024-03-19T10:25:00Z</td><td>Morning</td></tr><tr><td>2024-03-19T13:11:00Z</td><td>Afternoon</td></tr><tr><td>2024-03-19T10:16:00Z</td><td>Morning</td></tr><tr><td>2024-03-19T18:14:00Z</td><td>Evening</td></tr><tr><td>2024-03-19T19:20:00Z</td><td>Evening</td></tr><tr><td>2024-03-19T13:22:00Z</td><td>Afternoon</td></tr><tr><td>2024-03-19T11:27:00Z</td><td>Morning</td></tr><tr><td>2024-03-19T16:44:00Z</td><td>Evening</td></tr><tr><td>2024-03-19T18:19:00Z</td><td>Evening</td></tr><tr><td>2024-03-19T14:50:00Z</td><td>Afternoon</td></tr><tr><td>2024-03-19T20:54:00Z</td><td>Evening</td></tr><tr><td>2024-03-19T20:19:00Z</td><td>Evening</td></tr><tr><td>2024-03-19T10:43:00Z</td><td>Morning</td></tr><tr><td>2024-03-19T14:30:00Z</td><td>Afternoon</td></tr><tr><td>2024-03-19T11:32:00Z</td><td>Morning</td></tr><tr><td>2024-03-19T10:41:00Z</td><td>Morning</td></tr><tr><td>2024-03-19T12:44:00Z</td><td>Afternoon</td></tr><tr><td>2024-03-19T20:07:00Z</td><td>Evening</td></tr><tr><td>2024-03-19T20:31:00Z</td><td>Evening</td></tr><tr><td>2024-03-19T13:01:00Z</td><td>Afternoon</td></tr><tr><td>2024-03-19T12:29:00Z</td><td>Afternoon</td></tr><tr><td>2024-03-19T15:26:00Z</td><td>Afternoon</td></tr><tr><td>2024-03-19T20:48:00Z</td><td>Evening</td></tr><tr><td>2024-03-19T20:38:00Z</td><td>Evening</td></tr><tr><td>2024-03-19T17:03:00Z</td><td>Evening</td></tr><tr><td>2024-03-19T12:02:00Z</td><td>Afternoon</td></tr><tr><td>2024-03-19T17:26:00Z</td><td>Evening</td></tr><tr><td>2024-03-19T19:52:00Z</td><td>Evening</td></tr><tr><td>2024-03-19T14:57:00Z</td><td>Afternoon</td></tr><tr><td>2024-03-19T18:44:00Z</td><td>Evening</td></tr><tr><td>2024-03-19T13:26:00Z</td><td>Afternoon</td></tr><tr><td>2024-03-19T16:17:00Z</td><td>Evening</td></tr><tr><td>2024-03-19T15:57:00Z</td><td>Afternoon</td></tr><tr><td>2024-03-19T11:15:00Z</td><td>Morning</td></tr><tr><td>2024-03-19T13:18:00Z</td><td>Afternoon</td></tr><tr><td>2024-03-19T20:34:00Z</td><td>Evening</td></tr><tr><td>2024-03-19T18:36:00Z</td><td>Evening</td></tr><tr><td>2024-03-19T14:40:00Z</td><td>Afternoon</td></tr><tr><td>2024-03-19T16:43:00Z</td><td>Evening</td></tr><tr><td>2024-03-19T19:39:00Z</td><td>Evening</td></tr><tr><td>2024-03-19T20:59:00Z</td><td>Evening</td></tr><tr><td>2024-03-19T15:39:00Z</td><td>Afternoon</td></tr><tr><td>2024-03-19T12:21:00Z</td><td>Afternoon</td></tr><tr><td>2024-03-19T19:25:00Z</td><td>Evening</td></tr><tr><td>2024-03-19T13:00:00Z</td><td>Afternoon</td></tr><tr><td>2024-03-19T13:48:00Z</td><td>Afternoon</td></tr><tr><td>2024-03-19T19:57:00Z</td><td>Evening</td></tr><tr><td>2024-03-19T10:36:00Z</td><td>Morning</td></tr><tr><td>2024-03-19T16:37:00Z</td><td>Evening</td></tr><tr><td>2024-03-19T17:11:00Z</td><td>Evening</td></tr><tr><td>2024-03-19T12:28:00Z</td><td>Afternoon</td></tr><tr><td>2024-03-19T12:46:00Z</td><td>Afternoon</td></tr><tr><td>2024-03-19T15:07:00Z</td><td>Afternoon</td></tr><tr><td>2024-03-19T13:48:00Z</td><td>Afternoon</td></tr><tr><td>2024-03-19T19:20:00Z</td><td>Evening</td></tr><tr><td>2024-03-19T16:07:00Z</td><td>Evening</td></tr><tr><td>2024-03-19T11:56:00Z</td><td>Morning</td></tr><tr><td>2024-03-19T18:23:00Z</td><td>Evening</td></tr><tr><td>2024-03-19T13:05:00Z</td><td>Afternoon</td></tr><tr><td>2024-03-19T15:55:00Z</td><td>Afternoon</td></tr><tr><td>2024-03-19T19:40:00Z</td><td>Evening</td></tr><tr><td>2024-03-19T13:58:00Z</td><td>Afternoon</td></tr><tr><td>2024-03-19T14:43:00Z</td><td>Afternoon</td></tr><tr><td>2024-03-19T19:18:00Z</td><td>Evening</td></tr><tr><td>2024-03-19T19:39:00Z</td><td>Evening</td></tr><tr><td>2024-03-19T16:21:00Z</td><td>Evening</td></tr><tr><td>2024-03-19T19:44:00Z</td><td>Evening</td></tr><tr><td>2024-03-19T19:42:00Z</td><td>Evening</td></tr><tr><td>2024-03-19T15:24:00Z</td><td>Afternoon</td></tr><tr><td>2024-03-19T14:12:00Z</td><td>Afternoon</td></tr><tr><td>2024-03-19T13:32:00Z</td><td>Afternoon</td></tr><tr><td>2024-03-19T16:20:00Z</td><td>Evening</td></tr><tr><td>2024-03-19T16:31:00Z</td><td>Evening</td></tr><tr><td>2024-03-19T15:10:00Z</td><td>Afternoon</td></tr><tr><td>2024-03-19T11:36:00Z</td><td>Morning</td></tr><tr><td>2024-03-19T12:45:00Z</td><td>Afternoon</td></tr><tr><td>2024-03-19T19:17:00Z</td><td>Evening</td></tr><tr><td>2024-03-19T17:34:00Z</td><td>Evening</td></tr><tr><td>2024-03-19T12:04:00Z</td><td>Afternoon</td></tr><tr><td>2024-03-19T16:21:00Z</td><td>Evening</td></tr><tr><td>2024-03-19T17:01:00Z</td><td>Evening</td></tr><tr><td>2024-03-19T10:50:00Z</td><td>Morning</td></tr><tr><td>2024-03-19T19:16:00Z</td><td>Evening</td></tr><tr><td>2024-03-19T16:47:00Z</td><td>Evening</td></tr><tr><td>2024-03-19T10:00:00Z</td><td>Morning</td></tr><tr><td>2024-03-19T11:51:00Z</td><td>Morning</td></tr><tr><td>2024-03-19T10:55:00Z</td><td>Morning</td></tr><tr><td>2024-03-19T15:00:00Z</td><td>Afternoon</td></tr><tr><td>2024-03-19T11:19:00Z</td><td>Morning</td></tr><tr><td>2024-03-19T19:46:00Z</td><td>Evening</td></tr><tr><td>2024-03-19T19:00:00Z</td><td>Evening</td></tr><tr><td>2024-03-19T10:53:00Z</td><td>Morning</td></tr><tr><td>2024-03-19T12:50:00Z</td><td>Afternoon</td></tr><tr><td>2024-03-19T20:50:00Z</td><td>Evening</td></tr><tr><td>2024-03-19T10:39:00Z</td><td>Morning</td></tr><tr><td>2024-03-19T13:41:00Z</td><td>Afternoon</td></tr><tr><td>2024-03-19T19:08:00Z</td><td>Evening</td></tr><tr><td>2024-03-19T20:23:00Z</td><td>Evening</td></tr><tr><td>2024-03-19T11:30:00Z</td><td>Morning</td></tr><tr><td>2024-03-19T19:30:00Z</td><td>Evening</td></tr><tr><td>2024-03-19T18:03:00Z</td><td>Evening</td></tr><tr><td>2024-03-19T10:13:00Z</td><td>Morning</td></tr><tr><td>2024-03-19T19:58:00Z</td><td>Evening</td></tr><tr><td>2024-03-19T19:57:00Z</td><td>Evening</td></tr><tr><td>2024-03-19T10:01:00Z</td><td>Morning</td></tr><tr><td>2024-03-19T11:57:00Z</td><td>Morning</td></tr><tr><td>2024-03-19T10:02:00Z</td><td>Morning</td></tr><tr><td>2024-03-19T14:51:00Z</td><td>Afternoon</td></tr><tr><td>2024-03-19T12:42:00Z</td><td>Afternoon</td></tr><tr><td>2024-03-19T12:02:00Z</td><td>Afternoon</td></tr><tr><td>2024-03-19T18:19:00Z</td><td>Evening</td></tr><tr><td>2024-03-19T17:38:00Z</td><td>Evening</td></tr><tr><td>2024-03-19T13:41:00Z</td><td>Afternoon</td></tr><tr><td>2024-03-19T19:42:00Z</td><td>Evening</td></tr><tr><td>2024-03-19T20:24:00Z</td><td>Evening</td></tr><tr><td>2024-03-19T18:08:00Z</td><td>Evening</td></tr><tr><td>2024-03-19T19:17:00Z</td><td>Evening</td></tr><tr><td>2024-03-19T13:24:00Z</td><td>Afternoon</td></tr><tr><td>2024-03-19T15:53:00Z</td><td>Afternoon</td></tr><tr><td>2024-03-19T15:05:00Z</td><td>Afternoon</td></tr><tr><td>2024-03-19T18:27:00Z</td><td>Evening</td></tr><tr><td>2024-03-19T16:55:00Z</td><td>Evening</td></tr><tr><td>2024-03-19T12:58:00Z</td><td>Afternoon</td></tr><tr><td>2024-03-19T18:59:00Z</td><td>Evening</td></tr><tr><td>2024-03-19T13:44:00Z</td><td>Afternoon</td></tr><tr><td>2024-03-19T13:46:00Z</td><td>Afternoon</td></tr><tr><td>2024-03-19T18:06:00Z</td><td>Evening</td></tr><tr><td>2024-03-19T12:38:00Z</td><td>Afternoon</td></tr><tr><td>2024-03-19T15:56:00Z</td><td>Afternoon</td></tr><tr><td>2024-03-19T14:29:00Z</td><td>Afternoon</td></tr><tr><td>2024-03-19T19:14:00Z</td><td>Evening</td></tr><tr><td>2024-03-19T16:24:00Z</td><td>Evening</td></tr><tr><td>2024-03-19T10:52:00Z</td><td>Morning</td></tr><tr><td>2024-03-19T12:55:00Z</td><td>Afternoon</td></tr><tr><td>2024-03-19T19:28:00Z</td><td>Evening</td></tr><tr><td>2024-03-19T13:52:00Z</td><td>Afternoon</td></tr><tr><td>2024-03-19T10:54:00Z</td><td>Morning</td></tr><tr><td>2024-03-19T18:31:00Z</td><td>Evening</td></tr><tr><td>2024-03-19T18:24:00Z</td><td>Evening</td></tr><tr><td>2024-03-19T18:09:00Z</td><td>Evening</td></tr><tr><td>2024-03-19T15:16:00Z</td><td>Afternoon</td></tr><tr><td>2024-03-19T17:07:00Z</td><td>Evening</td></tr><tr><td>2024-03-19T19:26:00Z</td><td>Evening</td></tr><tr><td>2024-03-19T11:20:00Z</td><td>Morning</td></tr><tr><td>2024-03-19T16:49:00Z</td><td>Evening</td></tr><tr><td>2024-03-19T12:01:00Z</td><td>Afternoon</td></tr><tr><td>2024-03-19T18:37:00Z</td><td>Evening</td></tr><tr><td>2024-03-19T11:25:00Z</td><td>Morning</td></tr><tr><td>2024-03-19T18:42:00Z</td><td>Evening</td></tr><tr><td>2024-03-19T14:47:00Z</td><td>Afternoon</td></tr><tr><td>2024-03-19T19:43:00Z</td><td>Evening</td></tr><tr><td>2024-03-19T14:04:00Z</td><td>Afternoon</td></tr><tr><td>2024-03-19T16:11:00Z</td><td>Evening</td></tr><tr><td>2024-03-19T19:06:00Z</td><td>Evening</td></tr><tr><td>2024-03-19T15:34:00Z</td><td>Afternoon</td></tr><tr><td>2024-03-19T19:06:00Z</td><td>Evening</td></tr><tr><td>2024-03-19T19:44:00Z</td><td>Evening</td></tr><tr><td>2024-03-19T11:22:00Z</td><td>Morning</td></tr><tr><td>2024-03-19T11:23:00Z</td><td>Morning</td></tr><tr><td>2024-03-19T14:12:00Z</td><td>Afternoon</td></tr><tr><td>2024-03-19T10:46:00Z</td><td>Morning</td></tr><tr><td>2024-03-19T10:16:00Z</td><td>Morning</td></tr><tr><td>2024-03-19T12:38:00Z</td><td>Afternoon</td></tr><tr><td>2024-03-19T13:05:00Z</td><td>Afternoon</td></tr><tr><td>2024-03-19T13:25:00Z</td><td>Afternoon</td></tr><tr><td>2024-03-19T14:53:00Z</td><td>Afternoon</td></tr><tr><td>2024-03-19T19:22:00Z</td><td>Evening</td></tr><tr><td>2024-03-19T11:00:00Z</td><td>Morning</td></tr><tr><td>2024-03-19T19:24:00Z</td><td>Evening</td></tr><tr><td>2024-03-19T12:43:00Z</td><td>Afternoon</td></tr><tr><td>2024-03-19T17:22:00Z</td><td>Evening</td></tr><tr><td>2024-03-19T20:55:00Z</td><td>Evening</td></tr><tr><td>2024-03-19T16:05:00Z</td><td>Evening</td></tr><tr><td>2024-03-19T13:34:00Z</td><td>Afternoon</td></tr><tr><td>2024-03-19T18:13:00Z</td><td>Evening</td></tr><tr><td>2024-03-19T19:17:00Z</td><td>Evening</td></tr><tr><td>2024-03-19T11:44:00Z</td><td>Morning</td></tr><tr><td>2024-03-19T15:51:00Z</td><td>Afternoon</td></tr><tr><td>2024-03-19T16:52:00Z</td><td>Evening</td></tr><tr><td>2024-03-19T20:52:00Z</td><td>Evening</td></tr><tr><td>2024-03-19T17:36:00Z</td><td>Evening</td></tr><tr><td>2024-03-19T13:23:00Z</td><td>Afternoon</td></tr><tr><td>2024-03-19T16:28:00Z</td><td>Evening</td></tr><tr><td>2024-03-19T19:57:00Z</td><td>Evening</td></tr><tr><td>2024-03-19T17:01:00Z</td><td>Evening</td></tr><tr><td>2024-03-19T13:29:00Z</td><td>Afternoon</td></tr><tr><td>2024-03-19T11:09:00Z</td><td>Morning</td></tr><tr><td>2024-03-19T15:02:00Z</td><td>Afternoon</td></tr><tr><td>2024-03-19T14:21:00Z</td><td>Afternoon</td></tr><tr><td>2024-03-19T18:01:00Z</td><td>Evening</td></tr><tr><td>2024-03-19T14:49:00Z</td><td>Afternoon</td></tr><tr><td>2024-03-19T12:02:00Z</td><td>Afternoon</td></tr><tr><td>2024-03-19T13:30:00Z</td><td>Afternoon</td></tr><tr><td>2024-03-19T14:38:00Z</td><td>Afternoon</td></tr><tr><td>2024-03-19T17:37:00Z</td><td>Evening</td></tr><tr><td>2024-03-19T17:20:00Z</td><td>Evening</td></tr><tr><td>2024-03-19T20:29:00Z</td><td>Evening</td></tr><tr><td>2024-03-19T10:00:00Z</td><td>Morning</td></tr><tr><td>2024-03-19T11:46:00Z</td><td>Morning</td></tr><tr><td>2024-03-19T13:42:00Z</td><td>Afternoon</td></tr><tr><td>2024-03-19T14:44:00Z</td><td>Afternoon</td></tr><tr><td>2024-03-19T14:16:00Z</td><td>Afternoon</td></tr><tr><td>2024-03-19T15:54:00Z</td><td>Afternoon</td></tr><tr><td>2024-03-19T10:21:00Z</td><td>Morning</td></tr><tr><td>2024-03-19T18:09:00Z</td><td>Evening</td></tr><tr><td>2024-03-19T16:46:00Z</td><td>Evening</td></tr><tr><td>2024-03-19T15:31:00Z</td><td>Afternoon</td></tr><tr><td>2024-03-19T17:15:00Z</td><td>Evening</td></tr><tr><td>2024-03-19T12:29:00Z</td><td>Afternoon</td></tr><tr><td>2024-03-19T20:14:00Z</td><td>Evening</td></tr><tr><td>2024-03-19T13:22:00Z</td><td>Afternoon</td></tr><tr><td>2024-03-19T17:09:00Z</td><td>Evening</td></tr><tr><td>2024-03-19T10:40:00Z</td><td>Morning</td></tr><tr><td>2024-03-19T17:43:00Z</td><td>Evening</td></tr><tr><td>2024-03-19T14:04:00Z</td><td>Afternoon</td></tr><tr><td>2024-03-19T19:05:00Z</td><td>Evening</td></tr><tr><td>2024-03-19T10:08:00Z</td><td>Morning</td></tr><tr><td>2024-03-19T13:12:00Z</td><td>Afternoon</td></tr><tr><td>2024-03-19T20:51:00Z</td><td>Evening</td></tr><tr><td>2024-03-19T17:29:00Z</td><td>Evening</td></tr><tr><td>2024-03-19T10:25:00Z</td><td>Morning</td></tr><tr><td>2024-03-19T11:34:00Z</td><td>Morning</td></tr><tr><td>2024-03-19T18:58:00Z</td><td>Evening</td></tr><tr><td>2024-03-19T16:28:00Z</td><td>Evening</td></tr><tr><td>2024-03-19T20:26:00Z</td><td>Evening</td></tr><tr><td>2024-03-19T15:08:00Z</td><td>Afternoon</td></tr><tr><td>2024-03-19T18:03:00Z</td><td>Evening</td></tr><tr><td>2024-03-19T13:21:00Z</td><td>Afternoon</td></tr><tr><td>2024-03-19T12:48:00Z</td><td>Afternoon</td></tr><tr><td>2024-03-19T19:53:00Z</td><td>Evening</td></tr><tr><td>2024-03-19T19:09:00Z</td><td>Evening</td></tr><tr><td>2024-03-19T16:30:00Z</td><td>Evening</td></tr><tr><td>2024-03-19T10:11:00Z</td><td>Morning</td></tr><tr><td>2024-03-19T13:07:00Z</td><td>Afternoon</td></tr><tr><td>2024-03-19T18:48:00Z</td><td>Evening</td></tr><tr><td>2024-03-19T17:27:00Z</td><td>Evening</td></tr><tr><td>2024-03-19T15:59:00Z</td><td>Afternoon</td></tr><tr><td>2024-03-19T11:21:00Z</td><td>Morning</td></tr><tr><td>2024-03-19T13:48:00Z</td><td>Afternoon</td></tr><tr><td>2024-03-19T10:17:00Z</td><td>Morning</td></tr><tr><td>2024-03-19T15:49:00Z</td><td>Afternoon</td></tr><tr><td>2024-03-19T13:02:00Z</td><td>Afternoon</td></tr><tr><td>2024-03-19T12:58:00Z</td><td>Afternoon</td></tr><tr><td>2024-03-19T15:26:00Z</td><td>Afternoon</td></tr><tr><td>2024-03-19T18:23:00Z</td><td>Evening</td></tr><tr><td>2024-03-19T19:06:00Z</td><td>Evening</td></tr><tr><td>2024-03-19T20:21:00Z</td><td>Evening</td></tr><tr><td>2024-03-19T16:24:00Z</td><td>Evening</td></tr><tr><td>2024-03-19T15:04:00Z</td><td>Afternoon</td></tr><tr><td>2024-03-19T16:10:00Z</td><td>Evening</td></tr><tr><td>2024-03-19T12:14:00Z</td><td>Afternoon</td></tr><tr><td>2024-03-19T10:13:00Z</td><td>Morning</td></tr><tr><td>2024-03-19T17:38:00Z</td><td>Evening</td></tr><tr><td>2024-03-19T11:06:00Z</td><td>Morning</td></tr><tr><td>2024-03-19T14:53:00Z</td><td>Afternoon</td></tr><tr><td>2024-03-19T18:22:00Z</td><td>Evening</td></tr><tr><td>2024-03-19T19:02:00Z</td><td>Evening</td></tr><tr><td>2024-03-19T14:16:00Z</td><td>Afternoon</td></tr><tr><td>2024-03-19T15:44:00Z</td><td>Afternoon</td></tr><tr><td>2024-03-19T12:20:00Z</td><td>Afternoon</td></tr><tr><td>2024-03-19T20:01:00Z</td><td>Evening</td></tr><tr><td>2024-03-19T13:45:00Z</td><td>Afternoon</td></tr><tr><td>2024-03-19T15:40:00Z</td><td>Afternoon</td></tr><tr><td>2024-03-19T16:58:00Z</td><td>Evening</td></tr><tr><td>2024-03-19T11:12:00Z</td><td>Morning</td></tr><tr><td>2024-03-19T15:12:00Z</td><td>Afternoon</td></tr><tr><td>2024-03-19T20:37:00Z</td><td>Evening</td></tr><tr><td>2024-03-19T17:44:00Z</td><td>Evening</td></tr><tr><td>2024-03-19T16:23:00Z</td><td>Evening</td></tr><tr><td>2024-03-19T12:12:00Z</td><td>Afternoon</td></tr><tr><td>2024-03-19T19:33:00Z</td><td>Evening</td></tr><tr><td>2024-03-19T10:29:00Z</td><td>Morning</td></tr><tr><td>2024-03-19T14:28:00Z</td><td>Afternoon</td></tr><tr><td>2024-03-19T12:46:00Z</td><td>Afternoon</td></tr><tr><td>2024-03-19T19:40:00Z</td><td>Evening</td></tr><tr><td>2024-03-19T19:39:00Z</td><td>Evening</td></tr><tr><td>2024-03-19T17:54:00Z</td><td>Evening</td></tr><tr><td>2024-03-19T12:25:00Z</td><td>Afternoon</td></tr><tr><td>2024-03-19T16:47:00Z</td><td>Evening</td></tr><tr><td>2024-03-19T12:52:00Z</td><td>Afternoon</td></tr><tr><td>2024-03-19T19:50:00Z</td><td>Evening</td></tr><tr><td>2024-03-19T18:17:00Z</td><td>Evening</td></tr><tr><td>2024-03-19T17:20:00Z</td><td>Evening</td></tr><tr><td>2024-03-19T13:32:00Z</td><td>Afternoon</td></tr><tr><td>2024-03-19T10:37:00Z</td><td>Morning</td></tr><tr><td>2024-03-19T14:35:00Z</td><td>Afternoon</td></tr><tr><td>2024-03-19T12:09:00Z</td><td>Afternoon</td></tr><tr><td>2024-03-19T15:32:00Z</td><td>Afternoon</td></tr><tr><td>2024-03-19T13:58:00Z</td><td>Afternoon</td></tr><tr><td>2024-03-19T13:19:00Z</td><td>Afternoon</td></tr><tr><td>2024-03-19T13:37:00Z</td><td>Afternoon</td></tr><tr><td>2024-03-19T16:49:00Z</td><td>Evening</td></tr><tr><td>2024-03-19T14:55:00Z</td><td>Afternoon</td></tr><tr><td>2024-03-19T14:04:00Z</td><td>Afternoon</td></tr><tr><td>2024-03-19T12:31:00Z</td><td>Afternoon</td></tr><tr><td>2024-03-19T14:51:00Z</td><td>Afternoon</td></tr><tr><td>2024-03-19T18:27:00Z</td><td>Evening</td></tr><tr><td>2024-03-19T12:45:00Z</td><td>Afternoon</td></tr><tr><td>2024-03-19T10:36:00Z</td><td>Morning</td></tr><tr><td>2024-03-19T20:36:00Z</td><td>Evening</td></tr><tr><td>2024-03-19T14:16:00Z</td><td>Afternoon</td></tr><tr><td>2024-03-19T10:26:00Z</td><td>Morning</td></tr><tr><td>2024-03-19T13:30:00Z</td><td>Afternoon</td></tr><tr><td>2024-03-19T16:28:00Z</td><td>Evening</td></tr><tr><td>2024-03-19T20:18:00Z</td><td>Evening</td></tr><tr><td>2024-03-19T20:04:00Z</td><td>Evening</td></tr><tr><td>2024-03-19T13:38:00Z</td><td>Afternoon</td></tr><tr><td>2024-03-19T10:43:00Z</td><td>Morning</td></tr><tr><td>2024-03-19T17:30:00Z</td><td>Evening</td></tr><tr><td>2024-03-19T15:28:00Z</td><td>Afternoon</td></tr><tr><td>2024-03-19T19:07:00Z</td><td>Evening</td></tr><tr><td>2024-03-19T19:01:00Z</td><td>Evening</td></tr><tr><td>2024-03-19T19:48:00Z</td><td>Evening</td></tr><tr><td>2024-03-19T19:24:00Z</td><td>Evening</td></tr><tr><td>2024-03-19T13:00:00Z</td><td>Afternoon</td></tr><tr><td>2024-03-19T14:29:00Z</td><td>Afternoon</td></tr><tr><td>2024-03-19T13:21:00Z</td><td>Afternoon</td></tr><tr><td>2024-03-19T18:55:00Z</td><td>Evening</td></tr><tr><td>2024-03-19T19:36:00Z</td><td>Evening</td></tr><tr><td>2024-03-19T16:28:00Z</td><td>Evening</td></tr><tr><td>2024-03-19T13:48:00Z</td><td>Afternoon</td></tr><tr><td>2024-03-19T10:57:00Z</td><td>Morning</td></tr><tr><td>2024-03-19T17:13:00Z</td><td>Evening</td></tr><tr><td>2024-03-19T10:23:00Z</td><td>Morning</td></tr><tr><td>2024-03-19T13:57:00Z</td><td>Afternoon</td></tr><tr><td>2024-03-19T13:29:00Z</td><td>Afternoon</td></tr><tr><td>2024-03-19T13:00:00Z</td><td>Afternoon</td></tr><tr><td>2024-03-19T19:42:00Z</td><td>Evening</td></tr><tr><td>2024-03-19T15:36:00Z</td><td>Afternoon</td></tr><tr><td>2024-03-19T13:40:00Z</td><td>Afternoon</td></tr><tr><td>2024-03-19T18:01:00Z</td><td>Evening</td></tr><tr><td>2024-03-19T13:53:00Z</td><td>Afternoon</td></tr><tr><td>2024-03-19T17:27:00Z</td><td>Evening</td></tr><tr><td>2024-03-19T10:53:00Z</td><td>Morning</td></tr><tr><td>2024-03-19T19:48:00Z</td><td>Evening</td></tr><tr><td>2024-03-19T16:53:00Z</td><td>Evening</td></tr><tr><td>2024-03-19T19:14:00Z</td><td>Evening</td></tr><tr><td>2024-03-19T14:36:00Z</td><td>Afternoon</td></tr><tr><td>2024-03-19T18:19:00Z</td><td>Evening</td></tr><tr><td>2024-03-19T19:09:00Z</td><td>Evening</td></tr><tr><td>2024-03-19T16:51:00Z</td><td>Evening</td></tr><tr><td>2024-03-19T15:37:00Z</td><td>Afternoon</td></tr><tr><td>2024-03-19T20:15:00Z</td><td>Evening</td></tr><tr><td>2024-03-19T14:38:00Z</td><td>Afternoon</td></tr><tr><td>2024-03-19T19:25:00Z</td><td>Evening</td></tr><tr><td>2024-03-19T19:35:00Z</td><td>Evening</td></tr><tr><td>2024-03-19T15:42:00Z</td><td>Afternoon</td></tr><tr><td>2024-03-19T14:11:00Z</td><td>Afternoon</td></tr><tr><td>2024-03-19T10:43:00Z</td><td>Morning</td></tr><tr><td>2024-03-19T17:58:00Z</td><td>Evening</td></tr><tr><td>2024-03-19T11:26:00Z</td><td>Morning</td></tr><tr><td>2024-03-19T17:38:00Z</td><td>Evening</td></tr><tr><td>2024-03-19T20:07:00Z</td><td>Evening</td></tr><tr><td>2024-03-19T11:02:00Z</td><td>Morning</td></tr><tr><td>2024-03-19T19:07:00Z</td><td>Evening</td></tr><tr><td>2024-03-19T18:50:00Z</td><td>Evening</td></tr><tr><td>2024-03-19T12:43:00Z</td><td>Afternoon</td></tr><tr><td>2024-03-19T15:09:00Z</td><td>Afternoon</td></tr><tr><td>2024-03-19T13:47:00Z</td><td>Afternoon</td></tr><tr><td>2024-03-19T16:59:00Z</td><td>Evening</td></tr><tr><td>2024-03-19T14:15:00Z</td><td>Afternoon</td></tr><tr><td>2024-03-19T20:24:00Z</td><td>Evening</td></tr><tr><td>2024-03-19T13:58:00Z</td><td>Afternoon</td></tr><tr><td>2024-03-19T16:52:00Z</td><td>Evening</td></tr><tr><td>2024-03-19T15:19:00Z</td><td>Afternoon</td></tr><tr><td>2024-03-19T12:25:00Z</td><td>Afternoon</td></tr><tr><td>2024-03-19T10:02:00Z</td><td>Morning</td></tr><tr><td>2024-03-19T18:58:00Z</td><td>Evening</td></tr><tr><td>2024-03-19T15:31:00Z</td><td>Afternoon</td></tr><tr><td>2024-03-19T11:22:00Z</td><td>Morning</td></tr><tr><td>2024-03-19T13:12:00Z</td><td>Afternoon</td></tr><tr><td>2024-03-19T18:33:00Z</td><td>Evening</td></tr><tr><td>2024-03-19T10:02:00Z</td><td>Morning</td></tr><tr><td>2024-03-19T11:21:00Z</td><td>Morning</td></tr><tr><td>2024-03-19T12:10:00Z</td><td>Afternoon</td></tr><tr><td>2024-03-19T11:40:00Z</td><td>Morning</td></tr><tr><td>2024-03-19T18:31:00Z</td><td>Evening</td></tr><tr><td>2024-03-19T17:58:00Z</td><td>Evening</td></tr><tr><td>2024-03-19T17:04:00Z</td><td>Evening</td></tr><tr><td>2024-03-19T20:35:00Z</td><td>Evening</td></tr><tr><td>2024-03-19T16:10:00Z</td><td>Evening</td></tr><tr><td>2024-03-19T16:54:00Z</td><td>Evening</td></tr><tr><td>2024-03-19T10:11:00Z</td><td>Morning</td></tr><tr><td>2024-03-19T11:26:00Z</td><td>Morning</td></tr><tr><td>2024-03-19T20:29:00Z</td><td>Evening</td></tr><tr><td>2024-03-19T12:12:00Z</td><td>Afternoon</td></tr><tr><td>2024-03-19T13:05:00Z</td><td>Afternoon</td></tr><tr><td>2024-03-19T16:19:00Z</td><td>Evening</td></tr><tr><td>2024-03-19T19:48:00Z</td><td>Evening</td></tr><tr><td>2024-03-19T15:25:00Z</td><td>Afternoon</td></tr><tr><td>2024-03-19T14:42:00Z</td><td>Afternoon</td></tr><tr><td>2024-03-19T18:59:00Z</td><td>Evening</td></tr><tr><td>2024-03-19T20:47:00Z</td><td>Evening</td></tr><tr><td>2024-03-19T13:21:00Z</td><td>Afternoon</td></tr><tr><td>2024-03-19T19:48:00Z</td><td>Evening</td></tr><tr><td>2024-03-19T18:20:00Z</td><td>Evening</td></tr><tr><td>2024-03-19T20:24:00Z</td><td>Evening</td></tr><tr><td>2024-03-19T13:44:00Z</td><td>Afternoon</td></tr><tr><td>2024-03-19T11:48:00Z</td><td>Morning</td></tr><tr><td>2024-03-19T14:14:00Z</td><td>Afternoon</td></tr><tr><td>2024-03-19T15:51:00Z</td><td>Afternoon</td></tr><tr><td>2024-03-19T11:17:00Z</td><td>Morning</td></tr><tr><td>2024-03-19T17:36:00Z</td><td>Evening</td></tr><tr><td>2024-03-19T15:47:00Z</td><td>Afternoon</td></tr><tr><td>2024-03-19T15:53:00Z</td><td>Afternoon</td></tr><tr><td>2024-03-19T12:40:00Z</td><td>Afternoon</td></tr><tr><td>2024-03-19T19:48:00Z</td><td>Evening</td></tr><tr><td>2024-03-19T17:53:00Z</td><td>Evening</td></tr><tr><td>2024-03-19T16:36:00Z</td><td>Evening</td></tr><tr><td>2024-03-19T20:54:00Z</td><td>Evening</td></tr><tr><td>2024-03-19T12:50:00Z</td><td>Afternoon</td></tr><tr><td>2024-03-19T10:48:00Z</td><td>Morning</td></tr><tr><td>2024-03-19T14:28:00Z</td><td>Afternoon</td></tr><tr><td>2024-03-19T17:15:00Z</td><td>Evening</td></tr><tr><td>2024-03-19T18:03:00Z</td><td>Evening</td></tr><tr><td>2024-03-19T17:29:00Z</td><td>Evening</td></tr><tr><td>2024-03-19T18:05:00Z</td><td>Evening</td></tr><tr><td>2024-03-19T12:07:00Z</td><td>Afternoon</td></tr><tr><td>2024-03-19T19:49:00Z</td><td>Evening</td></tr><tr><td>2024-03-19T15:52:00Z</td><td>Afternoon</td></tr><tr><td>2024-03-19T16:48:00Z</td><td>Evening</td></tr><tr><td>2024-03-19T20:46:00Z</td><td>Evening</td></tr><tr><td>2024-03-19T18:14:00Z</td><td>Evening</td></tr><tr><td>2024-03-19T15:05:00Z</td><td>Afternoon</td></tr><tr><td>2024-03-19T10:34:00Z</td><td>Morning</td></tr><tr><td>2024-03-19T11:23:00Z</td><td>Morning</td></tr><tr><td>2024-03-19T13:55:00Z</td><td>Afternoon</td></tr><tr><td>2024-03-19T11:43:00Z</td><td>Morning</td></tr><tr><td>2024-03-19T14:36:00Z</td><td>Afternoon</td></tr><tr><td>2024-03-19T16:03:00Z</td><td>Evening</td></tr><tr><td>2024-03-19T20:03:00Z</td><td>Evening</td></tr><tr><td>2024-03-19T14:55:00Z</td><td>Afternoon</td></tr><tr><td>2024-03-19T11:28:00Z</td><td>Morning</td></tr><tr><td>2024-03-19T19:41:00Z</td><td>Evening</td></tr><tr><td>2024-03-19T19:01:00Z</td><td>Evening</td></tr><tr><td>2024-03-19T18:04:00Z</td><td>Evening</td></tr><tr><td>2024-03-19T19:20:00Z</td><td>Evening</td></tr><tr><td>2024-03-19T10:31:00Z</td><td>Morning</td></tr><tr><td>2024-03-19T13:28:00Z</td><td>Afternoon</td></tr><tr><td>2024-03-19T11:36:00Z</td><td>Morning</td></tr><tr><td>2024-03-19T11:32:00Z</td><td>Morning</td></tr><tr><td>2024-03-19T11:44:00Z</td><td>Morning</td></tr><tr><td>2024-03-19T17:16:00Z</td><td>Evening</td></tr><tr><td>2024-03-19T18:43:00Z</td><td>Evening</td></tr><tr><td>2024-03-19T11:00:00Z</td><td>Morning</td></tr><tr><td>2024-03-19T10:30:00Z</td><td>Morning</td></tr><tr><td>2024-03-19T12:14:00Z</td><td>Afternoon</td></tr><tr><td>2024-03-19T16:43:00Z</td><td>Evening</td></tr><tr><td>2024-03-19T20:40:00Z</td><td>Evening</td></tr><tr><td>2024-03-19T13:40:00Z</td><td>Afternoon</td></tr><tr><td>2024-03-19T16:23:00Z</td><td>Evening</td></tr><tr><td>2024-03-19T12:08:00Z</td><td>Afternoon</td></tr><tr><td>2024-03-19T17:45:00Z</td><td>Evening</td></tr><tr><td>2024-03-19T10:28:00Z</td><td>Morning</td></tr><tr><td>2024-03-19T20:31:00Z</td><td>Evening</td></tr><tr><td>2024-03-19T10:49:00Z</td><td>Morning</td></tr><tr><td>2024-03-19T12:34:00Z</td><td>Afternoon</td></tr><tr><td>2024-03-19T10:23:00Z</td><td>Morning</td></tr><tr><td>2024-03-19T18:51:00Z</td><td>Evening</td></tr><tr><td>2024-03-19T13:45:00Z</td><td>Afternoon</td></tr><tr><td>2024-03-19T19:38:00Z</td><td>Evening</td></tr><tr><td>2024-03-19T20:23:00Z</td><td>Evening</td></tr><tr><td>2024-03-19T15:24:00Z</td><td>Afternoon</td></tr><tr><td>2024-03-19T16:54:00Z</td><td>Evening</td></tr><tr><td>2024-03-19T12:32:00Z</td><td>Afternoon</td></tr><tr><td>2024-03-19T15:42:00Z</td><td>Afternoon</td></tr><tr><td>2024-03-19T13:58:00Z</td><td>Afternoon</td></tr><tr><td>2024-03-19T15:08:00Z</td><td>Afternoon</td></tr><tr><td>2024-03-19T13:02:00Z</td><td>Afternoon</td></tr><tr><td>2024-03-19T13:01:00Z</td><td>Afternoon</td></tr><tr><td>2024-03-19T16:40:00Z</td><td>Evening</td></tr><tr><td>2024-03-19T13:55:00Z</td><td>Afternoon</td></tr><tr><td>2024-03-19T10:33:00Z</td><td>Morning</td></tr><tr><td>2024-03-19T16:42:00Z</td><td>Evening</td></tr><tr><td>2024-03-19T17:16:00Z</td><td>Evening</td></tr><tr><td>2024-03-19T11:48:00Z</td><td>Morning</td></tr><tr><td>2024-03-19T19:35:00Z</td><td>Evening</td></tr><tr><td>2024-03-19T19:55:00Z</td><td>Evening</td></tr><tr><td>2024-03-19T14:33:00Z</td><td>Afternoon</td></tr><tr><td>2024-03-19T19:49:00Z</td><td>Evening</td></tr><tr><td>2024-03-19T18:43:00Z</td><td>Evening</td></tr><tr><td>2024-03-19T14:43:00Z</td><td>Afternoon</td></tr><tr><td>2024-03-19T13:54:00Z</td><td>Afternoon</td></tr><tr><td>2024-03-19T12:15:00Z</td><td>Afternoon</td></tr><tr><td>2024-03-19T12:37:00Z</td><td>Afternoon</td></tr><tr><td>2024-03-19T19:54:00Z</td><td>Evening</td></tr><tr><td>2024-03-19T15:06:00Z</td><td>Afternoon</td></tr><tr><td>2024-03-19T18:03:00Z</td><td>Evening</td></tr><tr><td>2024-03-19T15:58:00Z</td><td>Afternoon</td></tr><tr><td>2024-03-19T13:53:00Z</td><td>Afternoon</td></tr><tr><td>2024-03-19T14:03:00Z</td><td>Afternoon</td></tr><tr><td>2024-03-19T16:38:00Z</td><td>Evening</td></tr><tr><td>2024-03-19T11:07:00Z</td><td>Morning</td></tr><tr><td>2024-03-19T12:23:00Z</td><td>Afternoon</td></tr><tr><td>2024-03-19T10:54:00Z</td><td>Morning</td></tr><tr><td>2024-03-19T17:38:00Z</td><td>Evening</td></tr><tr><td>2024-03-19T14:13:00Z</td><td>Afternoon</td></tr><tr><td>2024-03-19T11:51:00Z</td><td>Morning</td></tr><tr><td>2024-03-19T13:05:00Z</td><td>Afternoon</td></tr><tr><td>2024-03-19T11:30:00Z</td><td>Morning</td></tr><tr><td>2024-03-19T13:30:00Z</td><td>Afternoon</td></tr><tr><td>2024-03-19T19:11:00Z</td><td>Evening</td></tr><tr><td>2024-03-19T18:53:00Z</td><td>Evening</td></tr><tr><td>2024-03-19T14:22:00Z</td><td>Afternoon</td></tr><tr><td>2024-03-19T17:16:00Z</td><td>Evening</td></tr><tr><td>2024-03-19T10:06:00Z</td><td>Morning</td></tr><tr><td>2024-03-19T20:35:00Z</td><td>Evening</td></tr><tr><td>2024-03-19T13:54:00Z</td><td>Afternoon</td></tr><tr><td>2024-03-19T20:08:00Z</td><td>Evening</td></tr><tr><td>2024-03-19T15:26:00Z</td><td>Afternoon</td></tr><tr><td>2024-03-19T12:56:00Z</td><td>Afternoon</td></tr><tr><td>2024-03-19T19:16:00Z</td><td>Evening</td></tr><tr><td>2024-03-19T12:20:00Z</td><td>Afternoon</td></tr><tr><td>2024-03-19T10:37:00Z</td><td>Morning</td></tr><tr><td>2024-03-19T10:18:00Z</td><td>Morning</td></tr><tr><td>2024-03-19T11:23:00Z</td><td>Morning</td></tr><tr><td>2024-03-19T11:45:00Z</td><td>Morning</td></tr><tr><td>2024-03-19T16:08:00Z</td><td>Evening</td></tr><tr><td>2024-03-19T11:25:00Z</td><td>Morning</td></tr><tr><td>2024-03-19T12:24:00Z</td><td>Afternoon</td></tr><tr><td>2024-03-19T19:51:00Z</td><td>Evening</td></tr><tr><td>2024-03-19T18:10:00Z</td><td>Evening</td></tr><tr><td>2024-03-19T11:22:00Z</td><td>Morning</td></tr><tr><td>2024-03-19T17:55:00Z</td><td>Evening</td></tr><tr><td>2024-03-19T15:30:00Z</td><td>Afternoon</td></tr><tr><td>2024-03-19T19:44:00Z</td><td>Evening</td></tr><tr><td>2024-03-19T15:27:00Z</td><td>Afternoon</td></tr><tr><td>2024-03-19T11:25:00Z</td><td>Morning</td></tr><tr><td>2024-03-19T15:42:00Z</td><td>Afternoon</td></tr><tr><td>2024-03-19T16:04:00Z</td><td>Evening</td></tr><tr><td>2024-03-19T12:37:00Z</td><td>Afternoon</td></tr><tr><td>2024-03-19T14:41:00Z</td><td>Afternoon</td></tr><tr><td>2024-03-19T14:19:00Z</td><td>Afternoon</td></tr><tr><td>2024-03-19T18:19:00Z</td><td>Evening</td></tr><tr><td>2024-03-19T14:08:00Z</td><td>Afternoon</td></tr><tr><td>2024-03-19T16:38:00Z</td><td>Evening</td></tr><tr><td>2024-03-19T10:54:00Z</td><td>Morning</td></tr><tr><td>2024-03-19T11:29:00Z</td><td>Morning</td></tr><tr><td>2024-03-19T19:28:00Z</td><td>Evening</td></tr><tr><td>2024-03-19T15:01:00Z</td><td>Afternoon</td></tr><tr><td>2024-03-19T20:31:00Z</td><td>Evening</td></tr><tr><td>2024-03-19T12:16:00Z</td><td>Afternoon</td></tr><tr><td>2024-03-19T15:27:00Z</td><td>Afternoon</td></tr><tr><td>2024-03-19T17:36:00Z</td><td>Evening</td></tr><tr><td>2024-03-19T20:00:00Z</td><td>Evening</td></tr><tr><td>2024-03-19T15:29:00Z</td><td>Afternoon</td></tr><tr><td>2024-03-19T15:08:00Z</td><td>Afternoon</td></tr><tr><td>2024-03-19T19:26:00Z</td><td>Evening</td></tr><tr><td>2024-03-19T15:53:00Z</td><td>Afternoon</td></tr><tr><td>2024-03-19T18:43:00Z</td><td>Evening</td></tr><tr><td>2024-03-19T14:58:00Z</td><td>Afternoon</td></tr><tr><td>2024-03-19T19:55:00Z</td><td>Evening</td></tr><tr><td>2024-03-19T15:10:00Z</td><td>Afternoon</td></tr><tr><td>2024-03-19T16:44:00Z</td><td>Evening</td></tr><tr><td>2024-03-19T18:22:00Z</td><td>Evening</td></tr><tr><td>2024-03-19T11:52:00Z</td><td>Morning</td></tr><tr><td>2024-03-19T17:24:00Z</td><td>Evening</td></tr><tr><td>2024-03-19T15:31:00Z</td><td>Afternoon</td></tr><tr><td>2024-03-19T18:04:00Z</td><td>Evening</td></tr><tr><td>2024-03-19T14:13:00Z</td><td>Afternoon</td></tr><tr><td>2024-03-19T10:23:00Z</td><td>Morning</td></tr><tr><td>2024-03-19T10:11:00Z</td><td>Morning</td></tr><tr><td>2024-03-19T15:48:00Z</td><td>Afternoon</td></tr><tr><td>2024-03-19T17:46:00Z</td><td>Evening</td></tr><tr><td>2024-03-19T11:46:00Z</td><td>Morning</td></tr><tr><td>2024-03-19T12:07:00Z</td><td>Afternoon</td></tr><tr><td>2024-03-19T18:14:00Z</td><td>Evening</td></tr><tr><td>2024-03-19T14:45:00Z</td><td>Afternoon</td></tr><tr><td>2024-03-19T11:39:00Z</td><td>Morning</td></tr><tr><td>2024-03-19T15:44:00Z</td><td>Afternoon</td></tr><tr><td>2024-03-19T13:06:00Z</td><td>Afternoon</td></tr><tr><td>2024-03-19T20:43:00Z</td><td>Evening</td></tr><tr><td>2024-03-19T14:19:00Z</td><td>Afternoon</td></tr><tr><td>2024-03-19T10:01:00Z</td><td>Morning</td></tr><tr><td>2024-03-19T19:30:00Z</td><td>Evening</td></tr><tr><td>2024-03-19T16:34:00Z</td><td>Evening</td></tr><tr><td>2024-03-19T13:10:00Z</td><td>Afternoon</td></tr><tr><td>2024-03-19T17:10:00Z</td><td>Evening</td></tr><tr><td>2024-03-19T10:22:00Z</td><td>Morning</td></tr><tr><td>2024-03-19T19:57:00Z</td><td>Evening</td></tr><tr><td>2024-03-19T19:29:00Z</td><td>Evening</td></tr><tr><td>2024-03-19T18:30:00Z</td><td>Evening</td></tr><tr><td>2024-03-19T14:27:00Z</td><td>Afternoon</td></tr><tr><td>2024-03-19T13:57:00Z</td><td>Afternoon</td></tr><tr><td>2024-03-19T19:43:00Z</td><td>Evening</td></tr><tr><td>2024-03-19T10:11:00Z</td><td>Morning</td></tr><tr><td>2024-03-19T13:46:00Z</td><td>Afternoon</td></tr><tr><td>2024-03-19T12:22:00Z</td><td>Afternoon</td></tr><tr><td>2024-03-19T19:20:00Z</td><td>Evening</td></tr><tr><td>2024-03-19T12:58:00Z</td><td>Afternoon</td></tr><tr><td>2024-03-19T11:59:00Z</td><td>Morning</td></tr><tr><td>2024-03-19T17:59:00Z</td><td>Evening</td></tr><tr><td>2024-03-19T12:51:00Z</td><td>Afternoon</td></tr><tr><td>2024-03-19T10:36:00Z</td><td>Morning</td></tr><tr><td>2024-03-19T13:38:00Z</td><td>Afternoon</td></tr><tr><td>2024-03-19T19:39:00Z</td><td>Evening</td></tr><tr><td>2024-03-19T12:44:00Z</td><td>Afternoon</td></tr><tr><td>2024-03-19T13:56:00Z</td><td>Afternoon</td></tr><tr><td>2024-03-19T14:42:00Z</td><td>Afternoon</td></tr><tr><td>2024-03-19T19:45:00Z</td><td>Evening</td></tr><tr><td>2024-03-19T20:26:00Z</td><td>Evening</td></tr><tr><td>2024-03-19T19:46:00Z</td><td>Evening</td></tr><tr><td>2024-03-19T19:38:00Z</td><td>Evening</td></tr><tr><td>2024-03-19T16:18:00Z</td><td>Evening</td></tr><tr><td>2024-03-19T12:23:00Z</td><td>Afternoon</td></tr><tr><td>2024-03-19T19:11:00Z</td><td>Evening</td></tr><tr><td>2024-03-19T18:57:00Z</td><td>Evening</td></tr><tr><td>2024-03-19T11:18:00Z</td><td>Morning</td></tr><tr><td>2024-03-19T12:40:00Z</td><td>Afternoon</td></tr><tr><td>2024-03-19T14:06:00Z</td><td>Afternoon</td></tr><tr><td>2024-03-19T20:48:00Z</td><td>Evening</td></tr><tr><td>2024-03-19T20:13:00Z</td><td>Evening</td></tr><tr><td>2024-03-19T20:37:00Z</td><td>Evening</td></tr><tr><td>2024-03-19T17:59:00Z</td><td>Evening</td></tr><tr><td>2024-03-19T20:18:00Z</td><td>Evening</td></tr><tr><td>2024-03-19T15:52:00Z</td><td>Afternoon</td></tr><tr><td>2024-03-19T15:14:00Z</td><td>Afternoon</td></tr><tr><td>2024-03-19T12:50:00Z</td><td>Afternoon</td></tr><tr><td>2024-03-19T10:36:00Z</td><td>Morning</td></tr><tr><td>2024-03-19T18:33:00Z</td><td>Evening</td></tr><tr><td>2024-03-19T16:06:00Z</td><td>Evening</td></tr><tr><td>2024-03-19T12:47:00Z</td><td>Afternoon</td></tr><tr><td>2024-03-19T13:34:00Z</td><td>Afternoon</td></tr><tr><td>2024-03-19T15:04:00Z</td><td>Afternoon</td></tr><tr><td>2024-03-19T20:42:00Z</td><td>Evening</td></tr><tr><td>2024-03-19T15:28:00Z</td><td>Afternoon</td></tr><tr><td>2024-03-19T13:45:00Z</td><td>Afternoon</td></tr><tr><td>2024-03-19T20:10:00Z</td><td>Evening</td></tr><tr><td>2024-03-19T18:53:00Z</td><td>Evening</td></tr><tr><td>2024-03-19T14:24:00Z</td><td>Afternoon</td></tr><tr><td>2024-03-19T11:42:00Z</td><td>Morning</td></tr><tr><td>2024-03-19T17:49:00Z</td><td>Evening</td></tr><tr><td>2024-03-19T15:33:00Z</td><td>Afternoon</td></tr><tr><td>2024-03-19T10:54:00Z</td><td>Morning</td></tr><tr><td>2024-03-19T16:23:00Z</td><td>Evening</td></tr><tr><td>2024-03-19T19:33:00Z</td><td>Evening</td></tr><tr><td>2024-03-19T11:39:00Z</td><td>Morning</td></tr><tr><td>2024-03-19T10:38:00Z</td><td>Morning</td></tr><tr><td>2024-03-19T20:03:00Z</td><td>Evening</td></tr><tr><td>2024-03-19T12:39:00Z</td><td>Afternoon</td></tr><tr><td>2024-03-19T15:59:00Z</td><td>Afternoon</td></tr><tr><td>2024-03-19T14:26:00Z</td><td>Afternoon</td></tr><tr><td>2024-03-19T18:22:00Z</td><td>Evening</td></tr><tr><td>2024-03-19T11:32:00Z</td><td>Morning</td></tr><tr><td>2024-03-19T12:41:00Z</td><td>Afternoon</td></tr><tr><td>2024-03-19T15:20:00Z</td><td>Afternoon</td></tr><tr><td>2024-03-19T14:33:00Z</td><td>Afternoon</td></tr><tr><td>2024-03-19T15:29:00Z</td><td>Afternoon</td></tr><tr><td>2024-03-19T16:19:00Z</td><td>Evening</td></tr><tr><td>2024-03-19T16:33:00Z</td><td>Evening</td></tr><tr><td>2024-03-19T19:07:00Z</td><td>Evening</td></tr><tr><td>2024-03-19T14:43:00Z</td><td>Afternoon</td></tr><tr><td>2024-03-19T19:28:00Z</td><td>Evening</td></tr><tr><td>2024-03-19T20:44:00Z</td><td>Evening</td></tr><tr><td>2024-03-19T11:16:00Z</td><td>Morning</td></tr><tr><td>2024-03-19T10:31:00Z</td><td>Morning</td></tr><tr><td>2024-03-19T12:30:00Z</td><td>Afternoon</td></tr><tr><td>2024-03-19T15:05:00Z</td><td>Afternoon</td></tr><tr><td>2024-03-19T18:30:00Z</td><td>Evening</td></tr><tr><td>2024-03-19T13:18:00Z</td><td>Afternoon</td></tr><tr><td>2024-03-19T15:28:00Z</td><td>Afternoon</td></tr><tr><td>2024-03-19T11:52:00Z</td><td>Morning</td></tr><tr><td>2024-03-19T18:24:00Z</td><td>Evening</td></tr><tr><td>2024-03-19T15:19:00Z</td><td>Afternoon</td></tr><tr><td>2024-03-19T10:38:00Z</td><td>Morning</td></tr><tr><td>2024-03-19T15:12:00Z</td><td>Afternoon</td></tr><tr><td>2024-03-19T17:48:00Z</td><td>Evening</td></tr><tr><td>2024-03-19T11:07:00Z</td><td>Morning</td></tr><tr><td>2024-03-19T15:48:00Z</td><td>Afternoon</td></tr><tr><td>2024-03-19T19:40:00Z</td><td>Evening</td></tr><tr><td>2024-03-19T20:30:00Z</td><td>Evening</td></tr><tr><td>2024-03-19T13:59:00Z</td><td>Afternoon</td></tr><tr><td>2024-03-19T18:51:00Z</td><td>Evening</td></tr><tr><td>2024-03-19T17:24:00Z</td><td>Evening</td></tr><tr><td>2024-03-19T11:58:00Z</td><td>Morning</td></tr><tr><td>2024-03-19T19:01:00Z</td><td>Evening</td></tr><tr><td>2024-03-19T16:50:00Z</td><td>Evening</td></tr><tr><td>2024-03-19T10:22:00Z</td><td>Morning</td></tr><tr><td>2024-03-19T16:46:00Z</td><td>Evening</td></tr><tr><td>2024-03-19T18:08:00Z</td><td>Evening</td></tr><tr><td>2024-03-19T18:02:00Z</td><td>Evening</td></tr><tr><td>2024-03-19T13:07:00Z</td><td>Afternoon</td></tr><tr><td>2024-03-19T17:52:00Z</td><td>Evening</td></tr><tr><td>2024-03-19T20:32:00Z</td><td>Evening</td></tr><tr><td>2024-03-19T19:24:00Z</td><td>Evening</td></tr><tr><td>2024-03-19T16:06:00Z</td><td>Evening</td></tr><tr><td>2024-03-19T14:14:00Z</td><td>Afternoon</td></tr><tr><td>2024-03-19T17:36:00Z</td><td>Evening</td></tr><tr><td>2024-03-19T13:08:00Z</td><td>Afternoon</td></tr><tr><td>2024-03-19T16:09:00Z</td><td>Evening</td></tr><tr><td>2024-03-19T11:33:00Z</td><td>Morning</td></tr><tr><td>2024-03-19T10:18:00Z</td><td>Morning</td></tr><tr><td>2024-03-19T10:55:00Z</td><td>Morning</td></tr><tr><td>2024-03-19T15:15:00Z</td><td>Afternoon</td></tr><tr><td>2024-03-19T20:06:00Z</td><td>Evening</td></tr><tr><td>2024-03-19T20:21:00Z</td><td>Evening</td></tr><tr><td>2024-03-19T13:48:00Z</td><td>Afternoon</td></tr><tr><td>2024-03-19T12:52:00Z</td><td>Afternoon</td></tr><tr><td>2024-03-19T12:28:00Z</td><td>Afternoon</td></tr><tr><td>2024-03-19T16:26:00Z</td><td>Evening</td></tr><tr><td>2024-03-19T13:24:00Z</td><td>Afternoon</td></tr><tr><td>2024-03-19T15:15:00Z</td><td>Afternoon</td></tr><tr><td>2024-03-19T10:50:00Z</td><td>Morning</td></tr><tr><td>2024-03-19T18:38:00Z</td><td>Evening</td></tr><tr><td>2024-03-19T16:45:00Z</td><td>Evening</td></tr><tr><td>2024-03-19T19:30:00Z</td><td>Evening</td></tr><tr><td>2024-03-19T13:23:00Z</td><td>Afternoon</td></tr><tr><td>2024-03-19T11:27:00Z</td><td>Morning</td></tr><tr><td>2024-03-19T11:12:00Z</td><td>Morning</td></tr><tr><td>2024-03-19T16:36:00Z</td><td>Evening</td></tr><tr><td>2024-03-19T18:41:00Z</td><td>Evening</td></tr><tr><td>2024-03-19T17:12:00Z</td><td>Evening</td></tr><tr><td>2024-03-19T10:38:00Z</td><td>Morning</td></tr><tr><td>2024-03-19T10:33:00Z</td><td>Morning</td></tr><tr><td>2024-03-19T14:38:00Z</td><td>Afternoon</td></tr><tr><td>2024-03-19T18:06:00Z</td><td>Evening</td></tr><tr><td>2024-03-19T12:52:00Z</td><td>Afternoon</td></tr><tr><td>2024-03-19T14:00:00Z</td><td>Afternoon</td></tr><tr><td>2024-03-19T10:57:00Z</td><td>Morning</td></tr><tr><td>2024-03-19T16:45:00Z</td><td>Evening</td></tr><tr><td>2024-03-19T11:15:00Z</td><td>Morning</td></tr><tr><td>2024-03-19T20:29:00Z</td><td>Evening</td></tr><tr><td>2024-03-19T20:03:00Z</td><td>Evening</td></tr><tr><td>2024-03-19T14:35:00Z</td><td>Afternoon</td></tr><tr><td>2024-03-19T16:32:00Z</td><td>Evening</td></tr><tr><td>2024-03-19T10:10:00Z</td><td>Morning</td></tr><tr><td>2024-03-19T14:15:00Z</td><td>Afternoon</td></tr><tr><td>2024-03-19T10:05:00Z</td><td>Morning</td></tr><tr><td>2024-03-19T11:36:00Z</td><td>Morning</td></tr><tr><td>2024-03-19T18:15:00Z</td><td>Evening</td></tr><tr><td>2024-03-19T13:53:00Z</td><td>Afternoon</td></tr><tr><td>2024-03-19T18:37:00Z</td><td>Evening</td></tr><tr><td>2024-03-19T18:27:00Z</td><td>Evening</td></tr><tr><td>2024-03-19T14:42:00Z</td><td>Afternoon</td></tr><tr><td>2024-03-19T17:43:00Z</td><td>Evening</td></tr><tr><td>2024-03-19T18:37:00Z</td><td>Evening</td></tr><tr><td>2024-03-19T16:34:00Z</td><td>Evening</td></tr><tr><td>2024-03-19T14:42:00Z</td><td>Afternoon</td></tr><tr><td>2024-03-19T11:01:00Z</td><td>Morning</td></tr><tr><td>2024-03-19T19:44:00Z</td><td>Evening</td></tr><tr><td>2024-03-19T13:34:00Z</td><td>Afternoon</td></tr><tr><td>2024-03-19T20:08:00Z</td><td>Evening</td></tr><tr><td>2024-03-19T15:01:00Z</td><td>Afternoon</td></tr><tr><td>2024-03-19T11:40:00Z</td><td>Morning</td></tr><tr><td>2024-03-19T15:21:00Z</td><td>Afternoon</td></tr><tr><td>2024-03-19T17:38:00Z</td><td>Evening</td></tr><tr><td>2024-03-19T16:16:00Z</td><td>Evening</td></tr><tr><td>2024-03-19T18:15:00Z</td><td>Evening</td></tr><tr><td>2024-03-19T12:43:00Z</td><td>Afternoon</td></tr><tr><td>2024-03-19T11:32:00Z</td><td>Morning</td></tr><tr><td>2024-03-19T18:08:00Z</td><td>Evening</td></tr><tr><td>2024-03-19T17:08:00Z</td><td>Evening</td></tr><tr><td>2024-03-19T19:38:00Z</td><td>Evening</td></tr><tr><td>2024-03-19T13:11:00Z</td><td>Afternoon</td></tr><tr><td>2024-03-19T11:05:00Z</td><td>Morning</td></tr><tr><td>2024-03-19T10:12:00Z</td><td>Morning</td></tr><tr><td>2024-03-19T15:42:00Z</td><td>Afternoon</td></tr><tr><td>2024-03-19T11:58:00Z</td><td>Morning</td></tr><tr><td>2024-03-19T14:21:00Z</td><td>Afternoon</td></tr><tr><td>2024-03-19T10:52:00Z</td><td>Morning</td></tr><tr><td>2024-03-19T19:31:00Z</td><td>Evening</td></tr><tr><td>2024-03-19T18:35:00Z</td><td>Evening</td></tr><tr><td>2024-03-19T13:51:00Z</td><td>Afternoon</td></tr><tr><td>2024-03-19T12:35:00Z</td><td>Afternoon</td></tr><tr><td>2024-03-19T13:24:00Z</td><td>Afternoon</td></tr><tr><td>2024-03-19T18:06:00Z</td><td>Evening</td></tr><tr><td>2024-03-19T11:55:00Z</td><td>Morning</td></tr><tr><td>2024-03-19T11:42:00Z</td><td>Morning</td></tr><tr><td>2024-03-19T14:30:00Z</td><td>Afternoon</td></tr><tr><td>2024-03-19T15:11:00Z</td><td>Afternoon</td></tr><tr><td>2024-03-19T14:48:00Z</td><td>Afternoon</td></tr><tr><td>2024-03-19T12:36:00Z</td><td>Afternoon</td></tr><tr><td>2024-03-19T19:09:00Z</td><td>Evening</td></tr><tr><td>2024-03-19T13:35:00Z</td><td>Afternoon</td></tr><tr><td>2024-03-19T10:33:00Z</td><td>Morning</td></tr><tr><td>2024-03-19T15:45:00Z</td><td>Afternoon</td></tr><tr><td>2024-03-19T11:51:00Z</td><td>Morning</td></tr><tr><td>2024-03-19T17:26:00Z</td><td>Evening</td></tr><tr><td>2024-03-19T11:52:00Z</td><td>Morning</td></tr><tr><td>2024-03-19T14:04:00Z</td><td>Afternoon</td></tr><tr><td>2024-03-19T17:49:00Z</td><td>Evening</td></tr><tr><td>2024-03-19T20:19:00Z</td><td>Evening</td></tr><tr><td>2024-03-19T16:08:00Z</td><td>Evening</td></tr><tr><td>2024-03-19T10:17:00Z</td><td>Morning</td></tr><tr><td>2024-03-19T14:25:00Z</td><td>Afternoon</td></tr><tr><td>2024-03-19T12:51:00Z</td><td>Afternoon</td></tr><tr><td>2024-03-19T15:18:00Z</td><td>Afternoon</td></tr><tr><td>2024-03-19T12:45:00Z</td><td>Afternoon</td></tr><tr><td>2024-03-19T13:37:00Z</td><td>Afternoon</td></tr><tr><td>2024-03-19T10:03:00Z</td><td>Morning</td></tr><tr><td>2024-03-19T19:42:00Z</td><td>Evening</td></tr><tr><td>2024-03-19T13:14:00Z</td><td>Afternoon</td></tr><tr><td>2024-03-19T12:47:00Z</td><td>Afternoon</td></tr><tr><td>2024-03-19T19:53:00Z</td><td>Evening</td></tr><tr><td>2024-03-19T10:26:00Z</td><td>Morning</td></tr><tr><td>2024-03-19T15:06:00Z</td><td>Afternoon</td></tr><tr><td>2024-03-19T16:35:00Z</td><td>Evening</td></tr><tr><td>2024-03-19T20:57:00Z</td><td>Evening</td></tr><tr><td>2024-03-19T15:16:00Z</td><td>Afternoon</td></tr><tr><td>2024-03-19T17:47:00Z</td><td>Evening</td></tr><tr><td>2024-03-19T16:23:00Z</td><td>Evening</td></tr><tr><td>2024-03-19T10:17:00Z</td><td>Morning</td></tr><tr><td>2024-03-19T13:50:00Z</td><td>Afternoon</td></tr><tr><td>2024-03-19T19:17:00Z</td><td>Evening</td></tr><tr><td>2024-03-19T14:00:00Z</td><td>Afternoon</td></tr><tr><td>2024-03-19T12:02:00Z</td><td>Afternoon</td></tr><tr><td>2024-03-19T20:21:00Z</td><td>Evening</td></tr><tr><td>2024-03-19T17:35:00Z</td><td>Evening</td></tr><tr><td>2024-03-19T12:42:00Z</td><td>Afternoon</td></tr><tr><td>2024-03-19T17:56:00Z</td><td>Evening</td></tr><tr><td>2024-03-19T18:58:00Z</td><td>Evening</td></tr><tr><td>2024-03-19T14:08:00Z</td><td>Afternoon</td></tr><tr><td>2024-03-19T16:30:00Z</td><td>Evening</td></tr><tr><td>2024-03-19T10:44:00Z</td><td>Morning</td></tr><tr><td>2024-03-19T20:29:00Z</td><td>Evening</td></tr><tr><td>2024-03-19T11:43:00Z</td><td>Morning</td></tr><tr><td>2024-03-19T10:09:00Z</td><td>Morning</td></tr><tr><td>2024-03-19T10:00:00Z</td><td>Morning</td></tr><tr><td>2024-03-19T18:45:00Z</td><td>Evening</td></tr><tr><td>2024-03-19T12:40:00Z</td><td>Afternoon</td></tr><tr><td>2024-03-19T15:36:00Z</td><td>Afternoon</td></tr><tr><td>2024-03-19T12:04:00Z</td><td>Afternoon</td></tr><tr><td>2024-03-19T11:26:00Z</td><td>Morning</td></tr><tr><td>2024-03-19T12:36:00Z</td><td>Afternoon</td></tr><tr><td>2024-03-19T15:06:00Z</td><td>Afternoon</td></tr><tr><td>2024-03-19T10:58:00Z</td><td>Morning</td></tr><tr><td>2024-03-19T12:10:00Z</td><td>Afternoon</td></tr><tr><td>2024-03-19T10:31:00Z</td><td>Morning</td></tr><tr><td>2024-03-19T13:49:00Z</td><td>Afternoon</td></tr><tr><td>2024-03-19T11:10:00Z</td><td>Morning</td></tr><tr><td>2024-03-19T17:38:00Z</td><td>Evening</td></tr><tr><td>2024-03-19T17:54:00Z</td><td>Evening</td></tr><tr><td>2024-03-19T20:51:00Z</td><td>Evening</td></tr><tr><td>2024-03-19T19:26:00Z</td><td>Evening</td></tr><tr><td>2024-03-19T13:33:00Z</td><td>Afternoon</td></tr><tr><td>2024-03-19T14:05:00Z</td><td>Afternoon</td></tr><tr><td>2024-03-19T11:40:00Z</td><td>Morning</td></tr><tr><td>2024-03-19T12:27:00Z</td><td>Afternoon</td></tr><tr><td>2024-03-19T20:24:00Z</td><td>Evening</td></tr><tr><td>2024-03-19T20:59:00Z</td><td>Evening</td></tr><tr><td>2024-03-19T19:48:00Z</td><td>Evening</td></tr><tr><td>2024-03-19T10:18:00Z</td><td>Morning</td></tr><tr><td>2024-03-19T16:27:00Z</td><td>Evening</td></tr><tr><td>2024-03-19T17:04:00Z</td><td>Evening</td></tr><tr><td>2024-03-19T18:14:00Z</td><td>Evening</td></tr><tr><td>2024-03-19T10:43:00Z</td><td>Morning</td></tr><tr><td>2024-03-19T19:30:00Z</td><td>Evening</td></tr><tr><td>2024-03-19T14:53:00Z</td><td>Afternoon</td></tr><tr><td>2024-03-19T20:14:00Z</td><td>Evening</td></tr><tr><td>2024-03-19T11:51:00Z</td><td>Morning</td></tr><tr><td>2024-03-19T14:13:00Z</td><td>Afternoon</td></tr><tr><td>2024-03-19T20:13:00Z</td><td>Evening</td></tr><tr><td>2024-03-19T18:44:00Z</td><td>Evening</td></tr><tr><td>2024-03-19T14:26:00Z</td><td>Afternoon</td></tr><tr><td>2024-03-19T12:40:00Z</td><td>Afternoon</td></tr><tr><td>2024-03-19T18:43:00Z</td><td>Evening</td></tr><tr><td>2024-03-19T13:22:00Z</td><td>Afternoon</td></tr><tr><td>2024-03-19T13:58:00Z</td><td>Afternoon</td></tr><tr><td>2024-03-19T11:45:00Z</td><td>Morning</td></tr><tr><td>2024-03-19T11:51:00Z</td><td>Morning</td></tr><tr><td>2024-03-19T17:16:00Z</td><td>Evening</td></tr><tr><td>2024-03-19T15:55:00Z</td><td>Afternoon</td></tr><tr><td>2024-03-19T12:07:00Z</td><td>Afternoon</td></tr><tr><td>2024-03-19T15:07:00Z</td><td>Afternoon</td></tr><tr><td>2024-03-19T15:29:00Z</td><td>Afternoon</td></tr><tr><td>2024-03-19T18:45:00Z</td><td>Evening</td></tr><tr><td>2024-03-19T15:23:00Z</td><td>Afternoon</td></tr><tr><td>2024-03-19T20:37:00Z</td><td>Evening</td></tr><tr><td>2024-03-19T14:41:00Z</td><td>Afternoon</td></tr><tr><td>2024-03-19T18:18:00Z</td><td>Evening</td></tr><tr><td>2024-03-19T15:27:00Z</td><td>Afternoon</td></tr><tr><td>2024-03-19T12:55:00Z</td><td>Afternoon</td></tr><tr><td>2024-03-19T18:02:00Z</td><td>Evening</td></tr><tr><td>2024-03-19T19:44:00Z</td><td>Evening</td></tr><tr><td>2024-03-19T11:36:00Z</td><td>Morning</td></tr><tr><td>2024-03-19T13:51:00Z</td><td>Afternoon</td></tr><tr><td>2024-03-19T15:17:00Z</td><td>Afternoon</td></tr><tr><td>2024-03-19T15:29:00Z</td><td>Afternoon</td></tr><tr><td>2024-03-19T17:59:00Z</td><td>Evening</td></tr><tr><td>2024-03-19T11:55:00Z</td><td>Morning</td></tr><tr><td>2024-03-19T10:39:00Z</td><td>Morning</td></tr><tr><td>2024-03-19T15:10:00Z</td><td>Afternoon</td></tr><tr><td>2024-03-19T18:10:00Z</td><td>Evening</td></tr><tr><td>2024-03-19T20:43:00Z</td><td>Evening</td></tr><tr><td>2024-03-19T12:46:00Z</td><td>Afternoon</td></tr><tr><td>2024-03-19T17:44:00Z</td><td>Evening</td></tr><tr><td>2024-03-19T14:19:00Z</td><td>Afternoon</td></tr><tr><td>2024-03-19T10:33:00Z</td><td>Morning</td></tr><tr><td>2024-03-19T11:40:00Z</td><td>Morning</td></tr><tr><td>2024-03-19T19:30:00Z</td><td>Evening</td></tr><tr><td>2024-03-19T14:42:00Z</td><td>Afternoon</td></tr><tr><td>2024-03-19T19:08:00Z</td><td>Evening</td></tr><tr><td>2024-03-19T19:12:00Z</td><td>Evening</td></tr><tr><td>2024-03-19T15:46:00Z</td><td>Afternoon</td></tr><tr><td>2024-03-19T19:06:00Z</td><td>Evening</td></tr><tr><td>2024-03-19T18:10:00Z</td><td>Evening</td></tr><tr><td>2024-03-19T20:46:00Z</td><td>Evening</td></tr><tr><td>2024-03-19T18:35:00Z</td><td>Evening</td></tr><tr><td>2024-03-19T11:40:00Z</td><td>Morning</td></tr><tr><td>2024-03-19T13:46:00Z</td><td>Afternoon</td></tr><tr><td>2024-03-19T17:16:00Z</td><td>Evening</td></tr><tr><td>2024-03-19T13:22:00Z</td><td>Afternoon</td></tr><tr><td>2024-03-19T15:33:00Z</td><td>Afternoon</td></tr><tr><td>2024-03-19T13:28:00Z</td><td>Afternoon</td></tr></tbody></table></div>"
      ]
     },
     "metadata": {
      "application/vnd.databricks.v1+output": {
       "addedWidgets": {},
       "aggData": [],
       "aggError": "",
       "aggOverflow": false,
       "aggSchema": [],
       "aggSeriesLimitReached": false,
       "aggType": "",
       "arguments": {},
       "columnCustomDisplayInfos": {},
       "data": [
        [
         "2024-03-19T13:08:00Z",
         "Afternoon"
        ],
        [
         "2024-03-19T10:29:00Z",
         "Morning"
        ],
        [
         "2024-03-19T13:23:00Z",
         "Afternoon"
        ],
        [
         "2024-03-19T20:33:00Z",
         "Evening"
        ],
        [
         "2024-03-19T10:37:00Z",
         "Morning"
        ],
        [
         "2024-03-19T18:30:00Z",
         "Evening"
        ],
        [
         "2024-03-19T14:36:00Z",
         "Afternoon"
        ],
        [
         "2024-03-19T11:38:00Z",
         "Morning"
        ],
        [
         "2024-03-19T17:15:00Z",
         "Evening"
        ],
        [
         "2024-03-19T13:27:00Z",
         "Afternoon"
        ],
        [
         "2024-03-19T18:07:00Z",
         "Evening"
        ],
        [
         "2024-03-19T17:03:00Z",
         "Evening"
        ],
        [
         "2024-03-19T10:25:00Z",
         "Morning"
        ],
        [
         "2024-03-19T16:48:00Z",
         "Evening"
        ],
        [
         "2024-03-19T19:21:00Z",
         "Evening"
        ],
        [
         "2024-03-19T16:19:00Z",
         "Evening"
        ],
        [
         "2024-03-19T11:03:00Z",
         "Morning"
        ],
        [
         "2024-03-19T10:39:00Z",
         "Morning"
        ],
        [
         "2024-03-19T18:00:00Z",
         "Evening"
        ],
        [
         "2024-03-19T15:30:00Z",
         "Afternoon"
        ],
        [
         "2024-03-19T11:24:00Z",
         "Morning"
        ],
        [
         "2024-03-19T10:40:00Z",
         "Morning"
        ],
        [
         "2024-03-19T12:20:00Z",
         "Afternoon"
        ],
        [
         "2024-03-19T11:15:00Z",
         "Morning"
        ],
        [
         "2024-03-19T17:36:00Z",
         "Evening"
        ],
        [
         "2024-03-19T19:20:00Z",
         "Evening"
        ],
        [
         "2024-03-19T15:31:00Z",
         "Afternoon"
        ],
        [
         "2024-03-19T12:17:00Z",
         "Afternoon"
        ],
        [
         "2024-03-19T19:48:00Z",
         "Evening"
        ],
        [
         "2024-03-19T15:36:00Z",
         "Afternoon"
        ],
        [
         "2024-03-19T19:39:00Z",
         "Evening"
        ],
        [
         "2024-03-19T12:43:00Z",
         "Afternoon"
        ],
        [
         "2024-03-19T14:49:00Z",
         "Afternoon"
        ],
        [
         "2024-03-19T10:12:00Z",
         "Morning"
        ],
        [
         "2024-03-19T10:42:00Z",
         "Morning"
        ],
        [
         "2024-03-19T12:28:00Z",
         "Afternoon"
        ],
        [
         "2024-03-19T19:15:00Z",
         "Evening"
        ],
        [
         "2024-03-19T17:17:00Z",
         "Evening"
        ],
        [
         "2024-03-19T13:24:00Z",
         "Afternoon"
        ],
        [
         "2024-03-19T13:01:00Z",
         "Afternoon"
        ],
        [
         "2024-03-19T18:45:00Z",
         "Evening"
        ],
        [
         "2024-03-19T10:11:00Z",
         "Morning"
        ],
        [
         "2024-03-19T13:03:00Z",
         "Afternoon"
        ],
        [
         "2024-03-19T20:39:00Z",
         "Evening"
        ],
        [
         "2024-03-19T19:47:00Z",
         "Evening"
        ],
        [
         "2024-03-19T18:00:00Z",
         "Evening"
        ],
        [
         "2024-03-19T17:24:00Z",
         "Evening"
        ],
        [
         "2024-03-19T15:47:00Z",
         "Afternoon"
        ],
        [
         "2024-03-19T12:45:00Z",
         "Afternoon"
        ],
        [
         "2024-03-19T17:08:00Z",
         "Evening"
        ],
        [
         "2024-03-19T10:19:00Z",
         "Morning"
        ],
        [
         "2024-03-19T15:10:00Z",
         "Afternoon"
        ],
        [
         "2024-03-19T14:42:00Z",
         "Afternoon"
        ],
        [
         "2024-03-19T15:46:00Z",
         "Afternoon"
        ],
        [
         "2024-03-19T11:49:00Z",
         "Morning"
        ],
        [
         "2024-03-19T19:01:00Z",
         "Evening"
        ],
        [
         "2024-03-19T11:26:00Z",
         "Morning"
        ],
        [
         "2024-03-19T11:28:00Z",
         "Morning"
        ],
        [
         "2024-03-19T15:55:00Z",
         "Afternoon"
        ],
        [
         "2024-03-19T20:36:00Z",
         "Evening"
        ],
        [
         "2024-03-19T17:47:00Z",
         "Evening"
        ],
        [
         "2024-03-19T10:55:00Z",
         "Morning"
        ],
        [
         "2024-03-19T13:40:00Z",
         "Afternoon"
        ],
        [
         "2024-03-19T12:27:00Z",
         "Afternoon"
        ],
        [
         "2024-03-19T14:35:00Z",
         "Afternoon"
        ],
        [
         "2024-03-19T16:40:00Z",
         "Evening"
        ],
        [
         "2024-03-19T15:43:00Z",
         "Afternoon"
        ],
        [
         "2024-03-19T15:01:00Z",
         "Afternoon"
        ],
        [
         "2024-03-19T10:04:00Z",
         "Morning"
        ],
        [
         "2024-03-19T18:50:00Z",
         "Evening"
        ],
        [
         "2024-03-19T12:46:00Z",
         "Afternoon"
        ],
        [
         "2024-03-19T16:19:00Z",
         "Evening"
        ],
        [
         "2024-03-19T18:17:00Z",
         "Evening"
        ],
        [
         "2024-03-19T18:21:00Z",
         "Evening"
        ],
        [
         "2024-03-19T10:55:00Z",
         "Morning"
        ],
        [
         "2024-03-19T17:04:00Z",
         "Evening"
        ],
        [
         "2024-03-19T14:20:00Z",
         "Afternoon"
        ],
        [
         "2024-03-19T15:48:00Z",
         "Afternoon"
        ],
        [
         "2024-03-19T16:24:00Z",
         "Evening"
        ],
        [
         "2024-03-19T18:56:00Z",
         "Evening"
        ],
        [
         "2024-03-19T14:42:00Z",
         "Afternoon"
        ],
        [
         "2024-03-19T19:56:00Z",
         "Evening"
        ],
        [
         "2024-03-19T18:37:00Z",
         "Evening"
        ],
        [
         "2024-03-19T18:45:00Z",
         "Evening"
        ],
        [
         "2024-03-19T10:17:00Z",
         "Morning"
        ],
        [
         "2024-03-19T14:31:00Z",
         "Afternoon"
        ],
        [
         "2024-03-19T10:23:00Z",
         "Morning"
        ],
        [
         "2024-03-19T20:35:00Z",
         "Evening"
        ],
        [
         "2024-03-19T16:57:00Z",
         "Evening"
        ],
        [
         "2024-03-19T17:55:00Z",
         "Evening"
        ],
        [
         "2024-03-19T10:25:00Z",
         "Morning"
        ],
        [
         "2024-03-19T19:54:00Z",
         "Evening"
        ],
        [
         "2024-03-19T16:42:00Z",
         "Evening"
        ],
        [
         "2024-03-19T12:09:00Z",
         "Afternoon"
        ],
        [
         "2024-03-19T20:05:00Z",
         "Evening"
        ],
        [
         "2024-03-19T20:38:00Z",
         "Evening"
        ],
        [
         "2024-03-19T10:25:00Z",
         "Morning"
        ],
        [
         "2024-03-19T13:11:00Z",
         "Afternoon"
        ],
        [
         "2024-03-19T10:16:00Z",
         "Morning"
        ],
        [
         "2024-03-19T18:14:00Z",
         "Evening"
        ],
        [
         "2024-03-19T19:20:00Z",
         "Evening"
        ],
        [
         "2024-03-19T13:22:00Z",
         "Afternoon"
        ],
        [
         "2024-03-19T11:27:00Z",
         "Morning"
        ],
        [
         "2024-03-19T16:44:00Z",
         "Evening"
        ],
        [
         "2024-03-19T18:19:00Z",
         "Evening"
        ],
        [
         "2024-03-19T14:50:00Z",
         "Afternoon"
        ],
        [
         "2024-03-19T20:54:00Z",
         "Evening"
        ],
        [
         "2024-03-19T20:19:00Z",
         "Evening"
        ],
        [
         "2024-03-19T10:43:00Z",
         "Morning"
        ],
        [
         "2024-03-19T14:30:00Z",
         "Afternoon"
        ],
        [
         "2024-03-19T11:32:00Z",
         "Morning"
        ],
        [
         "2024-03-19T10:41:00Z",
         "Morning"
        ],
        [
         "2024-03-19T12:44:00Z",
         "Afternoon"
        ],
        [
         "2024-03-19T20:07:00Z",
         "Evening"
        ],
        [
         "2024-03-19T20:31:00Z",
         "Evening"
        ],
        [
         "2024-03-19T13:01:00Z",
         "Afternoon"
        ],
        [
         "2024-03-19T12:29:00Z",
         "Afternoon"
        ],
        [
         "2024-03-19T15:26:00Z",
         "Afternoon"
        ],
        [
         "2024-03-19T20:48:00Z",
         "Evening"
        ],
        [
         "2024-03-19T20:38:00Z",
         "Evening"
        ],
        [
         "2024-03-19T17:03:00Z",
         "Evening"
        ],
        [
         "2024-03-19T12:02:00Z",
         "Afternoon"
        ],
        [
         "2024-03-19T17:26:00Z",
         "Evening"
        ],
        [
         "2024-03-19T19:52:00Z",
         "Evening"
        ],
        [
         "2024-03-19T14:57:00Z",
         "Afternoon"
        ],
        [
         "2024-03-19T18:44:00Z",
         "Evening"
        ],
        [
         "2024-03-19T13:26:00Z",
         "Afternoon"
        ],
        [
         "2024-03-19T16:17:00Z",
         "Evening"
        ],
        [
         "2024-03-19T15:57:00Z",
         "Afternoon"
        ],
        [
         "2024-03-19T11:15:00Z",
         "Morning"
        ],
        [
         "2024-03-19T13:18:00Z",
         "Afternoon"
        ],
        [
         "2024-03-19T20:34:00Z",
         "Evening"
        ],
        [
         "2024-03-19T18:36:00Z",
         "Evening"
        ],
        [
         "2024-03-19T14:40:00Z",
         "Afternoon"
        ],
        [
         "2024-03-19T16:43:00Z",
         "Evening"
        ],
        [
         "2024-03-19T19:39:00Z",
         "Evening"
        ],
        [
         "2024-03-19T20:59:00Z",
         "Evening"
        ],
        [
         "2024-03-19T15:39:00Z",
         "Afternoon"
        ],
        [
         "2024-03-19T12:21:00Z",
         "Afternoon"
        ],
        [
         "2024-03-19T19:25:00Z",
         "Evening"
        ],
        [
         "2024-03-19T13:00:00Z",
         "Afternoon"
        ],
        [
         "2024-03-19T13:48:00Z",
         "Afternoon"
        ],
        [
         "2024-03-19T19:57:00Z",
         "Evening"
        ],
        [
         "2024-03-19T10:36:00Z",
         "Morning"
        ],
        [
         "2024-03-19T16:37:00Z",
         "Evening"
        ],
        [
         "2024-03-19T17:11:00Z",
         "Evening"
        ],
        [
         "2024-03-19T12:28:00Z",
         "Afternoon"
        ],
        [
         "2024-03-19T12:46:00Z",
         "Afternoon"
        ],
        [
         "2024-03-19T15:07:00Z",
         "Afternoon"
        ],
        [
         "2024-03-19T13:48:00Z",
         "Afternoon"
        ],
        [
         "2024-03-19T19:20:00Z",
         "Evening"
        ],
        [
         "2024-03-19T16:07:00Z",
         "Evening"
        ],
        [
         "2024-03-19T11:56:00Z",
         "Morning"
        ],
        [
         "2024-03-19T18:23:00Z",
         "Evening"
        ],
        [
         "2024-03-19T13:05:00Z",
         "Afternoon"
        ],
        [
         "2024-03-19T15:55:00Z",
         "Afternoon"
        ],
        [
         "2024-03-19T19:40:00Z",
         "Evening"
        ],
        [
         "2024-03-19T13:58:00Z",
         "Afternoon"
        ],
        [
         "2024-03-19T14:43:00Z",
         "Afternoon"
        ],
        [
         "2024-03-19T19:18:00Z",
         "Evening"
        ],
        [
         "2024-03-19T19:39:00Z",
         "Evening"
        ],
        [
         "2024-03-19T16:21:00Z",
         "Evening"
        ],
        [
         "2024-03-19T19:44:00Z",
         "Evening"
        ],
        [
         "2024-03-19T19:42:00Z",
         "Evening"
        ],
        [
         "2024-03-19T15:24:00Z",
         "Afternoon"
        ],
        [
         "2024-03-19T14:12:00Z",
         "Afternoon"
        ],
        [
         "2024-03-19T13:32:00Z",
         "Afternoon"
        ],
        [
         "2024-03-19T16:20:00Z",
         "Evening"
        ],
        [
         "2024-03-19T16:31:00Z",
         "Evening"
        ],
        [
         "2024-03-19T15:10:00Z",
         "Afternoon"
        ],
        [
         "2024-03-19T11:36:00Z",
         "Morning"
        ],
        [
         "2024-03-19T12:45:00Z",
         "Afternoon"
        ],
        [
         "2024-03-19T19:17:00Z",
         "Evening"
        ],
        [
         "2024-03-19T17:34:00Z",
         "Evening"
        ],
        [
         "2024-03-19T12:04:00Z",
         "Afternoon"
        ],
        [
         "2024-03-19T16:21:00Z",
         "Evening"
        ],
        [
         "2024-03-19T17:01:00Z",
         "Evening"
        ],
        [
         "2024-03-19T10:50:00Z",
         "Morning"
        ],
        [
         "2024-03-19T19:16:00Z",
         "Evening"
        ],
        [
         "2024-03-19T16:47:00Z",
         "Evening"
        ],
        [
         "2024-03-19T10:00:00Z",
         "Morning"
        ],
        [
         "2024-03-19T11:51:00Z",
         "Morning"
        ],
        [
         "2024-03-19T10:55:00Z",
         "Morning"
        ],
        [
         "2024-03-19T15:00:00Z",
         "Afternoon"
        ],
        [
         "2024-03-19T11:19:00Z",
         "Morning"
        ],
        [
         "2024-03-19T19:46:00Z",
         "Evening"
        ],
        [
         "2024-03-19T19:00:00Z",
         "Evening"
        ],
        [
         "2024-03-19T10:53:00Z",
         "Morning"
        ],
        [
         "2024-03-19T12:50:00Z",
         "Afternoon"
        ],
        [
         "2024-03-19T20:50:00Z",
         "Evening"
        ],
        [
         "2024-03-19T10:39:00Z",
         "Morning"
        ],
        [
         "2024-03-19T13:41:00Z",
         "Afternoon"
        ],
        [
         "2024-03-19T19:08:00Z",
         "Evening"
        ],
        [
         "2024-03-19T20:23:00Z",
         "Evening"
        ],
        [
         "2024-03-19T11:30:00Z",
         "Morning"
        ],
        [
         "2024-03-19T19:30:00Z",
         "Evening"
        ],
        [
         "2024-03-19T18:03:00Z",
         "Evening"
        ],
        [
         "2024-03-19T10:13:00Z",
         "Morning"
        ],
        [
         "2024-03-19T19:58:00Z",
         "Evening"
        ],
        [
         "2024-03-19T19:57:00Z",
         "Evening"
        ],
        [
         "2024-03-19T10:01:00Z",
         "Morning"
        ],
        [
         "2024-03-19T11:57:00Z",
         "Morning"
        ],
        [
         "2024-03-19T10:02:00Z",
         "Morning"
        ],
        [
         "2024-03-19T14:51:00Z",
         "Afternoon"
        ],
        [
         "2024-03-19T12:42:00Z",
         "Afternoon"
        ],
        [
         "2024-03-19T12:02:00Z",
         "Afternoon"
        ],
        [
         "2024-03-19T18:19:00Z",
         "Evening"
        ],
        [
         "2024-03-19T17:38:00Z",
         "Evening"
        ],
        [
         "2024-03-19T13:41:00Z",
         "Afternoon"
        ],
        [
         "2024-03-19T19:42:00Z",
         "Evening"
        ],
        [
         "2024-03-19T20:24:00Z",
         "Evening"
        ],
        [
         "2024-03-19T18:08:00Z",
         "Evening"
        ],
        [
         "2024-03-19T19:17:00Z",
         "Evening"
        ],
        [
         "2024-03-19T13:24:00Z",
         "Afternoon"
        ],
        [
         "2024-03-19T15:53:00Z",
         "Afternoon"
        ],
        [
         "2024-03-19T15:05:00Z",
         "Afternoon"
        ],
        [
         "2024-03-19T18:27:00Z",
         "Evening"
        ],
        [
         "2024-03-19T16:55:00Z",
         "Evening"
        ],
        [
         "2024-03-19T12:58:00Z",
         "Afternoon"
        ],
        [
         "2024-03-19T18:59:00Z",
         "Evening"
        ],
        [
         "2024-03-19T13:44:00Z",
         "Afternoon"
        ],
        [
         "2024-03-19T13:46:00Z",
         "Afternoon"
        ],
        [
         "2024-03-19T18:06:00Z",
         "Evening"
        ],
        [
         "2024-03-19T12:38:00Z",
         "Afternoon"
        ],
        [
         "2024-03-19T15:56:00Z",
         "Afternoon"
        ],
        [
         "2024-03-19T14:29:00Z",
         "Afternoon"
        ],
        [
         "2024-03-19T19:14:00Z",
         "Evening"
        ],
        [
         "2024-03-19T16:24:00Z",
         "Evening"
        ],
        [
         "2024-03-19T10:52:00Z",
         "Morning"
        ],
        [
         "2024-03-19T12:55:00Z",
         "Afternoon"
        ],
        [
         "2024-03-19T19:28:00Z",
         "Evening"
        ],
        [
         "2024-03-19T13:52:00Z",
         "Afternoon"
        ],
        [
         "2024-03-19T10:54:00Z",
         "Morning"
        ],
        [
         "2024-03-19T18:31:00Z",
         "Evening"
        ],
        [
         "2024-03-19T18:24:00Z",
         "Evening"
        ],
        [
         "2024-03-19T18:09:00Z",
         "Evening"
        ],
        [
         "2024-03-19T15:16:00Z",
         "Afternoon"
        ],
        [
         "2024-03-19T17:07:00Z",
         "Evening"
        ],
        [
         "2024-03-19T19:26:00Z",
         "Evening"
        ],
        [
         "2024-03-19T11:20:00Z",
         "Morning"
        ],
        [
         "2024-03-19T16:49:00Z",
         "Evening"
        ],
        [
         "2024-03-19T12:01:00Z",
         "Afternoon"
        ],
        [
         "2024-03-19T18:37:00Z",
         "Evening"
        ],
        [
         "2024-03-19T11:25:00Z",
         "Morning"
        ],
        [
         "2024-03-19T18:42:00Z",
         "Evening"
        ],
        [
         "2024-03-19T14:47:00Z",
         "Afternoon"
        ],
        [
         "2024-03-19T19:43:00Z",
         "Evening"
        ],
        [
         "2024-03-19T14:04:00Z",
         "Afternoon"
        ],
        [
         "2024-03-19T16:11:00Z",
         "Evening"
        ],
        [
         "2024-03-19T19:06:00Z",
         "Evening"
        ],
        [
         "2024-03-19T15:34:00Z",
         "Afternoon"
        ],
        [
         "2024-03-19T19:06:00Z",
         "Evening"
        ],
        [
         "2024-03-19T19:44:00Z",
         "Evening"
        ],
        [
         "2024-03-19T11:22:00Z",
         "Morning"
        ],
        [
         "2024-03-19T11:23:00Z",
         "Morning"
        ],
        [
         "2024-03-19T14:12:00Z",
         "Afternoon"
        ],
        [
         "2024-03-19T10:46:00Z",
         "Morning"
        ],
        [
         "2024-03-19T10:16:00Z",
         "Morning"
        ],
        [
         "2024-03-19T12:38:00Z",
         "Afternoon"
        ],
        [
         "2024-03-19T13:05:00Z",
         "Afternoon"
        ],
        [
         "2024-03-19T13:25:00Z",
         "Afternoon"
        ],
        [
         "2024-03-19T14:53:00Z",
         "Afternoon"
        ],
        [
         "2024-03-19T19:22:00Z",
         "Evening"
        ],
        [
         "2024-03-19T11:00:00Z",
         "Morning"
        ],
        [
         "2024-03-19T19:24:00Z",
         "Evening"
        ],
        [
         "2024-03-19T12:43:00Z",
         "Afternoon"
        ],
        [
         "2024-03-19T17:22:00Z",
         "Evening"
        ],
        [
         "2024-03-19T20:55:00Z",
         "Evening"
        ],
        [
         "2024-03-19T16:05:00Z",
         "Evening"
        ],
        [
         "2024-03-19T13:34:00Z",
         "Afternoon"
        ],
        [
         "2024-03-19T18:13:00Z",
         "Evening"
        ],
        [
         "2024-03-19T19:17:00Z",
         "Evening"
        ],
        [
         "2024-03-19T11:44:00Z",
         "Morning"
        ],
        [
         "2024-03-19T15:51:00Z",
         "Afternoon"
        ],
        [
         "2024-03-19T16:52:00Z",
         "Evening"
        ],
        [
         "2024-03-19T20:52:00Z",
         "Evening"
        ],
        [
         "2024-03-19T17:36:00Z",
         "Evening"
        ],
        [
         "2024-03-19T13:23:00Z",
         "Afternoon"
        ],
        [
         "2024-03-19T16:28:00Z",
         "Evening"
        ],
        [
         "2024-03-19T19:57:00Z",
         "Evening"
        ],
        [
         "2024-03-19T17:01:00Z",
         "Evening"
        ],
        [
         "2024-03-19T13:29:00Z",
         "Afternoon"
        ],
        [
         "2024-03-19T11:09:00Z",
         "Morning"
        ],
        [
         "2024-03-19T15:02:00Z",
         "Afternoon"
        ],
        [
         "2024-03-19T14:21:00Z",
         "Afternoon"
        ],
        [
         "2024-03-19T18:01:00Z",
         "Evening"
        ],
        [
         "2024-03-19T14:49:00Z",
         "Afternoon"
        ],
        [
         "2024-03-19T12:02:00Z",
         "Afternoon"
        ],
        [
         "2024-03-19T13:30:00Z",
         "Afternoon"
        ],
        [
         "2024-03-19T14:38:00Z",
         "Afternoon"
        ],
        [
         "2024-03-19T17:37:00Z",
         "Evening"
        ],
        [
         "2024-03-19T17:20:00Z",
         "Evening"
        ],
        [
         "2024-03-19T20:29:00Z",
         "Evening"
        ],
        [
         "2024-03-19T10:00:00Z",
         "Morning"
        ],
        [
         "2024-03-19T11:46:00Z",
         "Morning"
        ],
        [
         "2024-03-19T13:42:00Z",
         "Afternoon"
        ],
        [
         "2024-03-19T14:44:00Z",
         "Afternoon"
        ],
        [
         "2024-03-19T14:16:00Z",
         "Afternoon"
        ],
        [
         "2024-03-19T15:54:00Z",
         "Afternoon"
        ],
        [
         "2024-03-19T10:21:00Z",
         "Morning"
        ],
        [
         "2024-03-19T18:09:00Z",
         "Evening"
        ],
        [
         "2024-03-19T16:46:00Z",
         "Evening"
        ],
        [
         "2024-03-19T15:31:00Z",
         "Afternoon"
        ],
        [
         "2024-03-19T17:15:00Z",
         "Evening"
        ],
        [
         "2024-03-19T12:29:00Z",
         "Afternoon"
        ],
        [
         "2024-03-19T20:14:00Z",
         "Evening"
        ],
        [
         "2024-03-19T13:22:00Z",
         "Afternoon"
        ],
        [
         "2024-03-19T17:09:00Z",
         "Evening"
        ],
        [
         "2024-03-19T10:40:00Z",
         "Morning"
        ],
        [
         "2024-03-19T17:43:00Z",
         "Evening"
        ],
        [
         "2024-03-19T14:04:00Z",
         "Afternoon"
        ],
        [
         "2024-03-19T19:05:00Z",
         "Evening"
        ],
        [
         "2024-03-19T10:08:00Z",
         "Morning"
        ],
        [
         "2024-03-19T13:12:00Z",
         "Afternoon"
        ],
        [
         "2024-03-19T20:51:00Z",
         "Evening"
        ],
        [
         "2024-03-19T17:29:00Z",
         "Evening"
        ],
        [
         "2024-03-19T10:25:00Z",
         "Morning"
        ],
        [
         "2024-03-19T11:34:00Z",
         "Morning"
        ],
        [
         "2024-03-19T18:58:00Z",
         "Evening"
        ],
        [
         "2024-03-19T16:28:00Z",
         "Evening"
        ],
        [
         "2024-03-19T20:26:00Z",
         "Evening"
        ],
        [
         "2024-03-19T15:08:00Z",
         "Afternoon"
        ],
        [
         "2024-03-19T18:03:00Z",
         "Evening"
        ],
        [
         "2024-03-19T13:21:00Z",
         "Afternoon"
        ],
        [
         "2024-03-19T12:48:00Z",
         "Afternoon"
        ],
        [
         "2024-03-19T19:53:00Z",
         "Evening"
        ],
        [
         "2024-03-19T19:09:00Z",
         "Evening"
        ],
        [
         "2024-03-19T16:30:00Z",
         "Evening"
        ],
        [
         "2024-03-19T10:11:00Z",
         "Morning"
        ],
        [
         "2024-03-19T13:07:00Z",
         "Afternoon"
        ],
        [
         "2024-03-19T18:48:00Z",
         "Evening"
        ],
        [
         "2024-03-19T17:27:00Z",
         "Evening"
        ],
        [
         "2024-03-19T15:59:00Z",
         "Afternoon"
        ],
        [
         "2024-03-19T11:21:00Z",
         "Morning"
        ],
        [
         "2024-03-19T13:48:00Z",
         "Afternoon"
        ],
        [
         "2024-03-19T10:17:00Z",
         "Morning"
        ],
        [
         "2024-03-19T15:49:00Z",
         "Afternoon"
        ],
        [
         "2024-03-19T13:02:00Z",
         "Afternoon"
        ],
        [
         "2024-03-19T12:58:00Z",
         "Afternoon"
        ],
        [
         "2024-03-19T15:26:00Z",
         "Afternoon"
        ],
        [
         "2024-03-19T18:23:00Z",
         "Evening"
        ],
        [
         "2024-03-19T19:06:00Z",
         "Evening"
        ],
        [
         "2024-03-19T20:21:00Z",
         "Evening"
        ],
        [
         "2024-03-19T16:24:00Z",
         "Evening"
        ],
        [
         "2024-03-19T15:04:00Z",
         "Afternoon"
        ],
        [
         "2024-03-19T16:10:00Z",
         "Evening"
        ],
        [
         "2024-03-19T12:14:00Z",
         "Afternoon"
        ],
        [
         "2024-03-19T10:13:00Z",
         "Morning"
        ],
        [
         "2024-03-19T17:38:00Z",
         "Evening"
        ],
        [
         "2024-03-19T11:06:00Z",
         "Morning"
        ],
        [
         "2024-03-19T14:53:00Z",
         "Afternoon"
        ],
        [
         "2024-03-19T18:22:00Z",
         "Evening"
        ],
        [
         "2024-03-19T19:02:00Z",
         "Evening"
        ],
        [
         "2024-03-19T14:16:00Z",
         "Afternoon"
        ],
        [
         "2024-03-19T15:44:00Z",
         "Afternoon"
        ],
        [
         "2024-03-19T12:20:00Z",
         "Afternoon"
        ],
        [
         "2024-03-19T20:01:00Z",
         "Evening"
        ],
        [
         "2024-03-19T13:45:00Z",
         "Afternoon"
        ],
        [
         "2024-03-19T15:40:00Z",
         "Afternoon"
        ],
        [
         "2024-03-19T16:58:00Z",
         "Evening"
        ],
        [
         "2024-03-19T11:12:00Z",
         "Morning"
        ],
        [
         "2024-03-19T15:12:00Z",
         "Afternoon"
        ],
        [
         "2024-03-19T20:37:00Z",
         "Evening"
        ],
        [
         "2024-03-19T17:44:00Z",
         "Evening"
        ],
        [
         "2024-03-19T16:23:00Z",
         "Evening"
        ],
        [
         "2024-03-19T12:12:00Z",
         "Afternoon"
        ],
        [
         "2024-03-19T19:33:00Z",
         "Evening"
        ],
        [
         "2024-03-19T10:29:00Z",
         "Morning"
        ],
        [
         "2024-03-19T14:28:00Z",
         "Afternoon"
        ],
        [
         "2024-03-19T12:46:00Z",
         "Afternoon"
        ],
        [
         "2024-03-19T19:40:00Z",
         "Evening"
        ],
        [
         "2024-03-19T19:39:00Z",
         "Evening"
        ],
        [
         "2024-03-19T17:54:00Z",
         "Evening"
        ],
        [
         "2024-03-19T12:25:00Z",
         "Afternoon"
        ],
        [
         "2024-03-19T16:47:00Z",
         "Evening"
        ],
        [
         "2024-03-19T12:52:00Z",
         "Afternoon"
        ],
        [
         "2024-03-19T19:50:00Z",
         "Evening"
        ],
        [
         "2024-03-19T18:17:00Z",
         "Evening"
        ],
        [
         "2024-03-19T17:20:00Z",
         "Evening"
        ],
        [
         "2024-03-19T13:32:00Z",
         "Afternoon"
        ],
        [
         "2024-03-19T10:37:00Z",
         "Morning"
        ],
        [
         "2024-03-19T14:35:00Z",
         "Afternoon"
        ],
        [
         "2024-03-19T12:09:00Z",
         "Afternoon"
        ],
        [
         "2024-03-19T15:32:00Z",
         "Afternoon"
        ],
        [
         "2024-03-19T13:58:00Z",
         "Afternoon"
        ],
        [
         "2024-03-19T13:19:00Z",
         "Afternoon"
        ],
        [
         "2024-03-19T13:37:00Z",
         "Afternoon"
        ],
        [
         "2024-03-19T16:49:00Z",
         "Evening"
        ],
        [
         "2024-03-19T14:55:00Z",
         "Afternoon"
        ],
        [
         "2024-03-19T14:04:00Z",
         "Afternoon"
        ],
        [
         "2024-03-19T12:31:00Z",
         "Afternoon"
        ],
        [
         "2024-03-19T14:51:00Z",
         "Afternoon"
        ],
        [
         "2024-03-19T18:27:00Z",
         "Evening"
        ],
        [
         "2024-03-19T12:45:00Z",
         "Afternoon"
        ],
        [
         "2024-03-19T10:36:00Z",
         "Morning"
        ],
        [
         "2024-03-19T20:36:00Z",
         "Evening"
        ],
        [
         "2024-03-19T14:16:00Z",
         "Afternoon"
        ],
        [
         "2024-03-19T10:26:00Z",
         "Morning"
        ],
        [
         "2024-03-19T13:30:00Z",
         "Afternoon"
        ],
        [
         "2024-03-19T16:28:00Z",
         "Evening"
        ],
        [
         "2024-03-19T20:18:00Z",
         "Evening"
        ],
        [
         "2024-03-19T20:04:00Z",
         "Evening"
        ],
        [
         "2024-03-19T13:38:00Z",
         "Afternoon"
        ],
        [
         "2024-03-19T10:43:00Z",
         "Morning"
        ],
        [
         "2024-03-19T17:30:00Z",
         "Evening"
        ],
        [
         "2024-03-19T15:28:00Z",
         "Afternoon"
        ],
        [
         "2024-03-19T19:07:00Z",
         "Evening"
        ],
        [
         "2024-03-19T19:01:00Z",
         "Evening"
        ],
        [
         "2024-03-19T19:48:00Z",
         "Evening"
        ],
        [
         "2024-03-19T19:24:00Z",
         "Evening"
        ],
        [
         "2024-03-19T13:00:00Z",
         "Afternoon"
        ],
        [
         "2024-03-19T14:29:00Z",
         "Afternoon"
        ],
        [
         "2024-03-19T13:21:00Z",
         "Afternoon"
        ],
        [
         "2024-03-19T18:55:00Z",
         "Evening"
        ],
        [
         "2024-03-19T19:36:00Z",
         "Evening"
        ],
        [
         "2024-03-19T16:28:00Z",
         "Evening"
        ],
        [
         "2024-03-19T13:48:00Z",
         "Afternoon"
        ],
        [
         "2024-03-19T10:57:00Z",
         "Morning"
        ],
        [
         "2024-03-19T17:13:00Z",
         "Evening"
        ],
        [
         "2024-03-19T10:23:00Z",
         "Morning"
        ],
        [
         "2024-03-19T13:57:00Z",
         "Afternoon"
        ],
        [
         "2024-03-19T13:29:00Z",
         "Afternoon"
        ],
        [
         "2024-03-19T13:00:00Z",
         "Afternoon"
        ],
        [
         "2024-03-19T19:42:00Z",
         "Evening"
        ],
        [
         "2024-03-19T15:36:00Z",
         "Afternoon"
        ],
        [
         "2024-03-19T13:40:00Z",
         "Afternoon"
        ],
        [
         "2024-03-19T18:01:00Z",
         "Evening"
        ],
        [
         "2024-03-19T13:53:00Z",
         "Afternoon"
        ],
        [
         "2024-03-19T17:27:00Z",
         "Evening"
        ],
        [
         "2024-03-19T10:53:00Z",
         "Morning"
        ],
        [
         "2024-03-19T19:48:00Z",
         "Evening"
        ],
        [
         "2024-03-19T16:53:00Z",
         "Evening"
        ],
        [
         "2024-03-19T19:14:00Z",
         "Evening"
        ],
        [
         "2024-03-19T14:36:00Z",
         "Afternoon"
        ],
        [
         "2024-03-19T18:19:00Z",
         "Evening"
        ],
        [
         "2024-03-19T19:09:00Z",
         "Evening"
        ],
        [
         "2024-03-19T16:51:00Z",
         "Evening"
        ],
        [
         "2024-03-19T15:37:00Z",
         "Afternoon"
        ],
        [
         "2024-03-19T20:15:00Z",
         "Evening"
        ],
        [
         "2024-03-19T14:38:00Z",
         "Afternoon"
        ],
        [
         "2024-03-19T19:25:00Z",
         "Evening"
        ],
        [
         "2024-03-19T19:35:00Z",
         "Evening"
        ],
        [
         "2024-03-19T15:42:00Z",
         "Afternoon"
        ],
        [
         "2024-03-19T14:11:00Z",
         "Afternoon"
        ],
        [
         "2024-03-19T10:43:00Z",
         "Morning"
        ],
        [
         "2024-03-19T17:58:00Z",
         "Evening"
        ],
        [
         "2024-03-19T11:26:00Z",
         "Morning"
        ],
        [
         "2024-03-19T17:38:00Z",
         "Evening"
        ],
        [
         "2024-03-19T20:07:00Z",
         "Evening"
        ],
        [
         "2024-03-19T11:02:00Z",
         "Morning"
        ],
        [
         "2024-03-19T19:07:00Z",
         "Evening"
        ],
        [
         "2024-03-19T18:50:00Z",
         "Evening"
        ],
        [
         "2024-03-19T12:43:00Z",
         "Afternoon"
        ],
        [
         "2024-03-19T15:09:00Z",
         "Afternoon"
        ],
        [
         "2024-03-19T13:47:00Z",
         "Afternoon"
        ],
        [
         "2024-03-19T16:59:00Z",
         "Evening"
        ],
        [
         "2024-03-19T14:15:00Z",
         "Afternoon"
        ],
        [
         "2024-03-19T20:24:00Z",
         "Evening"
        ],
        [
         "2024-03-19T13:58:00Z",
         "Afternoon"
        ],
        [
         "2024-03-19T16:52:00Z",
         "Evening"
        ],
        [
         "2024-03-19T15:19:00Z",
         "Afternoon"
        ],
        [
         "2024-03-19T12:25:00Z",
         "Afternoon"
        ],
        [
         "2024-03-19T10:02:00Z",
         "Morning"
        ],
        [
         "2024-03-19T18:58:00Z",
         "Evening"
        ],
        [
         "2024-03-19T15:31:00Z",
         "Afternoon"
        ],
        [
         "2024-03-19T11:22:00Z",
         "Morning"
        ],
        [
         "2024-03-19T13:12:00Z",
         "Afternoon"
        ],
        [
         "2024-03-19T18:33:00Z",
         "Evening"
        ],
        [
         "2024-03-19T10:02:00Z",
         "Morning"
        ],
        [
         "2024-03-19T11:21:00Z",
         "Morning"
        ],
        [
         "2024-03-19T12:10:00Z",
         "Afternoon"
        ],
        [
         "2024-03-19T11:40:00Z",
         "Morning"
        ],
        [
         "2024-03-19T18:31:00Z",
         "Evening"
        ],
        [
         "2024-03-19T17:58:00Z",
         "Evening"
        ],
        [
         "2024-03-19T17:04:00Z",
         "Evening"
        ],
        [
         "2024-03-19T20:35:00Z",
         "Evening"
        ],
        [
         "2024-03-19T16:10:00Z",
         "Evening"
        ],
        [
         "2024-03-19T16:54:00Z",
         "Evening"
        ],
        [
         "2024-03-19T10:11:00Z",
         "Morning"
        ],
        [
         "2024-03-19T11:26:00Z",
         "Morning"
        ],
        [
         "2024-03-19T20:29:00Z",
         "Evening"
        ],
        [
         "2024-03-19T12:12:00Z",
         "Afternoon"
        ],
        [
         "2024-03-19T13:05:00Z",
         "Afternoon"
        ],
        [
         "2024-03-19T16:19:00Z",
         "Evening"
        ],
        [
         "2024-03-19T19:48:00Z",
         "Evening"
        ],
        [
         "2024-03-19T15:25:00Z",
         "Afternoon"
        ],
        [
         "2024-03-19T14:42:00Z",
         "Afternoon"
        ],
        [
         "2024-03-19T18:59:00Z",
         "Evening"
        ],
        [
         "2024-03-19T20:47:00Z",
         "Evening"
        ],
        [
         "2024-03-19T13:21:00Z",
         "Afternoon"
        ],
        [
         "2024-03-19T19:48:00Z",
         "Evening"
        ],
        [
         "2024-03-19T18:20:00Z",
         "Evening"
        ],
        [
         "2024-03-19T20:24:00Z",
         "Evening"
        ],
        [
         "2024-03-19T13:44:00Z",
         "Afternoon"
        ],
        [
         "2024-03-19T11:48:00Z",
         "Morning"
        ],
        [
         "2024-03-19T14:14:00Z",
         "Afternoon"
        ],
        [
         "2024-03-19T15:51:00Z",
         "Afternoon"
        ],
        [
         "2024-03-19T11:17:00Z",
         "Morning"
        ],
        [
         "2024-03-19T17:36:00Z",
         "Evening"
        ],
        [
         "2024-03-19T15:47:00Z",
         "Afternoon"
        ],
        [
         "2024-03-19T15:53:00Z",
         "Afternoon"
        ],
        [
         "2024-03-19T12:40:00Z",
         "Afternoon"
        ],
        [
         "2024-03-19T19:48:00Z",
         "Evening"
        ],
        [
         "2024-03-19T17:53:00Z",
         "Evening"
        ],
        [
         "2024-03-19T16:36:00Z",
         "Evening"
        ],
        [
         "2024-03-19T20:54:00Z",
         "Evening"
        ],
        [
         "2024-03-19T12:50:00Z",
         "Afternoon"
        ],
        [
         "2024-03-19T10:48:00Z",
         "Morning"
        ],
        [
         "2024-03-19T14:28:00Z",
         "Afternoon"
        ],
        [
         "2024-03-19T17:15:00Z",
         "Evening"
        ],
        [
         "2024-03-19T18:03:00Z",
         "Evening"
        ],
        [
         "2024-03-19T17:29:00Z",
         "Evening"
        ],
        [
         "2024-03-19T18:05:00Z",
         "Evening"
        ],
        [
         "2024-03-19T12:07:00Z",
         "Afternoon"
        ],
        [
         "2024-03-19T19:49:00Z",
         "Evening"
        ],
        [
         "2024-03-19T15:52:00Z",
         "Afternoon"
        ],
        [
         "2024-03-19T16:48:00Z",
         "Evening"
        ],
        [
         "2024-03-19T20:46:00Z",
         "Evening"
        ],
        [
         "2024-03-19T18:14:00Z",
         "Evening"
        ],
        [
         "2024-03-19T15:05:00Z",
         "Afternoon"
        ],
        [
         "2024-03-19T10:34:00Z",
         "Morning"
        ],
        [
         "2024-03-19T11:23:00Z",
         "Morning"
        ],
        [
         "2024-03-19T13:55:00Z",
         "Afternoon"
        ],
        [
         "2024-03-19T11:43:00Z",
         "Morning"
        ],
        [
         "2024-03-19T14:36:00Z",
         "Afternoon"
        ],
        [
         "2024-03-19T16:03:00Z",
         "Evening"
        ],
        [
         "2024-03-19T20:03:00Z",
         "Evening"
        ],
        [
         "2024-03-19T14:55:00Z",
         "Afternoon"
        ],
        [
         "2024-03-19T11:28:00Z",
         "Morning"
        ],
        [
         "2024-03-19T19:41:00Z",
         "Evening"
        ],
        [
         "2024-03-19T19:01:00Z",
         "Evening"
        ],
        [
         "2024-03-19T18:04:00Z",
         "Evening"
        ],
        [
         "2024-03-19T19:20:00Z",
         "Evening"
        ],
        [
         "2024-03-19T10:31:00Z",
         "Morning"
        ],
        [
         "2024-03-19T13:28:00Z",
         "Afternoon"
        ],
        [
         "2024-03-19T11:36:00Z",
         "Morning"
        ],
        [
         "2024-03-19T11:32:00Z",
         "Morning"
        ],
        [
         "2024-03-19T11:44:00Z",
         "Morning"
        ],
        [
         "2024-03-19T17:16:00Z",
         "Evening"
        ],
        [
         "2024-03-19T18:43:00Z",
         "Evening"
        ],
        [
         "2024-03-19T11:00:00Z",
         "Morning"
        ],
        [
         "2024-03-19T10:30:00Z",
         "Morning"
        ],
        [
         "2024-03-19T12:14:00Z",
         "Afternoon"
        ],
        [
         "2024-03-19T16:43:00Z",
         "Evening"
        ],
        [
         "2024-03-19T20:40:00Z",
         "Evening"
        ],
        [
         "2024-03-19T13:40:00Z",
         "Afternoon"
        ],
        [
         "2024-03-19T16:23:00Z",
         "Evening"
        ],
        [
         "2024-03-19T12:08:00Z",
         "Afternoon"
        ],
        [
         "2024-03-19T17:45:00Z",
         "Evening"
        ],
        [
         "2024-03-19T10:28:00Z",
         "Morning"
        ],
        [
         "2024-03-19T20:31:00Z",
         "Evening"
        ],
        [
         "2024-03-19T10:49:00Z",
         "Morning"
        ],
        [
         "2024-03-19T12:34:00Z",
         "Afternoon"
        ],
        [
         "2024-03-19T10:23:00Z",
         "Morning"
        ],
        [
         "2024-03-19T18:51:00Z",
         "Evening"
        ],
        [
         "2024-03-19T13:45:00Z",
         "Afternoon"
        ],
        [
         "2024-03-19T19:38:00Z",
         "Evening"
        ],
        [
         "2024-03-19T20:23:00Z",
         "Evening"
        ],
        [
         "2024-03-19T15:24:00Z",
         "Afternoon"
        ],
        [
         "2024-03-19T16:54:00Z",
         "Evening"
        ],
        [
         "2024-03-19T12:32:00Z",
         "Afternoon"
        ],
        [
         "2024-03-19T15:42:00Z",
         "Afternoon"
        ],
        [
         "2024-03-19T13:58:00Z",
         "Afternoon"
        ],
        [
         "2024-03-19T15:08:00Z",
         "Afternoon"
        ],
        [
         "2024-03-19T13:02:00Z",
         "Afternoon"
        ],
        [
         "2024-03-19T13:01:00Z",
         "Afternoon"
        ],
        [
         "2024-03-19T16:40:00Z",
         "Evening"
        ],
        [
         "2024-03-19T13:55:00Z",
         "Afternoon"
        ],
        [
         "2024-03-19T10:33:00Z",
         "Morning"
        ],
        [
         "2024-03-19T16:42:00Z",
         "Evening"
        ],
        [
         "2024-03-19T17:16:00Z",
         "Evening"
        ],
        [
         "2024-03-19T11:48:00Z",
         "Morning"
        ],
        [
         "2024-03-19T19:35:00Z",
         "Evening"
        ],
        [
         "2024-03-19T19:55:00Z",
         "Evening"
        ],
        [
         "2024-03-19T14:33:00Z",
         "Afternoon"
        ],
        [
         "2024-03-19T19:49:00Z",
         "Evening"
        ],
        [
         "2024-03-19T18:43:00Z",
         "Evening"
        ],
        [
         "2024-03-19T14:43:00Z",
         "Afternoon"
        ],
        [
         "2024-03-19T13:54:00Z",
         "Afternoon"
        ],
        [
         "2024-03-19T12:15:00Z",
         "Afternoon"
        ],
        [
         "2024-03-19T12:37:00Z",
         "Afternoon"
        ],
        [
         "2024-03-19T19:54:00Z",
         "Evening"
        ],
        [
         "2024-03-19T15:06:00Z",
         "Afternoon"
        ],
        [
         "2024-03-19T18:03:00Z",
         "Evening"
        ],
        [
         "2024-03-19T15:58:00Z",
         "Afternoon"
        ],
        [
         "2024-03-19T13:53:00Z",
         "Afternoon"
        ],
        [
         "2024-03-19T14:03:00Z",
         "Afternoon"
        ],
        [
         "2024-03-19T16:38:00Z",
         "Evening"
        ],
        [
         "2024-03-19T11:07:00Z",
         "Morning"
        ],
        [
         "2024-03-19T12:23:00Z",
         "Afternoon"
        ],
        [
         "2024-03-19T10:54:00Z",
         "Morning"
        ],
        [
         "2024-03-19T17:38:00Z",
         "Evening"
        ],
        [
         "2024-03-19T14:13:00Z",
         "Afternoon"
        ],
        [
         "2024-03-19T11:51:00Z",
         "Morning"
        ],
        [
         "2024-03-19T13:05:00Z",
         "Afternoon"
        ],
        [
         "2024-03-19T11:30:00Z",
         "Morning"
        ],
        [
         "2024-03-19T13:30:00Z",
         "Afternoon"
        ],
        [
         "2024-03-19T19:11:00Z",
         "Evening"
        ],
        [
         "2024-03-19T18:53:00Z",
         "Evening"
        ],
        [
         "2024-03-19T14:22:00Z",
         "Afternoon"
        ],
        [
         "2024-03-19T17:16:00Z",
         "Evening"
        ],
        [
         "2024-03-19T10:06:00Z",
         "Morning"
        ],
        [
         "2024-03-19T20:35:00Z",
         "Evening"
        ],
        [
         "2024-03-19T13:54:00Z",
         "Afternoon"
        ],
        [
         "2024-03-19T20:08:00Z",
         "Evening"
        ],
        [
         "2024-03-19T15:26:00Z",
         "Afternoon"
        ],
        [
         "2024-03-19T12:56:00Z",
         "Afternoon"
        ],
        [
         "2024-03-19T19:16:00Z",
         "Evening"
        ],
        [
         "2024-03-19T12:20:00Z",
         "Afternoon"
        ],
        [
         "2024-03-19T10:37:00Z",
         "Morning"
        ],
        [
         "2024-03-19T10:18:00Z",
         "Morning"
        ],
        [
         "2024-03-19T11:23:00Z",
         "Morning"
        ],
        [
         "2024-03-19T11:45:00Z",
         "Morning"
        ],
        [
         "2024-03-19T16:08:00Z",
         "Evening"
        ],
        [
         "2024-03-19T11:25:00Z",
         "Morning"
        ],
        [
         "2024-03-19T12:24:00Z",
         "Afternoon"
        ],
        [
         "2024-03-19T19:51:00Z",
         "Evening"
        ],
        [
         "2024-03-19T18:10:00Z",
         "Evening"
        ],
        [
         "2024-03-19T11:22:00Z",
         "Morning"
        ],
        [
         "2024-03-19T17:55:00Z",
         "Evening"
        ],
        [
         "2024-03-19T15:30:00Z",
         "Afternoon"
        ],
        [
         "2024-03-19T19:44:00Z",
         "Evening"
        ],
        [
         "2024-03-19T15:27:00Z",
         "Afternoon"
        ],
        [
         "2024-03-19T11:25:00Z",
         "Morning"
        ],
        [
         "2024-03-19T15:42:00Z",
         "Afternoon"
        ],
        [
         "2024-03-19T16:04:00Z",
         "Evening"
        ],
        [
         "2024-03-19T12:37:00Z",
         "Afternoon"
        ],
        [
         "2024-03-19T14:41:00Z",
         "Afternoon"
        ],
        [
         "2024-03-19T14:19:00Z",
         "Afternoon"
        ],
        [
         "2024-03-19T18:19:00Z",
         "Evening"
        ],
        [
         "2024-03-19T14:08:00Z",
         "Afternoon"
        ],
        [
         "2024-03-19T16:38:00Z",
         "Evening"
        ],
        [
         "2024-03-19T10:54:00Z",
         "Morning"
        ],
        [
         "2024-03-19T11:29:00Z",
         "Morning"
        ],
        [
         "2024-03-19T19:28:00Z",
         "Evening"
        ],
        [
         "2024-03-19T15:01:00Z",
         "Afternoon"
        ],
        [
         "2024-03-19T20:31:00Z",
         "Evening"
        ],
        [
         "2024-03-19T12:16:00Z",
         "Afternoon"
        ],
        [
         "2024-03-19T15:27:00Z",
         "Afternoon"
        ],
        [
         "2024-03-19T17:36:00Z",
         "Evening"
        ],
        [
         "2024-03-19T20:00:00Z",
         "Evening"
        ],
        [
         "2024-03-19T15:29:00Z",
         "Afternoon"
        ],
        [
         "2024-03-19T15:08:00Z",
         "Afternoon"
        ],
        [
         "2024-03-19T19:26:00Z",
         "Evening"
        ],
        [
         "2024-03-19T15:53:00Z",
         "Afternoon"
        ],
        [
         "2024-03-19T18:43:00Z",
         "Evening"
        ],
        [
         "2024-03-19T14:58:00Z",
         "Afternoon"
        ],
        [
         "2024-03-19T19:55:00Z",
         "Evening"
        ],
        [
         "2024-03-19T15:10:00Z",
         "Afternoon"
        ],
        [
         "2024-03-19T16:44:00Z",
         "Evening"
        ],
        [
         "2024-03-19T18:22:00Z",
         "Evening"
        ],
        [
         "2024-03-19T11:52:00Z",
         "Morning"
        ],
        [
         "2024-03-19T17:24:00Z",
         "Evening"
        ],
        [
         "2024-03-19T15:31:00Z",
         "Afternoon"
        ],
        [
         "2024-03-19T18:04:00Z",
         "Evening"
        ],
        [
         "2024-03-19T14:13:00Z",
         "Afternoon"
        ],
        [
         "2024-03-19T10:23:00Z",
         "Morning"
        ],
        [
         "2024-03-19T10:11:00Z",
         "Morning"
        ],
        [
         "2024-03-19T15:48:00Z",
         "Afternoon"
        ],
        [
         "2024-03-19T17:46:00Z",
         "Evening"
        ],
        [
         "2024-03-19T11:46:00Z",
         "Morning"
        ],
        [
         "2024-03-19T12:07:00Z",
         "Afternoon"
        ],
        [
         "2024-03-19T18:14:00Z",
         "Evening"
        ],
        [
         "2024-03-19T14:45:00Z",
         "Afternoon"
        ],
        [
         "2024-03-19T11:39:00Z",
         "Morning"
        ],
        [
         "2024-03-19T15:44:00Z",
         "Afternoon"
        ],
        [
         "2024-03-19T13:06:00Z",
         "Afternoon"
        ],
        [
         "2024-03-19T20:43:00Z",
         "Evening"
        ],
        [
         "2024-03-19T14:19:00Z",
         "Afternoon"
        ],
        [
         "2024-03-19T10:01:00Z",
         "Morning"
        ],
        [
         "2024-03-19T19:30:00Z",
         "Evening"
        ],
        [
         "2024-03-19T16:34:00Z",
         "Evening"
        ],
        [
         "2024-03-19T13:10:00Z",
         "Afternoon"
        ],
        [
         "2024-03-19T17:10:00Z",
         "Evening"
        ],
        [
         "2024-03-19T10:22:00Z",
         "Morning"
        ],
        [
         "2024-03-19T19:57:00Z",
         "Evening"
        ],
        [
         "2024-03-19T19:29:00Z",
         "Evening"
        ],
        [
         "2024-03-19T18:30:00Z",
         "Evening"
        ],
        [
         "2024-03-19T14:27:00Z",
         "Afternoon"
        ],
        [
         "2024-03-19T13:57:00Z",
         "Afternoon"
        ],
        [
         "2024-03-19T19:43:00Z",
         "Evening"
        ],
        [
         "2024-03-19T10:11:00Z",
         "Morning"
        ],
        [
         "2024-03-19T13:46:00Z",
         "Afternoon"
        ],
        [
         "2024-03-19T12:22:00Z",
         "Afternoon"
        ],
        [
         "2024-03-19T19:20:00Z",
         "Evening"
        ],
        [
         "2024-03-19T12:58:00Z",
         "Afternoon"
        ],
        [
         "2024-03-19T11:59:00Z",
         "Morning"
        ],
        [
         "2024-03-19T17:59:00Z",
         "Evening"
        ],
        [
         "2024-03-19T12:51:00Z",
         "Afternoon"
        ],
        [
         "2024-03-19T10:36:00Z",
         "Morning"
        ],
        [
         "2024-03-19T13:38:00Z",
         "Afternoon"
        ],
        [
         "2024-03-19T19:39:00Z",
         "Evening"
        ],
        [
         "2024-03-19T12:44:00Z",
         "Afternoon"
        ],
        [
         "2024-03-19T13:56:00Z",
         "Afternoon"
        ],
        [
         "2024-03-19T14:42:00Z",
         "Afternoon"
        ],
        [
         "2024-03-19T19:45:00Z",
         "Evening"
        ],
        [
         "2024-03-19T20:26:00Z",
         "Evening"
        ],
        [
         "2024-03-19T19:46:00Z",
         "Evening"
        ],
        [
         "2024-03-19T19:38:00Z",
         "Evening"
        ],
        [
         "2024-03-19T16:18:00Z",
         "Evening"
        ],
        [
         "2024-03-19T12:23:00Z",
         "Afternoon"
        ],
        [
         "2024-03-19T19:11:00Z",
         "Evening"
        ],
        [
         "2024-03-19T18:57:00Z",
         "Evening"
        ],
        [
         "2024-03-19T11:18:00Z",
         "Morning"
        ],
        [
         "2024-03-19T12:40:00Z",
         "Afternoon"
        ],
        [
         "2024-03-19T14:06:00Z",
         "Afternoon"
        ],
        [
         "2024-03-19T20:48:00Z",
         "Evening"
        ],
        [
         "2024-03-19T20:13:00Z",
         "Evening"
        ],
        [
         "2024-03-19T20:37:00Z",
         "Evening"
        ],
        [
         "2024-03-19T17:59:00Z",
         "Evening"
        ],
        [
         "2024-03-19T20:18:00Z",
         "Evening"
        ],
        [
         "2024-03-19T15:52:00Z",
         "Afternoon"
        ],
        [
         "2024-03-19T15:14:00Z",
         "Afternoon"
        ],
        [
         "2024-03-19T12:50:00Z",
         "Afternoon"
        ],
        [
         "2024-03-19T10:36:00Z",
         "Morning"
        ],
        [
         "2024-03-19T18:33:00Z",
         "Evening"
        ],
        [
         "2024-03-19T16:06:00Z",
         "Evening"
        ],
        [
         "2024-03-19T12:47:00Z",
         "Afternoon"
        ],
        [
         "2024-03-19T13:34:00Z",
         "Afternoon"
        ],
        [
         "2024-03-19T15:04:00Z",
         "Afternoon"
        ],
        [
         "2024-03-19T20:42:00Z",
         "Evening"
        ],
        [
         "2024-03-19T15:28:00Z",
         "Afternoon"
        ],
        [
         "2024-03-19T13:45:00Z",
         "Afternoon"
        ],
        [
         "2024-03-19T20:10:00Z",
         "Evening"
        ],
        [
         "2024-03-19T18:53:00Z",
         "Evening"
        ],
        [
         "2024-03-19T14:24:00Z",
         "Afternoon"
        ],
        [
         "2024-03-19T11:42:00Z",
         "Morning"
        ],
        [
         "2024-03-19T17:49:00Z",
         "Evening"
        ],
        [
         "2024-03-19T15:33:00Z",
         "Afternoon"
        ],
        [
         "2024-03-19T10:54:00Z",
         "Morning"
        ],
        [
         "2024-03-19T16:23:00Z",
         "Evening"
        ],
        [
         "2024-03-19T19:33:00Z",
         "Evening"
        ],
        [
         "2024-03-19T11:39:00Z",
         "Morning"
        ],
        [
         "2024-03-19T10:38:00Z",
         "Morning"
        ],
        [
         "2024-03-19T20:03:00Z",
         "Evening"
        ],
        [
         "2024-03-19T12:39:00Z",
         "Afternoon"
        ],
        [
         "2024-03-19T15:59:00Z",
         "Afternoon"
        ],
        [
         "2024-03-19T14:26:00Z",
         "Afternoon"
        ],
        [
         "2024-03-19T18:22:00Z",
         "Evening"
        ],
        [
         "2024-03-19T11:32:00Z",
         "Morning"
        ],
        [
         "2024-03-19T12:41:00Z",
         "Afternoon"
        ],
        [
         "2024-03-19T15:20:00Z",
         "Afternoon"
        ],
        [
         "2024-03-19T14:33:00Z",
         "Afternoon"
        ],
        [
         "2024-03-19T15:29:00Z",
         "Afternoon"
        ],
        [
         "2024-03-19T16:19:00Z",
         "Evening"
        ],
        [
         "2024-03-19T16:33:00Z",
         "Evening"
        ],
        [
         "2024-03-19T19:07:00Z",
         "Evening"
        ],
        [
         "2024-03-19T14:43:00Z",
         "Afternoon"
        ],
        [
         "2024-03-19T19:28:00Z",
         "Evening"
        ],
        [
         "2024-03-19T20:44:00Z",
         "Evening"
        ],
        [
         "2024-03-19T11:16:00Z",
         "Morning"
        ],
        [
         "2024-03-19T10:31:00Z",
         "Morning"
        ],
        [
         "2024-03-19T12:30:00Z",
         "Afternoon"
        ],
        [
         "2024-03-19T15:05:00Z",
         "Afternoon"
        ],
        [
         "2024-03-19T18:30:00Z",
         "Evening"
        ],
        [
         "2024-03-19T13:18:00Z",
         "Afternoon"
        ],
        [
         "2024-03-19T15:28:00Z",
         "Afternoon"
        ],
        [
         "2024-03-19T11:52:00Z",
         "Morning"
        ],
        [
         "2024-03-19T18:24:00Z",
         "Evening"
        ],
        [
         "2024-03-19T15:19:00Z",
         "Afternoon"
        ],
        [
         "2024-03-19T10:38:00Z",
         "Morning"
        ],
        [
         "2024-03-19T15:12:00Z",
         "Afternoon"
        ],
        [
         "2024-03-19T17:48:00Z",
         "Evening"
        ],
        [
         "2024-03-19T11:07:00Z",
         "Morning"
        ],
        [
         "2024-03-19T15:48:00Z",
         "Afternoon"
        ],
        [
         "2024-03-19T19:40:00Z",
         "Evening"
        ],
        [
         "2024-03-19T20:30:00Z",
         "Evening"
        ],
        [
         "2024-03-19T13:59:00Z",
         "Afternoon"
        ],
        [
         "2024-03-19T18:51:00Z",
         "Evening"
        ],
        [
         "2024-03-19T17:24:00Z",
         "Evening"
        ],
        [
         "2024-03-19T11:58:00Z",
         "Morning"
        ],
        [
         "2024-03-19T19:01:00Z",
         "Evening"
        ],
        [
         "2024-03-19T16:50:00Z",
         "Evening"
        ],
        [
         "2024-03-19T10:22:00Z",
         "Morning"
        ],
        [
         "2024-03-19T16:46:00Z",
         "Evening"
        ],
        [
         "2024-03-19T18:08:00Z",
         "Evening"
        ],
        [
         "2024-03-19T18:02:00Z",
         "Evening"
        ],
        [
         "2024-03-19T13:07:00Z",
         "Afternoon"
        ],
        [
         "2024-03-19T17:52:00Z",
         "Evening"
        ],
        [
         "2024-03-19T20:32:00Z",
         "Evening"
        ],
        [
         "2024-03-19T19:24:00Z",
         "Evening"
        ],
        [
         "2024-03-19T16:06:00Z",
         "Evening"
        ],
        [
         "2024-03-19T14:14:00Z",
         "Afternoon"
        ],
        [
         "2024-03-19T17:36:00Z",
         "Evening"
        ],
        [
         "2024-03-19T13:08:00Z",
         "Afternoon"
        ],
        [
         "2024-03-19T16:09:00Z",
         "Evening"
        ],
        [
         "2024-03-19T11:33:00Z",
         "Morning"
        ],
        [
         "2024-03-19T10:18:00Z",
         "Morning"
        ],
        [
         "2024-03-19T10:55:00Z",
         "Morning"
        ],
        [
         "2024-03-19T15:15:00Z",
         "Afternoon"
        ],
        [
         "2024-03-19T20:06:00Z",
         "Evening"
        ],
        [
         "2024-03-19T20:21:00Z",
         "Evening"
        ],
        [
         "2024-03-19T13:48:00Z",
         "Afternoon"
        ],
        [
         "2024-03-19T12:52:00Z",
         "Afternoon"
        ],
        [
         "2024-03-19T12:28:00Z",
         "Afternoon"
        ],
        [
         "2024-03-19T16:26:00Z",
         "Evening"
        ],
        [
         "2024-03-19T13:24:00Z",
         "Afternoon"
        ],
        [
         "2024-03-19T15:15:00Z",
         "Afternoon"
        ],
        [
         "2024-03-19T10:50:00Z",
         "Morning"
        ],
        [
         "2024-03-19T18:38:00Z",
         "Evening"
        ],
        [
         "2024-03-19T16:45:00Z",
         "Evening"
        ],
        [
         "2024-03-19T19:30:00Z",
         "Evening"
        ],
        [
         "2024-03-19T13:23:00Z",
         "Afternoon"
        ],
        [
         "2024-03-19T11:27:00Z",
         "Morning"
        ],
        [
         "2024-03-19T11:12:00Z",
         "Morning"
        ],
        [
         "2024-03-19T16:36:00Z",
         "Evening"
        ],
        [
         "2024-03-19T18:41:00Z",
         "Evening"
        ],
        [
         "2024-03-19T17:12:00Z",
         "Evening"
        ],
        [
         "2024-03-19T10:38:00Z",
         "Morning"
        ],
        [
         "2024-03-19T10:33:00Z",
         "Morning"
        ],
        [
         "2024-03-19T14:38:00Z",
         "Afternoon"
        ],
        [
         "2024-03-19T18:06:00Z",
         "Evening"
        ],
        [
         "2024-03-19T12:52:00Z",
         "Afternoon"
        ],
        [
         "2024-03-19T14:00:00Z",
         "Afternoon"
        ],
        [
         "2024-03-19T10:57:00Z",
         "Morning"
        ],
        [
         "2024-03-19T16:45:00Z",
         "Evening"
        ],
        [
         "2024-03-19T11:15:00Z",
         "Morning"
        ],
        [
         "2024-03-19T20:29:00Z",
         "Evening"
        ],
        [
         "2024-03-19T20:03:00Z",
         "Evening"
        ],
        [
         "2024-03-19T14:35:00Z",
         "Afternoon"
        ],
        [
         "2024-03-19T16:32:00Z",
         "Evening"
        ],
        [
         "2024-03-19T10:10:00Z",
         "Morning"
        ],
        [
         "2024-03-19T14:15:00Z",
         "Afternoon"
        ],
        [
         "2024-03-19T10:05:00Z",
         "Morning"
        ],
        [
         "2024-03-19T11:36:00Z",
         "Morning"
        ],
        [
         "2024-03-19T18:15:00Z",
         "Evening"
        ],
        [
         "2024-03-19T13:53:00Z",
         "Afternoon"
        ],
        [
         "2024-03-19T18:37:00Z",
         "Evening"
        ],
        [
         "2024-03-19T18:27:00Z",
         "Evening"
        ],
        [
         "2024-03-19T14:42:00Z",
         "Afternoon"
        ],
        [
         "2024-03-19T17:43:00Z",
         "Evening"
        ],
        [
         "2024-03-19T18:37:00Z",
         "Evening"
        ],
        [
         "2024-03-19T16:34:00Z",
         "Evening"
        ],
        [
         "2024-03-19T14:42:00Z",
         "Afternoon"
        ],
        [
         "2024-03-19T11:01:00Z",
         "Morning"
        ],
        [
         "2024-03-19T19:44:00Z",
         "Evening"
        ],
        [
         "2024-03-19T13:34:00Z",
         "Afternoon"
        ],
        [
         "2024-03-19T20:08:00Z",
         "Evening"
        ],
        [
         "2024-03-19T15:01:00Z",
         "Afternoon"
        ],
        [
         "2024-03-19T11:40:00Z",
         "Morning"
        ],
        [
         "2024-03-19T15:21:00Z",
         "Afternoon"
        ],
        [
         "2024-03-19T17:38:00Z",
         "Evening"
        ],
        [
         "2024-03-19T16:16:00Z",
         "Evening"
        ],
        [
         "2024-03-19T18:15:00Z",
         "Evening"
        ],
        [
         "2024-03-19T12:43:00Z",
         "Afternoon"
        ],
        [
         "2024-03-19T11:32:00Z",
         "Morning"
        ],
        [
         "2024-03-19T18:08:00Z",
         "Evening"
        ],
        [
         "2024-03-19T17:08:00Z",
         "Evening"
        ],
        [
         "2024-03-19T19:38:00Z",
         "Evening"
        ],
        [
         "2024-03-19T13:11:00Z",
         "Afternoon"
        ],
        [
         "2024-03-19T11:05:00Z",
         "Morning"
        ],
        [
         "2024-03-19T10:12:00Z",
         "Morning"
        ],
        [
         "2024-03-19T15:42:00Z",
         "Afternoon"
        ],
        [
         "2024-03-19T11:58:00Z",
         "Morning"
        ],
        [
         "2024-03-19T14:21:00Z",
         "Afternoon"
        ],
        [
         "2024-03-19T10:52:00Z",
         "Morning"
        ],
        [
         "2024-03-19T19:31:00Z",
         "Evening"
        ],
        [
         "2024-03-19T18:35:00Z",
         "Evening"
        ],
        [
         "2024-03-19T13:51:00Z",
         "Afternoon"
        ],
        [
         "2024-03-19T12:35:00Z",
         "Afternoon"
        ],
        [
         "2024-03-19T13:24:00Z",
         "Afternoon"
        ],
        [
         "2024-03-19T18:06:00Z",
         "Evening"
        ],
        [
         "2024-03-19T11:55:00Z",
         "Morning"
        ],
        [
         "2024-03-19T11:42:00Z",
         "Morning"
        ],
        [
         "2024-03-19T14:30:00Z",
         "Afternoon"
        ],
        [
         "2024-03-19T15:11:00Z",
         "Afternoon"
        ],
        [
         "2024-03-19T14:48:00Z",
         "Afternoon"
        ],
        [
         "2024-03-19T12:36:00Z",
         "Afternoon"
        ],
        [
         "2024-03-19T19:09:00Z",
         "Evening"
        ],
        [
         "2024-03-19T13:35:00Z",
         "Afternoon"
        ],
        [
         "2024-03-19T10:33:00Z",
         "Morning"
        ],
        [
         "2024-03-19T15:45:00Z",
         "Afternoon"
        ],
        [
         "2024-03-19T11:51:00Z",
         "Morning"
        ],
        [
         "2024-03-19T17:26:00Z",
         "Evening"
        ],
        [
         "2024-03-19T11:52:00Z",
         "Morning"
        ],
        [
         "2024-03-19T14:04:00Z",
         "Afternoon"
        ],
        [
         "2024-03-19T17:49:00Z",
         "Evening"
        ],
        [
         "2024-03-19T20:19:00Z",
         "Evening"
        ],
        [
         "2024-03-19T16:08:00Z",
         "Evening"
        ],
        [
         "2024-03-19T10:17:00Z",
         "Morning"
        ],
        [
         "2024-03-19T14:25:00Z",
         "Afternoon"
        ],
        [
         "2024-03-19T12:51:00Z",
         "Afternoon"
        ],
        [
         "2024-03-19T15:18:00Z",
         "Afternoon"
        ],
        [
         "2024-03-19T12:45:00Z",
         "Afternoon"
        ],
        [
         "2024-03-19T13:37:00Z",
         "Afternoon"
        ],
        [
         "2024-03-19T10:03:00Z",
         "Morning"
        ],
        [
         "2024-03-19T19:42:00Z",
         "Evening"
        ],
        [
         "2024-03-19T13:14:00Z",
         "Afternoon"
        ],
        [
         "2024-03-19T12:47:00Z",
         "Afternoon"
        ],
        [
         "2024-03-19T19:53:00Z",
         "Evening"
        ],
        [
         "2024-03-19T10:26:00Z",
         "Morning"
        ],
        [
         "2024-03-19T15:06:00Z",
         "Afternoon"
        ],
        [
         "2024-03-19T16:35:00Z",
         "Evening"
        ],
        [
         "2024-03-19T20:57:00Z",
         "Evening"
        ],
        [
         "2024-03-19T15:16:00Z",
         "Afternoon"
        ],
        [
         "2024-03-19T17:47:00Z",
         "Evening"
        ],
        [
         "2024-03-19T16:23:00Z",
         "Evening"
        ],
        [
         "2024-03-19T10:17:00Z",
         "Morning"
        ],
        [
         "2024-03-19T13:50:00Z",
         "Afternoon"
        ],
        [
         "2024-03-19T19:17:00Z",
         "Evening"
        ],
        [
         "2024-03-19T14:00:00Z",
         "Afternoon"
        ],
        [
         "2024-03-19T12:02:00Z",
         "Afternoon"
        ],
        [
         "2024-03-19T20:21:00Z",
         "Evening"
        ],
        [
         "2024-03-19T17:35:00Z",
         "Evening"
        ],
        [
         "2024-03-19T12:42:00Z",
         "Afternoon"
        ],
        [
         "2024-03-19T17:56:00Z",
         "Evening"
        ],
        [
         "2024-03-19T18:58:00Z",
         "Evening"
        ],
        [
         "2024-03-19T14:08:00Z",
         "Afternoon"
        ],
        [
         "2024-03-19T16:30:00Z",
         "Evening"
        ],
        [
         "2024-03-19T10:44:00Z",
         "Morning"
        ],
        [
         "2024-03-19T20:29:00Z",
         "Evening"
        ],
        [
         "2024-03-19T11:43:00Z",
         "Morning"
        ],
        [
         "2024-03-19T10:09:00Z",
         "Morning"
        ],
        [
         "2024-03-19T10:00:00Z",
         "Morning"
        ],
        [
         "2024-03-19T18:45:00Z",
         "Evening"
        ],
        [
         "2024-03-19T12:40:00Z",
         "Afternoon"
        ],
        [
         "2024-03-19T15:36:00Z",
         "Afternoon"
        ],
        [
         "2024-03-19T12:04:00Z",
         "Afternoon"
        ],
        [
         "2024-03-19T11:26:00Z",
         "Morning"
        ],
        [
         "2024-03-19T12:36:00Z",
         "Afternoon"
        ],
        [
         "2024-03-19T15:06:00Z",
         "Afternoon"
        ],
        [
         "2024-03-19T10:58:00Z",
         "Morning"
        ],
        [
         "2024-03-19T12:10:00Z",
         "Afternoon"
        ],
        [
         "2024-03-19T10:31:00Z",
         "Morning"
        ],
        [
         "2024-03-19T13:49:00Z",
         "Afternoon"
        ],
        [
         "2024-03-19T11:10:00Z",
         "Morning"
        ],
        [
         "2024-03-19T17:38:00Z",
         "Evening"
        ],
        [
         "2024-03-19T17:54:00Z",
         "Evening"
        ],
        [
         "2024-03-19T20:51:00Z",
         "Evening"
        ],
        [
         "2024-03-19T19:26:00Z",
         "Evening"
        ],
        [
         "2024-03-19T13:33:00Z",
         "Afternoon"
        ],
        [
         "2024-03-19T14:05:00Z",
         "Afternoon"
        ],
        [
         "2024-03-19T11:40:00Z",
         "Morning"
        ],
        [
         "2024-03-19T12:27:00Z",
         "Afternoon"
        ],
        [
         "2024-03-19T20:24:00Z",
         "Evening"
        ],
        [
         "2024-03-19T20:59:00Z",
         "Evening"
        ],
        [
         "2024-03-19T19:48:00Z",
         "Evening"
        ],
        [
         "2024-03-19T10:18:00Z",
         "Morning"
        ],
        [
         "2024-03-19T16:27:00Z",
         "Evening"
        ],
        [
         "2024-03-19T17:04:00Z",
         "Evening"
        ],
        [
         "2024-03-19T18:14:00Z",
         "Evening"
        ],
        [
         "2024-03-19T10:43:00Z",
         "Morning"
        ],
        [
         "2024-03-19T19:30:00Z",
         "Evening"
        ],
        [
         "2024-03-19T14:53:00Z",
         "Afternoon"
        ],
        [
         "2024-03-19T20:14:00Z",
         "Evening"
        ],
        [
         "2024-03-19T11:51:00Z",
         "Morning"
        ],
        [
         "2024-03-19T14:13:00Z",
         "Afternoon"
        ],
        [
         "2024-03-19T20:13:00Z",
         "Evening"
        ],
        [
         "2024-03-19T18:44:00Z",
         "Evening"
        ],
        [
         "2024-03-19T14:26:00Z",
         "Afternoon"
        ],
        [
         "2024-03-19T12:40:00Z",
         "Afternoon"
        ],
        [
         "2024-03-19T18:43:00Z",
         "Evening"
        ],
        [
         "2024-03-19T13:22:00Z",
         "Afternoon"
        ],
        [
         "2024-03-19T13:58:00Z",
         "Afternoon"
        ],
        [
         "2024-03-19T11:45:00Z",
         "Morning"
        ],
        [
         "2024-03-19T11:51:00Z",
         "Morning"
        ],
        [
         "2024-03-19T17:16:00Z",
         "Evening"
        ],
        [
         "2024-03-19T15:55:00Z",
         "Afternoon"
        ],
        [
         "2024-03-19T12:07:00Z",
         "Afternoon"
        ],
        [
         "2024-03-19T15:07:00Z",
         "Afternoon"
        ],
        [
         "2024-03-19T15:29:00Z",
         "Afternoon"
        ],
        [
         "2024-03-19T18:45:00Z",
         "Evening"
        ],
        [
         "2024-03-19T15:23:00Z",
         "Afternoon"
        ],
        [
         "2024-03-19T20:37:00Z",
         "Evening"
        ],
        [
         "2024-03-19T14:41:00Z",
         "Afternoon"
        ],
        [
         "2024-03-19T18:18:00Z",
         "Evening"
        ],
        [
         "2024-03-19T15:27:00Z",
         "Afternoon"
        ],
        [
         "2024-03-19T12:55:00Z",
         "Afternoon"
        ],
        [
         "2024-03-19T18:02:00Z",
         "Evening"
        ],
        [
         "2024-03-19T19:44:00Z",
         "Evening"
        ],
        [
         "2024-03-19T11:36:00Z",
         "Morning"
        ],
        [
         "2024-03-19T13:51:00Z",
         "Afternoon"
        ],
        [
         "2024-03-19T15:17:00Z",
         "Afternoon"
        ],
        [
         "2024-03-19T15:29:00Z",
         "Afternoon"
        ],
        [
         "2024-03-19T17:59:00Z",
         "Evening"
        ],
        [
         "2024-03-19T11:55:00Z",
         "Morning"
        ],
        [
         "2024-03-19T10:39:00Z",
         "Morning"
        ],
        [
         "2024-03-19T15:10:00Z",
         "Afternoon"
        ],
        [
         "2024-03-19T18:10:00Z",
         "Evening"
        ],
        [
         "2024-03-19T20:43:00Z",
         "Evening"
        ],
        [
         "2024-03-19T12:46:00Z",
         "Afternoon"
        ],
        [
         "2024-03-19T17:44:00Z",
         "Evening"
        ],
        [
         "2024-03-19T14:19:00Z",
         "Afternoon"
        ],
        [
         "2024-03-19T10:33:00Z",
         "Morning"
        ],
        [
         "2024-03-19T11:40:00Z",
         "Morning"
        ],
        [
         "2024-03-19T19:30:00Z",
         "Evening"
        ],
        [
         "2024-03-19T14:42:00Z",
         "Afternoon"
        ],
        [
         "2024-03-19T19:08:00Z",
         "Evening"
        ],
        [
         "2024-03-19T19:12:00Z",
         "Evening"
        ],
        [
         "2024-03-19T15:46:00Z",
         "Afternoon"
        ],
        [
         "2024-03-19T19:06:00Z",
         "Evening"
        ],
        [
         "2024-03-19T18:10:00Z",
         "Evening"
        ],
        [
         "2024-03-19T20:46:00Z",
         "Evening"
        ],
        [
         "2024-03-19T18:35:00Z",
         "Evening"
        ],
        [
         "2024-03-19T11:40:00Z",
         "Morning"
        ],
        [
         "2024-03-19T13:46:00Z",
         "Afternoon"
        ],
        [
         "2024-03-19T17:16:00Z",
         "Evening"
        ],
        [
         "2024-03-19T13:22:00Z",
         "Afternoon"
        ],
        [
         "2024-03-19T15:33:00Z",
         "Afternoon"
        ],
        [
         "2024-03-19T13:28:00Z",
         "Afternoon"
        ]
       ],
       "datasetInfos": [],
       "dbfsResultPath": null,
       "isJsonSchema": true,
       "metadata": {
        "dataframeName": "_sqldf",
        "executionCount": 5
       },
       "overflow": false,
       "plotOptions": {
        "customPlotOptions": {},
        "displayType": "table",
        "pivotAggregation": null,
        "pivotColumns": null,
        "xColumns": null,
        "yColumns": null
       },
       "removedWidgets": [],
       "schema": [
        {
         "metadata": "{}",
         "name": "Time",
         "type": "\"timestamp\""
        },
        {
         "metadata": "{}",
         "name": "time_of_day",
         "type": "\"string\""
        }
       ],
       "type": "table"
      }
     },
     "output_type": "display_data"
    }
   ],
   "source": [
    "%sql\n",
    "SELECT Time,\n",
    "(CASE\n",
    "\t\tWHEN `time` BETWEEN \"00:00:00\" AND \"12:00:00\" THEN \"Morning\"\n",
    "        WHEN `time` BETWEEN \"12:01:00\" AND \"16:00:00\" THEN \"Afternoon\"\n",
    "        ELSE \"Evening\"\n",
    "    END) AS time_of_day\n",
    "\n",
    " FROM `walmartsales_dataanalysis`.`default`.`walmart_sales_data_csv`\n",
    ";"
   ]
  },
  {
   "cell_type": "code",
   "execution_count": 0,
   "metadata": {
    "application/vnd.databricks.v1+cell": {
     "cellMetadata": {
      "byteLimit": 2048000,
      "implicitDf": true,
      "rowLimit": 10000
     },
     "inputWidgets": {},
     "nuid": "e3f57310-7d70-4fa0-b5f5-bed1a32a111a",
     "showTitle": false,
     "title": ""
    }
   },
   "outputs": [],
   "source": [
    "%sql\n",
    "ALTER TABLE `walmartsales_dataanalysis`.`default`.`walmart_sales_data_csv` ADD COLUMN time_of_day VARCHAR(20);\n"
   ]
  },
  {
   "cell_type": "code",
   "execution_count": 0,
   "metadata": {
    "application/vnd.databricks.v1+cell": {
     "cellMetadata": {
      "byteLimit": 2048000,
      "implicitDf": true,
      "rowLimit": 10000
     },
     "inputWidgets": {},
     "nuid": "c7f7425d-2dda-4755-8730-7b801af1ed2b",
     "showTitle": false,
     "title": ""
    }
   },
   "outputs": [
    {
     "output_type": "display_data",
     "data": {
      "text/html": [
       "<style scoped>\n",
       "  .table-result-container {\n",
       "    max-height: 300px;\n",
       "    overflow: auto;\n",
       "  }\n",
       "  table, th, td {\n",
       "    border: 1px solid black;\n",
       "    border-collapse: collapse;\n",
       "  }\n",
       "  th, td {\n",
       "    padding: 5px;\n",
       "  }\n",
       "  th {\n",
       "    text-align: left;\n",
       "  }\n",
       "</style><div class='table-result-container'><table class='table-result'><thead style='background-color: white'><tr><th>time_of_day</th></tr></thead><tbody><tr><td>null</td></tr><tr><td>null</td></tr><tr><td>null</td></tr><tr><td>null</td></tr><tr><td>null</td></tr></tbody></table></div>"
      ]
     },
     "metadata": {
      "application/vnd.databricks.v1+output": {
       "addedWidgets": {},
       "aggData": [],
       "aggError": "",
       "aggOverflow": false,
       "aggSchema": [],
       "aggSeriesLimitReached": false,
       "aggType": "",
       "arguments": {},
       "columnCustomDisplayInfos": {},
       "data": [
        [
         null
        ],
        [
         null
        ],
        [
         null
        ],
        [
         null
        ],
        [
         null
        ]
       ],
       "datasetInfos": [],
       "dbfsResultPath": null,
       "isJsonSchema": true,
       "metadata": {
        "dataframeName": "_sqldf",
        "executionCount": 7
       },
       "overflow": false,
       "plotOptions": {
        "customPlotOptions": {},
        "displayType": "table",
        "pivotAggregation": null,
        "pivotColumns": null,
        "xColumns": null,
        "yColumns": null
       },
       "removedWidgets": [],
       "schema": [
        {
         "metadata": "{\"__CHAR_VARCHAR_TYPE_STRING\":\"varchar(20)\"}",
         "name": "time_of_day",
         "type": "\"string\""
        }
       ],
       "type": "table"
      }
     },
     "output_type": "display_data"
    }
   ],
   "source": [
    "%sql\n",
    "SELECT time_of_day FROM `walmartsales_dataanalysis`.`default`.`walmart_sales_data_csv`\n",
    "limit 5;"
   ]
  },
  {
   "cell_type": "code",
   "execution_count": 0,
   "metadata": {
    "application/vnd.databricks.v1+cell": {
     "cellMetadata": {
      "byteLimit": 2048000,
      "implicitDf": true,
      "rowLimit": 10000
     },
     "inputWidgets": {},
     "nuid": "4017b0fb-2168-4e9d-a568-2900eef8b35b",
     "showTitle": false,
     "title": ""
    }
   },
   "outputs": [
    {
     "output_type": "display_data",
     "data": {
      "text/html": [
       "<style scoped>\n",
       "  .table-result-container {\n",
       "    max-height: 300px;\n",
       "    overflow: auto;\n",
       "  }\n",
       "  table, th, td {\n",
       "    border: 1px solid black;\n",
       "    border-collapse: collapse;\n",
       "  }\n",
       "  th, td {\n",
       "    padding: 5px;\n",
       "  }\n",
       "  th {\n",
       "    text-align: left;\n",
       "  }\n",
       "</style><div class='table-result-container'><table class='table-result'><thead style='background-color: white'><tr><th>num_affected_rows</th></tr></thead><tbody><tr><td>1000</td></tr></tbody></table></div>"
      ]
     },
     "metadata": {
      "application/vnd.databricks.v1+output": {
       "addedWidgets": {},
       "aggData": [],
       "aggError": "",
       "aggOverflow": false,
       "aggSchema": [],
       "aggSeriesLimitReached": false,
       "aggType": "",
       "arguments": {},
       "columnCustomDisplayInfos": {},
       "data": [
        [
         1000
        ]
       ],
       "datasetInfos": [],
       "dbfsResultPath": null,
       "isJsonSchema": true,
       "metadata": {
        "dataframeName": "_sqldf",
        "executionCount": 8
       },
       "overflow": false,
       "plotOptions": {
        "customPlotOptions": {},
        "displayType": "table",
        "pivotAggregation": null,
        "pivotColumns": null,
        "xColumns": null,
        "yColumns": null
       },
       "removedWidgets": [],
       "schema": [
        {
         "metadata": "{}",
         "name": "num_affected_rows",
         "type": "\"long\""
        }
       ],
       "type": "table"
      }
     },
     "output_type": "display_data"
    }
   ],
   "source": [
    "%sql\n",
    "\n",
    "update `walmartsales_dataanalysis`.`default`.`walmart_sales_data_csv`\n",
    "set time_of_day=\n",
    "(\n",
    "  CASE\n",
    "\t\tWHEN `time` BETWEEN \"00:00:00\" AND \"12:00:00\" THEN \"Morning\"\n",
    "        WHEN `time` BETWEEN \"12:01:00\" AND \"16:00:00\" THEN \"Afternoon\"\n",
    "        ELSE \"Evening\"\n",
    "    END\n",
    ");"
   ]
  },
  {
   "cell_type": "code",
   "execution_count": 0,
   "metadata": {
    "application/vnd.databricks.v1+cell": {
     "cellMetadata": {
      "byteLimit": 2048000,
      "implicitDf": true,
      "rowLimit": 10000
     },
     "inputWidgets": {},
     "nuid": "71fda27f-1b19-455c-bcf0-33e22b63b30d",
     "showTitle": false,
     "title": ""
    }
   },
   "outputs": [
    {
     "output_type": "display_data",
     "data": {
      "text/html": [
       "<style scoped>\n",
       "  .table-result-container {\n",
       "    max-height: 300px;\n",
       "    overflow: auto;\n",
       "  }\n",
       "  table, th, td {\n",
       "    border: 1px solid black;\n",
       "    border-collapse: collapse;\n",
       "  }\n",
       "  th, td {\n",
       "    padding: 5px;\n",
       "  }\n",
       "  th {\n",
       "    text-align: left;\n",
       "  }\n",
       "</style><div class='table-result-container'><table class='table-result'><thead style='background-color: white'><tr><th>time_of_day</th></tr></thead><tbody><tr><td>Afternoon</td></tr><tr><td>Morning</td></tr><tr><td>Afternoon</td></tr><tr><td>Evening</td></tr><tr><td>Morning</td></tr></tbody></table></div>"
      ]
     },
     "metadata": {
      "application/vnd.databricks.v1+output": {
       "addedWidgets": {},
       "aggData": [],
       "aggError": "",
       "aggOverflow": false,
       "aggSchema": [],
       "aggSeriesLimitReached": false,
       "aggType": "",
       "arguments": {},
       "columnCustomDisplayInfos": {},
       "data": [
        [
         "Afternoon"
        ],
        [
         "Morning"
        ],
        [
         "Afternoon"
        ],
        [
         "Evening"
        ],
        [
         "Morning"
        ]
       ],
       "datasetInfos": [],
       "dbfsResultPath": null,
       "isJsonSchema": true,
       "metadata": {
        "dataframeName": "_sqldf",
        "executionCount": 9
       },
       "overflow": false,
       "plotOptions": {
        "customPlotOptions": {},
        "displayType": "table",
        "pivotAggregation": null,
        "pivotColumns": null,
        "xColumns": null,
        "yColumns": null
       },
       "removedWidgets": [],
       "schema": [
        {
         "metadata": "{\"__CHAR_VARCHAR_TYPE_STRING\":\"varchar(20)\"}",
         "name": "time_of_day",
         "type": "\"string\""
        }
       ],
       "type": "table"
      }
     },
     "output_type": "display_data"
    }
   ],
   "source": [
    "%sql\n",
    "SELECT time_of_day FROM `walmartsales_dataanalysis`.`default`.`walmart_sales_data_csv`\n",
    "limit 5;"
   ]
  },
  {
   "cell_type": "markdown",
   "metadata": {
    "application/vnd.databricks.v1+cell": {
     "cellMetadata": {},
     "inputWidgets": {},
     "nuid": "1283f42f-0d32-45cf-bfa7-7b805ad59e94",
     "showTitle": false,
     "title": ""
    }
   },
   "source": [
    "### Add Day name Column"
   ]
  },
  {
   "cell_type": "code",
   "execution_count": 0,
   "metadata": {
    "application/vnd.databricks.v1+cell": {
     "cellMetadata": {
      "byteLimit": 2048000,
      "implicitDf": true,
      "rowLimit": 10000
     },
     "inputWidgets": {},
     "nuid": "e55a7627-9d8a-422f-a9ee-c999118886d7",
     "showTitle": false,
     "title": ""
    }
   },
   "outputs": [
    {
     "output_type": "display_data",
     "data": {
      "text/html": [
       "<style scoped>\n",
       "  .table-result-container {\n",
       "    max-height: 300px;\n",
       "    overflow: auto;\n",
       "  }\n",
       "  table, th, td {\n",
       "    border: 1px solid black;\n",
       "    border-collapse: collapse;\n",
       "  }\n",
       "  th, td {\n",
       "    padding: 5px;\n",
       "  }\n",
       "  th {\n",
       "    text-align: left;\n",
       "  }\n",
       "</style><div class='table-result-container'><table class='table-result'><thead style='background-color: white'><tr><th>date</th><th>dayofweek(date)</th></tr></thead><tbody><tr><td>2019-01-05</td><td>7</td></tr><tr><td>2019-03-08</td><td>6</td></tr><tr><td>2019-03-03</td><td>1</td></tr><tr><td>2019-01-27</td><td>1</td></tr><tr><td>2019-02-08</td><td>6</td></tr><tr><td>2019-03-25</td><td>2</td></tr><tr><td>2019-02-25</td><td>2</td></tr><tr><td>2019-02-24</td><td>1</td></tr><tr><td>2019-01-10</td><td>5</td></tr><tr><td>2019-02-20</td><td>4</td></tr><tr><td>2019-02-06</td><td>4</td></tr><tr><td>2019-03-09</td><td>7</td></tr><tr><td>2019-02-12</td><td>3</td></tr><tr><td>2019-02-07</td><td>5</td></tr><tr><td>2019-03-29</td><td>6</td></tr><tr><td>2019-01-15</td><td>3</td></tr><tr><td>2019-03-11</td><td>2</td></tr><tr><td>2019-01-01</td><td>3</td></tr><tr><td>2019-01-21</td><td>2</td></tr><tr><td>2019-03-11</td><td>2</td></tr><tr><td>2019-02-25</td><td>2</td></tr><tr><td>2019-03-05</td><td>3</td></tr><tr><td>2019-03-15</td><td>6</td></tr><tr><td>2019-02-17</td><td>1</td></tr><tr><td>2019-03-02</td><td>7</td></tr><tr><td>2019-03-22</td><td>6</td></tr><tr><td>2019-02-08</td><td>6</td></tr><tr><td>2019-03-10</td><td>1</td></tr><tr><td>2019-01-25</td><td>6</td></tr><tr><td>2019-03-15</td><td>6</td></tr><tr><td>2019-02-25</td><td>2</td></tr><tr><td>2019-01-28</td><td>2</td></tr><tr><td>2019-01-10</td><td>5</td></tr><tr><td>2019-03-15</td><td>6</td></tr><tr><td>2019-02-06</td><td>4</td></tr><tr><td>2019-01-07</td><td>2</td></tr><tr><td>2019-03-10</td><td>1</td></tr><tr><td>2019-01-15</td><td>3</td></tr><tr><td>2019-03-23</td><td>7</td></tr><tr><td>2019-03-03</td><td>1</td></tr><tr><td>2019-01-17</td><td>5</td></tr><tr><td>2019-02-02</td><td>7</td></tr><tr><td>2019-02-08</td><td>6</td></tr><tr><td>2019-03-04</td><td>2</td></tr><tr><td>2019-03-16</td><td>7</td></tr><tr><td>2019-03-09</td><td>7</td></tr><tr><td>2019-02-27</td><td>4</td></tr><tr><td>2019-02-06</td><td>4</td></tr><tr><td>2019-02-10</td><td>1</td></tr><tr><td>2019-03-19</td><td>3</td></tr><tr><td>2019-02-03</td><td>1</td></tr><tr><td>2019-02-10</td><td>1</td></tr><tr><td>2019-03-22</td><td>6</td></tr><tr><td>2019-01-25</td><td>6</td></tr><tr><td>2019-03-07</td><td>5</td></tr><tr><td>2019-02-28</td><td>5</td></tr><tr><td>2019-03-27</td><td>4</td></tr><tr><td>2019-02-07</td><td>5</td></tr><tr><td>2019-01-20</td><td>1</td></tr><tr><td>2019-03-12</td><td>3</td></tr><tr><td>2019-02-15</td><td>6</td></tr><tr><td>2019-02-24</td><td>1</td></tr><tr><td>2019-02-03</td><td>1</td></tr><tr><td>2019-03-06</td><td>4</td></tr><tr><td>2019-02-14</td><td>5</td></tr><tr><td>2019-03-13</td><td>4</td></tr><tr><td>2019-02-10</td><td>1</td></tr><tr><td>2019-01-07</td><td>2</td></tr><tr><td>2019-01-24</td><td>5</td></tr><tr><td>2019-02-02</td><td>7</td></tr><tr><td>2019-01-06</td><td>1</td></tr><tr><td>2019-02-11</td><td>2</td></tr><tr><td>2019-03-05</td><td>3</td></tr><tr><td>2019-03-09</td><td>7</td></tr><tr><td>2019-01-22</td><td>3</td></tr><tr><td>2019-01-13</td><td>1</td></tr><tr><td>2019-01-09</td><td>4</td></tr><tr><td>2019-01-12</td><td>7</td></tr><tr><td>2019-03-05</td><td>3</td></tr><tr><td>2019-01-22</td><td>3</td></tr><tr><td>2019-01-21</td><td>2</td></tr><tr><td>2019-01-26</td><td>7</td></tr><tr><td>2019-01-23</td><td>4</td></tr><tr><td>2019-02-23</td><td>7</td></tr><tr><td>2019-03-09</td><td>7</td></tr><tr><td>2019-03-05</td><td>3</td></tr><tr><td>2019-03-25</td><td>2</td></tr><tr><td>2019-03-27</td><td>4</td></tr><tr><td>2019-01-02</td><td>4</td></tr><tr><td>2019-02-27</td><td>4</td></tr><tr><td>2019-01-23</td><td>4</td></tr><tr><td>2019-01-26</td><td>7</td></tr><tr><td>2019-01-10</td><td>5</td></tr><tr><td>2019-03-12</td><td>3</td></tr><tr><td>2019-02-06</td><td>4</td></tr><tr><td>2019-03-08</td><td>6</td></tr><tr><td>2019-03-29</td><td>6</td></tr><tr><td>2019-02-09</td><td>7</td></tr><tr><td>2019-03-23</td><td>7</td></tr><tr><td>2019-03-05</td><td>3</td></tr><tr><td>2019-03-26</td><td>3</td></tr><tr><td>2019-03-01</td><td>6</td></tr><tr><td>2019-02-01</td><td>6</td></tr><tr><td>2019-03-28</td><td>5</td></tr><tr><td>2019-03-19</td><td>3</td></tr><tr><td>2019-01-12</td><td>7</td></tr><tr><td>2019-01-05</td><td>7</td></tr><tr><td>2019-03-22</td><td>6</td></tr><tr><td>2019-03-24</td><td>1</td></tr><tr><td>2019-03-03</td><td>1</td></tr><tr><td>2019-02-05</td><td>3</td></tr><tr><td>2019-02-05</td><td>3</td></tr><tr><td>2019-02-15</td><td>6</td></tr><tr><td>2019-01-19</td><td>7</td></tr><tr><td>2019-02-01</td><td>6</td></tr><tr><td>2019-03-02</td><td>7</td></tr><tr><td>2019-03-05</td><td>3</td></tr><tr><td>2019-01-16</td><td>4</td></tr><tr><td>2019-02-02</td><td>7</td></tr><tr><td>2019-01-20</td><td>1</td></tr><tr><td>2019-02-14</td><td>5</td></tr><tr><td>2019-01-12</td><td>7</td></tr><tr><td>2019-03-09</td><td>7</td></tr><tr><td>2019-03-13</td><td>4</td></tr><tr><td>2019-03-09</td><td>7</td></tr><tr><td>2019-03-10</td><td>1</td></tr><tr><td>2019-01-27</td><td>1</td></tr><tr><td>2019-01-08</td><td>3</td></tr><tr><td>2019-01-08</td><td>3</td></tr><tr><td>2019-02-08</td><td>6</td></tr><tr><td>2019-01-25</td><td>6</td></tr><tr><td>2019-03-06</td><td>4</td></tr><tr><td>2019-02-10</td><td>1</td></tr><tr><td>2019-02-17</td><td>1</td></tr><tr><td>2019-03-08</td><td>6</td></tr><tr><td>2019-02-18</td><td>2</td></tr><tr><td>2019-01-18</td><td>6</td></tr><tr><td>2019-02-18</td><td>2</td></tr><tr><td>2019-02-16</td><td>7</td></tr><tr><td>2019-03-16</td><td>7</td></tr><tr><td>2019-01-23</td><td>4</td></tr><tr><td>2019-01-25</td><td>6</td></tr><tr><td>2019-02-05</td><td>3</td></tr><tr><td>2019-02-22</td><td>6</td></tr><tr><td>2019-01-21</td><td>2</td></tr><tr><td>2019-03-08</td><td>6</td></tr><tr><td>2019-02-10</td><td>1</td></tr><tr><td>2019-03-19</td><td>3</td></tr><tr><td>2019-03-06</td><td>4</td></tr><tr><td>2019-03-27</td><td>4</td></tr><tr><td>2019-03-23</td><td>7</td></tr><tr><td>2019-03-11</td><td>2</td></tr><tr><td>2019-01-29</td><td>3</td></tr><tr><td>2019-02-07</td><td>5</td></tr><tr><td>2019-01-28</td><td>2</td></tr><tr><td>2019-02-20</td><td>4</td></tr><tr><td>2019-01-04</td><td>6</td></tr><tr><td>2019-03-07</td><td>5</td></tr><tr><td>2019-03-30</td><td>7</td></tr><tr><td>2019-03-27</td><td>4</td></tr><tr><td>2019-01-19</td><td>7</td></tr><tr><td>2019-02-25</td><td>2</td></tr><tr><td>2019-03-13</td><td>4</td></tr><tr><td>2019-01-30</td><td>4</td></tr><tr><td>2019-02-20</td><td>4</td></tr><tr><td>2019-02-25</td><td>2</td></tr><tr><td>2019-01-16</td><td>4</td></tr><tr><td>2019-02-08</td><td>6</td></tr><tr><td>2019-01-19</td><td>7</td></tr><tr><td>2019-02-01</td><td>6</td></tr><tr><td>2019-01-03</td><td>5</td></tr><tr><td>2019-01-26</td><td>7</td></tr><tr><td>2019-03-03</td><td>1</td></tr><tr><td>2019-01-19</td><td>7</td></tr><tr><td>2019-01-18</td><td>6</td></tr><tr><td>2019-03-21</td><td>5</td></tr><tr><td>2019-03-03</td><td>1</td></tr><tr><td>2019-02-13</td><td>4</td></tr><tr><td>2019-03-23</td><td>7</td></tr><tr><td>2019-01-28</td><td>2</td></tr><tr><td>2019-02-09</td><td>7</td></tr><tr><td>2019-01-23</td><td>4</td></tr><tr><td>2019-03-23</td><td>7</td></tr><tr><td>2019-01-25</td><td>6</td></tr><tr><td>2019-03-04</td><td>2</td></tr><tr><td>2019-03-05</td><td>3</td></tr><tr><td>2019-03-03</td><td>1</td></tr><tr><td>2019-02-08</td><td>6</td></tr><tr><td>2019-02-10</td><td>1</td></tr><tr><td>2019-01-28</td><td>2</td></tr><tr><td>2019-02-11</td><td>2</td></tr><tr><td>2019-01-15</td><td>3</td></tr><tr><td>2019-03-16</td><td>7</td></tr><tr><td>2019-01-26</td><td>7</td></tr><tr><td>2019-03-19</td><td>3</td></tr><tr><td>2019-01-13</td><td>1</td></tr><tr><td>2019-03-26</td><td>3</td></tr><tr><td>2019-03-23</td><td>7</td></tr><tr><td>2019-03-12</td><td>3</td></tr><tr><td>2019-02-17</td><td>1</td></tr><tr><td>2019-01-29</td><td>3</td></tr><tr><td>2019-03-15</td><td>6</td></tr><tr><td>2019-01-14</td><td>2</td></tr><tr><td>2019-02-06</td><td>4</td></tr><tr><td>2019-02-15</td><td>6</td></tr><tr><td>2019-01-03</td><td>5</td></tr><tr><td>2019-01-04</td><td>6</td></tr><tr><td>2019-03-18</td><td>2</td></tr><tr><td>2019-03-28</td><td>5</td></tr><tr><td>2019-03-02</td><td>7</td></tr><tr><td>2019-01-25</td><td>6</td></tr><tr><td>2019-01-16</td><td>4</td></tr><tr><td>2019-03-20</td><td>4</td></tr><tr><td>2019-01-04</td><td>6</td></tr><tr><td>2019-03-11</td><td>2</td></tr><tr><td>2019-03-22</td><td>6</td></tr><tr><td>2019-03-24</td><td>1</td></tr><tr><td>2019-02-21</td><td>5</td></tr><tr><td>2019-02-12</td><td>3</td></tr><tr><td>2019-03-10</td><td>1</td></tr><tr><td>2019-01-31</td><td>5</td></tr><tr><td>2019-03-06</td><td>4</td></tr><tr><td>2019-02-17</td><td>1</td></tr><tr><td>2019-02-21</td><td>5</td></tr><tr><td>2019-03-20</td><td>4</td></tr><tr><td>2019-01-11</td><td>6</td></tr><tr><td>2019-01-26</td><td>7</td></tr><tr><td>2019-01-31</td><td>5</td></tr><tr><td>2019-02-26</td><td>3</td></tr><tr><td>2019-03-11</td><td>2</td></tr><tr><td>2019-01-26</td><td>7</td></tr><tr><td>2019-03-12</td><td>3</td></tr><tr><td>2019-02-11</td><td>2</td></tr><tr><td>2019-02-21</td><td>5</td></tr><tr><td>2019-03-09</td><td>7</td></tr><tr><td>2019-01-20</td><td>1</td></tr><tr><td>2019-01-28</td><td>2</td></tr><tr><td>2019-03-05</td><td>3</td></tr><tr><td>2019-03-02</td><td>7</td></tr><tr><td>2019-01-11</td><td>6</td></tr><tr><td>2019-01-11</td><td>6</td></tr><tr><td>2019-03-11</td><td>2</td></tr><tr><td>2019-02-28</td><td>5</td></tr><tr><td>2019-01-05</td><td>7</td></tr><tr><td>2019-02-02</td><td>7</td></tr><tr><td>2019-01-01</td><td>3</td></tr><tr><td>2019-02-09</td><td>7</td></tr><tr><td>2019-01-23</td><td>4</td></tr><tr><td>2019-01-07</td><td>2</td></tr><tr><td>2019-01-14</td><td>2</td></tr><tr><td>2019-02-02</td><td>7</td></tr><tr><td>2019-03-17</td><td>1</td></tr><tr><td>2019-03-02</td><td>7</td></tr><tr><td>2019-03-16</td><td>7</td></tr><tr><td>2019-01-06</td><td>1</td></tr><tr><td>2019-01-29</td><td>3</td></tr><tr><td>2019-01-31</td><td>5</td></tr><tr><td>2019-02-05</td><td>3</td></tr><tr><td>2019-02-13</td><td>4</td></tr><tr><td>2019-02-07</td><td>5</td></tr><tr><td>2019-03-19</td><td>3</td></tr><tr><td>2019-03-07</td><td>5</td></tr><tr><td>2019-03-13</td><td>4</td></tr><tr><td>2019-02-09</td><td>7</td></tr><tr><td>2019-02-26</td><td>3</td></tr><tr><td>2019-03-12</td><td>3</td></tr><tr><td>2019-03-14</td><td>5</td></tr><tr><td>2019-01-08</td><td>3</td></tr><tr><td>2019-01-05</td><td>7</td></tr><tr><td>2019-01-04</td><td>6</td></tr><tr><td>2019-03-06</td><td>4</td></tr><tr><td>2019-01-03</td><td>5</td></tr><tr><td>2019-01-07</td><td>2</td></tr><tr><td>2019-01-27</td><td>1</td></tr><tr><td>2019-02-26</td><td>3</td></tr><tr><td>2019-01-07</td><td>2</td></tr><tr><td>2019-01-07</td><td>2</td></tr><tr><td>2019-02-02</td><td>7</td></tr><tr><td>2019-03-20</td><td>4</td></tr><tr><td>2019-03-20</td><td>4</td></tr><tr><td>2019-02-15</td><td>6</td></tr><tr><td>2019-03-06</td><td>4</td></tr><tr><td>2019-01-06</td><td>1</td></tr><tr><td>2019-03-04</td><td>2</td></tr><tr><td>2019-03-12</td><td>3</td></tr><tr><td>2019-02-20</td><td>4</td></tr><tr><td>2019-03-24</td><td>1</td></tr><tr><td>2019-01-31</td><td>5</td></tr><tr><td>2019-01-25</td><td>6</td></tr><tr><td>2019-02-03</td><td>1</td></tr><tr><td>2019-01-24</td><td>5</td></tr><tr><td>2019-03-14</td><td>5</td></tr><tr><td>2019-02-18</td><td>2</td></tr><tr><td>2019-01-21</td><td>2</td></tr><tr><td>2019-03-13</td><td>4</td></tr><tr><td>2019-03-03</td><td>1</td></tr><tr><td>2019-03-29</td><td>6</td></tr><tr><td>2019-01-10</td><td>5</td></tr><tr><td>2019-01-25</td><td>6</td></tr><tr><td>2019-01-19</td><td>7</td></tr><tr><td>2019-01-02</td><td>4</td></tr><tr><td>2019-03-12</td><td>3</td></tr><tr><td>2019-02-25</td><td>2</td></tr><tr><td>2019-03-18</td><td>2</td></tr><tr><td>2019-02-23</td><td>7</td></tr><tr><td>2019-03-26</td><td>3</td></tr><tr><td>2019-03-30</td><td>7</td></tr><tr><td>2019-02-17</td><td>1</td></tr><tr><td>2019-03-21</td><td>5</td></tr><tr><td>2019-03-05</td><td>3</td></tr><tr><td>2019-01-31</td><td>5</td></tr><tr><td>2019-02-05</td><td>3</td></tr><tr><td>2019-02-01</td><td>6</td></tr><tr><td>2019-03-07</td><td>5</td></tr><tr><td>2019-02-10</td><td>1</td></tr><tr><td>2019-02-14</td><td>5</td></tr><tr><td>2019-02-09</td><td>7</td></tr><tr><td>2019-01-10</td><td>5</td></tr><tr><td>2019-03-11</td><td>2</td></tr><tr><td>2019-02-18</td><td>2</td></tr><tr><td>2019-02-26</td><td>3</td></tr><tr><td>2019-01-18</td><td>6</td></tr><tr><td>2019-02-15</td><td>6</td></tr><tr><td>2019-03-08</td><td>6</td></tr><tr><td>2019-01-17</td><td>5</td></tr><tr><td>2019-03-12</td><td>3</td></tr><tr><td>2019-03-09</td><td>7</td></tr><tr><td>2019-03-12</td><td>3</td></tr><tr><td>2019-01-25</td><td>6</td></tr><tr><td>2019-03-25</td><td>2</td></tr><tr><td>2019-02-07</td><td>5</td></tr><tr><td>2019-02-17</td><td>1</td></tr><tr><td>2019-02-03</td><td>1</td></tr><tr><td>2019-03-14</td><td>5</td></tr><tr><td>2019-03-24</td><td>1</td></tr><tr><td>2019-03-21</td><td>5</td></tr><tr><td>2019-03-19</td><td>3</td></tr><tr><td>2019-02-24</td><td>1</td></tr><tr><td>2019-03-28</td><td>5</td></tr><tr><td>2019-02-05</td><td>3</td></tr><tr><td>2019-02-10</td><td>1</td></tr><tr><td>2019-03-05</td><td>3</td></tr><tr><td>2019-02-15</td><td>6</td></tr><tr><td>2019-01-30</td><td>4</td></tr><tr><td>2019-02-14</td><td>5</td></tr><tr><td>2019-02-27</td><td>4</td></tr><tr><td>2019-02-04</td><td>2</td></tr><tr><td>2019-01-20</td><td>1</td></tr><tr><td>2019-03-28</td><td>5</td></tr><tr><td>2019-02-27</td><td>4</td></tr><tr><td>2019-02-15</td><td>6</td></tr><tr><td>2019-01-26</td><td>7</td></tr><tr><td>2019-03-14</td><td>5</td></tr><tr><td>2019-03-02</td><td>7</td></tr><tr><td>2019-03-04</td><td>2</td></tr><tr><td>2019-01-07</td><td>2</td></tr><tr><td>2019-03-08</td><td>6</td></tr><tr><td>2019-01-09</td><td>4</td></tr><tr><td>2019-03-01</td><td>6</td></tr><tr><td>2019-03-16</td><td>7</td></tr><tr><td>2019-02-17</td><td>1</td></tr><tr><td>2019-02-27</td><td>4</td></tr><tr><td>2019-03-07</td><td>5</td></tr><tr><td>2019-01-21</td><td>2</td></tr><tr><td>2019-02-19</td><td>3</td></tr><tr><td>2019-01-06</td><td>1</td></tr><tr><td>2019-03-14</td><td>5</td></tr><tr><td>2019-03-24</td><td>1</td></tr><tr><td>2019-01-27</td><td>1</td></tr><tr><td>2019-03-06</td><td>4</td></tr><tr><td>2019-02-02</td><td>7</td></tr><tr><td>2019-01-25</td><td>6</td></tr><tr><td>2019-03-14</td><td>5</td></tr><tr><td>2019-01-29</td><td>3</td></tr><tr><td>2019-01-03</td><td>5</td></tr><tr><td>2019-01-14</td><td>2</td></tr><tr><td>2019-01-05</td><td>7</td></tr><tr><td>2019-02-22</td><td>6</td></tr><tr><td>2019-02-06</td><td>4</td></tr><tr><td>2019-01-30</td><td>4</td></tr><tr><td>2019-01-11</td><td>6</td></tr><tr><td>2019-03-19</td><td>3</td></tr><tr><td>2019-01-14</td><td>2</td></tr><tr><td>2019-03-01</td><td>6</td></tr><tr><td>2019-01-06</td><td>1</td></tr><tr><td>2019-01-31</td><td>5</td></tr><tr><td>2019-03-11</td><td>2</td></tr><tr><td>2019-02-20</td><td>4</td></tr><tr><td>2019-01-27</td><td>1</td></tr><tr><td>2019-03-10</td><td>1</td></tr><tr><td>2019-02-15</td><td>6</td></tr><tr><td>2019-01-26</td><td>7</td></tr><tr><td>2019-02-13</td><td>4</td></tr><tr><td>2019-03-09</td><td>7</td></tr><tr><td>2019-03-06</td><td>4</td></tr><tr><td>2019-01-24</td><td>5</td></tr><tr><td>2019-03-13</td><td>4</td></tr><tr><td>2019-03-15</td><td>6</td></tr><tr><td>2019-03-05</td><td>3</td></tr><tr><td>2019-03-04</td><td>2</td></tr><tr><td>2019-03-25</td><td>2</td></tr><tr><td>2019-03-12</td><td>3</td></tr><tr><td>2019-02-04</td><td>2</td></tr><tr><td>2019-02-22</td><td>6</td></tr><tr><td>2019-02-16</td><td>7</td></tr><tr><td>2019-01-19</td><td>7</td></tr><tr><td>2019-01-11</td><td>6</td></tr><tr><td>2019-01-04</td><td>6</td></tr><tr><td>2019-03-04</td><td>2</td></tr><tr><td>2019-01-28</td><td>2</td></tr><tr><td>2019-01-02</td><td>4</td></tr><tr><td>2019-01-25</td><td>6</td></tr><tr><td>2019-01-04</td><td>6</td></tr><tr><td>2019-03-10</td><td>1</td></tr><tr><td>2019-03-22</td><td>6</td></tr><tr><td>2019-01-25</td><td>6</td></tr><tr><td>2019-01-08</td><td>3</td></tr><tr><td>2019-01-22</td><td>3</td></tr><tr><td>2019-01-12</td><td>7</td></tr><tr><td>2019-02-04</td><td>2</td></tr><tr><td>2019-03-28</td><td>5</td></tr><tr><td>2019-01-23</td><td>4</td></tr><tr><td>2019-02-08</td><td>6</td></tr><tr><td>2019-03-19</td><td>3</td></tr><tr><td>2019-03-09</td><td>7</td></tr><tr><td>2019-01-02</td><td>4</td></tr><tr><td>2019-01-21</td><td>2</td></tr><tr><td>2019-03-20</td><td>4</td></tr><tr><td>2019-02-27</td><td>4</td></tr><tr><td>2019-03-08</td><td>6</td></tr><tr><td>2019-01-31</td><td>5</td></tr><tr><td>2019-03-08</td><td>6</td></tr><tr><td>2019-01-13</td><td>1</td></tr><tr><td>2019-03-09</td><td>7</td></tr><tr><td>2019-02-22</td><td>6</td></tr><tr><td>2019-03-19</td><td>3</td></tr><tr><td>2019-01-20</td><td>1</td></tr><tr><td>2019-03-08</td><td>6</td></tr><tr><td>2019-03-08</td><td>6</td></tr><tr><td>2019-02-07</td><td>5</td></tr><tr><td>2019-01-15</td><td>3</td></tr><tr><td>2019-03-22</td><td>6</td></tr><tr><td>2019-01-15</td><td>3</td></tr><tr><td>2019-01-08</td><td>3</td></tr><tr><td>2019-01-15</td><td>3</td></tr><tr><td>2019-01-28</td><td>2</td></tr><tr><td>2019-02-14</td><td>5</td></tr><tr><td>2019-03-10</td><td>1</td></tr><tr><td>2019-01-12</td><td>7</td></tr><tr><td>2019-03-26</td><td>3</td></tr><tr><td>2019-01-01</td><td>3</td></tr><tr><td>2019-01-02</td><td>4</td></tr><tr><td>2019-03-16</td><td>7</td></tr><tr><td>2019-03-03</td><td>1</td></tr><tr><td>2019-01-31</td><td>5</td></tr><tr><td>2019-02-13</td><td>4</td></tr><tr><td>2019-02-15</td><td>6</td></tr><tr><td>2019-02-07</td><td>5</td></tr><tr><td>2019-01-27</td><td>1</td></tr><tr><td>2019-02-23</td><td>7</td></tr><tr><td>2019-02-03</td><td>1</td></tr><tr><td>2019-03-03</td><td>1</td></tr><tr><td>2019-02-03</td><td>1</td></tr><tr><td>2019-03-17</td><td>1</td></tr><tr><td>2019-03-28</td><td>5</td></tr><tr><td>2019-03-02</td><td>7</td></tr><tr><td>2019-02-08</td><td>6</td></tr><tr><td>2019-03-22</td><td>6</td></tr><tr><td>2019-02-09</td><td>7</td></tr><tr><td>2019-02-15</td><td>6</td></tr><tr><td>2019-01-23</td><td>4</td></tr><tr><td>2019-01-25</td><td>6</td></tr><tr><td>2019-02-02</td><td>7</td></tr><tr><td>2019-03-30</td><td>7</td></tr><tr><td>2019-03-30</td><td>7</td></tr><tr><td>2019-02-25</td><td>2</td></tr><tr><td>2019-03-18</td><td>2</td></tr><tr><td>2019-03-07</td><td>5</td></tr><tr><td>2019-03-16</td><td>7</td></tr><tr><td>2019-01-29</td><td>3</td></tr><tr><td>2019-02-02</td><td>7</td></tr><tr><td>2019-02-15</td><td>6</td></tr><tr><td>2019-01-08</td><td>3</td></tr><tr><td>2019-02-12</td><td>3</td></tr><tr><td>2019-01-01</td><td>3</td></tr><tr><td>2019-03-21</td><td>5</td></tr><tr><td>2019-02-28</td><td>5</td></tr><tr><td>2019-03-23</td><td>7</td></tr><tr><td>2019-01-30</td><td>4</td></tr><tr><td>2019-02-04</td><td>2</td></tr><tr><td>2019-03-13</td><td>4</td></tr><tr><td>2019-03-15</td><td>6</td></tr><tr><td>2019-03-05</td><td>3</td></tr><tr><td>2019-03-05</td><td>3</td></tr><tr><td>2019-02-26</td><td>3</td></tr><tr><td>2019-03-20</td><td>4</td></tr><tr><td>2019-01-01</td><td>3</td></tr><tr><td>2019-01-27</td><td>1</td></tr><tr><td>2019-01-21</td><td>2</td></tr><tr><td>2019-02-02</td><td>7</td></tr><tr><td>2019-02-03</td><td>1</td></tr><tr><td>2019-01-05</td><td>7</td></tr><tr><td>2019-01-27</td><td>1</td></tr><tr><td>2019-03-25</td><td>2</td></tr><tr><td>2019-02-25</td><td>2</td></tr><tr><td>2019-01-28</td><td>2</td></tr><tr><td>2019-01-08</td><td>3</td></tr><tr><td>2019-01-29</td><td>3</td></tr><tr><td>2019-03-29</td><td>6</td></tr><tr><td>2019-02-09</td><td>7</td></tr><tr><td>2019-01-16</td><td>4</td></tr><tr><td>2019-01-05</td><td>7</td></tr><tr><td>2019-01-27</td><td>1</td></tr><tr><td>2019-03-14</td><td>5</td></tr><tr><td>2019-02-23</td><td>7</td></tr><tr><td>2019-03-18</td><td>2</td></tr><tr><td>2019-03-29</td><td>6</td></tr><tr><td>2019-01-22</td><td>3</td></tr><tr><td>2019-03-01</td><td>6</td></tr><tr><td>2019-01-17</td><td>5</td></tr><tr><td>2019-03-26</td><td>3</td></tr><tr><td>2019-03-20</td><td>4</td></tr><tr><td>2019-02-06</td><td>4</td></tr><tr><td>2019-01-01</td><td>3</td></tr><tr><td>2019-01-27</td><td>1</td></tr><tr><td>2019-02-25</td><td>2</td></tr><tr><td>2019-01-16</td><td>4</td></tr><tr><td>2019-01-13</td><td>1</td></tr><tr><td>2019-02-07</td><td>5</td></tr><tr><td>2019-02-17</td><td>1</td></tr><tr><td>2019-02-12</td><td>3</td></tr><tr><td>2019-01-24</td><td>5</td></tr><tr><td>2019-02-06</td><td>4</td></tr><tr><td>2019-03-26</td><td>3</td></tr><tr><td>2019-03-11</td><td>2</td></tr><tr><td>2019-02-07</td><td>5</td></tr><tr><td>2019-01-05</td><td>7</td></tr><tr><td>2019-03-07</td><td>5</td></tr><tr><td>2019-02-25</td><td>2</td></tr><tr><td>2019-02-01</td><td>6</td></tr><tr><td>2019-01-22</td><td>3</td></tr><tr><td>2019-01-03</td><td>5</td></tr><tr><td>2019-02-13</td><td>4</td></tr><tr><td>2019-01-28</td><td>2</td></tr><tr><td>2019-01-05</td><td>7</td></tr><tr><td>2019-03-19</td><td>3</td></tr><tr><td>2019-01-12</td><td>7</td></tr><tr><td>2019-01-07</td><td>2</td></tr><tr><td>2019-01-26</td><td>7</td></tr><tr><td>2019-01-23</td><td>4</td></tr><tr><td>2019-02-09</td><td>7</td></tr><tr><td>2019-02-22</td><td>6</td></tr><tr><td>2019-02-05</td><td>3</td></tr><tr><td>2019-03-07</td><td>5</td></tr><tr><td>2019-03-25</td><td>2</td></tr><tr><td>2019-01-20</td><td>1</td></tr><tr><td>2019-02-04</td><td>2</td></tr><tr><td>2019-01-30</td><td>4</td></tr><tr><td>2019-01-02</td><td>4</td></tr><tr><td>2019-03-29</td><td>6</td></tr><tr><td>2019-03-14</td><td>5</td></tr><tr><td>2019-02-11</td><td>2</td></tr><tr><td>2019-01-30</td><td>4</td></tr><tr><td>2019-03-20</td><td>4</td></tr><tr><td>2019-03-20</td><td>4</td></tr><tr><td>2019-01-17</td><td>5</td></tr><tr><td>2019-02-03</td><td>1</td></tr><tr><td>2019-01-01</td><td>3</td></tr><tr><td>2019-01-10</td><td>5</td></tr><tr><td>2019-03-02</td><td>7</td></tr><tr><td>2019-02-25</td><td>2</td></tr><tr><td>2019-01-29</td><td>3</td></tr><tr><td>2019-03-10</td><td>1</td></tr><tr><td>2019-01-13</td><td>1</td></tr><tr><td>2019-03-22</td><td>6</td></tr><tr><td>2019-03-01</td><td>6</td></tr><tr><td>2019-02-20</td><td>4</td></tr><tr><td>2019-01-14</td><td>2</td></tr><tr><td>2019-03-26</td><td>3</td></tr><tr><td>2019-03-01</td><td>6</td></tr><tr><td>2019-01-07</td><td>2</td></tr><tr><td>2019-02-01</td><td>6</td></tr><tr><td>2019-02-13</td><td>4</td></tr><tr><td>2019-01-14</td><td>2</td></tr><tr><td>2019-01-19</td><td>7</td></tr><tr><td>2019-03-09</td><td>7</td></tr><tr><td>2019-03-27</td><td>4</td></tr><tr><td>2019-02-04</td><td>2</td></tr><tr><td>2019-03-14</td><td>5</td></tr><tr><td>2019-03-04</td><td>2</td></tr><tr><td>2019-03-03</td><td>1</td></tr><tr><td>2019-01-27</td><td>1</td></tr><tr><td>2019-02-07</td><td>5</td></tr><tr><td>2019-02-05</td><td>3</td></tr><tr><td>2019-03-15</td><td>6</td></tr><tr><td>2019-03-01</td><td>6</td></tr><tr><td>2019-02-15</td><td>6</td></tr><tr><td>2019-02-17</td><td>1</td></tr><tr><td>2019-01-26</td><td>7</td></tr><tr><td>2019-03-24</td><td>1</td></tr><tr><td>2019-01-23</td><td>4</td></tr><tr><td>2019-01-26</td><td>7</td></tr><tr><td>2019-03-14</td><td>5</td></tr><tr><td>2019-03-17</td><td>1</td></tr><tr><td>2019-01-08</td><td>3</td></tr><tr><td>2019-02-08</td><td>6</td></tr><tr><td>2019-02-10</td><td>1</td></tr><tr><td>2019-03-28</td><td>5</td></tr><tr><td>2019-01-23</td><td>4</td></tr><tr><td>2019-01-17</td><td>5</td></tr><tr><td>2019-02-07</td><td>5</td></tr><tr><td>2019-03-09</td><td>7</td></tr><tr><td>2019-01-24</td><td>5</td></tr><tr><td>2019-01-19</td><td>7</td></tr><tr><td>2019-02-03</td><td>1</td></tr><tr><td>2019-03-20</td><td>4</td></tr><tr><td>2019-01-13</td><td>1</td></tr><tr><td>2019-03-14</td><td>5</td></tr><tr><td>2019-01-23</td><td>4</td></tr><tr><td>2019-02-07</td><td>5</td></tr><tr><td>2019-03-28</td><td>5</td></tr><tr><td>2019-03-20</td><td>4</td></tr><tr><td>2019-01-17</td><td>5</td></tr><tr><td>2019-01-12</td><td>7</td></tr><tr><td>2019-02-16</td><td>7</td></tr><tr><td>2019-01-26</td><td>7</td></tr><tr><td>2019-03-09</td><td>7</td></tr><tr><td>2019-03-14</td><td>5</td></tr><tr><td>2019-01-25</td><td>6</td></tr><tr><td>2019-01-26</td><td>7</td></tr><tr><td>2019-01-19</td><td>7</td></tr><tr><td>2019-03-05</td><td>3</td></tr><tr><td>2019-01-15</td><td>3</td></tr><tr><td>2019-03-18</td><td>2</td></tr><tr><td>2019-03-20</td><td>4</td></tr><tr><td>2019-01-15</td><td>3</td></tr><tr><td>2019-03-03</td><td>1</td></tr><tr><td>2019-03-19</td><td>3</td></tr><tr><td>2019-03-08</td><td>6</td></tr><tr><td>2019-02-27</td><td>4</td></tr><tr><td>2019-02-23</td><td>7</td></tr><tr><td>2019-03-19</td><td>3</td></tr><tr><td>2019-03-27</td><td>4</td></tr><tr><td>2019-03-30</td><td>7</td></tr><tr><td>2019-02-16</td><td>7</td></tr><tr><td>2019-01-18</td><td>6</td></tr><tr><td>2019-03-30</td><td>7</td></tr><tr><td>2019-03-20</td><td>4</td></tr><tr><td>2019-01-16</td><td>4</td></tr><tr><td>2019-02-24</td><td>1</td></tr><tr><td>2019-01-15</td><td>3</td></tr><tr><td>2019-01-22</td><td>3</td></tr><tr><td>2019-02-03</td><td>1</td></tr><tr><td>2019-03-06</td><td>4</td></tr><tr><td>2019-02-16</td><td>7</td></tr><tr><td>2019-03-14</td><td>5</td></tr><tr><td>2019-02-27</td><td>4</td></tr><tr><td>2019-01-18</td><td>6</td></tr><tr><td>2019-01-29</td><td>3</td></tr><tr><td>2019-02-26</td><td>3</td></tr><tr><td>2019-02-03</td><td>1</td></tr><tr><td>2019-01-16</td><td>4</td></tr><tr><td>2019-03-24</td><td>1</td></tr><tr><td>2019-02-12</td><td>3</td></tr><tr><td>2019-02-21</td><td>5</td></tr><tr><td>2019-02-04</td><td>2</td></tr><tr><td>2019-02-20</td><td>4</td></tr><tr><td>2019-02-23</td><td>7</td></tr><tr><td>2019-02-16</td><td>7</td></tr><tr><td>2019-01-17</td><td>5</td></tr><tr><td>2019-01-14</td><td>2</td></tr><tr><td>2019-03-30</td><td>7</td></tr><tr><td>2019-03-02</td><td>7</td></tr><tr><td>2019-02-15</td><td>6</td></tr><tr><td>2019-03-01</td><td>6</td></tr><tr><td>2019-02-24</td><td>1</td></tr><tr><td>2019-02-19</td><td>3</td></tr><tr><td>2019-02-23</td><td>7</td></tr><tr><td>2019-02-07</td><td>5</td></tr><tr><td>2019-01-11</td><td>6</td></tr><tr><td>2019-02-12</td><td>3</td></tr><tr><td>2019-01-14</td><td>2</td></tr><tr><td>2019-01-09</td><td>4</td></tr><tr><td>2019-02-27</td><td>4</td></tr><tr><td>2019-01-24</td><td>5</td></tr><tr><td>2019-01-08</td><td>3</td></tr><tr><td>2019-01-08</td><td>3</td></tr><tr><td>2019-01-16</td><td>4</td></tr><tr><td>2019-03-13</td><td>4</td></tr><tr><td>2019-02-15</td><td>6</td></tr><tr><td>2019-01-25</td><td>6</td></tr><tr><td>2019-03-12</td><td>3</td></tr><tr><td>2019-03-04</td><td>2</td></tr><tr><td>2019-02-10</td><td>1</td></tr><tr><td>2019-01-16</td><td>4</td></tr><tr><td>2019-01-29</td><td>3</td></tr><tr><td>2019-01-01</td><td>3</td></tr><tr><td>2019-01-06</td><td>1</td></tr><tr><td>2019-02-19</td><td>3</td></tr><tr><td>2019-01-12</td><td>7</td></tr><tr><td>2019-02-07</td><td>5</td></tr><tr><td>2019-03-27</td><td>4</td></tr><tr><td>2019-02-27</td><td>4</td></tr><tr><td>2019-01-06</td><td>1</td></tr><tr><td>2019-03-02</td><td>7</td></tr><tr><td>2019-03-29</td><td>6</td></tr><tr><td>2019-01-31</td><td>5</td></tr><tr><td>2019-01-21</td><td>2</td></tr><tr><td>2019-01-20</td><td>1</td></tr><tr><td>2019-01-17</td><td>5</td></tr><tr><td>2019-02-28</td><td>5</td></tr><tr><td>2019-03-19</td><td>3</td></tr><tr><td>2019-02-19</td><td>3</td></tr><tr><td>2019-02-04</td><td>2</td></tr><tr><td>2019-01-31</td><td>5</td></tr><tr><td>2019-02-06</td><td>4</td></tr><tr><td>2019-03-28</td><td>5</td></tr><tr><td>2019-01-19</td><td>7</td></tr><tr><td>2019-02-17</td><td>1</td></tr><tr><td>2019-01-18</td><td>6</td></tr><tr><td>2019-02-02</td><td>7</td></tr><tr><td>2019-01-18</td><td>6</td></tr><tr><td>2019-03-18</td><td>2</td></tr><tr><td>2019-01-11</td><td>6</td></tr><tr><td>2019-02-04</td><td>2</td></tr><tr><td>2019-02-06</td><td>4</td></tr><tr><td>2019-01-08</td><td>3</td></tr><tr><td>2019-03-05</td><td>3</td></tr><tr><td>2019-03-16</td><td>7</td></tr><tr><td>2019-03-09</td><td>7</td></tr><tr><td>2019-03-01</td><td>6</td></tr><tr><td>2019-02-28</td><td>5</td></tr><tr><td>2019-02-08</td><td>6</td></tr><tr><td>2019-01-24</td><td>5</td></tr><tr><td>2019-03-01</td><td>6</td></tr><tr><td>2019-03-10</td><td>1</td></tr><tr><td>2019-03-23</td><td>7</td></tr><tr><td>2019-01-29</td><td>3</td></tr><tr><td>2019-01-12</td><td>7</td></tr><tr><td>2019-03-20</td><td>4</td></tr><tr><td>2019-03-23</td><td>7</td></tr><tr><td>2019-01-14</td><td>2</td></tr><tr><td>2019-02-12</td><td>3</td></tr><tr><td>2019-02-20</td><td>4</td></tr><tr><td>2019-01-02</td><td>4</td></tr><tr><td>2019-02-02</td><td>7</td></tr><tr><td>2019-01-08</td><td>3</td></tr><tr><td>2019-01-30</td><td>4</td></tr><tr><td>2019-03-26</td><td>3</td></tr><tr><td>2019-01-15</td><td>3</td></tr><tr><td>2019-03-14</td><td>5</td></tr><tr><td>2019-02-03</td><td>1</td></tr><tr><td>2019-02-22</td><td>6</td></tr><tr><td>2019-01-24</td><td>5</td></tr><tr><td>2019-01-25</td><td>6</td></tr><tr><td>2019-03-09</td><td>7</td></tr><tr><td>2019-02-17</td><td>1</td></tr><tr><td>2019-01-11</td><td>6</td></tr><tr><td>2019-02-27</td><td>4</td></tr><tr><td>2019-03-25</td><td>2</td></tr><tr><td>2019-02-11</td><td>2</td></tr><tr><td>2019-01-31</td><td>5</td></tr><tr><td>2019-01-20</td><td>1</td></tr><tr><td>2019-03-26</td><td>3</td></tr><tr><td>2019-01-20</td><td>1</td></tr><tr><td>2019-03-05</td><td>3</td></tr><tr><td>2019-01-05</td><td>7</td></tr><tr><td>2019-02-13</td><td>4</td></tr><tr><td>2019-03-16</td><td>7</td></tr><tr><td>2019-01-15</td><td>3</td></tr><tr><td>2019-02-26</td><td>3</td></tr><tr><td>2019-02-27</td><td>4</td></tr><tr><td>2019-02-17</td><td>1</td></tr><tr><td>2019-02-06</td><td>4</td></tr><tr><td>2019-01-17</td><td>5</td></tr><tr><td>2019-01-22</td><td>3</td></tr><tr><td>2019-03-05</td><td>3</td></tr><tr><td>2019-01-03</td><td>5</td></tr><tr><td>2019-03-20</td><td>4</td></tr><tr><td>2019-01-31</td><td>5</td></tr><tr><td>2019-02-19</td><td>3</td></tr><tr><td>2019-02-11</td><td>2</td></tr><tr><td>2019-02-05</td><td>3</td></tr><tr><td>2019-03-03</td><td>1</td></tr><tr><td>2019-02-24</td><td>1</td></tr><tr><td>2019-02-04</td><td>2</td></tr><tr><td>2019-02-19</td><td>3</td></tr><tr><td>2019-01-23</td><td>4</td></tr><tr><td>2019-01-14</td><td>2</td></tr><tr><td>2019-01-17</td><td>5</td></tr><tr><td>2019-03-03</td><td>1</td></tr><tr><td>2019-02-15</td><td>6</td></tr><tr><td>2019-01-15</td><td>3</td></tr><tr><td>2019-02-27</td><td>4</td></tr><tr><td>2019-02-26</td><td>3</td></tr><tr><td>2019-03-15</td><td>6</td></tr><tr><td>2019-01-24</td><td>5</td></tr><tr><td>2019-02-22</td><td>6</td></tr><tr><td>2019-03-15</td><td>6</td></tr><tr><td>2019-02-11</td><td>2</td></tr><tr><td>2019-01-12</td><td>7</td></tr><tr><td>2019-03-03</td><td>1</td></tr><tr><td>2019-03-23</td><td>7</td></tr><tr><td>2019-03-04</td><td>2</td></tr><tr><td>2019-02-23</td><td>7</td></tr><tr><td>2019-03-17</td><td>1</td></tr><tr><td>2019-01-16</td><td>4</td></tr><tr><td>2019-01-08</td><td>3</td></tr><tr><td>2019-01-14</td><td>2</td></tr><tr><td>2019-01-31</td><td>5</td></tr><tr><td>2019-03-15</td><td>6</td></tr><tr><td>2019-02-24</td><td>1</td></tr><tr><td>2019-02-08</td><td>6</td></tr><tr><td>2019-03-22</td><td>6</td></tr><tr><td>2019-01-24</td><td>5</td></tr><tr><td>2019-03-14</td><td>5</td></tr><tr><td>2019-01-23</td><td>4</td></tr><tr><td>2019-01-19</td><td>7</td></tr><tr><td>2019-01-27</td><td>1</td></tr><tr><td>2019-02-03</td><td>1</td></tr><tr><td>2019-03-25</td><td>2</td></tr><tr><td>2019-02-24</td><td>1</td></tr><tr><td>2019-02-07</td><td>5</td></tr><tr><td>2019-03-04</td><td>2</td></tr><tr><td>2019-02-14</td><td>5</td></tr><tr><td>2019-01-29</td><td>3</td></tr><tr><td>2019-01-28</td><td>2</td></tr><tr><td>2019-03-26</td><td>3</td></tr><tr><td>2019-03-24</td><td>1</td></tr><tr><td>2019-01-01</td><td>3</td></tr><tr><td>2019-01-24</td><td>5</td></tr><tr><td>2019-02-25</td><td>2</td></tr><tr><td>2019-01-09</td><td>4</td></tr><tr><td>2019-02-14</td><td>5</td></tr><tr><td>2019-03-12</td><td>3</td></tr><tr><td>2019-03-26</td><td>3</td></tr><tr><td>2019-01-09</td><td>4</td></tr><tr><td>2019-01-02</td><td>4</td></tr><tr><td>2019-01-15</td><td>3</td></tr><tr><td>2019-01-01</td><td>3</td></tr><tr><td>2019-02-15</td><td>6</td></tr><tr><td>2019-02-28</td><td>5</td></tr><tr><td>2019-03-02</td><td>7</td></tr><tr><td>2019-02-13</td><td>4</td></tr><tr><td>2019-01-26</td><td>7</td></tr><tr><td>2019-01-30</td><td>4</td></tr><tr><td>2019-01-27</td><td>1</td></tr><tr><td>2019-01-30</td><td>4</td></tr><tr><td>2019-01-08</td><td>3</td></tr><tr><td>2019-01-19</td><td>7</td></tr><tr><td>2019-01-25</td><td>6</td></tr><tr><td>2019-02-19</td><td>3</td></tr><tr><td>2019-01-14</td><td>2</td></tr><tr><td>2019-02-25</td><td>2</td></tr><tr><td>2019-01-23</td><td>4</td></tr><tr><td>2019-02-16</td><td>7</td></tr><tr><td>2019-01-01</td><td>3</td></tr><tr><td>2019-03-07</td><td>5</td></tr><tr><td>2019-02-15</td><td>6</td></tr><tr><td>2019-01-23</td><td>4</td></tr><tr><td>2019-02-20</td><td>4</td></tr><tr><td>2019-01-08</td><td>3</td></tr><tr><td>2019-03-17</td><td>1</td></tr><tr><td>2019-01-12</td><td>7</td></tr><tr><td>2019-01-08</td><td>3</td></tr><tr><td>2019-01-26</td><td>7</td></tr><tr><td>2019-03-15</td><td>6</td></tr><tr><td>2019-01-17</td><td>5</td></tr><tr><td>2019-01-08</td><td>3</td></tr><tr><td>2019-01-06</td><td>1</td></tr><tr><td>2019-02-16</td><td>7</td></tr><tr><td>2019-03-13</td><td>4</td></tr><tr><td>2019-01-28</td><td>2</td></tr><tr><td>2019-01-18</td><td>6</td></tr><tr><td>2019-03-19</td><td>3</td></tr><tr><td>2019-03-15</td><td>6</td></tr><tr><td>2019-02-12</td><td>3</td></tr><tr><td>2019-02-25</td><td>2</td></tr><tr><td>2019-03-21</td><td>5</td></tr><tr><td>2019-01-19</td><td>7</td></tr><tr><td>2019-01-08</td><td>3</td></tr><tr><td>2019-03-30</td><td>7</td></tr><tr><td>2019-02-20</td><td>4</td></tr><tr><td>2019-03-30</td><td>7</td></tr><tr><td>2019-03-19</td><td>3</td></tr><tr><td>2019-01-13</td><td>1</td></tr><tr><td>2019-02-05</td><td>3</td></tr><tr><td>2019-03-23</td><td>7</td></tr><tr><td>2019-03-13</td><td>4</td></tr><tr><td>2019-03-17</td><td>1</td></tr><tr><td>2019-02-21</td><td>5</td></tr><tr><td>2019-02-07</td><td>5</td></tr><tr><td>2019-03-02</td><td>7</td></tr><tr><td>2019-03-06</td><td>4</td></tr><tr><td>2019-02-06</td><td>4</td></tr><tr><td>2019-01-28</td><td>2</td></tr><tr><td>2019-01-18</td><td>6</td></tr><tr><td>2019-02-05</td><td>3</td></tr><tr><td>2019-03-02</td><td>7</td></tr><tr><td>2019-02-09</td><td>7</td></tr><tr><td>2019-01-14</td><td>2</td></tr><tr><td>2019-02-09</td><td>7</td></tr><tr><td>2019-03-26</td><td>3</td></tr><tr><td>2019-01-28</td><td>2</td></tr><tr><td>2019-02-14</td><td>5</td></tr><tr><td>2019-03-24</td><td>1</td></tr><tr><td>2019-02-09</td><td>7</td></tr><tr><td>2019-03-24</td><td>1</td></tr><tr><td>2019-03-27</td><td>4</td></tr><tr><td>2019-01-27</td><td>1</td></tr><tr><td>2019-03-27</td><td>4</td></tr><tr><td>2019-01-19</td><td>7</td></tr><tr><td>2019-02-07</td><td>5</td></tr><tr><td>2019-01-31</td><td>5</td></tr><tr><td>2019-02-25</td><td>2</td></tr><tr><td>2019-02-02</td><td>7</td></tr><tr><td>2019-03-14</td><td>5</td></tr><tr><td>2019-03-11</td><td>2</td></tr><tr><td>2019-02-22</td><td>6</td></tr><tr><td>2019-03-02</td><td>7</td></tr><tr><td>2019-03-10</td><td>1</td></tr><tr><td>2019-02-08</td><td>6</td></tr><tr><td>2019-02-22</td><td>6</td></tr><tr><td>2019-01-10</td><td>5</td></tr><tr><td>2019-03-14</td><td>5</td></tr><tr><td>2019-01-10</td><td>5</td></tr><tr><td>2019-02-15</td><td>6</td></tr><tr><td>2019-01-13</td><td>1</td></tr><tr><td>2019-02-15</td><td>6</td></tr><tr><td>2019-03-02</td><td>7</td></tr><tr><td>2019-03-24</td><td>1</td></tr><tr><td>2019-02-02</td><td>7</td></tr><tr><td>2019-02-27</td><td>4</td></tr><tr><td>2019-01-20</td><td>1</td></tr><tr><td>2019-01-03</td><td>5</td></tr><tr><td>2019-01-24</td><td>5</td></tr><tr><td>2019-01-05</td><td>7</td></tr><tr><td>2019-03-30</td><td>7</td></tr><tr><td>2019-02-17</td><td>1</td></tr><tr><td>2019-03-21</td><td>5</td></tr><tr><td>2019-03-02</td><td>7</td></tr><tr><td>2019-03-27</td><td>4</td></tr><tr><td>2019-01-19</td><td>7</td></tr><tr><td>2019-02-19</td><td>3</td></tr><tr><td>2019-03-28</td><td>5</td></tr><tr><td>2019-01-05</td><td>7</td></tr><tr><td>2019-03-26</td><td>3</td></tr><tr><td>2019-02-03</td><td>1</td></tr><tr><td>2019-02-06</td><td>4</td></tr><tr><td>2019-02-24</td><td>1</td></tr><tr><td>2019-02-21</td><td>5</td></tr><tr><td>2019-01-09</td><td>4</td></tr><tr><td>2019-02-25</td><td>2</td></tr><tr><td>2019-01-13</td><td>1</td></tr><tr><td>2019-02-09</td><td>7</td></tr><tr><td>2019-01-06</td><td>1</td></tr><tr><td>2019-01-10</td><td>5</td></tr><tr><td>2019-02-07</td><td>5</td></tr><tr><td>2019-01-09</td><td>4</td></tr><tr><td>2019-02-19</td><td>3</td></tr><tr><td>2019-03-18</td><td>2</td></tr><tr><td>2019-02-05</td><td>3</td></tr><tr><td>2019-03-19</td><td>3</td></tr><tr><td>2019-03-30</td><td>7</td></tr><tr><td>2019-01-26</td><td>7</td></tr><tr><td>2019-03-02</td><td>7</td></tr><tr><td>2019-03-04</td><td>2</td></tr><tr><td>2019-01-13</td><td>1</td></tr><tr><td>2019-03-25</td><td>2</td></tr><tr><td>2019-03-11</td><td>2</td></tr><tr><td>2019-01-01</td><td>3</td></tr><tr><td>2019-02-10</td><td>1</td></tr><tr><td>2019-01-26</td><td>7</td></tr><tr><td>2019-02-11</td><td>2</td></tr><tr><td>2019-02-07</td><td>5</td></tr><tr><td>2019-03-06</td><td>4</td></tr><tr><td>2019-03-04</td><td>2</td></tr><tr><td>2019-02-26</td><td>3</td></tr><tr><td>2019-03-10</td><td>1</td></tr><tr><td>2019-02-04</td><td>2</td></tr><tr><td>2019-01-19</td><td>7</td></tr><tr><td>2019-01-23</td><td>4</td></tr><tr><td>2019-03-14</td><td>5</td></tr><tr><td>2019-01-23</td><td>4</td></tr><tr><td>2019-01-09</td><td>4</td></tr><tr><td>2019-02-07</td><td>5</td></tr><tr><td>2019-02-18</td><td>2</td></tr><tr><td>2019-01-03</td><td>5</td></tr><tr><td>2019-03-29</td><td>6</td></tr><tr><td>2019-01-28</td><td>2</td></tr><tr><td>2019-03-22</td><td>6</td></tr><tr><td>2019-01-24</td><td>5</td></tr><tr><td>2019-03-10</td><td>1</td></tr><tr><td>2019-02-22</td><td>6</td></tr><tr><td>2019-02-18</td><td>2</td></tr><tr><td>2019-01-29</td><td>3</td></tr><tr><td>2019-03-02</td><td>7</td></tr><tr><td>2019-02-09</td><td>7</td></tr><tr><td>2019-02-22</td><td>6</td></tr><tr><td>2019-02-18</td><td>2</td></tr></tbody></table></div>"
      ]
     },
     "metadata": {
      "application/vnd.databricks.v1+output": {
       "addedWidgets": {},
       "aggData": [],
       "aggError": "",
       "aggOverflow": false,
       "aggSchema": [],
       "aggSeriesLimitReached": false,
       "aggType": "",
       "arguments": {},
       "columnCustomDisplayInfos": {},
       "data": [
        [
         "2019-01-05",
         7
        ],
        [
         "2019-03-08",
         6
        ],
        [
         "2019-03-03",
         1
        ],
        [
         "2019-01-27",
         1
        ],
        [
         "2019-02-08",
         6
        ],
        [
         "2019-03-25",
         2
        ],
        [
         "2019-02-25",
         2
        ],
        [
         "2019-02-24",
         1
        ],
        [
         "2019-01-10",
         5
        ],
        [
         "2019-02-20",
         4
        ],
        [
         "2019-02-06",
         4
        ],
        [
         "2019-03-09",
         7
        ],
        [
         "2019-02-12",
         3
        ],
        [
         "2019-02-07",
         5
        ],
        [
         "2019-03-29",
         6
        ],
        [
         "2019-01-15",
         3
        ],
        [
         "2019-03-11",
         2
        ],
        [
         "2019-01-01",
         3
        ],
        [
         "2019-01-21",
         2
        ],
        [
         "2019-03-11",
         2
        ],
        [
         "2019-02-25",
         2
        ],
        [
         "2019-03-05",
         3
        ],
        [
         "2019-03-15",
         6
        ],
        [
         "2019-02-17",
         1
        ],
        [
         "2019-03-02",
         7
        ],
        [
         "2019-03-22",
         6
        ],
        [
         "2019-02-08",
         6
        ],
        [
         "2019-03-10",
         1
        ],
        [
         "2019-01-25",
         6
        ],
        [
         "2019-03-15",
         6
        ],
        [
         "2019-02-25",
         2
        ],
        [
         "2019-01-28",
         2
        ],
        [
         "2019-01-10",
         5
        ],
        [
         "2019-03-15",
         6
        ],
        [
         "2019-02-06",
         4
        ],
        [
         "2019-01-07",
         2
        ],
        [
         "2019-03-10",
         1
        ],
        [
         "2019-01-15",
         3
        ],
        [
         "2019-03-23",
         7
        ],
        [
         "2019-03-03",
         1
        ],
        [
         "2019-01-17",
         5
        ],
        [
         "2019-02-02",
         7
        ],
        [
         "2019-02-08",
         6
        ],
        [
         "2019-03-04",
         2
        ],
        [
         "2019-03-16",
         7
        ],
        [
         "2019-03-09",
         7
        ],
        [
         "2019-02-27",
         4
        ],
        [
         "2019-02-06",
         4
        ],
        [
         "2019-02-10",
         1
        ],
        [
         "2019-03-19",
         3
        ],
        [
         "2019-02-03",
         1
        ],
        [
         "2019-02-10",
         1
        ],
        [
         "2019-03-22",
         6
        ],
        [
         "2019-01-25",
         6
        ],
        [
         "2019-03-07",
         5
        ],
        [
         "2019-02-28",
         5
        ],
        [
         "2019-03-27",
         4
        ],
        [
         "2019-02-07",
         5
        ],
        [
         "2019-01-20",
         1
        ],
        [
         "2019-03-12",
         3
        ],
        [
         "2019-02-15",
         6
        ],
        [
         "2019-02-24",
         1
        ],
        [
         "2019-02-03",
         1
        ],
        [
         "2019-03-06",
         4
        ],
        [
         "2019-02-14",
         5
        ],
        [
         "2019-03-13",
         4
        ],
        [
         "2019-02-10",
         1
        ],
        [
         "2019-01-07",
         2
        ],
        [
         "2019-01-24",
         5
        ],
        [
         "2019-02-02",
         7
        ],
        [
         "2019-01-06",
         1
        ],
        [
         "2019-02-11",
         2
        ],
        [
         "2019-03-05",
         3
        ],
        [
         "2019-03-09",
         7
        ],
        [
         "2019-01-22",
         3
        ],
        [
         "2019-01-13",
         1
        ],
        [
         "2019-01-09",
         4
        ],
        [
         "2019-01-12",
         7
        ],
        [
         "2019-03-05",
         3
        ],
        [
         "2019-01-22",
         3
        ],
        [
         "2019-01-21",
         2
        ],
        [
         "2019-01-26",
         7
        ],
        [
         "2019-01-23",
         4
        ],
        [
         "2019-02-23",
         7
        ],
        [
         "2019-03-09",
         7
        ],
        [
         "2019-03-05",
         3
        ],
        [
         "2019-03-25",
         2
        ],
        [
         "2019-03-27",
         4
        ],
        [
         "2019-01-02",
         4
        ],
        [
         "2019-02-27",
         4
        ],
        [
         "2019-01-23",
         4
        ],
        [
         "2019-01-26",
         7
        ],
        [
         "2019-01-10",
         5
        ],
        [
         "2019-03-12",
         3
        ],
        [
         "2019-02-06",
         4
        ],
        [
         "2019-03-08",
         6
        ],
        [
         "2019-03-29",
         6
        ],
        [
         "2019-02-09",
         7
        ],
        [
         "2019-03-23",
         7
        ],
        [
         "2019-03-05",
         3
        ],
        [
         "2019-03-26",
         3
        ],
        [
         "2019-03-01",
         6
        ],
        [
         "2019-02-01",
         6
        ],
        [
         "2019-03-28",
         5
        ],
        [
         "2019-03-19",
         3
        ],
        [
         "2019-01-12",
         7
        ],
        [
         "2019-01-05",
         7
        ],
        [
         "2019-03-22",
         6
        ],
        [
         "2019-03-24",
         1
        ],
        [
         "2019-03-03",
         1
        ],
        [
         "2019-02-05",
         3
        ],
        [
         "2019-02-05",
         3
        ],
        [
         "2019-02-15",
         6
        ],
        [
         "2019-01-19",
         7
        ],
        [
         "2019-02-01",
         6
        ],
        [
         "2019-03-02",
         7
        ],
        [
         "2019-03-05",
         3
        ],
        [
         "2019-01-16",
         4
        ],
        [
         "2019-02-02",
         7
        ],
        [
         "2019-01-20",
         1
        ],
        [
         "2019-02-14",
         5
        ],
        [
         "2019-01-12",
         7
        ],
        [
         "2019-03-09",
         7
        ],
        [
         "2019-03-13",
         4
        ],
        [
         "2019-03-09",
         7
        ],
        [
         "2019-03-10",
         1
        ],
        [
         "2019-01-27",
         1
        ],
        [
         "2019-01-08",
         3
        ],
        [
         "2019-01-08",
         3
        ],
        [
         "2019-02-08",
         6
        ],
        [
         "2019-01-25",
         6
        ],
        [
         "2019-03-06",
         4
        ],
        [
         "2019-02-10",
         1
        ],
        [
         "2019-02-17",
         1
        ],
        [
         "2019-03-08",
         6
        ],
        [
         "2019-02-18",
         2
        ],
        [
         "2019-01-18",
         6
        ],
        [
         "2019-02-18",
         2
        ],
        [
         "2019-02-16",
         7
        ],
        [
         "2019-03-16",
         7
        ],
        [
         "2019-01-23",
         4
        ],
        [
         "2019-01-25",
         6
        ],
        [
         "2019-02-05",
         3
        ],
        [
         "2019-02-22",
         6
        ],
        [
         "2019-01-21",
         2
        ],
        [
         "2019-03-08",
         6
        ],
        [
         "2019-02-10",
         1
        ],
        [
         "2019-03-19",
         3
        ],
        [
         "2019-03-06",
         4
        ],
        [
         "2019-03-27",
         4
        ],
        [
         "2019-03-23",
         7
        ],
        [
         "2019-03-11",
         2
        ],
        [
         "2019-01-29",
         3
        ],
        [
         "2019-02-07",
         5
        ],
        [
         "2019-01-28",
         2
        ],
        [
         "2019-02-20",
         4
        ],
        [
         "2019-01-04",
         6
        ],
        [
         "2019-03-07",
         5
        ],
        [
         "2019-03-30",
         7
        ],
        [
         "2019-03-27",
         4
        ],
        [
         "2019-01-19",
         7
        ],
        [
         "2019-02-25",
         2
        ],
        [
         "2019-03-13",
         4
        ],
        [
         "2019-01-30",
         4
        ],
        [
         "2019-02-20",
         4
        ],
        [
         "2019-02-25",
         2
        ],
        [
         "2019-01-16",
         4
        ],
        [
         "2019-02-08",
         6
        ],
        [
         "2019-01-19",
         7
        ],
        [
         "2019-02-01",
         6
        ],
        [
         "2019-01-03",
         5
        ],
        [
         "2019-01-26",
         7
        ],
        [
         "2019-03-03",
         1
        ],
        [
         "2019-01-19",
         7
        ],
        [
         "2019-01-18",
         6
        ],
        [
         "2019-03-21",
         5
        ],
        [
         "2019-03-03",
         1
        ],
        [
         "2019-02-13",
         4
        ],
        [
         "2019-03-23",
         7
        ],
        [
         "2019-01-28",
         2
        ],
        [
         "2019-02-09",
         7
        ],
        [
         "2019-01-23",
         4
        ],
        [
         "2019-03-23",
         7
        ],
        [
         "2019-01-25",
         6
        ],
        [
         "2019-03-04",
         2
        ],
        [
         "2019-03-05",
         3
        ],
        [
         "2019-03-03",
         1
        ],
        [
         "2019-02-08",
         6
        ],
        [
         "2019-02-10",
         1
        ],
        [
         "2019-01-28",
         2
        ],
        [
         "2019-02-11",
         2
        ],
        [
         "2019-01-15",
         3
        ],
        [
         "2019-03-16",
         7
        ],
        [
         "2019-01-26",
         7
        ],
        [
         "2019-03-19",
         3
        ],
        [
         "2019-01-13",
         1
        ],
        [
         "2019-03-26",
         3
        ],
        [
         "2019-03-23",
         7
        ],
        [
         "2019-03-12",
         3
        ],
        [
         "2019-02-17",
         1
        ],
        [
         "2019-01-29",
         3
        ],
        [
         "2019-03-15",
         6
        ],
        [
         "2019-01-14",
         2
        ],
        [
         "2019-02-06",
         4
        ],
        [
         "2019-02-15",
         6
        ],
        [
         "2019-01-03",
         5
        ],
        [
         "2019-01-04",
         6
        ],
        [
         "2019-03-18",
         2
        ],
        [
         "2019-03-28",
         5
        ],
        [
         "2019-03-02",
         7
        ],
        [
         "2019-01-25",
         6
        ],
        [
         "2019-01-16",
         4
        ],
        [
         "2019-03-20",
         4
        ],
        [
         "2019-01-04",
         6
        ],
        [
         "2019-03-11",
         2
        ],
        [
         "2019-03-22",
         6
        ],
        [
         "2019-03-24",
         1
        ],
        [
         "2019-02-21",
         5
        ],
        [
         "2019-02-12",
         3
        ],
        [
         "2019-03-10",
         1
        ],
        [
         "2019-01-31",
         5
        ],
        [
         "2019-03-06",
         4
        ],
        [
         "2019-02-17",
         1
        ],
        [
         "2019-02-21",
         5
        ],
        [
         "2019-03-20",
         4
        ],
        [
         "2019-01-11",
         6
        ],
        [
         "2019-01-26",
         7
        ],
        [
         "2019-01-31",
         5
        ],
        [
         "2019-02-26",
         3
        ],
        [
         "2019-03-11",
         2
        ],
        [
         "2019-01-26",
         7
        ],
        [
         "2019-03-12",
         3
        ],
        [
         "2019-02-11",
         2
        ],
        [
         "2019-02-21",
         5
        ],
        [
         "2019-03-09",
         7
        ],
        [
         "2019-01-20",
         1
        ],
        [
         "2019-01-28",
         2
        ],
        [
         "2019-03-05",
         3
        ],
        [
         "2019-03-02",
         7
        ],
        [
         "2019-01-11",
         6
        ],
        [
         "2019-01-11",
         6
        ],
        [
         "2019-03-11",
         2
        ],
        [
         "2019-02-28",
         5
        ],
        [
         "2019-01-05",
         7
        ],
        [
         "2019-02-02",
         7
        ],
        [
         "2019-01-01",
         3
        ],
        [
         "2019-02-09",
         7
        ],
        [
         "2019-01-23",
         4
        ],
        [
         "2019-01-07",
         2
        ],
        [
         "2019-01-14",
         2
        ],
        [
         "2019-02-02",
         7
        ],
        [
         "2019-03-17",
         1
        ],
        [
         "2019-03-02",
         7
        ],
        [
         "2019-03-16",
         7
        ],
        [
         "2019-01-06",
         1
        ],
        [
         "2019-01-29",
         3
        ],
        [
         "2019-01-31",
         5
        ],
        [
         "2019-02-05",
         3
        ],
        [
         "2019-02-13",
         4
        ],
        [
         "2019-02-07",
         5
        ],
        [
         "2019-03-19",
         3
        ],
        [
         "2019-03-07",
         5
        ],
        [
         "2019-03-13",
         4
        ],
        [
         "2019-02-09",
         7
        ],
        [
         "2019-02-26",
         3
        ],
        [
         "2019-03-12",
         3
        ],
        [
         "2019-03-14",
         5
        ],
        [
         "2019-01-08",
         3
        ],
        [
         "2019-01-05",
         7
        ],
        [
         "2019-01-04",
         6
        ],
        [
         "2019-03-06",
         4
        ],
        [
         "2019-01-03",
         5
        ],
        [
         "2019-01-07",
         2
        ],
        [
         "2019-01-27",
         1
        ],
        [
         "2019-02-26",
         3
        ],
        [
         "2019-01-07",
         2
        ],
        [
         "2019-01-07",
         2
        ],
        [
         "2019-02-02",
         7
        ],
        [
         "2019-03-20",
         4
        ],
        [
         "2019-03-20",
         4
        ],
        [
         "2019-02-15",
         6
        ],
        [
         "2019-03-06",
         4
        ],
        [
         "2019-01-06",
         1
        ],
        [
         "2019-03-04",
         2
        ],
        [
         "2019-03-12",
         3
        ],
        [
         "2019-02-20",
         4
        ],
        [
         "2019-03-24",
         1
        ],
        [
         "2019-01-31",
         5
        ],
        [
         "2019-01-25",
         6
        ],
        [
         "2019-02-03",
         1
        ],
        [
         "2019-01-24",
         5
        ],
        [
         "2019-03-14",
         5
        ],
        [
         "2019-02-18",
         2
        ],
        [
         "2019-01-21",
         2
        ],
        [
         "2019-03-13",
         4
        ],
        [
         "2019-03-03",
         1
        ],
        [
         "2019-03-29",
         6
        ],
        [
         "2019-01-10",
         5
        ],
        [
         "2019-01-25",
         6
        ],
        [
         "2019-01-19",
         7
        ],
        [
         "2019-01-02",
         4
        ],
        [
         "2019-03-12",
         3
        ],
        [
         "2019-02-25",
         2
        ],
        [
         "2019-03-18",
         2
        ],
        [
         "2019-02-23",
         7
        ],
        [
         "2019-03-26",
         3
        ],
        [
         "2019-03-30",
         7
        ],
        [
         "2019-02-17",
         1
        ],
        [
         "2019-03-21",
         5
        ],
        [
         "2019-03-05",
         3
        ],
        [
         "2019-01-31",
         5
        ],
        [
         "2019-02-05",
         3
        ],
        [
         "2019-02-01",
         6
        ],
        [
         "2019-03-07",
         5
        ],
        [
         "2019-02-10",
         1
        ],
        [
         "2019-02-14",
         5
        ],
        [
         "2019-02-09",
         7
        ],
        [
         "2019-01-10",
         5
        ],
        [
         "2019-03-11",
         2
        ],
        [
         "2019-02-18",
         2
        ],
        [
         "2019-02-26",
         3
        ],
        [
         "2019-01-18",
         6
        ],
        [
         "2019-02-15",
         6
        ],
        [
         "2019-03-08",
         6
        ],
        [
         "2019-01-17",
         5
        ],
        [
         "2019-03-12",
         3
        ],
        [
         "2019-03-09",
         7
        ],
        [
         "2019-03-12",
         3
        ],
        [
         "2019-01-25",
         6
        ],
        [
         "2019-03-25",
         2
        ],
        [
         "2019-02-07",
         5
        ],
        [
         "2019-02-17",
         1
        ],
        [
         "2019-02-03",
         1
        ],
        [
         "2019-03-14",
         5
        ],
        [
         "2019-03-24",
         1
        ],
        [
         "2019-03-21",
         5
        ],
        [
         "2019-03-19",
         3
        ],
        [
         "2019-02-24",
         1
        ],
        [
         "2019-03-28",
         5
        ],
        [
         "2019-02-05",
         3
        ],
        [
         "2019-02-10",
         1
        ],
        [
         "2019-03-05",
         3
        ],
        [
         "2019-02-15",
         6
        ],
        [
         "2019-01-30",
         4
        ],
        [
         "2019-02-14",
         5
        ],
        [
         "2019-02-27",
         4
        ],
        [
         "2019-02-04",
         2
        ],
        [
         "2019-01-20",
         1
        ],
        [
         "2019-03-28",
         5
        ],
        [
         "2019-02-27",
         4
        ],
        [
         "2019-02-15",
         6
        ],
        [
         "2019-01-26",
         7
        ],
        [
         "2019-03-14",
         5
        ],
        [
         "2019-03-02",
         7
        ],
        [
         "2019-03-04",
         2
        ],
        [
         "2019-01-07",
         2
        ],
        [
         "2019-03-08",
         6
        ],
        [
         "2019-01-09",
         4
        ],
        [
         "2019-03-01",
         6
        ],
        [
         "2019-03-16",
         7
        ],
        [
         "2019-02-17",
         1
        ],
        [
         "2019-02-27",
         4
        ],
        [
         "2019-03-07",
         5
        ],
        [
         "2019-01-21",
         2
        ],
        [
         "2019-02-19",
         3
        ],
        [
         "2019-01-06",
         1
        ],
        [
         "2019-03-14",
         5
        ],
        [
         "2019-03-24",
         1
        ],
        [
         "2019-01-27",
         1
        ],
        [
         "2019-03-06",
         4
        ],
        [
         "2019-02-02",
         7
        ],
        [
         "2019-01-25",
         6
        ],
        [
         "2019-03-14",
         5
        ],
        [
         "2019-01-29",
         3
        ],
        [
         "2019-01-03",
         5
        ],
        [
         "2019-01-14",
         2
        ],
        [
         "2019-01-05",
         7
        ],
        [
         "2019-02-22",
         6
        ],
        [
         "2019-02-06",
         4
        ],
        [
         "2019-01-30",
         4
        ],
        [
         "2019-01-11",
         6
        ],
        [
         "2019-03-19",
         3
        ],
        [
         "2019-01-14",
         2
        ],
        [
         "2019-03-01",
         6
        ],
        [
         "2019-01-06",
         1
        ],
        [
         "2019-01-31",
         5
        ],
        [
         "2019-03-11",
         2
        ],
        [
         "2019-02-20",
         4
        ],
        [
         "2019-01-27",
         1
        ],
        [
         "2019-03-10",
         1
        ],
        [
         "2019-02-15",
         6
        ],
        [
         "2019-01-26",
         7
        ],
        [
         "2019-02-13",
         4
        ],
        [
         "2019-03-09",
         7
        ],
        [
         "2019-03-06",
         4
        ],
        [
         "2019-01-24",
         5
        ],
        [
         "2019-03-13",
         4
        ],
        [
         "2019-03-15",
         6
        ],
        [
         "2019-03-05",
         3
        ],
        [
         "2019-03-04",
         2
        ],
        [
         "2019-03-25",
         2
        ],
        [
         "2019-03-12",
         3
        ],
        [
         "2019-02-04",
         2
        ],
        [
         "2019-02-22",
         6
        ],
        [
         "2019-02-16",
         7
        ],
        [
         "2019-01-19",
         7
        ],
        [
         "2019-01-11",
         6
        ],
        [
         "2019-01-04",
         6
        ],
        [
         "2019-03-04",
         2
        ],
        [
         "2019-01-28",
         2
        ],
        [
         "2019-01-02",
         4
        ],
        [
         "2019-01-25",
         6
        ],
        [
         "2019-01-04",
         6
        ],
        [
         "2019-03-10",
         1
        ],
        [
         "2019-03-22",
         6
        ],
        [
         "2019-01-25",
         6
        ],
        [
         "2019-01-08",
         3
        ],
        [
         "2019-01-22",
         3
        ],
        [
         "2019-01-12",
         7
        ],
        [
         "2019-02-04",
         2
        ],
        [
         "2019-03-28",
         5
        ],
        [
         "2019-01-23",
         4
        ],
        [
         "2019-02-08",
         6
        ],
        [
         "2019-03-19",
         3
        ],
        [
         "2019-03-09",
         7
        ],
        [
         "2019-01-02",
         4
        ],
        [
         "2019-01-21",
         2
        ],
        [
         "2019-03-20",
         4
        ],
        [
         "2019-02-27",
         4
        ],
        [
         "2019-03-08",
         6
        ],
        [
         "2019-01-31",
         5
        ],
        [
         "2019-03-08",
         6
        ],
        [
         "2019-01-13",
         1
        ],
        [
         "2019-03-09",
         7
        ],
        [
         "2019-02-22",
         6
        ],
        [
         "2019-03-19",
         3
        ],
        [
         "2019-01-20",
         1
        ],
        [
         "2019-03-08",
         6
        ],
        [
         "2019-03-08",
         6
        ],
        [
         "2019-02-07",
         5
        ],
        [
         "2019-01-15",
         3
        ],
        [
         "2019-03-22",
         6
        ],
        [
         "2019-01-15",
         3
        ],
        [
         "2019-01-08",
         3
        ],
        [
         "2019-01-15",
         3
        ],
        [
         "2019-01-28",
         2
        ],
        [
         "2019-02-14",
         5
        ],
        [
         "2019-03-10",
         1
        ],
        [
         "2019-01-12",
         7
        ],
        [
         "2019-03-26",
         3
        ],
        [
         "2019-01-01",
         3
        ],
        [
         "2019-01-02",
         4
        ],
        [
         "2019-03-16",
         7
        ],
        [
         "2019-03-03",
         1
        ],
        [
         "2019-01-31",
         5
        ],
        [
         "2019-02-13",
         4
        ],
        [
         "2019-02-15",
         6
        ],
        [
         "2019-02-07",
         5
        ],
        [
         "2019-01-27",
         1
        ],
        [
         "2019-02-23",
         7
        ],
        [
         "2019-02-03",
         1
        ],
        [
         "2019-03-03",
         1
        ],
        [
         "2019-02-03",
         1
        ],
        [
         "2019-03-17",
         1
        ],
        [
         "2019-03-28",
         5
        ],
        [
         "2019-03-02",
         7
        ],
        [
         "2019-02-08",
         6
        ],
        [
         "2019-03-22",
         6
        ],
        [
         "2019-02-09",
         7
        ],
        [
         "2019-02-15",
         6
        ],
        [
         "2019-01-23",
         4
        ],
        [
         "2019-01-25",
         6
        ],
        [
         "2019-02-02",
         7
        ],
        [
         "2019-03-30",
         7
        ],
        [
         "2019-03-30",
         7
        ],
        [
         "2019-02-25",
         2
        ],
        [
         "2019-03-18",
         2
        ],
        [
         "2019-03-07",
         5
        ],
        [
         "2019-03-16",
         7
        ],
        [
         "2019-01-29",
         3
        ],
        [
         "2019-02-02",
         7
        ],
        [
         "2019-02-15",
         6
        ],
        [
         "2019-01-08",
         3
        ],
        [
         "2019-02-12",
         3
        ],
        [
         "2019-01-01",
         3
        ],
        [
         "2019-03-21",
         5
        ],
        [
         "2019-02-28",
         5
        ],
        [
         "2019-03-23",
         7
        ],
        [
         "2019-01-30",
         4
        ],
        [
         "2019-02-04",
         2
        ],
        [
         "2019-03-13",
         4
        ],
        [
         "2019-03-15",
         6
        ],
        [
         "2019-03-05",
         3
        ],
        [
         "2019-03-05",
         3
        ],
        [
         "2019-02-26",
         3
        ],
        [
         "2019-03-20",
         4
        ],
        [
         "2019-01-01",
         3
        ],
        [
         "2019-01-27",
         1
        ],
        [
         "2019-01-21",
         2
        ],
        [
         "2019-02-02",
         7
        ],
        [
         "2019-02-03",
         1
        ],
        [
         "2019-01-05",
         7
        ],
        [
         "2019-01-27",
         1
        ],
        [
         "2019-03-25",
         2
        ],
        [
         "2019-02-25",
         2
        ],
        [
         "2019-01-28",
         2
        ],
        [
         "2019-01-08",
         3
        ],
        [
         "2019-01-29",
         3
        ],
        [
         "2019-03-29",
         6
        ],
        [
         "2019-02-09",
         7
        ],
        [
         "2019-01-16",
         4
        ],
        [
         "2019-01-05",
         7
        ],
        [
         "2019-01-27",
         1
        ],
        [
         "2019-03-14",
         5
        ],
        [
         "2019-02-23",
         7
        ],
        [
         "2019-03-18",
         2
        ],
        [
         "2019-03-29",
         6
        ],
        [
         "2019-01-22",
         3
        ],
        [
         "2019-03-01",
         6
        ],
        [
         "2019-01-17",
         5
        ],
        [
         "2019-03-26",
         3
        ],
        [
         "2019-03-20",
         4
        ],
        [
         "2019-02-06",
         4
        ],
        [
         "2019-01-01",
         3
        ],
        [
         "2019-01-27",
         1
        ],
        [
         "2019-02-25",
         2
        ],
        [
         "2019-01-16",
         4
        ],
        [
         "2019-01-13",
         1
        ],
        [
         "2019-02-07",
         5
        ],
        [
         "2019-02-17",
         1
        ],
        [
         "2019-02-12",
         3
        ],
        [
         "2019-01-24",
         5
        ],
        [
         "2019-02-06",
         4
        ],
        [
         "2019-03-26",
         3
        ],
        [
         "2019-03-11",
         2
        ],
        [
         "2019-02-07",
         5
        ],
        [
         "2019-01-05",
         7
        ],
        [
         "2019-03-07",
         5
        ],
        [
         "2019-02-25",
         2
        ],
        [
         "2019-02-01",
         6
        ],
        [
         "2019-01-22",
         3
        ],
        [
         "2019-01-03",
         5
        ],
        [
         "2019-02-13",
         4
        ],
        [
         "2019-01-28",
         2
        ],
        [
         "2019-01-05",
         7
        ],
        [
         "2019-03-19",
         3
        ],
        [
         "2019-01-12",
         7
        ],
        [
         "2019-01-07",
         2
        ],
        [
         "2019-01-26",
         7
        ],
        [
         "2019-01-23",
         4
        ],
        [
         "2019-02-09",
         7
        ],
        [
         "2019-02-22",
         6
        ],
        [
         "2019-02-05",
         3
        ],
        [
         "2019-03-07",
         5
        ],
        [
         "2019-03-25",
         2
        ],
        [
         "2019-01-20",
         1
        ],
        [
         "2019-02-04",
         2
        ],
        [
         "2019-01-30",
         4
        ],
        [
         "2019-01-02",
         4
        ],
        [
         "2019-03-29",
         6
        ],
        [
         "2019-03-14",
         5
        ],
        [
         "2019-02-11",
         2
        ],
        [
         "2019-01-30",
         4
        ],
        [
         "2019-03-20",
         4
        ],
        [
         "2019-03-20",
         4
        ],
        [
         "2019-01-17",
         5
        ],
        [
         "2019-02-03",
         1
        ],
        [
         "2019-01-01",
         3
        ],
        [
         "2019-01-10",
         5
        ],
        [
         "2019-03-02",
         7
        ],
        [
         "2019-02-25",
         2
        ],
        [
         "2019-01-29",
         3
        ],
        [
         "2019-03-10",
         1
        ],
        [
         "2019-01-13",
         1
        ],
        [
         "2019-03-22",
         6
        ],
        [
         "2019-03-01",
         6
        ],
        [
         "2019-02-20",
         4
        ],
        [
         "2019-01-14",
         2
        ],
        [
         "2019-03-26",
         3
        ],
        [
         "2019-03-01",
         6
        ],
        [
         "2019-01-07",
         2
        ],
        [
         "2019-02-01",
         6
        ],
        [
         "2019-02-13",
         4
        ],
        [
         "2019-01-14",
         2
        ],
        [
         "2019-01-19",
         7
        ],
        [
         "2019-03-09",
         7
        ],
        [
         "2019-03-27",
         4
        ],
        [
         "2019-02-04",
         2
        ],
        [
         "2019-03-14",
         5
        ],
        [
         "2019-03-04",
         2
        ],
        [
         "2019-03-03",
         1
        ],
        [
         "2019-01-27",
         1
        ],
        [
         "2019-02-07",
         5
        ],
        [
         "2019-02-05",
         3
        ],
        [
         "2019-03-15",
         6
        ],
        [
         "2019-03-01",
         6
        ],
        [
         "2019-02-15",
         6
        ],
        [
         "2019-02-17",
         1
        ],
        [
         "2019-01-26",
         7
        ],
        [
         "2019-03-24",
         1
        ],
        [
         "2019-01-23",
         4
        ],
        [
         "2019-01-26",
         7
        ],
        [
         "2019-03-14",
         5
        ],
        [
         "2019-03-17",
         1
        ],
        [
         "2019-01-08",
         3
        ],
        [
         "2019-02-08",
         6
        ],
        [
         "2019-02-10",
         1
        ],
        [
         "2019-03-28",
         5
        ],
        [
         "2019-01-23",
         4
        ],
        [
         "2019-01-17",
         5
        ],
        [
         "2019-02-07",
         5
        ],
        [
         "2019-03-09",
         7
        ],
        [
         "2019-01-24",
         5
        ],
        [
         "2019-01-19",
         7
        ],
        [
         "2019-02-03",
         1
        ],
        [
         "2019-03-20",
         4
        ],
        [
         "2019-01-13",
         1
        ],
        [
         "2019-03-14",
         5
        ],
        [
         "2019-01-23",
         4
        ],
        [
         "2019-02-07",
         5
        ],
        [
         "2019-03-28",
         5
        ],
        [
         "2019-03-20",
         4
        ],
        [
         "2019-01-17",
         5
        ],
        [
         "2019-01-12",
         7
        ],
        [
         "2019-02-16",
         7
        ],
        [
         "2019-01-26",
         7
        ],
        [
         "2019-03-09",
         7
        ],
        [
         "2019-03-14",
         5
        ],
        [
         "2019-01-25",
         6
        ],
        [
         "2019-01-26",
         7
        ],
        [
         "2019-01-19",
         7
        ],
        [
         "2019-03-05",
         3
        ],
        [
         "2019-01-15",
         3
        ],
        [
         "2019-03-18",
         2
        ],
        [
         "2019-03-20",
         4
        ],
        [
         "2019-01-15",
         3
        ],
        [
         "2019-03-03",
         1
        ],
        [
         "2019-03-19",
         3
        ],
        [
         "2019-03-08",
         6
        ],
        [
         "2019-02-27",
         4
        ],
        [
         "2019-02-23",
         7
        ],
        [
         "2019-03-19",
         3
        ],
        [
         "2019-03-27",
         4
        ],
        [
         "2019-03-30",
         7
        ],
        [
         "2019-02-16",
         7
        ],
        [
         "2019-01-18",
         6
        ],
        [
         "2019-03-30",
         7
        ],
        [
         "2019-03-20",
         4
        ],
        [
         "2019-01-16",
         4
        ],
        [
         "2019-02-24",
         1
        ],
        [
         "2019-01-15",
         3
        ],
        [
         "2019-01-22",
         3
        ],
        [
         "2019-02-03",
         1
        ],
        [
         "2019-03-06",
         4
        ],
        [
         "2019-02-16",
         7
        ],
        [
         "2019-03-14",
         5
        ],
        [
         "2019-02-27",
         4
        ],
        [
         "2019-01-18",
         6
        ],
        [
         "2019-01-29",
         3
        ],
        [
         "2019-02-26",
         3
        ],
        [
         "2019-02-03",
         1
        ],
        [
         "2019-01-16",
         4
        ],
        [
         "2019-03-24",
         1
        ],
        [
         "2019-02-12",
         3
        ],
        [
         "2019-02-21",
         5
        ],
        [
         "2019-02-04",
         2
        ],
        [
         "2019-02-20",
         4
        ],
        [
         "2019-02-23",
         7
        ],
        [
         "2019-02-16",
         7
        ],
        [
         "2019-01-17",
         5
        ],
        [
         "2019-01-14",
         2
        ],
        [
         "2019-03-30",
         7
        ],
        [
         "2019-03-02",
         7
        ],
        [
         "2019-02-15",
         6
        ],
        [
         "2019-03-01",
         6
        ],
        [
         "2019-02-24",
         1
        ],
        [
         "2019-02-19",
         3
        ],
        [
         "2019-02-23",
         7
        ],
        [
         "2019-02-07",
         5
        ],
        [
         "2019-01-11",
         6
        ],
        [
         "2019-02-12",
         3
        ],
        [
         "2019-01-14",
         2
        ],
        [
         "2019-01-09",
         4
        ],
        [
         "2019-02-27",
         4
        ],
        [
         "2019-01-24",
         5
        ],
        [
         "2019-01-08",
         3
        ],
        [
         "2019-01-08",
         3
        ],
        [
         "2019-01-16",
         4
        ],
        [
         "2019-03-13",
         4
        ],
        [
         "2019-02-15",
         6
        ],
        [
         "2019-01-25",
         6
        ],
        [
         "2019-03-12",
         3
        ],
        [
         "2019-03-04",
         2
        ],
        [
         "2019-02-10",
         1
        ],
        [
         "2019-01-16",
         4
        ],
        [
         "2019-01-29",
         3
        ],
        [
         "2019-01-01",
         3
        ],
        [
         "2019-01-06",
         1
        ],
        [
         "2019-02-19",
         3
        ],
        [
         "2019-01-12",
         7
        ],
        [
         "2019-02-07",
         5
        ],
        [
         "2019-03-27",
         4
        ],
        [
         "2019-02-27",
         4
        ],
        [
         "2019-01-06",
         1
        ],
        [
         "2019-03-02",
         7
        ],
        [
         "2019-03-29",
         6
        ],
        [
         "2019-01-31",
         5
        ],
        [
         "2019-01-21",
         2
        ],
        [
         "2019-01-20",
         1
        ],
        [
         "2019-01-17",
         5
        ],
        [
         "2019-02-28",
         5
        ],
        [
         "2019-03-19",
         3
        ],
        [
         "2019-02-19",
         3
        ],
        [
         "2019-02-04",
         2
        ],
        [
         "2019-01-31",
         5
        ],
        [
         "2019-02-06",
         4
        ],
        [
         "2019-03-28",
         5
        ],
        [
         "2019-01-19",
         7
        ],
        [
         "2019-02-17",
         1
        ],
        [
         "2019-01-18",
         6
        ],
        [
         "2019-02-02",
         7
        ],
        [
         "2019-01-18",
         6
        ],
        [
         "2019-03-18",
         2
        ],
        [
         "2019-01-11",
         6
        ],
        [
         "2019-02-04",
         2
        ],
        [
         "2019-02-06",
         4
        ],
        [
         "2019-01-08",
         3
        ],
        [
         "2019-03-05",
         3
        ],
        [
         "2019-03-16",
         7
        ],
        [
         "2019-03-09",
         7
        ],
        [
         "2019-03-01",
         6
        ],
        [
         "2019-02-28",
         5
        ],
        [
         "2019-02-08",
         6
        ],
        [
         "2019-01-24",
         5
        ],
        [
         "2019-03-01",
         6
        ],
        [
         "2019-03-10",
         1
        ],
        [
         "2019-03-23",
         7
        ],
        [
         "2019-01-29",
         3
        ],
        [
         "2019-01-12",
         7
        ],
        [
         "2019-03-20",
         4
        ],
        [
         "2019-03-23",
         7
        ],
        [
         "2019-01-14",
         2
        ],
        [
         "2019-02-12",
         3
        ],
        [
         "2019-02-20",
         4
        ],
        [
         "2019-01-02",
         4
        ],
        [
         "2019-02-02",
         7
        ],
        [
         "2019-01-08",
         3
        ],
        [
         "2019-01-30",
         4
        ],
        [
         "2019-03-26",
         3
        ],
        [
         "2019-01-15",
         3
        ],
        [
         "2019-03-14",
         5
        ],
        [
         "2019-02-03",
         1
        ],
        [
         "2019-02-22",
         6
        ],
        [
         "2019-01-24",
         5
        ],
        [
         "2019-01-25",
         6
        ],
        [
         "2019-03-09",
         7
        ],
        [
         "2019-02-17",
         1
        ],
        [
         "2019-01-11",
         6
        ],
        [
         "2019-02-27",
         4
        ],
        [
         "2019-03-25",
         2
        ],
        [
         "2019-02-11",
         2
        ],
        [
         "2019-01-31",
         5
        ],
        [
         "2019-01-20",
         1
        ],
        [
         "2019-03-26",
         3
        ],
        [
         "2019-01-20",
         1
        ],
        [
         "2019-03-05",
         3
        ],
        [
         "2019-01-05",
         7
        ],
        [
         "2019-02-13",
         4
        ],
        [
         "2019-03-16",
         7
        ],
        [
         "2019-01-15",
         3
        ],
        [
         "2019-02-26",
         3
        ],
        [
         "2019-02-27",
         4
        ],
        [
         "2019-02-17",
         1
        ],
        [
         "2019-02-06",
         4
        ],
        [
         "2019-01-17",
         5
        ],
        [
         "2019-01-22",
         3
        ],
        [
         "2019-03-05",
         3
        ],
        [
         "2019-01-03",
         5
        ],
        [
         "2019-03-20",
         4
        ],
        [
         "2019-01-31",
         5
        ],
        [
         "2019-02-19",
         3
        ],
        [
         "2019-02-11",
         2
        ],
        [
         "2019-02-05",
         3
        ],
        [
         "2019-03-03",
         1
        ],
        [
         "2019-02-24",
         1
        ],
        [
         "2019-02-04",
         2
        ],
        [
         "2019-02-19",
         3
        ],
        [
         "2019-01-23",
         4
        ],
        [
         "2019-01-14",
         2
        ],
        [
         "2019-01-17",
         5
        ],
        [
         "2019-03-03",
         1
        ],
        [
         "2019-02-15",
         6
        ],
        [
         "2019-01-15",
         3
        ],
        [
         "2019-02-27",
         4
        ],
        [
         "2019-02-26",
         3
        ],
        [
         "2019-03-15",
         6
        ],
        [
         "2019-01-24",
         5
        ],
        [
         "2019-02-22",
         6
        ],
        [
         "2019-03-15",
         6
        ],
        [
         "2019-02-11",
         2
        ],
        [
         "2019-01-12",
         7
        ],
        [
         "2019-03-03",
         1
        ],
        [
         "2019-03-23",
         7
        ],
        [
         "2019-03-04",
         2
        ],
        [
         "2019-02-23",
         7
        ],
        [
         "2019-03-17",
         1
        ],
        [
         "2019-01-16",
         4
        ],
        [
         "2019-01-08",
         3
        ],
        [
         "2019-01-14",
         2
        ],
        [
         "2019-01-31",
         5
        ],
        [
         "2019-03-15",
         6
        ],
        [
         "2019-02-24",
         1
        ],
        [
         "2019-02-08",
         6
        ],
        [
         "2019-03-22",
         6
        ],
        [
         "2019-01-24",
         5
        ],
        [
         "2019-03-14",
         5
        ],
        [
         "2019-01-23",
         4
        ],
        [
         "2019-01-19",
         7
        ],
        [
         "2019-01-27",
         1
        ],
        [
         "2019-02-03",
         1
        ],
        [
         "2019-03-25",
         2
        ],
        [
         "2019-02-24",
         1
        ],
        [
         "2019-02-07",
         5
        ],
        [
         "2019-03-04",
         2
        ],
        [
         "2019-02-14",
         5
        ],
        [
         "2019-01-29",
         3
        ],
        [
         "2019-01-28",
         2
        ],
        [
         "2019-03-26",
         3
        ],
        [
         "2019-03-24",
         1
        ],
        [
         "2019-01-01",
         3
        ],
        [
         "2019-01-24",
         5
        ],
        [
         "2019-02-25",
         2
        ],
        [
         "2019-01-09",
         4
        ],
        [
         "2019-02-14",
         5
        ],
        [
         "2019-03-12",
         3
        ],
        [
         "2019-03-26",
         3
        ],
        [
         "2019-01-09",
         4
        ],
        [
         "2019-01-02",
         4
        ],
        [
         "2019-01-15",
         3
        ],
        [
         "2019-01-01",
         3
        ],
        [
         "2019-02-15",
         6
        ],
        [
         "2019-02-28",
         5
        ],
        [
         "2019-03-02",
         7
        ],
        [
         "2019-02-13",
         4
        ],
        [
         "2019-01-26",
         7
        ],
        [
         "2019-01-30",
         4
        ],
        [
         "2019-01-27",
         1
        ],
        [
         "2019-01-30",
         4
        ],
        [
         "2019-01-08",
         3
        ],
        [
         "2019-01-19",
         7
        ],
        [
         "2019-01-25",
         6
        ],
        [
         "2019-02-19",
         3
        ],
        [
         "2019-01-14",
         2
        ],
        [
         "2019-02-25",
         2
        ],
        [
         "2019-01-23",
         4
        ],
        [
         "2019-02-16",
         7
        ],
        [
         "2019-01-01",
         3
        ],
        [
         "2019-03-07",
         5
        ],
        [
         "2019-02-15",
         6
        ],
        [
         "2019-01-23",
         4
        ],
        [
         "2019-02-20",
         4
        ],
        [
         "2019-01-08",
         3
        ],
        [
         "2019-03-17",
         1
        ],
        [
         "2019-01-12",
         7
        ],
        [
         "2019-01-08",
         3
        ],
        [
         "2019-01-26",
         7
        ],
        [
         "2019-03-15",
         6
        ],
        [
         "2019-01-17",
         5
        ],
        [
         "2019-01-08",
         3
        ],
        [
         "2019-01-06",
         1
        ],
        [
         "2019-02-16",
         7
        ],
        [
         "2019-03-13",
         4
        ],
        [
         "2019-01-28",
         2
        ],
        [
         "2019-01-18",
         6
        ],
        [
         "2019-03-19",
         3
        ],
        [
         "2019-03-15",
         6
        ],
        [
         "2019-02-12",
         3
        ],
        [
         "2019-02-25",
         2
        ],
        [
         "2019-03-21",
         5
        ],
        [
         "2019-01-19",
         7
        ],
        [
         "2019-01-08",
         3
        ],
        [
         "2019-03-30",
         7
        ],
        [
         "2019-02-20",
         4
        ],
        [
         "2019-03-30",
         7
        ],
        [
         "2019-03-19",
         3
        ],
        [
         "2019-01-13",
         1
        ],
        [
         "2019-02-05",
         3
        ],
        [
         "2019-03-23",
         7
        ],
        [
         "2019-03-13",
         4
        ],
        [
         "2019-03-17",
         1
        ],
        [
         "2019-02-21",
         5
        ],
        [
         "2019-02-07",
         5
        ],
        [
         "2019-03-02",
         7
        ],
        [
         "2019-03-06",
         4
        ],
        [
         "2019-02-06",
         4
        ],
        [
         "2019-01-28",
         2
        ],
        [
         "2019-01-18",
         6
        ],
        [
         "2019-02-05",
         3
        ],
        [
         "2019-03-02",
         7
        ],
        [
         "2019-02-09",
         7
        ],
        [
         "2019-01-14",
         2
        ],
        [
         "2019-02-09",
         7
        ],
        [
         "2019-03-26",
         3
        ],
        [
         "2019-01-28",
         2
        ],
        [
         "2019-02-14",
         5
        ],
        [
         "2019-03-24",
         1
        ],
        [
         "2019-02-09",
         7
        ],
        [
         "2019-03-24",
         1
        ],
        [
         "2019-03-27",
         4
        ],
        [
         "2019-01-27",
         1
        ],
        [
         "2019-03-27",
         4
        ],
        [
         "2019-01-19",
         7
        ],
        [
         "2019-02-07",
         5
        ],
        [
         "2019-01-31",
         5
        ],
        [
         "2019-02-25",
         2
        ],
        [
         "2019-02-02",
         7
        ],
        [
         "2019-03-14",
         5
        ],
        [
         "2019-03-11",
         2
        ],
        [
         "2019-02-22",
         6
        ],
        [
         "2019-03-02",
         7
        ],
        [
         "2019-03-10",
         1
        ],
        [
         "2019-02-08",
         6
        ],
        [
         "2019-02-22",
         6
        ],
        [
         "2019-01-10",
         5
        ],
        [
         "2019-03-14",
         5
        ],
        [
         "2019-01-10",
         5
        ],
        [
         "2019-02-15",
         6
        ],
        [
         "2019-01-13",
         1
        ],
        [
         "2019-02-15",
         6
        ],
        [
         "2019-03-02",
         7
        ],
        [
         "2019-03-24",
         1
        ],
        [
         "2019-02-02",
         7
        ],
        [
         "2019-02-27",
         4
        ],
        [
         "2019-01-20",
         1
        ],
        [
         "2019-01-03",
         5
        ],
        [
         "2019-01-24",
         5
        ],
        [
         "2019-01-05",
         7
        ],
        [
         "2019-03-30",
         7
        ],
        [
         "2019-02-17",
         1
        ],
        [
         "2019-03-21",
         5
        ],
        [
         "2019-03-02",
         7
        ],
        [
         "2019-03-27",
         4
        ],
        [
         "2019-01-19",
         7
        ],
        [
         "2019-02-19",
         3
        ],
        [
         "2019-03-28",
         5
        ],
        [
         "2019-01-05",
         7
        ],
        [
         "2019-03-26",
         3
        ],
        [
         "2019-02-03",
         1
        ],
        [
         "2019-02-06",
         4
        ],
        [
         "2019-02-24",
         1
        ],
        [
         "2019-02-21",
         5
        ],
        [
         "2019-01-09",
         4
        ],
        [
         "2019-02-25",
         2
        ],
        [
         "2019-01-13",
         1
        ],
        [
         "2019-02-09",
         7
        ],
        [
         "2019-01-06",
         1
        ],
        [
         "2019-01-10",
         5
        ],
        [
         "2019-02-07",
         5
        ],
        [
         "2019-01-09",
         4
        ],
        [
         "2019-02-19",
         3
        ],
        [
         "2019-03-18",
         2
        ],
        [
         "2019-02-05",
         3
        ],
        [
         "2019-03-19",
         3
        ],
        [
         "2019-03-30",
         7
        ],
        [
         "2019-01-26",
         7
        ],
        [
         "2019-03-02",
         7
        ],
        [
         "2019-03-04",
         2
        ],
        [
         "2019-01-13",
         1
        ],
        [
         "2019-03-25",
         2
        ],
        [
         "2019-03-11",
         2
        ],
        [
         "2019-01-01",
         3
        ],
        [
         "2019-02-10",
         1
        ],
        [
         "2019-01-26",
         7
        ],
        [
         "2019-02-11",
         2
        ],
        [
         "2019-02-07",
         5
        ],
        [
         "2019-03-06",
         4
        ],
        [
         "2019-03-04",
         2
        ],
        [
         "2019-02-26",
         3
        ],
        [
         "2019-03-10",
         1
        ],
        [
         "2019-02-04",
         2
        ],
        [
         "2019-01-19",
         7
        ],
        [
         "2019-01-23",
         4
        ],
        [
         "2019-03-14",
         5
        ],
        [
         "2019-01-23",
         4
        ],
        [
         "2019-01-09",
         4
        ],
        [
         "2019-02-07",
         5
        ],
        [
         "2019-02-18",
         2
        ],
        [
         "2019-01-03",
         5
        ],
        [
         "2019-03-29",
         6
        ],
        [
         "2019-01-28",
         2
        ],
        [
         "2019-03-22",
         6
        ],
        [
         "2019-01-24",
         5
        ],
        [
         "2019-03-10",
         1
        ],
        [
         "2019-02-22",
         6
        ],
        [
         "2019-02-18",
         2
        ],
        [
         "2019-01-29",
         3
        ],
        [
         "2019-03-02",
         7
        ],
        [
         "2019-02-09",
         7
        ],
        [
         "2019-02-22",
         6
        ],
        [
         "2019-02-18",
         2
        ]
       ],
       "datasetInfos": [],
       "dbfsResultPath": null,
       "isJsonSchema": true,
       "metadata": {
        "dataframeName": "_sqldf",
        "executionCount": 14
       },
       "overflow": false,
       "plotOptions": {
        "customPlotOptions": {},
        "displayType": "table",
        "pivotAggregation": null,
        "pivotColumns": null,
        "xColumns": null,
        "yColumns": null
       },
       "removedWidgets": [],
       "schema": [
        {
         "metadata": "{\"__detected_date_formats\":\"yyyy-M-d\"}",
         "name": "date",
         "type": "\"date\""
        },
        {
         "metadata": "{\"__autoGeneratedAlias\":\"true\"}",
         "name": "dayofweek(date)",
         "type": "\"integer\""
        }
       ],
       "type": "table"
      }
     },
     "output_type": "display_data"
    }
   ],
   "source": [
    "%sql\n",
    "select date,\n",
    "      dayofweek(date)\n",
    "from `walmartsales_dataanalysis`.`default`.`walmart_sales_data_csv`"
   ]
  },
  {
   "cell_type": "code",
   "execution_count": 0,
   "metadata": {
    "application/vnd.databricks.v1+cell": {
     "cellMetadata": {
      "byteLimit": 2048000,
      "implicitDf": true,
      "rowLimit": 10000
     },
     "inputWidgets": {},
     "nuid": "927e7e30-455a-4ac1-a2c4-926f4c2fa189",
     "showTitle": false,
     "title": ""
    }
   },
   "outputs": [],
   "source": [
    "# %sql\n",
    "\n",
    "# update `walmartsales_dataanalysis`.`default`.`walmart_sales_data_csv`\n",
    "# SET day_number = DAYOFWEEK(date);"
   ]
  },
  {
   "cell_type": "code",
   "execution_count": 0,
   "metadata": {
    "application/vnd.databricks.v1+cell": {
     "cellMetadata": {
      "byteLimit": 2048000,
      "implicitDf": true,
      "rowLimit": 10000
     },
     "inputWidgets": {},
     "nuid": "7a17f776-d207-4aa9-9e9e-bc4ae29aebfa",
     "showTitle": false,
     "title": ""
    }
   },
   "outputs": [
    {
     "output_type": "display_data",
     "data": {
      "text/html": [
       "<style scoped>\n",
       "  .table-result-container {\n",
       "    max-height: 300px;\n",
       "    overflow: auto;\n",
       "  }\n",
       "  table, th, td {\n",
       "    border: 1px solid black;\n",
       "    border-collapse: collapse;\n",
       "  }\n",
       "  th, td {\n",
       "    padding: 5px;\n",
       "  }\n",
       "  th {\n",
       "    text-align: left;\n",
       "  }\n",
       "</style><div class='table-result-container'><table class='table-result'><thead style='background-color: white'><tr><th>date</th><th>date_format(date, MM)</th></tr></thead><tbody><tr><td>2019-01-05</td><td>01</td></tr><tr><td>2019-03-08</td><td>03</td></tr><tr><td>2019-03-03</td><td>03</td></tr><tr><td>2019-01-27</td><td>01</td></tr><tr><td>2019-02-08</td><td>02</td></tr><tr><td>2019-03-25</td><td>03</td></tr><tr><td>2019-02-25</td><td>02</td></tr><tr><td>2019-02-24</td><td>02</td></tr><tr><td>2019-01-10</td><td>01</td></tr><tr><td>2019-02-20</td><td>02</td></tr><tr><td>2019-02-06</td><td>02</td></tr><tr><td>2019-03-09</td><td>03</td></tr><tr><td>2019-02-12</td><td>02</td></tr><tr><td>2019-02-07</td><td>02</td></tr><tr><td>2019-03-29</td><td>03</td></tr><tr><td>2019-01-15</td><td>01</td></tr><tr><td>2019-03-11</td><td>03</td></tr><tr><td>2019-01-01</td><td>01</td></tr><tr><td>2019-01-21</td><td>01</td></tr><tr><td>2019-03-11</td><td>03</td></tr><tr><td>2019-02-25</td><td>02</td></tr><tr><td>2019-03-05</td><td>03</td></tr><tr><td>2019-03-15</td><td>03</td></tr><tr><td>2019-02-17</td><td>02</td></tr><tr><td>2019-03-02</td><td>03</td></tr><tr><td>2019-03-22</td><td>03</td></tr><tr><td>2019-02-08</td><td>02</td></tr><tr><td>2019-03-10</td><td>03</td></tr><tr><td>2019-01-25</td><td>01</td></tr><tr><td>2019-03-15</td><td>03</td></tr><tr><td>2019-02-25</td><td>02</td></tr><tr><td>2019-01-28</td><td>01</td></tr><tr><td>2019-01-10</td><td>01</td></tr><tr><td>2019-03-15</td><td>03</td></tr><tr><td>2019-02-06</td><td>02</td></tr><tr><td>2019-01-07</td><td>01</td></tr><tr><td>2019-03-10</td><td>03</td></tr><tr><td>2019-01-15</td><td>01</td></tr><tr><td>2019-03-23</td><td>03</td></tr><tr><td>2019-03-03</td><td>03</td></tr><tr><td>2019-01-17</td><td>01</td></tr><tr><td>2019-02-02</td><td>02</td></tr><tr><td>2019-02-08</td><td>02</td></tr><tr><td>2019-03-04</td><td>03</td></tr><tr><td>2019-03-16</td><td>03</td></tr><tr><td>2019-03-09</td><td>03</td></tr><tr><td>2019-02-27</td><td>02</td></tr><tr><td>2019-02-06</td><td>02</td></tr><tr><td>2019-02-10</td><td>02</td></tr><tr><td>2019-03-19</td><td>03</td></tr><tr><td>2019-02-03</td><td>02</td></tr><tr><td>2019-02-10</td><td>02</td></tr><tr><td>2019-03-22</td><td>03</td></tr><tr><td>2019-01-25</td><td>01</td></tr><tr><td>2019-03-07</td><td>03</td></tr><tr><td>2019-02-28</td><td>02</td></tr><tr><td>2019-03-27</td><td>03</td></tr><tr><td>2019-02-07</td><td>02</td></tr><tr><td>2019-01-20</td><td>01</td></tr><tr><td>2019-03-12</td><td>03</td></tr><tr><td>2019-02-15</td><td>02</td></tr><tr><td>2019-02-24</td><td>02</td></tr><tr><td>2019-02-03</td><td>02</td></tr><tr><td>2019-03-06</td><td>03</td></tr><tr><td>2019-02-14</td><td>02</td></tr><tr><td>2019-03-13</td><td>03</td></tr><tr><td>2019-02-10</td><td>02</td></tr><tr><td>2019-01-07</td><td>01</td></tr><tr><td>2019-01-24</td><td>01</td></tr><tr><td>2019-02-02</td><td>02</td></tr><tr><td>2019-01-06</td><td>01</td></tr><tr><td>2019-02-11</td><td>02</td></tr><tr><td>2019-03-05</td><td>03</td></tr><tr><td>2019-03-09</td><td>03</td></tr><tr><td>2019-01-22</td><td>01</td></tr><tr><td>2019-01-13</td><td>01</td></tr><tr><td>2019-01-09</td><td>01</td></tr><tr><td>2019-01-12</td><td>01</td></tr><tr><td>2019-03-05</td><td>03</td></tr><tr><td>2019-01-22</td><td>01</td></tr><tr><td>2019-01-21</td><td>01</td></tr><tr><td>2019-01-26</td><td>01</td></tr><tr><td>2019-01-23</td><td>01</td></tr><tr><td>2019-02-23</td><td>02</td></tr><tr><td>2019-03-09</td><td>03</td></tr><tr><td>2019-03-05</td><td>03</td></tr><tr><td>2019-03-25</td><td>03</td></tr><tr><td>2019-03-27</td><td>03</td></tr><tr><td>2019-01-02</td><td>01</td></tr><tr><td>2019-02-27</td><td>02</td></tr><tr><td>2019-01-23</td><td>01</td></tr><tr><td>2019-01-26</td><td>01</td></tr><tr><td>2019-01-10</td><td>01</td></tr><tr><td>2019-03-12</td><td>03</td></tr><tr><td>2019-02-06</td><td>02</td></tr><tr><td>2019-03-08</td><td>03</td></tr><tr><td>2019-03-29</td><td>03</td></tr><tr><td>2019-02-09</td><td>02</td></tr><tr><td>2019-03-23</td><td>03</td></tr><tr><td>2019-03-05</td><td>03</td></tr><tr><td>2019-03-26</td><td>03</td></tr><tr><td>2019-03-01</td><td>03</td></tr><tr><td>2019-02-01</td><td>02</td></tr><tr><td>2019-03-28</td><td>03</td></tr><tr><td>2019-03-19</td><td>03</td></tr><tr><td>2019-01-12</td><td>01</td></tr><tr><td>2019-01-05</td><td>01</td></tr><tr><td>2019-03-22</td><td>03</td></tr><tr><td>2019-03-24</td><td>03</td></tr><tr><td>2019-03-03</td><td>03</td></tr><tr><td>2019-02-05</td><td>02</td></tr><tr><td>2019-02-05</td><td>02</td></tr><tr><td>2019-02-15</td><td>02</td></tr><tr><td>2019-01-19</td><td>01</td></tr><tr><td>2019-02-01</td><td>02</td></tr><tr><td>2019-03-02</td><td>03</td></tr><tr><td>2019-03-05</td><td>03</td></tr><tr><td>2019-01-16</td><td>01</td></tr><tr><td>2019-02-02</td><td>02</td></tr><tr><td>2019-01-20</td><td>01</td></tr><tr><td>2019-02-14</td><td>02</td></tr><tr><td>2019-01-12</td><td>01</td></tr><tr><td>2019-03-09</td><td>03</td></tr><tr><td>2019-03-13</td><td>03</td></tr><tr><td>2019-03-09</td><td>03</td></tr><tr><td>2019-03-10</td><td>03</td></tr><tr><td>2019-01-27</td><td>01</td></tr><tr><td>2019-01-08</td><td>01</td></tr><tr><td>2019-01-08</td><td>01</td></tr><tr><td>2019-02-08</td><td>02</td></tr><tr><td>2019-01-25</td><td>01</td></tr><tr><td>2019-03-06</td><td>03</td></tr><tr><td>2019-02-10</td><td>02</td></tr><tr><td>2019-02-17</td><td>02</td></tr><tr><td>2019-03-08</td><td>03</td></tr><tr><td>2019-02-18</td><td>02</td></tr><tr><td>2019-01-18</td><td>01</td></tr><tr><td>2019-02-18</td><td>02</td></tr><tr><td>2019-02-16</td><td>02</td></tr><tr><td>2019-03-16</td><td>03</td></tr><tr><td>2019-01-23</td><td>01</td></tr><tr><td>2019-01-25</td><td>01</td></tr><tr><td>2019-02-05</td><td>02</td></tr><tr><td>2019-02-22</td><td>02</td></tr><tr><td>2019-01-21</td><td>01</td></tr><tr><td>2019-03-08</td><td>03</td></tr><tr><td>2019-02-10</td><td>02</td></tr><tr><td>2019-03-19</td><td>03</td></tr><tr><td>2019-03-06</td><td>03</td></tr><tr><td>2019-03-27</td><td>03</td></tr><tr><td>2019-03-23</td><td>03</td></tr><tr><td>2019-03-11</td><td>03</td></tr><tr><td>2019-01-29</td><td>01</td></tr><tr><td>2019-02-07</td><td>02</td></tr><tr><td>2019-01-28</td><td>01</td></tr><tr><td>2019-02-20</td><td>02</td></tr><tr><td>2019-01-04</td><td>01</td></tr><tr><td>2019-03-07</td><td>03</td></tr><tr><td>2019-03-30</td><td>03</td></tr><tr><td>2019-03-27</td><td>03</td></tr><tr><td>2019-01-19</td><td>01</td></tr><tr><td>2019-02-25</td><td>02</td></tr><tr><td>2019-03-13</td><td>03</td></tr><tr><td>2019-01-30</td><td>01</td></tr><tr><td>2019-02-20</td><td>02</td></tr><tr><td>2019-02-25</td><td>02</td></tr><tr><td>2019-01-16</td><td>01</td></tr><tr><td>2019-02-08</td><td>02</td></tr><tr><td>2019-01-19</td><td>01</td></tr><tr><td>2019-02-01</td><td>02</td></tr><tr><td>2019-01-03</td><td>01</td></tr><tr><td>2019-01-26</td><td>01</td></tr><tr><td>2019-03-03</td><td>03</td></tr><tr><td>2019-01-19</td><td>01</td></tr><tr><td>2019-01-18</td><td>01</td></tr><tr><td>2019-03-21</td><td>03</td></tr><tr><td>2019-03-03</td><td>03</td></tr><tr><td>2019-02-13</td><td>02</td></tr><tr><td>2019-03-23</td><td>03</td></tr><tr><td>2019-01-28</td><td>01</td></tr><tr><td>2019-02-09</td><td>02</td></tr><tr><td>2019-01-23</td><td>01</td></tr><tr><td>2019-03-23</td><td>03</td></tr><tr><td>2019-01-25</td><td>01</td></tr><tr><td>2019-03-04</td><td>03</td></tr><tr><td>2019-03-05</td><td>03</td></tr><tr><td>2019-03-03</td><td>03</td></tr><tr><td>2019-02-08</td><td>02</td></tr><tr><td>2019-02-10</td><td>02</td></tr><tr><td>2019-01-28</td><td>01</td></tr><tr><td>2019-02-11</td><td>02</td></tr><tr><td>2019-01-15</td><td>01</td></tr><tr><td>2019-03-16</td><td>03</td></tr><tr><td>2019-01-26</td><td>01</td></tr><tr><td>2019-03-19</td><td>03</td></tr><tr><td>2019-01-13</td><td>01</td></tr><tr><td>2019-03-26</td><td>03</td></tr><tr><td>2019-03-23</td><td>03</td></tr><tr><td>2019-03-12</td><td>03</td></tr><tr><td>2019-02-17</td><td>02</td></tr><tr><td>2019-01-29</td><td>01</td></tr><tr><td>2019-03-15</td><td>03</td></tr><tr><td>2019-01-14</td><td>01</td></tr><tr><td>2019-02-06</td><td>02</td></tr><tr><td>2019-02-15</td><td>02</td></tr><tr><td>2019-01-03</td><td>01</td></tr><tr><td>2019-01-04</td><td>01</td></tr><tr><td>2019-03-18</td><td>03</td></tr><tr><td>2019-03-28</td><td>03</td></tr><tr><td>2019-03-02</td><td>03</td></tr><tr><td>2019-01-25</td><td>01</td></tr><tr><td>2019-01-16</td><td>01</td></tr><tr><td>2019-03-20</td><td>03</td></tr><tr><td>2019-01-04</td><td>01</td></tr><tr><td>2019-03-11</td><td>03</td></tr><tr><td>2019-03-22</td><td>03</td></tr><tr><td>2019-03-24</td><td>03</td></tr><tr><td>2019-02-21</td><td>02</td></tr><tr><td>2019-02-12</td><td>02</td></tr><tr><td>2019-03-10</td><td>03</td></tr><tr><td>2019-01-31</td><td>01</td></tr><tr><td>2019-03-06</td><td>03</td></tr><tr><td>2019-02-17</td><td>02</td></tr><tr><td>2019-02-21</td><td>02</td></tr><tr><td>2019-03-20</td><td>03</td></tr><tr><td>2019-01-11</td><td>01</td></tr><tr><td>2019-01-26</td><td>01</td></tr><tr><td>2019-01-31</td><td>01</td></tr><tr><td>2019-02-26</td><td>02</td></tr><tr><td>2019-03-11</td><td>03</td></tr><tr><td>2019-01-26</td><td>01</td></tr><tr><td>2019-03-12</td><td>03</td></tr><tr><td>2019-02-11</td><td>02</td></tr><tr><td>2019-02-21</td><td>02</td></tr><tr><td>2019-03-09</td><td>03</td></tr><tr><td>2019-01-20</td><td>01</td></tr><tr><td>2019-01-28</td><td>01</td></tr><tr><td>2019-03-05</td><td>03</td></tr><tr><td>2019-03-02</td><td>03</td></tr><tr><td>2019-01-11</td><td>01</td></tr><tr><td>2019-01-11</td><td>01</td></tr><tr><td>2019-03-11</td><td>03</td></tr><tr><td>2019-02-28</td><td>02</td></tr><tr><td>2019-01-05</td><td>01</td></tr><tr><td>2019-02-02</td><td>02</td></tr><tr><td>2019-01-01</td><td>01</td></tr><tr><td>2019-02-09</td><td>02</td></tr><tr><td>2019-01-23</td><td>01</td></tr><tr><td>2019-01-07</td><td>01</td></tr><tr><td>2019-01-14</td><td>01</td></tr><tr><td>2019-02-02</td><td>02</td></tr><tr><td>2019-03-17</td><td>03</td></tr><tr><td>2019-03-02</td><td>03</td></tr><tr><td>2019-03-16</td><td>03</td></tr><tr><td>2019-01-06</td><td>01</td></tr><tr><td>2019-01-29</td><td>01</td></tr><tr><td>2019-01-31</td><td>01</td></tr><tr><td>2019-02-05</td><td>02</td></tr><tr><td>2019-02-13</td><td>02</td></tr><tr><td>2019-02-07</td><td>02</td></tr><tr><td>2019-03-19</td><td>03</td></tr><tr><td>2019-03-07</td><td>03</td></tr><tr><td>2019-03-13</td><td>03</td></tr><tr><td>2019-02-09</td><td>02</td></tr><tr><td>2019-02-26</td><td>02</td></tr><tr><td>2019-03-12</td><td>03</td></tr><tr><td>2019-03-14</td><td>03</td></tr><tr><td>2019-01-08</td><td>01</td></tr><tr><td>2019-01-05</td><td>01</td></tr><tr><td>2019-01-04</td><td>01</td></tr><tr><td>2019-03-06</td><td>03</td></tr><tr><td>2019-01-03</td><td>01</td></tr><tr><td>2019-01-07</td><td>01</td></tr><tr><td>2019-01-27</td><td>01</td></tr><tr><td>2019-02-26</td><td>02</td></tr><tr><td>2019-01-07</td><td>01</td></tr><tr><td>2019-01-07</td><td>01</td></tr><tr><td>2019-02-02</td><td>02</td></tr><tr><td>2019-03-20</td><td>03</td></tr><tr><td>2019-03-20</td><td>03</td></tr><tr><td>2019-02-15</td><td>02</td></tr><tr><td>2019-03-06</td><td>03</td></tr><tr><td>2019-01-06</td><td>01</td></tr><tr><td>2019-03-04</td><td>03</td></tr><tr><td>2019-03-12</td><td>03</td></tr><tr><td>2019-02-20</td><td>02</td></tr><tr><td>2019-03-24</td><td>03</td></tr><tr><td>2019-01-31</td><td>01</td></tr><tr><td>2019-01-25</td><td>01</td></tr><tr><td>2019-02-03</td><td>02</td></tr><tr><td>2019-01-24</td><td>01</td></tr><tr><td>2019-03-14</td><td>03</td></tr><tr><td>2019-02-18</td><td>02</td></tr><tr><td>2019-01-21</td><td>01</td></tr><tr><td>2019-03-13</td><td>03</td></tr><tr><td>2019-03-03</td><td>03</td></tr><tr><td>2019-03-29</td><td>03</td></tr><tr><td>2019-01-10</td><td>01</td></tr><tr><td>2019-01-25</td><td>01</td></tr><tr><td>2019-01-19</td><td>01</td></tr><tr><td>2019-01-02</td><td>01</td></tr><tr><td>2019-03-12</td><td>03</td></tr><tr><td>2019-02-25</td><td>02</td></tr><tr><td>2019-03-18</td><td>03</td></tr><tr><td>2019-02-23</td><td>02</td></tr><tr><td>2019-03-26</td><td>03</td></tr><tr><td>2019-03-30</td><td>03</td></tr><tr><td>2019-02-17</td><td>02</td></tr><tr><td>2019-03-21</td><td>03</td></tr><tr><td>2019-03-05</td><td>03</td></tr><tr><td>2019-01-31</td><td>01</td></tr><tr><td>2019-02-05</td><td>02</td></tr><tr><td>2019-02-01</td><td>02</td></tr><tr><td>2019-03-07</td><td>03</td></tr><tr><td>2019-02-10</td><td>02</td></tr><tr><td>2019-02-14</td><td>02</td></tr><tr><td>2019-02-09</td><td>02</td></tr><tr><td>2019-01-10</td><td>01</td></tr><tr><td>2019-03-11</td><td>03</td></tr><tr><td>2019-02-18</td><td>02</td></tr><tr><td>2019-02-26</td><td>02</td></tr><tr><td>2019-01-18</td><td>01</td></tr><tr><td>2019-02-15</td><td>02</td></tr><tr><td>2019-03-08</td><td>03</td></tr><tr><td>2019-01-17</td><td>01</td></tr><tr><td>2019-03-12</td><td>03</td></tr><tr><td>2019-03-09</td><td>03</td></tr><tr><td>2019-03-12</td><td>03</td></tr><tr><td>2019-01-25</td><td>01</td></tr><tr><td>2019-03-25</td><td>03</td></tr><tr><td>2019-02-07</td><td>02</td></tr><tr><td>2019-02-17</td><td>02</td></tr><tr><td>2019-02-03</td><td>02</td></tr><tr><td>2019-03-14</td><td>03</td></tr><tr><td>2019-03-24</td><td>03</td></tr><tr><td>2019-03-21</td><td>03</td></tr><tr><td>2019-03-19</td><td>03</td></tr><tr><td>2019-02-24</td><td>02</td></tr><tr><td>2019-03-28</td><td>03</td></tr><tr><td>2019-02-05</td><td>02</td></tr><tr><td>2019-02-10</td><td>02</td></tr><tr><td>2019-03-05</td><td>03</td></tr><tr><td>2019-02-15</td><td>02</td></tr><tr><td>2019-01-30</td><td>01</td></tr><tr><td>2019-02-14</td><td>02</td></tr><tr><td>2019-02-27</td><td>02</td></tr><tr><td>2019-02-04</td><td>02</td></tr><tr><td>2019-01-20</td><td>01</td></tr><tr><td>2019-03-28</td><td>03</td></tr><tr><td>2019-02-27</td><td>02</td></tr><tr><td>2019-02-15</td><td>02</td></tr><tr><td>2019-01-26</td><td>01</td></tr><tr><td>2019-03-14</td><td>03</td></tr><tr><td>2019-03-02</td><td>03</td></tr><tr><td>2019-03-04</td><td>03</td></tr><tr><td>2019-01-07</td><td>01</td></tr><tr><td>2019-03-08</td><td>03</td></tr><tr><td>2019-01-09</td><td>01</td></tr><tr><td>2019-03-01</td><td>03</td></tr><tr><td>2019-03-16</td><td>03</td></tr><tr><td>2019-02-17</td><td>02</td></tr><tr><td>2019-02-27</td><td>02</td></tr><tr><td>2019-03-07</td><td>03</td></tr><tr><td>2019-01-21</td><td>01</td></tr><tr><td>2019-02-19</td><td>02</td></tr><tr><td>2019-01-06</td><td>01</td></tr><tr><td>2019-03-14</td><td>03</td></tr><tr><td>2019-03-24</td><td>03</td></tr><tr><td>2019-01-27</td><td>01</td></tr><tr><td>2019-03-06</td><td>03</td></tr><tr><td>2019-02-02</td><td>02</td></tr><tr><td>2019-01-25</td><td>01</td></tr><tr><td>2019-03-14</td><td>03</td></tr><tr><td>2019-01-29</td><td>01</td></tr><tr><td>2019-01-03</td><td>01</td></tr><tr><td>2019-01-14</td><td>01</td></tr><tr><td>2019-01-05</td><td>01</td></tr><tr><td>2019-02-22</td><td>02</td></tr><tr><td>2019-02-06</td><td>02</td></tr><tr><td>2019-01-30</td><td>01</td></tr><tr><td>2019-01-11</td><td>01</td></tr><tr><td>2019-03-19</td><td>03</td></tr><tr><td>2019-01-14</td><td>01</td></tr><tr><td>2019-03-01</td><td>03</td></tr><tr><td>2019-01-06</td><td>01</td></tr><tr><td>2019-01-31</td><td>01</td></tr><tr><td>2019-03-11</td><td>03</td></tr><tr><td>2019-02-20</td><td>02</td></tr><tr><td>2019-01-27</td><td>01</td></tr><tr><td>2019-03-10</td><td>03</td></tr><tr><td>2019-02-15</td><td>02</td></tr><tr><td>2019-01-26</td><td>01</td></tr><tr><td>2019-02-13</td><td>02</td></tr><tr><td>2019-03-09</td><td>03</td></tr><tr><td>2019-03-06</td><td>03</td></tr><tr><td>2019-01-24</td><td>01</td></tr><tr><td>2019-03-13</td><td>03</td></tr><tr><td>2019-03-15</td><td>03</td></tr><tr><td>2019-03-05</td><td>03</td></tr><tr><td>2019-03-04</td><td>03</td></tr><tr><td>2019-03-25</td><td>03</td></tr><tr><td>2019-03-12</td><td>03</td></tr><tr><td>2019-02-04</td><td>02</td></tr><tr><td>2019-02-22</td><td>02</td></tr><tr><td>2019-02-16</td><td>02</td></tr><tr><td>2019-01-19</td><td>01</td></tr><tr><td>2019-01-11</td><td>01</td></tr><tr><td>2019-01-04</td><td>01</td></tr><tr><td>2019-03-04</td><td>03</td></tr><tr><td>2019-01-28</td><td>01</td></tr><tr><td>2019-01-02</td><td>01</td></tr><tr><td>2019-01-25</td><td>01</td></tr><tr><td>2019-01-04</td><td>01</td></tr><tr><td>2019-03-10</td><td>03</td></tr><tr><td>2019-03-22</td><td>03</td></tr><tr><td>2019-01-25</td><td>01</td></tr><tr><td>2019-01-08</td><td>01</td></tr><tr><td>2019-01-22</td><td>01</td></tr><tr><td>2019-01-12</td><td>01</td></tr><tr><td>2019-02-04</td><td>02</td></tr><tr><td>2019-03-28</td><td>03</td></tr><tr><td>2019-01-23</td><td>01</td></tr><tr><td>2019-02-08</td><td>02</td></tr><tr><td>2019-03-19</td><td>03</td></tr><tr><td>2019-03-09</td><td>03</td></tr><tr><td>2019-01-02</td><td>01</td></tr><tr><td>2019-01-21</td><td>01</td></tr><tr><td>2019-03-20</td><td>03</td></tr><tr><td>2019-02-27</td><td>02</td></tr><tr><td>2019-03-08</td><td>03</td></tr><tr><td>2019-01-31</td><td>01</td></tr><tr><td>2019-03-08</td><td>03</td></tr><tr><td>2019-01-13</td><td>01</td></tr><tr><td>2019-03-09</td><td>03</td></tr><tr><td>2019-02-22</td><td>02</td></tr><tr><td>2019-03-19</td><td>03</td></tr><tr><td>2019-01-20</td><td>01</td></tr><tr><td>2019-03-08</td><td>03</td></tr><tr><td>2019-03-08</td><td>03</td></tr><tr><td>2019-02-07</td><td>02</td></tr><tr><td>2019-01-15</td><td>01</td></tr><tr><td>2019-03-22</td><td>03</td></tr><tr><td>2019-01-15</td><td>01</td></tr><tr><td>2019-01-08</td><td>01</td></tr><tr><td>2019-01-15</td><td>01</td></tr><tr><td>2019-01-28</td><td>01</td></tr><tr><td>2019-02-14</td><td>02</td></tr><tr><td>2019-03-10</td><td>03</td></tr><tr><td>2019-01-12</td><td>01</td></tr><tr><td>2019-03-26</td><td>03</td></tr><tr><td>2019-01-01</td><td>01</td></tr><tr><td>2019-01-02</td><td>01</td></tr><tr><td>2019-03-16</td><td>03</td></tr><tr><td>2019-03-03</td><td>03</td></tr><tr><td>2019-01-31</td><td>01</td></tr><tr><td>2019-02-13</td><td>02</td></tr><tr><td>2019-02-15</td><td>02</td></tr><tr><td>2019-02-07</td><td>02</td></tr><tr><td>2019-01-27</td><td>01</td></tr><tr><td>2019-02-23</td><td>02</td></tr><tr><td>2019-02-03</td><td>02</td></tr><tr><td>2019-03-03</td><td>03</td></tr><tr><td>2019-02-03</td><td>02</td></tr><tr><td>2019-03-17</td><td>03</td></tr><tr><td>2019-03-28</td><td>03</td></tr><tr><td>2019-03-02</td><td>03</td></tr><tr><td>2019-02-08</td><td>02</td></tr><tr><td>2019-03-22</td><td>03</td></tr><tr><td>2019-02-09</td><td>02</td></tr><tr><td>2019-02-15</td><td>02</td></tr><tr><td>2019-01-23</td><td>01</td></tr><tr><td>2019-01-25</td><td>01</td></tr><tr><td>2019-02-02</td><td>02</td></tr><tr><td>2019-03-30</td><td>03</td></tr><tr><td>2019-03-30</td><td>03</td></tr><tr><td>2019-02-25</td><td>02</td></tr><tr><td>2019-03-18</td><td>03</td></tr><tr><td>2019-03-07</td><td>03</td></tr><tr><td>2019-03-16</td><td>03</td></tr><tr><td>2019-01-29</td><td>01</td></tr><tr><td>2019-02-02</td><td>02</td></tr><tr><td>2019-02-15</td><td>02</td></tr><tr><td>2019-01-08</td><td>01</td></tr><tr><td>2019-02-12</td><td>02</td></tr><tr><td>2019-01-01</td><td>01</td></tr><tr><td>2019-03-21</td><td>03</td></tr><tr><td>2019-02-28</td><td>02</td></tr><tr><td>2019-03-23</td><td>03</td></tr><tr><td>2019-01-30</td><td>01</td></tr><tr><td>2019-02-04</td><td>02</td></tr><tr><td>2019-03-13</td><td>03</td></tr><tr><td>2019-03-15</td><td>03</td></tr><tr><td>2019-03-05</td><td>03</td></tr><tr><td>2019-03-05</td><td>03</td></tr><tr><td>2019-02-26</td><td>02</td></tr><tr><td>2019-03-20</td><td>03</td></tr><tr><td>2019-01-01</td><td>01</td></tr><tr><td>2019-01-27</td><td>01</td></tr><tr><td>2019-01-21</td><td>01</td></tr><tr><td>2019-02-02</td><td>02</td></tr><tr><td>2019-02-03</td><td>02</td></tr><tr><td>2019-01-05</td><td>01</td></tr><tr><td>2019-01-27</td><td>01</td></tr><tr><td>2019-03-25</td><td>03</td></tr><tr><td>2019-02-25</td><td>02</td></tr><tr><td>2019-01-28</td><td>01</td></tr><tr><td>2019-01-08</td><td>01</td></tr><tr><td>2019-01-29</td><td>01</td></tr><tr><td>2019-03-29</td><td>03</td></tr><tr><td>2019-02-09</td><td>02</td></tr><tr><td>2019-01-16</td><td>01</td></tr><tr><td>2019-01-05</td><td>01</td></tr><tr><td>2019-01-27</td><td>01</td></tr><tr><td>2019-03-14</td><td>03</td></tr><tr><td>2019-02-23</td><td>02</td></tr><tr><td>2019-03-18</td><td>03</td></tr><tr><td>2019-03-29</td><td>03</td></tr><tr><td>2019-01-22</td><td>01</td></tr><tr><td>2019-03-01</td><td>03</td></tr><tr><td>2019-01-17</td><td>01</td></tr><tr><td>2019-03-26</td><td>03</td></tr><tr><td>2019-03-20</td><td>03</td></tr><tr><td>2019-02-06</td><td>02</td></tr><tr><td>2019-01-01</td><td>01</td></tr><tr><td>2019-01-27</td><td>01</td></tr><tr><td>2019-02-25</td><td>02</td></tr><tr><td>2019-01-16</td><td>01</td></tr><tr><td>2019-01-13</td><td>01</td></tr><tr><td>2019-02-07</td><td>02</td></tr><tr><td>2019-02-17</td><td>02</td></tr><tr><td>2019-02-12</td><td>02</td></tr><tr><td>2019-01-24</td><td>01</td></tr><tr><td>2019-02-06</td><td>02</td></tr><tr><td>2019-03-26</td><td>03</td></tr><tr><td>2019-03-11</td><td>03</td></tr><tr><td>2019-02-07</td><td>02</td></tr><tr><td>2019-01-05</td><td>01</td></tr><tr><td>2019-03-07</td><td>03</td></tr><tr><td>2019-02-25</td><td>02</td></tr><tr><td>2019-02-01</td><td>02</td></tr><tr><td>2019-01-22</td><td>01</td></tr><tr><td>2019-01-03</td><td>01</td></tr><tr><td>2019-02-13</td><td>02</td></tr><tr><td>2019-01-28</td><td>01</td></tr><tr><td>2019-01-05</td><td>01</td></tr><tr><td>2019-03-19</td><td>03</td></tr><tr><td>2019-01-12</td><td>01</td></tr><tr><td>2019-01-07</td><td>01</td></tr><tr><td>2019-01-26</td><td>01</td></tr><tr><td>2019-01-23</td><td>01</td></tr><tr><td>2019-02-09</td><td>02</td></tr><tr><td>2019-02-22</td><td>02</td></tr><tr><td>2019-02-05</td><td>02</td></tr><tr><td>2019-03-07</td><td>03</td></tr><tr><td>2019-03-25</td><td>03</td></tr><tr><td>2019-01-20</td><td>01</td></tr><tr><td>2019-02-04</td><td>02</td></tr><tr><td>2019-01-30</td><td>01</td></tr><tr><td>2019-01-02</td><td>01</td></tr><tr><td>2019-03-29</td><td>03</td></tr><tr><td>2019-03-14</td><td>03</td></tr><tr><td>2019-02-11</td><td>02</td></tr><tr><td>2019-01-30</td><td>01</td></tr><tr><td>2019-03-20</td><td>03</td></tr><tr><td>2019-03-20</td><td>03</td></tr><tr><td>2019-01-17</td><td>01</td></tr><tr><td>2019-02-03</td><td>02</td></tr><tr><td>2019-01-01</td><td>01</td></tr><tr><td>2019-01-10</td><td>01</td></tr><tr><td>2019-03-02</td><td>03</td></tr><tr><td>2019-02-25</td><td>02</td></tr><tr><td>2019-01-29</td><td>01</td></tr><tr><td>2019-03-10</td><td>03</td></tr><tr><td>2019-01-13</td><td>01</td></tr><tr><td>2019-03-22</td><td>03</td></tr><tr><td>2019-03-01</td><td>03</td></tr><tr><td>2019-02-20</td><td>02</td></tr><tr><td>2019-01-14</td><td>01</td></tr><tr><td>2019-03-26</td><td>03</td></tr><tr><td>2019-03-01</td><td>03</td></tr><tr><td>2019-01-07</td><td>01</td></tr><tr><td>2019-02-01</td><td>02</td></tr><tr><td>2019-02-13</td><td>02</td></tr><tr><td>2019-01-14</td><td>01</td></tr><tr><td>2019-01-19</td><td>01</td></tr><tr><td>2019-03-09</td><td>03</td></tr><tr><td>2019-03-27</td><td>03</td></tr><tr><td>2019-02-04</td><td>02</td></tr><tr><td>2019-03-14</td><td>03</td></tr><tr><td>2019-03-04</td><td>03</td></tr><tr><td>2019-03-03</td><td>03</td></tr><tr><td>2019-01-27</td><td>01</td></tr><tr><td>2019-02-07</td><td>02</td></tr><tr><td>2019-02-05</td><td>02</td></tr><tr><td>2019-03-15</td><td>03</td></tr><tr><td>2019-03-01</td><td>03</td></tr><tr><td>2019-02-15</td><td>02</td></tr><tr><td>2019-02-17</td><td>02</td></tr><tr><td>2019-01-26</td><td>01</td></tr><tr><td>2019-03-24</td><td>03</td></tr><tr><td>2019-01-23</td><td>01</td></tr><tr><td>2019-01-26</td><td>01</td></tr><tr><td>2019-03-14</td><td>03</td></tr><tr><td>2019-03-17</td><td>03</td></tr><tr><td>2019-01-08</td><td>01</td></tr><tr><td>2019-02-08</td><td>02</td></tr><tr><td>2019-02-10</td><td>02</td></tr><tr><td>2019-03-28</td><td>03</td></tr><tr><td>2019-01-23</td><td>01</td></tr><tr><td>2019-01-17</td><td>01</td></tr><tr><td>2019-02-07</td><td>02</td></tr><tr><td>2019-03-09</td><td>03</td></tr><tr><td>2019-01-24</td><td>01</td></tr><tr><td>2019-01-19</td><td>01</td></tr><tr><td>2019-02-03</td><td>02</td></tr><tr><td>2019-03-20</td><td>03</td></tr><tr><td>2019-01-13</td><td>01</td></tr><tr><td>2019-03-14</td><td>03</td></tr><tr><td>2019-01-23</td><td>01</td></tr><tr><td>2019-02-07</td><td>02</td></tr><tr><td>2019-03-28</td><td>03</td></tr><tr><td>2019-03-20</td><td>03</td></tr><tr><td>2019-01-17</td><td>01</td></tr><tr><td>2019-01-12</td><td>01</td></tr><tr><td>2019-02-16</td><td>02</td></tr><tr><td>2019-01-26</td><td>01</td></tr><tr><td>2019-03-09</td><td>03</td></tr><tr><td>2019-03-14</td><td>03</td></tr><tr><td>2019-01-25</td><td>01</td></tr><tr><td>2019-01-26</td><td>01</td></tr><tr><td>2019-01-19</td><td>01</td></tr><tr><td>2019-03-05</td><td>03</td></tr><tr><td>2019-01-15</td><td>01</td></tr><tr><td>2019-03-18</td><td>03</td></tr><tr><td>2019-03-20</td><td>03</td></tr><tr><td>2019-01-15</td><td>01</td></tr><tr><td>2019-03-03</td><td>03</td></tr><tr><td>2019-03-19</td><td>03</td></tr><tr><td>2019-03-08</td><td>03</td></tr><tr><td>2019-02-27</td><td>02</td></tr><tr><td>2019-02-23</td><td>02</td></tr><tr><td>2019-03-19</td><td>03</td></tr><tr><td>2019-03-27</td><td>03</td></tr><tr><td>2019-03-30</td><td>03</td></tr><tr><td>2019-02-16</td><td>02</td></tr><tr><td>2019-01-18</td><td>01</td></tr><tr><td>2019-03-30</td><td>03</td></tr><tr><td>2019-03-20</td><td>03</td></tr><tr><td>2019-01-16</td><td>01</td></tr><tr><td>2019-02-24</td><td>02</td></tr><tr><td>2019-01-15</td><td>01</td></tr><tr><td>2019-01-22</td><td>01</td></tr><tr><td>2019-02-03</td><td>02</td></tr><tr><td>2019-03-06</td><td>03</td></tr><tr><td>2019-02-16</td><td>02</td></tr><tr><td>2019-03-14</td><td>03</td></tr><tr><td>2019-02-27</td><td>02</td></tr><tr><td>2019-01-18</td><td>01</td></tr><tr><td>2019-01-29</td><td>01</td></tr><tr><td>2019-02-26</td><td>02</td></tr><tr><td>2019-02-03</td><td>02</td></tr><tr><td>2019-01-16</td><td>01</td></tr><tr><td>2019-03-24</td><td>03</td></tr><tr><td>2019-02-12</td><td>02</td></tr><tr><td>2019-02-21</td><td>02</td></tr><tr><td>2019-02-04</td><td>02</td></tr><tr><td>2019-02-20</td><td>02</td></tr><tr><td>2019-02-23</td><td>02</td></tr><tr><td>2019-02-16</td><td>02</td></tr><tr><td>2019-01-17</td><td>01</td></tr><tr><td>2019-01-14</td><td>01</td></tr><tr><td>2019-03-30</td><td>03</td></tr><tr><td>2019-03-02</td><td>03</td></tr><tr><td>2019-02-15</td><td>02</td></tr><tr><td>2019-03-01</td><td>03</td></tr><tr><td>2019-02-24</td><td>02</td></tr><tr><td>2019-02-19</td><td>02</td></tr><tr><td>2019-02-23</td><td>02</td></tr><tr><td>2019-02-07</td><td>02</td></tr><tr><td>2019-01-11</td><td>01</td></tr><tr><td>2019-02-12</td><td>02</td></tr><tr><td>2019-01-14</td><td>01</td></tr><tr><td>2019-01-09</td><td>01</td></tr><tr><td>2019-02-27</td><td>02</td></tr><tr><td>2019-01-24</td><td>01</td></tr><tr><td>2019-01-08</td><td>01</td></tr><tr><td>2019-01-08</td><td>01</td></tr><tr><td>2019-01-16</td><td>01</td></tr><tr><td>2019-03-13</td><td>03</td></tr><tr><td>2019-02-15</td><td>02</td></tr><tr><td>2019-01-25</td><td>01</td></tr><tr><td>2019-03-12</td><td>03</td></tr><tr><td>2019-03-04</td><td>03</td></tr><tr><td>2019-02-10</td><td>02</td></tr><tr><td>2019-01-16</td><td>01</td></tr><tr><td>2019-01-29</td><td>01</td></tr><tr><td>2019-01-01</td><td>01</td></tr><tr><td>2019-01-06</td><td>01</td></tr><tr><td>2019-02-19</td><td>02</td></tr><tr><td>2019-01-12</td><td>01</td></tr><tr><td>2019-02-07</td><td>02</td></tr><tr><td>2019-03-27</td><td>03</td></tr><tr><td>2019-02-27</td><td>02</td></tr><tr><td>2019-01-06</td><td>01</td></tr><tr><td>2019-03-02</td><td>03</td></tr><tr><td>2019-03-29</td><td>03</td></tr><tr><td>2019-01-31</td><td>01</td></tr><tr><td>2019-01-21</td><td>01</td></tr><tr><td>2019-01-20</td><td>01</td></tr><tr><td>2019-01-17</td><td>01</td></tr><tr><td>2019-02-28</td><td>02</td></tr><tr><td>2019-03-19</td><td>03</td></tr><tr><td>2019-02-19</td><td>02</td></tr><tr><td>2019-02-04</td><td>02</td></tr><tr><td>2019-01-31</td><td>01</td></tr><tr><td>2019-02-06</td><td>02</td></tr><tr><td>2019-03-28</td><td>03</td></tr><tr><td>2019-01-19</td><td>01</td></tr><tr><td>2019-02-17</td><td>02</td></tr><tr><td>2019-01-18</td><td>01</td></tr><tr><td>2019-02-02</td><td>02</td></tr><tr><td>2019-01-18</td><td>01</td></tr><tr><td>2019-03-18</td><td>03</td></tr><tr><td>2019-01-11</td><td>01</td></tr><tr><td>2019-02-04</td><td>02</td></tr><tr><td>2019-02-06</td><td>02</td></tr><tr><td>2019-01-08</td><td>01</td></tr><tr><td>2019-03-05</td><td>03</td></tr><tr><td>2019-03-16</td><td>03</td></tr><tr><td>2019-03-09</td><td>03</td></tr><tr><td>2019-03-01</td><td>03</td></tr><tr><td>2019-02-28</td><td>02</td></tr><tr><td>2019-02-08</td><td>02</td></tr><tr><td>2019-01-24</td><td>01</td></tr><tr><td>2019-03-01</td><td>03</td></tr><tr><td>2019-03-10</td><td>03</td></tr><tr><td>2019-03-23</td><td>03</td></tr><tr><td>2019-01-29</td><td>01</td></tr><tr><td>2019-01-12</td><td>01</td></tr><tr><td>2019-03-20</td><td>03</td></tr><tr><td>2019-03-23</td><td>03</td></tr><tr><td>2019-01-14</td><td>01</td></tr><tr><td>2019-02-12</td><td>02</td></tr><tr><td>2019-02-20</td><td>02</td></tr><tr><td>2019-01-02</td><td>01</td></tr><tr><td>2019-02-02</td><td>02</td></tr><tr><td>2019-01-08</td><td>01</td></tr><tr><td>2019-01-30</td><td>01</td></tr><tr><td>2019-03-26</td><td>03</td></tr><tr><td>2019-01-15</td><td>01</td></tr><tr><td>2019-03-14</td><td>03</td></tr><tr><td>2019-02-03</td><td>02</td></tr><tr><td>2019-02-22</td><td>02</td></tr><tr><td>2019-01-24</td><td>01</td></tr><tr><td>2019-01-25</td><td>01</td></tr><tr><td>2019-03-09</td><td>03</td></tr><tr><td>2019-02-17</td><td>02</td></tr><tr><td>2019-01-11</td><td>01</td></tr><tr><td>2019-02-27</td><td>02</td></tr><tr><td>2019-03-25</td><td>03</td></tr><tr><td>2019-02-11</td><td>02</td></tr><tr><td>2019-01-31</td><td>01</td></tr><tr><td>2019-01-20</td><td>01</td></tr><tr><td>2019-03-26</td><td>03</td></tr><tr><td>2019-01-20</td><td>01</td></tr><tr><td>2019-03-05</td><td>03</td></tr><tr><td>2019-01-05</td><td>01</td></tr><tr><td>2019-02-13</td><td>02</td></tr><tr><td>2019-03-16</td><td>03</td></tr><tr><td>2019-01-15</td><td>01</td></tr><tr><td>2019-02-26</td><td>02</td></tr><tr><td>2019-02-27</td><td>02</td></tr><tr><td>2019-02-17</td><td>02</td></tr><tr><td>2019-02-06</td><td>02</td></tr><tr><td>2019-01-17</td><td>01</td></tr><tr><td>2019-01-22</td><td>01</td></tr><tr><td>2019-03-05</td><td>03</td></tr><tr><td>2019-01-03</td><td>01</td></tr><tr><td>2019-03-20</td><td>03</td></tr><tr><td>2019-01-31</td><td>01</td></tr><tr><td>2019-02-19</td><td>02</td></tr><tr><td>2019-02-11</td><td>02</td></tr><tr><td>2019-02-05</td><td>02</td></tr><tr><td>2019-03-03</td><td>03</td></tr><tr><td>2019-02-24</td><td>02</td></tr><tr><td>2019-02-04</td><td>02</td></tr><tr><td>2019-02-19</td><td>02</td></tr><tr><td>2019-01-23</td><td>01</td></tr><tr><td>2019-01-14</td><td>01</td></tr><tr><td>2019-01-17</td><td>01</td></tr><tr><td>2019-03-03</td><td>03</td></tr><tr><td>2019-02-15</td><td>02</td></tr><tr><td>2019-01-15</td><td>01</td></tr><tr><td>2019-02-27</td><td>02</td></tr><tr><td>2019-02-26</td><td>02</td></tr><tr><td>2019-03-15</td><td>03</td></tr><tr><td>2019-01-24</td><td>01</td></tr><tr><td>2019-02-22</td><td>02</td></tr><tr><td>2019-03-15</td><td>03</td></tr><tr><td>2019-02-11</td><td>02</td></tr><tr><td>2019-01-12</td><td>01</td></tr><tr><td>2019-03-03</td><td>03</td></tr><tr><td>2019-03-23</td><td>03</td></tr><tr><td>2019-03-04</td><td>03</td></tr><tr><td>2019-02-23</td><td>02</td></tr><tr><td>2019-03-17</td><td>03</td></tr><tr><td>2019-01-16</td><td>01</td></tr><tr><td>2019-01-08</td><td>01</td></tr><tr><td>2019-01-14</td><td>01</td></tr><tr><td>2019-01-31</td><td>01</td></tr><tr><td>2019-03-15</td><td>03</td></tr><tr><td>2019-02-24</td><td>02</td></tr><tr><td>2019-02-08</td><td>02</td></tr><tr><td>2019-03-22</td><td>03</td></tr><tr><td>2019-01-24</td><td>01</td></tr><tr><td>2019-03-14</td><td>03</td></tr><tr><td>2019-01-23</td><td>01</td></tr><tr><td>2019-01-19</td><td>01</td></tr><tr><td>2019-01-27</td><td>01</td></tr><tr><td>2019-02-03</td><td>02</td></tr><tr><td>2019-03-25</td><td>03</td></tr><tr><td>2019-02-24</td><td>02</td></tr><tr><td>2019-02-07</td><td>02</td></tr><tr><td>2019-03-04</td><td>03</td></tr><tr><td>2019-02-14</td><td>02</td></tr><tr><td>2019-01-29</td><td>01</td></tr><tr><td>2019-01-28</td><td>01</td></tr><tr><td>2019-03-26</td><td>03</td></tr><tr><td>2019-03-24</td><td>03</td></tr><tr><td>2019-01-01</td><td>01</td></tr><tr><td>2019-01-24</td><td>01</td></tr><tr><td>2019-02-25</td><td>02</td></tr><tr><td>2019-01-09</td><td>01</td></tr><tr><td>2019-02-14</td><td>02</td></tr><tr><td>2019-03-12</td><td>03</td></tr><tr><td>2019-03-26</td><td>03</td></tr><tr><td>2019-01-09</td><td>01</td></tr><tr><td>2019-01-02</td><td>01</td></tr><tr><td>2019-01-15</td><td>01</td></tr><tr><td>2019-01-01</td><td>01</td></tr><tr><td>2019-02-15</td><td>02</td></tr><tr><td>2019-02-28</td><td>02</td></tr><tr><td>2019-03-02</td><td>03</td></tr><tr><td>2019-02-13</td><td>02</td></tr><tr><td>2019-01-26</td><td>01</td></tr><tr><td>2019-01-30</td><td>01</td></tr><tr><td>2019-01-27</td><td>01</td></tr><tr><td>2019-01-30</td><td>01</td></tr><tr><td>2019-01-08</td><td>01</td></tr><tr><td>2019-01-19</td><td>01</td></tr><tr><td>2019-01-25</td><td>01</td></tr><tr><td>2019-02-19</td><td>02</td></tr><tr><td>2019-01-14</td><td>01</td></tr><tr><td>2019-02-25</td><td>02</td></tr><tr><td>2019-01-23</td><td>01</td></tr><tr><td>2019-02-16</td><td>02</td></tr><tr><td>2019-01-01</td><td>01</td></tr><tr><td>2019-03-07</td><td>03</td></tr><tr><td>2019-02-15</td><td>02</td></tr><tr><td>2019-01-23</td><td>01</td></tr><tr><td>2019-02-20</td><td>02</td></tr><tr><td>2019-01-08</td><td>01</td></tr><tr><td>2019-03-17</td><td>03</td></tr><tr><td>2019-01-12</td><td>01</td></tr><tr><td>2019-01-08</td><td>01</td></tr><tr><td>2019-01-26</td><td>01</td></tr><tr><td>2019-03-15</td><td>03</td></tr><tr><td>2019-01-17</td><td>01</td></tr><tr><td>2019-01-08</td><td>01</td></tr><tr><td>2019-01-06</td><td>01</td></tr><tr><td>2019-02-16</td><td>02</td></tr><tr><td>2019-03-13</td><td>03</td></tr><tr><td>2019-01-28</td><td>01</td></tr><tr><td>2019-01-18</td><td>01</td></tr><tr><td>2019-03-19</td><td>03</td></tr><tr><td>2019-03-15</td><td>03</td></tr><tr><td>2019-02-12</td><td>02</td></tr><tr><td>2019-02-25</td><td>02</td></tr><tr><td>2019-03-21</td><td>03</td></tr><tr><td>2019-01-19</td><td>01</td></tr><tr><td>2019-01-08</td><td>01</td></tr><tr><td>2019-03-30</td><td>03</td></tr><tr><td>2019-02-20</td><td>02</td></tr><tr><td>2019-03-30</td><td>03</td></tr><tr><td>2019-03-19</td><td>03</td></tr><tr><td>2019-01-13</td><td>01</td></tr><tr><td>2019-02-05</td><td>02</td></tr><tr><td>2019-03-23</td><td>03</td></tr><tr><td>2019-03-13</td><td>03</td></tr><tr><td>2019-03-17</td><td>03</td></tr><tr><td>2019-02-21</td><td>02</td></tr><tr><td>2019-02-07</td><td>02</td></tr><tr><td>2019-03-02</td><td>03</td></tr><tr><td>2019-03-06</td><td>03</td></tr><tr><td>2019-02-06</td><td>02</td></tr><tr><td>2019-01-28</td><td>01</td></tr><tr><td>2019-01-18</td><td>01</td></tr><tr><td>2019-02-05</td><td>02</td></tr><tr><td>2019-03-02</td><td>03</td></tr><tr><td>2019-02-09</td><td>02</td></tr><tr><td>2019-01-14</td><td>01</td></tr><tr><td>2019-02-09</td><td>02</td></tr><tr><td>2019-03-26</td><td>03</td></tr><tr><td>2019-01-28</td><td>01</td></tr><tr><td>2019-02-14</td><td>02</td></tr><tr><td>2019-03-24</td><td>03</td></tr><tr><td>2019-02-09</td><td>02</td></tr><tr><td>2019-03-24</td><td>03</td></tr><tr><td>2019-03-27</td><td>03</td></tr><tr><td>2019-01-27</td><td>01</td></tr><tr><td>2019-03-27</td><td>03</td></tr><tr><td>2019-01-19</td><td>01</td></tr><tr><td>2019-02-07</td><td>02</td></tr><tr><td>2019-01-31</td><td>01</td></tr><tr><td>2019-02-25</td><td>02</td></tr><tr><td>2019-02-02</td><td>02</td></tr><tr><td>2019-03-14</td><td>03</td></tr><tr><td>2019-03-11</td><td>03</td></tr><tr><td>2019-02-22</td><td>02</td></tr><tr><td>2019-03-02</td><td>03</td></tr><tr><td>2019-03-10</td><td>03</td></tr><tr><td>2019-02-08</td><td>02</td></tr><tr><td>2019-02-22</td><td>02</td></tr><tr><td>2019-01-10</td><td>01</td></tr><tr><td>2019-03-14</td><td>03</td></tr><tr><td>2019-01-10</td><td>01</td></tr><tr><td>2019-02-15</td><td>02</td></tr><tr><td>2019-01-13</td><td>01</td></tr><tr><td>2019-02-15</td><td>02</td></tr><tr><td>2019-03-02</td><td>03</td></tr><tr><td>2019-03-24</td><td>03</td></tr><tr><td>2019-02-02</td><td>02</td></tr><tr><td>2019-02-27</td><td>02</td></tr><tr><td>2019-01-20</td><td>01</td></tr><tr><td>2019-01-03</td><td>01</td></tr><tr><td>2019-01-24</td><td>01</td></tr><tr><td>2019-01-05</td><td>01</td></tr><tr><td>2019-03-30</td><td>03</td></tr><tr><td>2019-02-17</td><td>02</td></tr><tr><td>2019-03-21</td><td>03</td></tr><tr><td>2019-03-02</td><td>03</td></tr><tr><td>2019-03-27</td><td>03</td></tr><tr><td>2019-01-19</td><td>01</td></tr><tr><td>2019-02-19</td><td>02</td></tr><tr><td>2019-03-28</td><td>03</td></tr><tr><td>2019-01-05</td><td>01</td></tr><tr><td>2019-03-26</td><td>03</td></tr><tr><td>2019-02-03</td><td>02</td></tr><tr><td>2019-02-06</td><td>02</td></tr><tr><td>2019-02-24</td><td>02</td></tr><tr><td>2019-02-21</td><td>02</td></tr><tr><td>2019-01-09</td><td>01</td></tr><tr><td>2019-02-25</td><td>02</td></tr><tr><td>2019-01-13</td><td>01</td></tr><tr><td>2019-02-09</td><td>02</td></tr><tr><td>2019-01-06</td><td>01</td></tr><tr><td>2019-01-10</td><td>01</td></tr><tr><td>2019-02-07</td><td>02</td></tr><tr><td>2019-01-09</td><td>01</td></tr><tr><td>2019-02-19</td><td>02</td></tr><tr><td>2019-03-18</td><td>03</td></tr><tr><td>2019-02-05</td><td>02</td></tr><tr><td>2019-03-19</td><td>03</td></tr><tr><td>2019-03-30</td><td>03</td></tr><tr><td>2019-01-26</td><td>01</td></tr><tr><td>2019-03-02</td><td>03</td></tr><tr><td>2019-03-04</td><td>03</td></tr><tr><td>2019-01-13</td><td>01</td></tr><tr><td>2019-03-25</td><td>03</td></tr><tr><td>2019-03-11</td><td>03</td></tr><tr><td>2019-01-01</td><td>01</td></tr><tr><td>2019-02-10</td><td>02</td></tr><tr><td>2019-01-26</td><td>01</td></tr><tr><td>2019-02-11</td><td>02</td></tr><tr><td>2019-02-07</td><td>02</td></tr><tr><td>2019-03-06</td><td>03</td></tr><tr><td>2019-03-04</td><td>03</td></tr><tr><td>2019-02-26</td><td>02</td></tr><tr><td>2019-03-10</td><td>03</td></tr><tr><td>2019-02-04</td><td>02</td></tr><tr><td>2019-01-19</td><td>01</td></tr><tr><td>2019-01-23</td><td>01</td></tr><tr><td>2019-03-14</td><td>03</td></tr><tr><td>2019-01-23</td><td>01</td></tr><tr><td>2019-01-09</td><td>01</td></tr><tr><td>2019-02-07</td><td>02</td></tr><tr><td>2019-02-18</td><td>02</td></tr><tr><td>2019-01-03</td><td>01</td></tr><tr><td>2019-03-29</td><td>03</td></tr><tr><td>2019-01-28</td><td>01</td></tr><tr><td>2019-03-22</td><td>03</td></tr><tr><td>2019-01-24</td><td>01</td></tr><tr><td>2019-03-10</td><td>03</td></tr><tr><td>2019-02-22</td><td>02</td></tr><tr><td>2019-02-18</td><td>02</td></tr><tr><td>2019-01-29</td><td>01</td></tr><tr><td>2019-03-02</td><td>03</td></tr><tr><td>2019-02-09</td><td>02</td></tr><tr><td>2019-02-22</td><td>02</td></tr><tr><td>2019-02-18</td><td>02</td></tr></tbody></table></div>"
      ]
     },
     "metadata": {
      "application/vnd.databricks.v1+output": {
       "addedWidgets": {},
       "aggData": [],
       "aggError": "",
       "aggOverflow": false,
       "aggSchema": [],
       "aggSeriesLimitReached": false,
       "aggType": "",
       "arguments": {},
       "columnCustomDisplayInfos": {},
       "data": [
        [
         "2019-01-05",
         "01"
        ],
        [
         "2019-03-08",
         "03"
        ],
        [
         "2019-03-03",
         "03"
        ],
        [
         "2019-01-27",
         "01"
        ],
        [
         "2019-02-08",
         "02"
        ],
        [
         "2019-03-25",
         "03"
        ],
        [
         "2019-02-25",
         "02"
        ],
        [
         "2019-02-24",
         "02"
        ],
        [
         "2019-01-10",
         "01"
        ],
        [
         "2019-02-20",
         "02"
        ],
        [
         "2019-02-06",
         "02"
        ],
        [
         "2019-03-09",
         "03"
        ],
        [
         "2019-02-12",
         "02"
        ],
        [
         "2019-02-07",
         "02"
        ],
        [
         "2019-03-29",
         "03"
        ],
        [
         "2019-01-15",
         "01"
        ],
        [
         "2019-03-11",
         "03"
        ],
        [
         "2019-01-01",
         "01"
        ],
        [
         "2019-01-21",
         "01"
        ],
        [
         "2019-03-11",
         "03"
        ],
        [
         "2019-02-25",
         "02"
        ],
        [
         "2019-03-05",
         "03"
        ],
        [
         "2019-03-15",
         "03"
        ],
        [
         "2019-02-17",
         "02"
        ],
        [
         "2019-03-02",
         "03"
        ],
        [
         "2019-03-22",
         "03"
        ],
        [
         "2019-02-08",
         "02"
        ],
        [
         "2019-03-10",
         "03"
        ],
        [
         "2019-01-25",
         "01"
        ],
        [
         "2019-03-15",
         "03"
        ],
        [
         "2019-02-25",
         "02"
        ],
        [
         "2019-01-28",
         "01"
        ],
        [
         "2019-01-10",
         "01"
        ],
        [
         "2019-03-15",
         "03"
        ],
        [
         "2019-02-06",
         "02"
        ],
        [
         "2019-01-07",
         "01"
        ],
        [
         "2019-03-10",
         "03"
        ],
        [
         "2019-01-15",
         "01"
        ],
        [
         "2019-03-23",
         "03"
        ],
        [
         "2019-03-03",
         "03"
        ],
        [
         "2019-01-17",
         "01"
        ],
        [
         "2019-02-02",
         "02"
        ],
        [
         "2019-02-08",
         "02"
        ],
        [
         "2019-03-04",
         "03"
        ],
        [
         "2019-03-16",
         "03"
        ],
        [
         "2019-03-09",
         "03"
        ],
        [
         "2019-02-27",
         "02"
        ],
        [
         "2019-02-06",
         "02"
        ],
        [
         "2019-02-10",
         "02"
        ],
        [
         "2019-03-19",
         "03"
        ],
        [
         "2019-02-03",
         "02"
        ],
        [
         "2019-02-10",
         "02"
        ],
        [
         "2019-03-22",
         "03"
        ],
        [
         "2019-01-25",
         "01"
        ],
        [
         "2019-03-07",
         "03"
        ],
        [
         "2019-02-28",
         "02"
        ],
        [
         "2019-03-27",
         "03"
        ],
        [
         "2019-02-07",
         "02"
        ],
        [
         "2019-01-20",
         "01"
        ],
        [
         "2019-03-12",
         "03"
        ],
        [
         "2019-02-15",
         "02"
        ],
        [
         "2019-02-24",
         "02"
        ],
        [
         "2019-02-03",
         "02"
        ],
        [
         "2019-03-06",
         "03"
        ],
        [
         "2019-02-14",
         "02"
        ],
        [
         "2019-03-13",
         "03"
        ],
        [
         "2019-02-10",
         "02"
        ],
        [
         "2019-01-07",
         "01"
        ],
        [
         "2019-01-24",
         "01"
        ],
        [
         "2019-02-02",
         "02"
        ],
        [
         "2019-01-06",
         "01"
        ],
        [
         "2019-02-11",
         "02"
        ],
        [
         "2019-03-05",
         "03"
        ],
        [
         "2019-03-09",
         "03"
        ],
        [
         "2019-01-22",
         "01"
        ],
        [
         "2019-01-13",
         "01"
        ],
        [
         "2019-01-09",
         "01"
        ],
        [
         "2019-01-12",
         "01"
        ],
        [
         "2019-03-05",
         "03"
        ],
        [
         "2019-01-22",
         "01"
        ],
        [
         "2019-01-21",
         "01"
        ],
        [
         "2019-01-26",
         "01"
        ],
        [
         "2019-01-23",
         "01"
        ],
        [
         "2019-02-23",
         "02"
        ],
        [
         "2019-03-09",
         "03"
        ],
        [
         "2019-03-05",
         "03"
        ],
        [
         "2019-03-25",
         "03"
        ],
        [
         "2019-03-27",
         "03"
        ],
        [
         "2019-01-02",
         "01"
        ],
        [
         "2019-02-27",
         "02"
        ],
        [
         "2019-01-23",
         "01"
        ],
        [
         "2019-01-26",
         "01"
        ],
        [
         "2019-01-10",
         "01"
        ],
        [
         "2019-03-12",
         "03"
        ],
        [
         "2019-02-06",
         "02"
        ],
        [
         "2019-03-08",
         "03"
        ],
        [
         "2019-03-29",
         "03"
        ],
        [
         "2019-02-09",
         "02"
        ],
        [
         "2019-03-23",
         "03"
        ],
        [
         "2019-03-05",
         "03"
        ],
        [
         "2019-03-26",
         "03"
        ],
        [
         "2019-03-01",
         "03"
        ],
        [
         "2019-02-01",
         "02"
        ],
        [
         "2019-03-28",
         "03"
        ],
        [
         "2019-03-19",
         "03"
        ],
        [
         "2019-01-12",
         "01"
        ],
        [
         "2019-01-05",
         "01"
        ],
        [
         "2019-03-22",
         "03"
        ],
        [
         "2019-03-24",
         "03"
        ],
        [
         "2019-03-03",
         "03"
        ],
        [
         "2019-02-05",
         "02"
        ],
        [
         "2019-02-05",
         "02"
        ],
        [
         "2019-02-15",
         "02"
        ],
        [
         "2019-01-19",
         "01"
        ],
        [
         "2019-02-01",
         "02"
        ],
        [
         "2019-03-02",
         "03"
        ],
        [
         "2019-03-05",
         "03"
        ],
        [
         "2019-01-16",
         "01"
        ],
        [
         "2019-02-02",
         "02"
        ],
        [
         "2019-01-20",
         "01"
        ],
        [
         "2019-02-14",
         "02"
        ],
        [
         "2019-01-12",
         "01"
        ],
        [
         "2019-03-09",
         "03"
        ],
        [
         "2019-03-13",
         "03"
        ],
        [
         "2019-03-09",
         "03"
        ],
        [
         "2019-03-10",
         "03"
        ],
        [
         "2019-01-27",
         "01"
        ],
        [
         "2019-01-08",
         "01"
        ],
        [
         "2019-01-08",
         "01"
        ],
        [
         "2019-02-08",
         "02"
        ],
        [
         "2019-01-25",
         "01"
        ],
        [
         "2019-03-06",
         "03"
        ],
        [
         "2019-02-10",
         "02"
        ],
        [
         "2019-02-17",
         "02"
        ],
        [
         "2019-03-08",
         "03"
        ],
        [
         "2019-02-18",
         "02"
        ],
        [
         "2019-01-18",
         "01"
        ],
        [
         "2019-02-18",
         "02"
        ],
        [
         "2019-02-16",
         "02"
        ],
        [
         "2019-03-16",
         "03"
        ],
        [
         "2019-01-23",
         "01"
        ],
        [
         "2019-01-25",
         "01"
        ],
        [
         "2019-02-05",
         "02"
        ],
        [
         "2019-02-22",
         "02"
        ],
        [
         "2019-01-21",
         "01"
        ],
        [
         "2019-03-08",
         "03"
        ],
        [
         "2019-02-10",
         "02"
        ],
        [
         "2019-03-19",
         "03"
        ],
        [
         "2019-03-06",
         "03"
        ],
        [
         "2019-03-27",
         "03"
        ],
        [
         "2019-03-23",
         "03"
        ],
        [
         "2019-03-11",
         "03"
        ],
        [
         "2019-01-29",
         "01"
        ],
        [
         "2019-02-07",
         "02"
        ],
        [
         "2019-01-28",
         "01"
        ],
        [
         "2019-02-20",
         "02"
        ],
        [
         "2019-01-04",
         "01"
        ],
        [
         "2019-03-07",
         "03"
        ],
        [
         "2019-03-30",
         "03"
        ],
        [
         "2019-03-27",
         "03"
        ],
        [
         "2019-01-19",
         "01"
        ],
        [
         "2019-02-25",
         "02"
        ],
        [
         "2019-03-13",
         "03"
        ],
        [
         "2019-01-30",
         "01"
        ],
        [
         "2019-02-20",
         "02"
        ],
        [
         "2019-02-25",
         "02"
        ],
        [
         "2019-01-16",
         "01"
        ],
        [
         "2019-02-08",
         "02"
        ],
        [
         "2019-01-19",
         "01"
        ],
        [
         "2019-02-01",
         "02"
        ],
        [
         "2019-01-03",
         "01"
        ],
        [
         "2019-01-26",
         "01"
        ],
        [
         "2019-03-03",
         "03"
        ],
        [
         "2019-01-19",
         "01"
        ],
        [
         "2019-01-18",
         "01"
        ],
        [
         "2019-03-21",
         "03"
        ],
        [
         "2019-03-03",
         "03"
        ],
        [
         "2019-02-13",
         "02"
        ],
        [
         "2019-03-23",
         "03"
        ],
        [
         "2019-01-28",
         "01"
        ],
        [
         "2019-02-09",
         "02"
        ],
        [
         "2019-01-23",
         "01"
        ],
        [
         "2019-03-23",
         "03"
        ],
        [
         "2019-01-25",
         "01"
        ],
        [
         "2019-03-04",
         "03"
        ],
        [
         "2019-03-05",
         "03"
        ],
        [
         "2019-03-03",
         "03"
        ],
        [
         "2019-02-08",
         "02"
        ],
        [
         "2019-02-10",
         "02"
        ],
        [
         "2019-01-28",
         "01"
        ],
        [
         "2019-02-11",
         "02"
        ],
        [
         "2019-01-15",
         "01"
        ],
        [
         "2019-03-16",
         "03"
        ],
        [
         "2019-01-26",
         "01"
        ],
        [
         "2019-03-19",
         "03"
        ],
        [
         "2019-01-13",
         "01"
        ],
        [
         "2019-03-26",
         "03"
        ],
        [
         "2019-03-23",
         "03"
        ],
        [
         "2019-03-12",
         "03"
        ],
        [
         "2019-02-17",
         "02"
        ],
        [
         "2019-01-29",
         "01"
        ],
        [
         "2019-03-15",
         "03"
        ],
        [
         "2019-01-14",
         "01"
        ],
        [
         "2019-02-06",
         "02"
        ],
        [
         "2019-02-15",
         "02"
        ],
        [
         "2019-01-03",
         "01"
        ],
        [
         "2019-01-04",
         "01"
        ],
        [
         "2019-03-18",
         "03"
        ],
        [
         "2019-03-28",
         "03"
        ],
        [
         "2019-03-02",
         "03"
        ],
        [
         "2019-01-25",
         "01"
        ],
        [
         "2019-01-16",
         "01"
        ],
        [
         "2019-03-20",
         "03"
        ],
        [
         "2019-01-04",
         "01"
        ],
        [
         "2019-03-11",
         "03"
        ],
        [
         "2019-03-22",
         "03"
        ],
        [
         "2019-03-24",
         "03"
        ],
        [
         "2019-02-21",
         "02"
        ],
        [
         "2019-02-12",
         "02"
        ],
        [
         "2019-03-10",
         "03"
        ],
        [
         "2019-01-31",
         "01"
        ],
        [
         "2019-03-06",
         "03"
        ],
        [
         "2019-02-17",
         "02"
        ],
        [
         "2019-02-21",
         "02"
        ],
        [
         "2019-03-20",
         "03"
        ],
        [
         "2019-01-11",
         "01"
        ],
        [
         "2019-01-26",
         "01"
        ],
        [
         "2019-01-31",
         "01"
        ],
        [
         "2019-02-26",
         "02"
        ],
        [
         "2019-03-11",
         "03"
        ],
        [
         "2019-01-26",
         "01"
        ],
        [
         "2019-03-12",
         "03"
        ],
        [
         "2019-02-11",
         "02"
        ],
        [
         "2019-02-21",
         "02"
        ],
        [
         "2019-03-09",
         "03"
        ],
        [
         "2019-01-20",
         "01"
        ],
        [
         "2019-01-28",
         "01"
        ],
        [
         "2019-03-05",
         "03"
        ],
        [
         "2019-03-02",
         "03"
        ],
        [
         "2019-01-11",
         "01"
        ],
        [
         "2019-01-11",
         "01"
        ],
        [
         "2019-03-11",
         "03"
        ],
        [
         "2019-02-28",
         "02"
        ],
        [
         "2019-01-05",
         "01"
        ],
        [
         "2019-02-02",
         "02"
        ],
        [
         "2019-01-01",
         "01"
        ],
        [
         "2019-02-09",
         "02"
        ],
        [
         "2019-01-23",
         "01"
        ],
        [
         "2019-01-07",
         "01"
        ],
        [
         "2019-01-14",
         "01"
        ],
        [
         "2019-02-02",
         "02"
        ],
        [
         "2019-03-17",
         "03"
        ],
        [
         "2019-03-02",
         "03"
        ],
        [
         "2019-03-16",
         "03"
        ],
        [
         "2019-01-06",
         "01"
        ],
        [
         "2019-01-29",
         "01"
        ],
        [
         "2019-01-31",
         "01"
        ],
        [
         "2019-02-05",
         "02"
        ],
        [
         "2019-02-13",
         "02"
        ],
        [
         "2019-02-07",
         "02"
        ],
        [
         "2019-03-19",
         "03"
        ],
        [
         "2019-03-07",
         "03"
        ],
        [
         "2019-03-13",
         "03"
        ],
        [
         "2019-02-09",
         "02"
        ],
        [
         "2019-02-26",
         "02"
        ],
        [
         "2019-03-12",
         "03"
        ],
        [
         "2019-03-14",
         "03"
        ],
        [
         "2019-01-08",
         "01"
        ],
        [
         "2019-01-05",
         "01"
        ],
        [
         "2019-01-04",
         "01"
        ],
        [
         "2019-03-06",
         "03"
        ],
        [
         "2019-01-03",
         "01"
        ],
        [
         "2019-01-07",
         "01"
        ],
        [
         "2019-01-27",
         "01"
        ],
        [
         "2019-02-26",
         "02"
        ],
        [
         "2019-01-07",
         "01"
        ],
        [
         "2019-01-07",
         "01"
        ],
        [
         "2019-02-02",
         "02"
        ],
        [
         "2019-03-20",
         "03"
        ],
        [
         "2019-03-20",
         "03"
        ],
        [
         "2019-02-15",
         "02"
        ],
        [
         "2019-03-06",
         "03"
        ],
        [
         "2019-01-06",
         "01"
        ],
        [
         "2019-03-04",
         "03"
        ],
        [
         "2019-03-12",
         "03"
        ],
        [
         "2019-02-20",
         "02"
        ],
        [
         "2019-03-24",
         "03"
        ],
        [
         "2019-01-31",
         "01"
        ],
        [
         "2019-01-25",
         "01"
        ],
        [
         "2019-02-03",
         "02"
        ],
        [
         "2019-01-24",
         "01"
        ],
        [
         "2019-03-14",
         "03"
        ],
        [
         "2019-02-18",
         "02"
        ],
        [
         "2019-01-21",
         "01"
        ],
        [
         "2019-03-13",
         "03"
        ],
        [
         "2019-03-03",
         "03"
        ],
        [
         "2019-03-29",
         "03"
        ],
        [
         "2019-01-10",
         "01"
        ],
        [
         "2019-01-25",
         "01"
        ],
        [
         "2019-01-19",
         "01"
        ],
        [
         "2019-01-02",
         "01"
        ],
        [
         "2019-03-12",
         "03"
        ],
        [
         "2019-02-25",
         "02"
        ],
        [
         "2019-03-18",
         "03"
        ],
        [
         "2019-02-23",
         "02"
        ],
        [
         "2019-03-26",
         "03"
        ],
        [
         "2019-03-30",
         "03"
        ],
        [
         "2019-02-17",
         "02"
        ],
        [
         "2019-03-21",
         "03"
        ],
        [
         "2019-03-05",
         "03"
        ],
        [
         "2019-01-31",
         "01"
        ],
        [
         "2019-02-05",
         "02"
        ],
        [
         "2019-02-01",
         "02"
        ],
        [
         "2019-03-07",
         "03"
        ],
        [
         "2019-02-10",
         "02"
        ],
        [
         "2019-02-14",
         "02"
        ],
        [
         "2019-02-09",
         "02"
        ],
        [
         "2019-01-10",
         "01"
        ],
        [
         "2019-03-11",
         "03"
        ],
        [
         "2019-02-18",
         "02"
        ],
        [
         "2019-02-26",
         "02"
        ],
        [
         "2019-01-18",
         "01"
        ],
        [
         "2019-02-15",
         "02"
        ],
        [
         "2019-03-08",
         "03"
        ],
        [
         "2019-01-17",
         "01"
        ],
        [
         "2019-03-12",
         "03"
        ],
        [
         "2019-03-09",
         "03"
        ],
        [
         "2019-03-12",
         "03"
        ],
        [
         "2019-01-25",
         "01"
        ],
        [
         "2019-03-25",
         "03"
        ],
        [
         "2019-02-07",
         "02"
        ],
        [
         "2019-02-17",
         "02"
        ],
        [
         "2019-02-03",
         "02"
        ],
        [
         "2019-03-14",
         "03"
        ],
        [
         "2019-03-24",
         "03"
        ],
        [
         "2019-03-21",
         "03"
        ],
        [
         "2019-03-19",
         "03"
        ],
        [
         "2019-02-24",
         "02"
        ],
        [
         "2019-03-28",
         "03"
        ],
        [
         "2019-02-05",
         "02"
        ],
        [
         "2019-02-10",
         "02"
        ],
        [
         "2019-03-05",
         "03"
        ],
        [
         "2019-02-15",
         "02"
        ],
        [
         "2019-01-30",
         "01"
        ],
        [
         "2019-02-14",
         "02"
        ],
        [
         "2019-02-27",
         "02"
        ],
        [
         "2019-02-04",
         "02"
        ],
        [
         "2019-01-20",
         "01"
        ],
        [
         "2019-03-28",
         "03"
        ],
        [
         "2019-02-27",
         "02"
        ],
        [
         "2019-02-15",
         "02"
        ],
        [
         "2019-01-26",
         "01"
        ],
        [
         "2019-03-14",
         "03"
        ],
        [
         "2019-03-02",
         "03"
        ],
        [
         "2019-03-04",
         "03"
        ],
        [
         "2019-01-07",
         "01"
        ],
        [
         "2019-03-08",
         "03"
        ],
        [
         "2019-01-09",
         "01"
        ],
        [
         "2019-03-01",
         "03"
        ],
        [
         "2019-03-16",
         "03"
        ],
        [
         "2019-02-17",
         "02"
        ],
        [
         "2019-02-27",
         "02"
        ],
        [
         "2019-03-07",
         "03"
        ],
        [
         "2019-01-21",
         "01"
        ],
        [
         "2019-02-19",
         "02"
        ],
        [
         "2019-01-06",
         "01"
        ],
        [
         "2019-03-14",
         "03"
        ],
        [
         "2019-03-24",
         "03"
        ],
        [
         "2019-01-27",
         "01"
        ],
        [
         "2019-03-06",
         "03"
        ],
        [
         "2019-02-02",
         "02"
        ],
        [
         "2019-01-25",
         "01"
        ],
        [
         "2019-03-14",
         "03"
        ],
        [
         "2019-01-29",
         "01"
        ],
        [
         "2019-01-03",
         "01"
        ],
        [
         "2019-01-14",
         "01"
        ],
        [
         "2019-01-05",
         "01"
        ],
        [
         "2019-02-22",
         "02"
        ],
        [
         "2019-02-06",
         "02"
        ],
        [
         "2019-01-30",
         "01"
        ],
        [
         "2019-01-11",
         "01"
        ],
        [
         "2019-03-19",
         "03"
        ],
        [
         "2019-01-14",
         "01"
        ],
        [
         "2019-03-01",
         "03"
        ],
        [
         "2019-01-06",
         "01"
        ],
        [
         "2019-01-31",
         "01"
        ],
        [
         "2019-03-11",
         "03"
        ],
        [
         "2019-02-20",
         "02"
        ],
        [
         "2019-01-27",
         "01"
        ],
        [
         "2019-03-10",
         "03"
        ],
        [
         "2019-02-15",
         "02"
        ],
        [
         "2019-01-26",
         "01"
        ],
        [
         "2019-02-13",
         "02"
        ],
        [
         "2019-03-09",
         "03"
        ],
        [
         "2019-03-06",
         "03"
        ],
        [
         "2019-01-24",
         "01"
        ],
        [
         "2019-03-13",
         "03"
        ],
        [
         "2019-03-15",
         "03"
        ],
        [
         "2019-03-05",
         "03"
        ],
        [
         "2019-03-04",
         "03"
        ],
        [
         "2019-03-25",
         "03"
        ],
        [
         "2019-03-12",
         "03"
        ],
        [
         "2019-02-04",
         "02"
        ],
        [
         "2019-02-22",
         "02"
        ],
        [
         "2019-02-16",
         "02"
        ],
        [
         "2019-01-19",
         "01"
        ],
        [
         "2019-01-11",
         "01"
        ],
        [
         "2019-01-04",
         "01"
        ],
        [
         "2019-03-04",
         "03"
        ],
        [
         "2019-01-28",
         "01"
        ],
        [
         "2019-01-02",
         "01"
        ],
        [
         "2019-01-25",
         "01"
        ],
        [
         "2019-01-04",
         "01"
        ],
        [
         "2019-03-10",
         "03"
        ],
        [
         "2019-03-22",
         "03"
        ],
        [
         "2019-01-25",
         "01"
        ],
        [
         "2019-01-08",
         "01"
        ],
        [
         "2019-01-22",
         "01"
        ],
        [
         "2019-01-12",
         "01"
        ],
        [
         "2019-02-04",
         "02"
        ],
        [
         "2019-03-28",
         "03"
        ],
        [
         "2019-01-23",
         "01"
        ],
        [
         "2019-02-08",
         "02"
        ],
        [
         "2019-03-19",
         "03"
        ],
        [
         "2019-03-09",
         "03"
        ],
        [
         "2019-01-02",
         "01"
        ],
        [
         "2019-01-21",
         "01"
        ],
        [
         "2019-03-20",
         "03"
        ],
        [
         "2019-02-27",
         "02"
        ],
        [
         "2019-03-08",
         "03"
        ],
        [
         "2019-01-31",
         "01"
        ],
        [
         "2019-03-08",
         "03"
        ],
        [
         "2019-01-13",
         "01"
        ],
        [
         "2019-03-09",
         "03"
        ],
        [
         "2019-02-22",
         "02"
        ],
        [
         "2019-03-19",
         "03"
        ],
        [
         "2019-01-20",
         "01"
        ],
        [
         "2019-03-08",
         "03"
        ],
        [
         "2019-03-08",
         "03"
        ],
        [
         "2019-02-07",
         "02"
        ],
        [
         "2019-01-15",
         "01"
        ],
        [
         "2019-03-22",
         "03"
        ],
        [
         "2019-01-15",
         "01"
        ],
        [
         "2019-01-08",
         "01"
        ],
        [
         "2019-01-15",
         "01"
        ],
        [
         "2019-01-28",
         "01"
        ],
        [
         "2019-02-14",
         "02"
        ],
        [
         "2019-03-10",
         "03"
        ],
        [
         "2019-01-12",
         "01"
        ],
        [
         "2019-03-26",
         "03"
        ],
        [
         "2019-01-01",
         "01"
        ],
        [
         "2019-01-02",
         "01"
        ],
        [
         "2019-03-16",
         "03"
        ],
        [
         "2019-03-03",
         "03"
        ],
        [
         "2019-01-31",
         "01"
        ],
        [
         "2019-02-13",
         "02"
        ],
        [
         "2019-02-15",
         "02"
        ],
        [
         "2019-02-07",
         "02"
        ],
        [
         "2019-01-27",
         "01"
        ],
        [
         "2019-02-23",
         "02"
        ],
        [
         "2019-02-03",
         "02"
        ],
        [
         "2019-03-03",
         "03"
        ],
        [
         "2019-02-03",
         "02"
        ],
        [
         "2019-03-17",
         "03"
        ],
        [
         "2019-03-28",
         "03"
        ],
        [
         "2019-03-02",
         "03"
        ],
        [
         "2019-02-08",
         "02"
        ],
        [
         "2019-03-22",
         "03"
        ],
        [
         "2019-02-09",
         "02"
        ],
        [
         "2019-02-15",
         "02"
        ],
        [
         "2019-01-23",
         "01"
        ],
        [
         "2019-01-25",
         "01"
        ],
        [
         "2019-02-02",
         "02"
        ],
        [
         "2019-03-30",
         "03"
        ],
        [
         "2019-03-30",
         "03"
        ],
        [
         "2019-02-25",
         "02"
        ],
        [
         "2019-03-18",
         "03"
        ],
        [
         "2019-03-07",
         "03"
        ],
        [
         "2019-03-16",
         "03"
        ],
        [
         "2019-01-29",
         "01"
        ],
        [
         "2019-02-02",
         "02"
        ],
        [
         "2019-02-15",
         "02"
        ],
        [
         "2019-01-08",
         "01"
        ],
        [
         "2019-02-12",
         "02"
        ],
        [
         "2019-01-01",
         "01"
        ],
        [
         "2019-03-21",
         "03"
        ],
        [
         "2019-02-28",
         "02"
        ],
        [
         "2019-03-23",
         "03"
        ],
        [
         "2019-01-30",
         "01"
        ],
        [
         "2019-02-04",
         "02"
        ],
        [
         "2019-03-13",
         "03"
        ],
        [
         "2019-03-15",
         "03"
        ],
        [
         "2019-03-05",
         "03"
        ],
        [
         "2019-03-05",
         "03"
        ],
        [
         "2019-02-26",
         "02"
        ],
        [
         "2019-03-20",
         "03"
        ],
        [
         "2019-01-01",
         "01"
        ],
        [
         "2019-01-27",
         "01"
        ],
        [
         "2019-01-21",
         "01"
        ],
        [
         "2019-02-02",
         "02"
        ],
        [
         "2019-02-03",
         "02"
        ],
        [
         "2019-01-05",
         "01"
        ],
        [
         "2019-01-27",
         "01"
        ],
        [
         "2019-03-25",
         "03"
        ],
        [
         "2019-02-25",
         "02"
        ],
        [
         "2019-01-28",
         "01"
        ],
        [
         "2019-01-08",
         "01"
        ],
        [
         "2019-01-29",
         "01"
        ],
        [
         "2019-03-29",
         "03"
        ],
        [
         "2019-02-09",
         "02"
        ],
        [
         "2019-01-16",
         "01"
        ],
        [
         "2019-01-05",
         "01"
        ],
        [
         "2019-01-27",
         "01"
        ],
        [
         "2019-03-14",
         "03"
        ],
        [
         "2019-02-23",
         "02"
        ],
        [
         "2019-03-18",
         "03"
        ],
        [
         "2019-03-29",
         "03"
        ],
        [
         "2019-01-22",
         "01"
        ],
        [
         "2019-03-01",
         "03"
        ],
        [
         "2019-01-17",
         "01"
        ],
        [
         "2019-03-26",
         "03"
        ],
        [
         "2019-03-20",
         "03"
        ],
        [
         "2019-02-06",
         "02"
        ],
        [
         "2019-01-01",
         "01"
        ],
        [
         "2019-01-27",
         "01"
        ],
        [
         "2019-02-25",
         "02"
        ],
        [
         "2019-01-16",
         "01"
        ],
        [
         "2019-01-13",
         "01"
        ],
        [
         "2019-02-07",
         "02"
        ],
        [
         "2019-02-17",
         "02"
        ],
        [
         "2019-02-12",
         "02"
        ],
        [
         "2019-01-24",
         "01"
        ],
        [
         "2019-02-06",
         "02"
        ],
        [
         "2019-03-26",
         "03"
        ],
        [
         "2019-03-11",
         "03"
        ],
        [
         "2019-02-07",
         "02"
        ],
        [
         "2019-01-05",
         "01"
        ],
        [
         "2019-03-07",
         "03"
        ],
        [
         "2019-02-25",
         "02"
        ],
        [
         "2019-02-01",
         "02"
        ],
        [
         "2019-01-22",
         "01"
        ],
        [
         "2019-01-03",
         "01"
        ],
        [
         "2019-02-13",
         "02"
        ],
        [
         "2019-01-28",
         "01"
        ],
        [
         "2019-01-05",
         "01"
        ],
        [
         "2019-03-19",
         "03"
        ],
        [
         "2019-01-12",
         "01"
        ],
        [
         "2019-01-07",
         "01"
        ],
        [
         "2019-01-26",
         "01"
        ],
        [
         "2019-01-23",
         "01"
        ],
        [
         "2019-02-09",
         "02"
        ],
        [
         "2019-02-22",
         "02"
        ],
        [
         "2019-02-05",
         "02"
        ],
        [
         "2019-03-07",
         "03"
        ],
        [
         "2019-03-25",
         "03"
        ],
        [
         "2019-01-20",
         "01"
        ],
        [
         "2019-02-04",
         "02"
        ],
        [
         "2019-01-30",
         "01"
        ],
        [
         "2019-01-02",
         "01"
        ],
        [
         "2019-03-29",
         "03"
        ],
        [
         "2019-03-14",
         "03"
        ],
        [
         "2019-02-11",
         "02"
        ],
        [
         "2019-01-30",
         "01"
        ],
        [
         "2019-03-20",
         "03"
        ],
        [
         "2019-03-20",
         "03"
        ],
        [
         "2019-01-17",
         "01"
        ],
        [
         "2019-02-03",
         "02"
        ],
        [
         "2019-01-01",
         "01"
        ],
        [
         "2019-01-10",
         "01"
        ],
        [
         "2019-03-02",
         "03"
        ],
        [
         "2019-02-25",
         "02"
        ],
        [
         "2019-01-29",
         "01"
        ],
        [
         "2019-03-10",
         "03"
        ],
        [
         "2019-01-13",
         "01"
        ],
        [
         "2019-03-22",
         "03"
        ],
        [
         "2019-03-01",
         "03"
        ],
        [
         "2019-02-20",
         "02"
        ],
        [
         "2019-01-14",
         "01"
        ],
        [
         "2019-03-26",
         "03"
        ],
        [
         "2019-03-01",
         "03"
        ],
        [
         "2019-01-07",
         "01"
        ],
        [
         "2019-02-01",
         "02"
        ],
        [
         "2019-02-13",
         "02"
        ],
        [
         "2019-01-14",
         "01"
        ],
        [
         "2019-01-19",
         "01"
        ],
        [
         "2019-03-09",
         "03"
        ],
        [
         "2019-03-27",
         "03"
        ],
        [
         "2019-02-04",
         "02"
        ],
        [
         "2019-03-14",
         "03"
        ],
        [
         "2019-03-04",
         "03"
        ],
        [
         "2019-03-03",
         "03"
        ],
        [
         "2019-01-27",
         "01"
        ],
        [
         "2019-02-07",
         "02"
        ],
        [
         "2019-02-05",
         "02"
        ],
        [
         "2019-03-15",
         "03"
        ],
        [
         "2019-03-01",
         "03"
        ],
        [
         "2019-02-15",
         "02"
        ],
        [
         "2019-02-17",
         "02"
        ],
        [
         "2019-01-26",
         "01"
        ],
        [
         "2019-03-24",
         "03"
        ],
        [
         "2019-01-23",
         "01"
        ],
        [
         "2019-01-26",
         "01"
        ],
        [
         "2019-03-14",
         "03"
        ],
        [
         "2019-03-17",
         "03"
        ],
        [
         "2019-01-08",
         "01"
        ],
        [
         "2019-02-08",
         "02"
        ],
        [
         "2019-02-10",
         "02"
        ],
        [
         "2019-03-28",
         "03"
        ],
        [
         "2019-01-23",
         "01"
        ],
        [
         "2019-01-17",
         "01"
        ],
        [
         "2019-02-07",
         "02"
        ],
        [
         "2019-03-09",
         "03"
        ],
        [
         "2019-01-24",
         "01"
        ],
        [
         "2019-01-19",
         "01"
        ],
        [
         "2019-02-03",
         "02"
        ],
        [
         "2019-03-20",
         "03"
        ],
        [
         "2019-01-13",
         "01"
        ],
        [
         "2019-03-14",
         "03"
        ],
        [
         "2019-01-23",
         "01"
        ],
        [
         "2019-02-07",
         "02"
        ],
        [
         "2019-03-28",
         "03"
        ],
        [
         "2019-03-20",
         "03"
        ],
        [
         "2019-01-17",
         "01"
        ],
        [
         "2019-01-12",
         "01"
        ],
        [
         "2019-02-16",
         "02"
        ],
        [
         "2019-01-26",
         "01"
        ],
        [
         "2019-03-09",
         "03"
        ],
        [
         "2019-03-14",
         "03"
        ],
        [
         "2019-01-25",
         "01"
        ],
        [
         "2019-01-26",
         "01"
        ],
        [
         "2019-01-19",
         "01"
        ],
        [
         "2019-03-05",
         "03"
        ],
        [
         "2019-01-15",
         "01"
        ],
        [
         "2019-03-18",
         "03"
        ],
        [
         "2019-03-20",
         "03"
        ],
        [
         "2019-01-15",
         "01"
        ],
        [
         "2019-03-03",
         "03"
        ],
        [
         "2019-03-19",
         "03"
        ],
        [
         "2019-03-08",
         "03"
        ],
        [
         "2019-02-27",
         "02"
        ],
        [
         "2019-02-23",
         "02"
        ],
        [
         "2019-03-19",
         "03"
        ],
        [
         "2019-03-27",
         "03"
        ],
        [
         "2019-03-30",
         "03"
        ],
        [
         "2019-02-16",
         "02"
        ],
        [
         "2019-01-18",
         "01"
        ],
        [
         "2019-03-30",
         "03"
        ],
        [
         "2019-03-20",
         "03"
        ],
        [
         "2019-01-16",
         "01"
        ],
        [
         "2019-02-24",
         "02"
        ],
        [
         "2019-01-15",
         "01"
        ],
        [
         "2019-01-22",
         "01"
        ],
        [
         "2019-02-03",
         "02"
        ],
        [
         "2019-03-06",
         "03"
        ],
        [
         "2019-02-16",
         "02"
        ],
        [
         "2019-03-14",
         "03"
        ],
        [
         "2019-02-27",
         "02"
        ],
        [
         "2019-01-18",
         "01"
        ],
        [
         "2019-01-29",
         "01"
        ],
        [
         "2019-02-26",
         "02"
        ],
        [
         "2019-02-03",
         "02"
        ],
        [
         "2019-01-16",
         "01"
        ],
        [
         "2019-03-24",
         "03"
        ],
        [
         "2019-02-12",
         "02"
        ],
        [
         "2019-02-21",
         "02"
        ],
        [
         "2019-02-04",
         "02"
        ],
        [
         "2019-02-20",
         "02"
        ],
        [
         "2019-02-23",
         "02"
        ],
        [
         "2019-02-16",
         "02"
        ],
        [
         "2019-01-17",
         "01"
        ],
        [
         "2019-01-14",
         "01"
        ],
        [
         "2019-03-30",
         "03"
        ],
        [
         "2019-03-02",
         "03"
        ],
        [
         "2019-02-15",
         "02"
        ],
        [
         "2019-03-01",
         "03"
        ],
        [
         "2019-02-24",
         "02"
        ],
        [
         "2019-02-19",
         "02"
        ],
        [
         "2019-02-23",
         "02"
        ],
        [
         "2019-02-07",
         "02"
        ],
        [
         "2019-01-11",
         "01"
        ],
        [
         "2019-02-12",
         "02"
        ],
        [
         "2019-01-14",
         "01"
        ],
        [
         "2019-01-09",
         "01"
        ],
        [
         "2019-02-27",
         "02"
        ],
        [
         "2019-01-24",
         "01"
        ],
        [
         "2019-01-08",
         "01"
        ],
        [
         "2019-01-08",
         "01"
        ],
        [
         "2019-01-16",
         "01"
        ],
        [
         "2019-03-13",
         "03"
        ],
        [
         "2019-02-15",
         "02"
        ],
        [
         "2019-01-25",
         "01"
        ],
        [
         "2019-03-12",
         "03"
        ],
        [
         "2019-03-04",
         "03"
        ],
        [
         "2019-02-10",
         "02"
        ],
        [
         "2019-01-16",
         "01"
        ],
        [
         "2019-01-29",
         "01"
        ],
        [
         "2019-01-01",
         "01"
        ],
        [
         "2019-01-06",
         "01"
        ],
        [
         "2019-02-19",
         "02"
        ],
        [
         "2019-01-12",
         "01"
        ],
        [
         "2019-02-07",
         "02"
        ],
        [
         "2019-03-27",
         "03"
        ],
        [
         "2019-02-27",
         "02"
        ],
        [
         "2019-01-06",
         "01"
        ],
        [
         "2019-03-02",
         "03"
        ],
        [
         "2019-03-29",
         "03"
        ],
        [
         "2019-01-31",
         "01"
        ],
        [
         "2019-01-21",
         "01"
        ],
        [
         "2019-01-20",
         "01"
        ],
        [
         "2019-01-17",
         "01"
        ],
        [
         "2019-02-28",
         "02"
        ],
        [
         "2019-03-19",
         "03"
        ],
        [
         "2019-02-19",
         "02"
        ],
        [
         "2019-02-04",
         "02"
        ],
        [
         "2019-01-31",
         "01"
        ],
        [
         "2019-02-06",
         "02"
        ],
        [
         "2019-03-28",
         "03"
        ],
        [
         "2019-01-19",
         "01"
        ],
        [
         "2019-02-17",
         "02"
        ],
        [
         "2019-01-18",
         "01"
        ],
        [
         "2019-02-02",
         "02"
        ],
        [
         "2019-01-18",
         "01"
        ],
        [
         "2019-03-18",
         "03"
        ],
        [
         "2019-01-11",
         "01"
        ],
        [
         "2019-02-04",
         "02"
        ],
        [
         "2019-02-06",
         "02"
        ],
        [
         "2019-01-08",
         "01"
        ],
        [
         "2019-03-05",
         "03"
        ],
        [
         "2019-03-16",
         "03"
        ],
        [
         "2019-03-09",
         "03"
        ],
        [
         "2019-03-01",
         "03"
        ],
        [
         "2019-02-28",
         "02"
        ],
        [
         "2019-02-08",
         "02"
        ],
        [
         "2019-01-24",
         "01"
        ],
        [
         "2019-03-01",
         "03"
        ],
        [
         "2019-03-10",
         "03"
        ],
        [
         "2019-03-23",
         "03"
        ],
        [
         "2019-01-29",
         "01"
        ],
        [
         "2019-01-12",
         "01"
        ],
        [
         "2019-03-20",
         "03"
        ],
        [
         "2019-03-23",
         "03"
        ],
        [
         "2019-01-14",
         "01"
        ],
        [
         "2019-02-12",
         "02"
        ],
        [
         "2019-02-20",
         "02"
        ],
        [
         "2019-01-02",
         "01"
        ],
        [
         "2019-02-02",
         "02"
        ],
        [
         "2019-01-08",
         "01"
        ],
        [
         "2019-01-30",
         "01"
        ],
        [
         "2019-03-26",
         "03"
        ],
        [
         "2019-01-15",
         "01"
        ],
        [
         "2019-03-14",
         "03"
        ],
        [
         "2019-02-03",
         "02"
        ],
        [
         "2019-02-22",
         "02"
        ],
        [
         "2019-01-24",
         "01"
        ],
        [
         "2019-01-25",
         "01"
        ],
        [
         "2019-03-09",
         "03"
        ],
        [
         "2019-02-17",
         "02"
        ],
        [
         "2019-01-11",
         "01"
        ],
        [
         "2019-02-27",
         "02"
        ],
        [
         "2019-03-25",
         "03"
        ],
        [
         "2019-02-11",
         "02"
        ],
        [
         "2019-01-31",
         "01"
        ],
        [
         "2019-01-20",
         "01"
        ],
        [
         "2019-03-26",
         "03"
        ],
        [
         "2019-01-20",
         "01"
        ],
        [
         "2019-03-05",
         "03"
        ],
        [
         "2019-01-05",
         "01"
        ],
        [
         "2019-02-13",
         "02"
        ],
        [
         "2019-03-16",
         "03"
        ],
        [
         "2019-01-15",
         "01"
        ],
        [
         "2019-02-26",
         "02"
        ],
        [
         "2019-02-27",
         "02"
        ],
        [
         "2019-02-17",
         "02"
        ],
        [
         "2019-02-06",
         "02"
        ],
        [
         "2019-01-17",
         "01"
        ],
        [
         "2019-01-22",
         "01"
        ],
        [
         "2019-03-05",
         "03"
        ],
        [
         "2019-01-03",
         "01"
        ],
        [
         "2019-03-20",
         "03"
        ],
        [
         "2019-01-31",
         "01"
        ],
        [
         "2019-02-19",
         "02"
        ],
        [
         "2019-02-11",
         "02"
        ],
        [
         "2019-02-05",
         "02"
        ],
        [
         "2019-03-03",
         "03"
        ],
        [
         "2019-02-24",
         "02"
        ],
        [
         "2019-02-04",
         "02"
        ],
        [
         "2019-02-19",
         "02"
        ],
        [
         "2019-01-23",
         "01"
        ],
        [
         "2019-01-14",
         "01"
        ],
        [
         "2019-01-17",
         "01"
        ],
        [
         "2019-03-03",
         "03"
        ],
        [
         "2019-02-15",
         "02"
        ],
        [
         "2019-01-15",
         "01"
        ],
        [
         "2019-02-27",
         "02"
        ],
        [
         "2019-02-26",
         "02"
        ],
        [
         "2019-03-15",
         "03"
        ],
        [
         "2019-01-24",
         "01"
        ],
        [
         "2019-02-22",
         "02"
        ],
        [
         "2019-03-15",
         "03"
        ],
        [
         "2019-02-11",
         "02"
        ],
        [
         "2019-01-12",
         "01"
        ],
        [
         "2019-03-03",
         "03"
        ],
        [
         "2019-03-23",
         "03"
        ],
        [
         "2019-03-04",
         "03"
        ],
        [
         "2019-02-23",
         "02"
        ],
        [
         "2019-03-17",
         "03"
        ],
        [
         "2019-01-16",
         "01"
        ],
        [
         "2019-01-08",
         "01"
        ],
        [
         "2019-01-14",
         "01"
        ],
        [
         "2019-01-31",
         "01"
        ],
        [
         "2019-03-15",
         "03"
        ],
        [
         "2019-02-24",
         "02"
        ],
        [
         "2019-02-08",
         "02"
        ],
        [
         "2019-03-22",
         "03"
        ],
        [
         "2019-01-24",
         "01"
        ],
        [
         "2019-03-14",
         "03"
        ],
        [
         "2019-01-23",
         "01"
        ],
        [
         "2019-01-19",
         "01"
        ],
        [
         "2019-01-27",
         "01"
        ],
        [
         "2019-02-03",
         "02"
        ],
        [
         "2019-03-25",
         "03"
        ],
        [
         "2019-02-24",
         "02"
        ],
        [
         "2019-02-07",
         "02"
        ],
        [
         "2019-03-04",
         "03"
        ],
        [
         "2019-02-14",
         "02"
        ],
        [
         "2019-01-29",
         "01"
        ],
        [
         "2019-01-28",
         "01"
        ],
        [
         "2019-03-26",
         "03"
        ],
        [
         "2019-03-24",
         "03"
        ],
        [
         "2019-01-01",
         "01"
        ],
        [
         "2019-01-24",
         "01"
        ],
        [
         "2019-02-25",
         "02"
        ],
        [
         "2019-01-09",
         "01"
        ],
        [
         "2019-02-14",
         "02"
        ],
        [
         "2019-03-12",
         "03"
        ],
        [
         "2019-03-26",
         "03"
        ],
        [
         "2019-01-09",
         "01"
        ],
        [
         "2019-01-02",
         "01"
        ],
        [
         "2019-01-15",
         "01"
        ],
        [
         "2019-01-01",
         "01"
        ],
        [
         "2019-02-15",
         "02"
        ],
        [
         "2019-02-28",
         "02"
        ],
        [
         "2019-03-02",
         "03"
        ],
        [
         "2019-02-13",
         "02"
        ],
        [
         "2019-01-26",
         "01"
        ],
        [
         "2019-01-30",
         "01"
        ],
        [
         "2019-01-27",
         "01"
        ],
        [
         "2019-01-30",
         "01"
        ],
        [
         "2019-01-08",
         "01"
        ],
        [
         "2019-01-19",
         "01"
        ],
        [
         "2019-01-25",
         "01"
        ],
        [
         "2019-02-19",
         "02"
        ],
        [
         "2019-01-14",
         "01"
        ],
        [
         "2019-02-25",
         "02"
        ],
        [
         "2019-01-23",
         "01"
        ],
        [
         "2019-02-16",
         "02"
        ],
        [
         "2019-01-01",
         "01"
        ],
        [
         "2019-03-07",
         "03"
        ],
        [
         "2019-02-15",
         "02"
        ],
        [
         "2019-01-23",
         "01"
        ],
        [
         "2019-02-20",
         "02"
        ],
        [
         "2019-01-08",
         "01"
        ],
        [
         "2019-03-17",
         "03"
        ],
        [
         "2019-01-12",
         "01"
        ],
        [
         "2019-01-08",
         "01"
        ],
        [
         "2019-01-26",
         "01"
        ],
        [
         "2019-03-15",
         "03"
        ],
        [
         "2019-01-17",
         "01"
        ],
        [
         "2019-01-08",
         "01"
        ],
        [
         "2019-01-06",
         "01"
        ],
        [
         "2019-02-16",
         "02"
        ],
        [
         "2019-03-13",
         "03"
        ],
        [
         "2019-01-28",
         "01"
        ],
        [
         "2019-01-18",
         "01"
        ],
        [
         "2019-03-19",
         "03"
        ],
        [
         "2019-03-15",
         "03"
        ],
        [
         "2019-02-12",
         "02"
        ],
        [
         "2019-02-25",
         "02"
        ],
        [
         "2019-03-21",
         "03"
        ],
        [
         "2019-01-19",
         "01"
        ],
        [
         "2019-01-08",
         "01"
        ],
        [
         "2019-03-30",
         "03"
        ],
        [
         "2019-02-20",
         "02"
        ],
        [
         "2019-03-30",
         "03"
        ],
        [
         "2019-03-19",
         "03"
        ],
        [
         "2019-01-13",
         "01"
        ],
        [
         "2019-02-05",
         "02"
        ],
        [
         "2019-03-23",
         "03"
        ],
        [
         "2019-03-13",
         "03"
        ],
        [
         "2019-03-17",
         "03"
        ],
        [
         "2019-02-21",
         "02"
        ],
        [
         "2019-02-07",
         "02"
        ],
        [
         "2019-03-02",
         "03"
        ],
        [
         "2019-03-06",
         "03"
        ],
        [
         "2019-02-06",
         "02"
        ],
        [
         "2019-01-28",
         "01"
        ],
        [
         "2019-01-18",
         "01"
        ],
        [
         "2019-02-05",
         "02"
        ],
        [
         "2019-03-02",
         "03"
        ],
        [
         "2019-02-09",
         "02"
        ],
        [
         "2019-01-14",
         "01"
        ],
        [
         "2019-02-09",
         "02"
        ],
        [
         "2019-03-26",
         "03"
        ],
        [
         "2019-01-28",
         "01"
        ],
        [
         "2019-02-14",
         "02"
        ],
        [
         "2019-03-24",
         "03"
        ],
        [
         "2019-02-09",
         "02"
        ],
        [
         "2019-03-24",
         "03"
        ],
        [
         "2019-03-27",
         "03"
        ],
        [
         "2019-01-27",
         "01"
        ],
        [
         "2019-03-27",
         "03"
        ],
        [
         "2019-01-19",
         "01"
        ],
        [
         "2019-02-07",
         "02"
        ],
        [
         "2019-01-31",
         "01"
        ],
        [
         "2019-02-25",
         "02"
        ],
        [
         "2019-02-02",
         "02"
        ],
        [
         "2019-03-14",
         "03"
        ],
        [
         "2019-03-11",
         "03"
        ],
        [
         "2019-02-22",
         "02"
        ],
        [
         "2019-03-02",
         "03"
        ],
        [
         "2019-03-10",
         "03"
        ],
        [
         "2019-02-08",
         "02"
        ],
        [
         "2019-02-22",
         "02"
        ],
        [
         "2019-01-10",
         "01"
        ],
        [
         "2019-03-14",
         "03"
        ],
        [
         "2019-01-10",
         "01"
        ],
        [
         "2019-02-15",
         "02"
        ],
        [
         "2019-01-13",
         "01"
        ],
        [
         "2019-02-15",
         "02"
        ],
        [
         "2019-03-02",
         "03"
        ],
        [
         "2019-03-24",
         "03"
        ],
        [
         "2019-02-02",
         "02"
        ],
        [
         "2019-02-27",
         "02"
        ],
        [
         "2019-01-20",
         "01"
        ],
        [
         "2019-01-03",
         "01"
        ],
        [
         "2019-01-24",
         "01"
        ],
        [
         "2019-01-05",
         "01"
        ],
        [
         "2019-03-30",
         "03"
        ],
        [
         "2019-02-17",
         "02"
        ],
        [
         "2019-03-21",
         "03"
        ],
        [
         "2019-03-02",
         "03"
        ],
        [
         "2019-03-27",
         "03"
        ],
        [
         "2019-01-19",
         "01"
        ],
        [
         "2019-02-19",
         "02"
        ],
        [
         "2019-03-28",
         "03"
        ],
        [
         "2019-01-05",
         "01"
        ],
        [
         "2019-03-26",
         "03"
        ],
        [
         "2019-02-03",
         "02"
        ],
        [
         "2019-02-06",
         "02"
        ],
        [
         "2019-02-24",
         "02"
        ],
        [
         "2019-02-21",
         "02"
        ],
        [
         "2019-01-09",
         "01"
        ],
        [
         "2019-02-25",
         "02"
        ],
        [
         "2019-01-13",
         "01"
        ],
        [
         "2019-02-09",
         "02"
        ],
        [
         "2019-01-06",
         "01"
        ],
        [
         "2019-01-10",
         "01"
        ],
        [
         "2019-02-07",
         "02"
        ],
        [
         "2019-01-09",
         "01"
        ],
        [
         "2019-02-19",
         "02"
        ],
        [
         "2019-03-18",
         "03"
        ],
        [
         "2019-02-05",
         "02"
        ],
        [
         "2019-03-19",
         "03"
        ],
        [
         "2019-03-30",
         "03"
        ],
        [
         "2019-01-26",
         "01"
        ],
        [
         "2019-03-02",
         "03"
        ],
        [
         "2019-03-04",
         "03"
        ],
        [
         "2019-01-13",
         "01"
        ],
        [
         "2019-03-25",
         "03"
        ],
        [
         "2019-03-11",
         "03"
        ],
        [
         "2019-01-01",
         "01"
        ],
        [
         "2019-02-10",
         "02"
        ],
        [
         "2019-01-26",
         "01"
        ],
        [
         "2019-02-11",
         "02"
        ],
        [
         "2019-02-07",
         "02"
        ],
        [
         "2019-03-06",
         "03"
        ],
        [
         "2019-03-04",
         "03"
        ],
        [
         "2019-02-26",
         "02"
        ],
        [
         "2019-03-10",
         "03"
        ],
        [
         "2019-02-04",
         "02"
        ],
        [
         "2019-01-19",
         "01"
        ],
        [
         "2019-01-23",
         "01"
        ],
        [
         "2019-03-14",
         "03"
        ],
        [
         "2019-01-23",
         "01"
        ],
        [
         "2019-01-09",
         "01"
        ],
        [
         "2019-02-07",
         "02"
        ],
        [
         "2019-02-18",
         "02"
        ],
        [
         "2019-01-03",
         "01"
        ],
        [
         "2019-03-29",
         "03"
        ],
        [
         "2019-01-28",
         "01"
        ],
        [
         "2019-03-22",
         "03"
        ],
        [
         "2019-01-24",
         "01"
        ],
        [
         "2019-03-10",
         "03"
        ],
        [
         "2019-02-22",
         "02"
        ],
        [
         "2019-02-18",
         "02"
        ],
        [
         "2019-01-29",
         "01"
        ],
        [
         "2019-03-02",
         "03"
        ],
        [
         "2019-02-09",
         "02"
        ],
        [
         "2019-02-22",
         "02"
        ],
        [
         "2019-02-18",
         "02"
        ]
       ],
       "datasetInfos": [],
       "dbfsResultPath": null,
       "isJsonSchema": true,
       "metadata": {
        "dataframeName": "_sqldf",
        "executionCount": 21
       },
       "overflow": false,
       "plotOptions": {
        "customPlotOptions": {},
        "displayType": "table",
        "pivotAggregation": null,
        "pivotColumns": null,
        "xColumns": null,
        "yColumns": null
       },
       "removedWidgets": [],
       "schema": [
        {
         "metadata": "{\"__detected_date_formats\":\"yyyy-M-d\"}",
         "name": "date",
         "type": "\"date\""
        },
        {
         "metadata": "{\"__autoGeneratedAlias\":\"true\"}",
         "name": "date_format(date, MM)",
         "type": "\"string\""
        }
       ],
       "type": "table"
      }
     },
     "output_type": "display_data"
    }
   ],
   "source": [
    "%sql\n",
    "\n",
    "select date,\n",
    "    DATE_FORMAT(date , 'MM')\n",
    "\n",
    "   from `walmartsales_dataanalysis`.`default`.`walmart_sales_data_csv`"
   ]
  },
  {
   "cell_type": "markdown",
   "metadata": {
    "application/vnd.databricks.v1+cell": {
     "cellMetadata": {},
     "inputWidgets": {},
     "nuid": "e2008aa0-278b-47cb-9a43-42c208008359",
     "showTitle": false,
     "title": ""
    }
   },
   "source": [
    "# Business Questions to Ask"
   ]
  },
  {
   "cell_type": "code",
   "execution_count": 0,
   "metadata": {
    "application/vnd.databricks.v1+cell": {
     "cellMetadata": {
      "byteLimit": 2048000,
      "implicitDf": true,
      "rowLimit": 10000
     },
     "inputWidgets": {},
     "nuid": "042791c9-3f05-4b32-95e6-b1e5f82edf14",
     "showTitle": false,
     "title": ""
    }
   },
   "outputs": [
    {
     "output_type": "display_data",
     "data": {
      "text/html": [
       "<style scoped>\n",
       "  .table-result-container {\n",
       "    max-height: 300px;\n",
       "    overflow: auto;\n",
       "  }\n",
       "  table, th, td {\n",
       "    border: 1px solid black;\n",
       "    border-collapse: collapse;\n",
       "  }\n",
       "  th, td {\n",
       "    padding: 5px;\n",
       "  }\n",
       "  th {\n",
       "    text-align: left;\n",
       "  }\n",
       "</style><div class='table-result-container'><table class='table-result'><thead style='background-color: white'><tr><th>city</th></tr></thead><tbody><tr><td>Naypyitaw</td></tr><tr><td>Mandalay</td></tr><tr><td>Yangon</td></tr></tbody></table></div>"
      ]
     },
     "metadata": {
      "application/vnd.databricks.v1+output": {
       "addedWidgets": {},
       "aggData": [],
       "aggError": "",
       "aggOverflow": false,
       "aggSchema": [],
       "aggSeriesLimitReached": false,
       "aggType": "",
       "arguments": {},
       "columnCustomDisplayInfos": {},
       "data": [
        [
         "Naypyitaw"
        ],
        [
         "Mandalay"
        ],
        [
         "Yangon"
        ]
       ],
       "datasetInfos": [],
       "dbfsResultPath": null,
       "isJsonSchema": true,
       "metadata": {
        "dataframeName": "_sqldf",
        "executionCount": 22
       },
       "overflow": false,
       "plotOptions": {
        "customPlotOptions": {},
        "displayType": "table",
        "pivotAggregation": null,
        "pivotColumns": null,
        "xColumns": null,
        "yColumns": null
       },
       "removedWidgets": [],
       "schema": [
        {
         "metadata": "{}",
         "name": "city",
         "type": "\"string\""
        }
       ],
       "type": "table"
      }
     },
     "output_type": "display_data"
    }
   ],
   "source": [
    "%sql\n",
    "-- Q1 How many unique cities does the data have?\n",
    "\n",
    "select distinct city \n",
    "from `walmartsales_dataanalysis`.`default`.`walmart_sales_data_csv`"
   ]
  },
  {
   "cell_type": "code",
   "execution_count": 0,
   "metadata": {
    "application/vnd.databricks.v1+cell": {
     "cellMetadata": {
      "byteLimit": 2048000,
      "implicitDf": true,
      "rowLimit": 10000
     },
     "inputWidgets": {},
     "nuid": "2a14cfc3-f8ea-4499-a0cf-2c87ea1ba3b3",
     "showTitle": false,
     "title": ""
    }
   },
   "outputs": [
    {
     "output_type": "display_data",
     "data": {
      "text/html": [
       "<style scoped>\n",
       "  .table-result-container {\n",
       "    max-height: 300px;\n",
       "    overflow: auto;\n",
       "  }\n",
       "  table, th, td {\n",
       "    border: 1px solid black;\n",
       "    border-collapse: collapse;\n",
       "  }\n",
       "  th, td {\n",
       "    padding: 5px;\n",
       "  }\n",
       "  th {\n",
       "    text-align: left;\n",
       "  }\n",
       "</style><div class='table-result-container'><table class='table-result'><thead style='background-color: white'><tr><th>city</th><th>branch</th></tr></thead><tbody><tr><td>Naypyitaw</td><td>C</td></tr><tr><td>Yangon</td><td>A</td></tr><tr><td>Mandalay</td><td>B</td></tr></tbody></table></div>"
      ]
     },
     "metadata": {
      "application/vnd.databricks.v1+output": {
       "addedWidgets": {},
       "aggData": [],
       "aggError": "",
       "aggOverflow": false,
       "aggSchema": [],
       "aggSeriesLimitReached": false,
       "aggType": "",
       "arguments": {},
       "columnCustomDisplayInfos": {},
       "data": [
        [
         "Naypyitaw",
         "C"
        ],
        [
         "Yangon",
         "A"
        ],
        [
         "Mandalay",
         "B"
        ]
       ],
       "datasetInfos": [],
       "dbfsResultPath": null,
       "isJsonSchema": true,
       "metadata": {
        "dataframeName": "_sqldf",
        "executionCount": 27
       },
       "overflow": false,
       "plotOptions": {
        "customPlotOptions": {},
        "displayType": "table",
        "pivotAggregation": null,
        "pivotColumns": null,
        "xColumns": null,
        "yColumns": null
       },
       "removedWidgets": [],
       "schema": [
        {
         "metadata": "{}",
         "name": "city",
         "type": "\"string\""
        },
        {
         "metadata": "{}",
         "name": "branch",
         "type": "\"string\""
        }
       ],
       "type": "table"
      }
     },
     "output_type": "display_data"
    }
   ],
   "source": [
    "%sql\n",
    "-- In which city is each branch?\n",
    "SELECT \n",
    "\tDISTINCT city,\n",
    "    branch\n",
    "from `walmartsales_dataanalysis`.`default`.`walmart_sales_data_csv`"
   ]
  },
  {
   "cell_type": "code",
   "execution_count": 0,
   "metadata": {
    "application/vnd.databricks.v1+cell": {
     "cellMetadata": {
      "byteLimit": 2048000,
      "implicitDf": true,
      "rowLimit": 10000
     },
     "inputWidgets": {},
     "nuid": "cbccb64f-0798-4ccb-91ad-c0637aee2335",
     "showTitle": false,
     "title": ""
    }
   },
   "outputs": [
    {
     "output_type": "display_data",
     "data": {
      "text/html": [
       "<style scoped>\n",
       "  .table-result-container {\n",
       "    max-height: 300px;\n",
       "    overflow: auto;\n",
       "  }\n",
       "  table, th, td {\n",
       "    border: 1px solid black;\n",
       "    border-collapse: collapse;\n",
       "  }\n",
       "  th, td {\n",
       "    padding: 5px;\n",
       "  }\n",
       "  th {\n",
       "    text-align: left;\n",
       "  }\n",
       "</style><div class='table-result-container'><table class='table-result'><thead style='background-color: white'><tr><th>product line</th></tr></thead><tbody><tr><td>Home and lifestyle</td></tr><tr><td>Fashion accessories</td></tr><tr><td>Health and beauty</td></tr><tr><td>Electronic accessories</td></tr><tr><td>Food and beverages</td></tr><tr><td>Sports and travel</td></tr></tbody></table></div>"
      ]
     },
     "metadata": {
      "application/vnd.databricks.v1+output": {
       "addedWidgets": {},
       "aggData": [],
       "aggError": "",
       "aggOverflow": false,
       "aggSchema": [],
       "aggSeriesLimitReached": false,
       "aggType": "",
       "arguments": {},
       "columnCustomDisplayInfos": {},
       "data": [
        [
         "Home and lifestyle"
        ],
        [
         "Fashion accessories"
        ],
        [
         "Health and beauty"
        ],
        [
         "Electronic accessories"
        ],
        [
         "Food and beverages"
        ],
        [
         "Sports and travel"
        ]
       ],
       "datasetInfos": [],
       "dbfsResultPath": null,
       "isJsonSchema": true,
       "metadata": {
        "dataframeName": "_sqldf",
        "executionCount": 29
       },
       "overflow": false,
       "plotOptions": {
        "customPlotOptions": {},
        "displayType": "table",
        "pivotAggregation": null,
        "pivotColumns": null,
        "xColumns": null,
        "yColumns": null
       },
       "removedWidgets": [],
       "schema": [
        {
         "metadata": "{}",
         "name": "product line",
         "type": "\"string\""
        }
       ],
       "type": "table"
      }
     },
     "output_type": "display_data"
    }
   ],
   "source": [
    "%sql\n",
    "-- How many unique product lines does the data have?\n",
    "SELECT\n",
    "\tDISTINCT `product line`\n",
    "from `walmartsales_dataanalysis`.`default`.`walmart_sales_data_csv`\n"
   ]
  },
  {
   "cell_type": "code",
   "execution_count": 0,
   "metadata": {
    "application/vnd.databricks.v1+cell": {
     "cellMetadata": {
      "byteLimit": 2048000,
      "implicitDf": true,
      "rowLimit": 10000
     },
     "inputWidgets": {},
     "nuid": "49e006f1-5917-482f-97dc-8cd24280c5f1",
     "showTitle": false,
     "title": ""
    }
   },
   "outputs": [
    {
     "output_type": "display_data",
     "data": {
      "text/html": [
       "<style scoped>\n",
       "  .table-result-container {\n",
       "    max-height: 300px;\n",
       "    overflow: auto;\n",
       "  }\n",
       "  table, th, td {\n",
       "    border: 1px solid black;\n",
       "    border-collapse: collapse;\n",
       "  }\n",
       "  th, td {\n",
       "    padding: 5px;\n",
       "  }\n",
       "  th {\n",
       "    text-align: left;\n",
       "  }\n",
       "</style><div class='table-result-container'><table class='table-result'><thead style='background-color: white'><tr><th>qty</th><th>Product line</th></tr></thead><tbody><tr><td>971</td><td>Electronic accessories</td></tr><tr><td>952</td><td>Food and beverages</td></tr><tr><td>920</td><td>Sports and travel</td></tr><tr><td>911</td><td>Home and lifestyle</td></tr><tr><td>902</td><td>Fashion accessories</td></tr><tr><td>854</td><td>Health and beauty</td></tr></tbody></table></div>"
      ]
     },
     "metadata": {
      "application/vnd.databricks.v1+output": {
       "addedWidgets": {},
       "aggData": [],
       "aggError": "",
       "aggOverflow": false,
       "aggSchema": [],
       "aggSeriesLimitReached": false,
       "aggType": "",
       "arguments": {},
       "columnCustomDisplayInfos": {},
       "data": [
        [
         971,
         "Electronic accessories"
        ],
        [
         952,
         "Food and beverages"
        ],
        [
         920,
         "Sports and travel"
        ],
        [
         911,
         "Home and lifestyle"
        ],
        [
         902,
         "Fashion accessories"
        ],
        [
         854,
         "Health and beauty"
        ]
       ],
       "datasetInfos": [],
       "dbfsResultPath": null,
       "isJsonSchema": true,
       "metadata": {
        "dataframeName": "_sqldf",
        "executionCount": 32
       },
       "overflow": false,
       "plotOptions": {
        "customPlotOptions": {},
        "displayType": "table",
        "pivotAggregation": null,
        "pivotColumns": null,
        "xColumns": null,
        "yColumns": null
       },
       "removedWidgets": [],
       "schema": [
        {
         "metadata": "{}",
         "name": "qty",
         "type": "\"long\""
        },
        {
         "metadata": "{}",
         "name": "Product line",
         "type": "\"string\""
        }
       ],
       "type": "table"
      }
     },
     "output_type": "display_data"
    }
   ],
   "source": [
    "%sql\n",
    "-- What is the most selling product line \n",
    "SELECT\n",
    "\tsum(Quantity)  as qty,\n",
    "  `Product line`\n",
    "  \n",
    "from `walmartsales_dataanalysis`.`default`.`walmart_sales_data_csv`\n",
    "GROUP BY 2 \n",
    "ORDER BY 1 DESC;"
   ]
  },
  {
   "cell_type": "code",
   "execution_count": 0,
   "metadata": {
    "application/vnd.databricks.v1+cell": {
     "cellMetadata": {
      "byteLimit": 2048000,
      "implicitDf": true,
      "rowLimit": 10000
     },
     "inputWidgets": {},
     "nuid": "4a48fce7-9548-42a2-8aeb-c9a47b5f2433",
     "showTitle": false,
     "title": ""
    }
   },
   "outputs": [
    {
     "output_type": "display_data",
     "data": {
      "text/html": [
       "<style scoped>\n",
       "  .table-result-container {\n",
       "    max-height: 300px;\n",
       "    overflow: auto;\n",
       "  }\n",
       "  table, th, td {\n",
       "    border: 1px solid black;\n",
       "    border-collapse: collapse;\n",
       "  }\n",
       "  th, td {\n",
       "    padding: 5px;\n",
       "  }\n",
       "  th {\n",
       "    text-align: left;\n",
       "  }\n",
       "</style><div class='table-result-container'><table class='table-result'><thead style='background-color: white'><tr><th>product line</th><th>total revenue</th></tr></thead><tbody><tr><td>Food and beverages</td><td>56144.844000000005</td></tr><tr><td>Sports and travel</td><td>55122.826499999996</td></tr><tr><td>Electronic accessories</td><td>54337.531500000005</td></tr><tr><td>Fashion accessories</td><td>54305.895</td></tr><tr><td>Home and lifestyle</td><td>53861.91300000001</td></tr><tr><td>Health and beauty</td><td>49193.739000000016</td></tr></tbody></table></div>"
      ]
     },
     "metadata": {
      "application/vnd.databricks.v1+output": {
       "addedWidgets": {},
       "aggData": [],
       "aggError": "",
       "aggOverflow": false,
       "aggSchema": [],
       "aggSeriesLimitReached": false,
       "aggType": "",
       "arguments": {},
       "columnCustomDisplayInfos": {},
       "data": [
        [
         "Food and beverages",
         56144.844000000005
        ],
        [
         "Sports and travel",
         55122.826499999996
        ],
        [
         "Electronic accessories",
         54337.531500000005
        ],
        [
         "Fashion accessories",
         54305.895
        ],
        [
         "Home and lifestyle",
         53861.91300000001
        ],
        [
         "Health and beauty",
         49193.739000000016
        ]
       ],
       "datasetInfos": [],
       "dbfsResultPath": null,
       "isJsonSchema": true,
       "metadata": {
        "dataframeName": "_sqldf",
        "executionCount": 33
       },
       "overflow": false,
       "plotOptions": {
        "customPlotOptions": {},
        "displayType": "table",
        "pivotAggregation": null,
        "pivotColumns": null,
        "xColumns": null,
        "yColumns": null
       },
       "removedWidgets": [],
       "schema": [
        {
         "metadata": "{}",
         "name": "product line",
         "type": "\"string\""
        },
        {
         "metadata": "{}",
         "name": "total revenue",
         "type": "\"double\""
        }
       ],
       "type": "table"
      }
     },
     "output_type": "display_data"
    }
   ],
   "source": [
    "%sql\n",
    "-- What product line had the largest revenue?\n",
    "SELECT\n",
    "\t`product line`,\n",
    "\tSUM(total) as `total revenue`\n",
    "from `walmartsales_dataanalysis`.`default`.`walmart_sales_data_csv`\n",
    "GROUP BY 1\n",
    "ORDER BY 2 DESC;"
   ]
  },
  {
   "cell_type": "code",
   "execution_count": 0,
   "metadata": {
    "application/vnd.databricks.v1+cell": {
     "cellMetadata": {
      "byteLimit": 2048000,
      "implicitDf": true,
      "rowLimit": 10000
     },
     "inputWidgets": {},
     "nuid": "cfa50ebb-3c3f-4b48-9ed2-d9a92ac4d02a",
     "showTitle": false,
     "title": ""
    }
   },
   "outputs": [
    {
     "output_type": "display_data",
     "data": {
      "text/html": [
       "<style scoped>\n",
       "  .table-result-container {\n",
       "    max-height: 300px;\n",
       "    overflow: auto;\n",
       "  }\n",
       "  table, th, td {\n",
       "    border: 1px solid black;\n",
       "    border-collapse: collapse;\n",
       "  }\n",
       "  th, td {\n",
       "    padding: 5px;\n",
       "  }\n",
       "  th {\n",
       "    text-align: left;\n",
       "  }\n",
       "</style><div class='table-result-container'><table class='table-result'><thead style='background-color: white'><tr><th>branch</th><th>city</th><th>total_revenue</th></tr></thead><tbody><tr><td>C</td><td>Naypyitaw</td><td>110568.71</td></tr><tr><td>A</td><td>Yangon</td><td>106200.37</td></tr><tr><td>B</td><td>Mandalay</td><td>106197.67</td></tr></tbody></table></div>"
      ]
     },
     "metadata": {
      "application/vnd.databricks.v1+output": {
       "addedWidgets": {},
       "aggData": [],
       "aggError": "",
       "aggOverflow": false,
       "aggSchema": [],
       "aggSeriesLimitReached": false,
       "aggType": "",
       "arguments": {},
       "columnCustomDisplayInfos": {},
       "data": [
        [
         "C",
         "Naypyitaw",
         110568.71
        ],
        [
         "A",
         "Yangon",
         106200.37
        ],
        [
         "B",
         "Mandalay",
         106197.67
        ]
       ],
       "datasetInfos": [],
       "dbfsResultPath": null,
       "isJsonSchema": true,
       "metadata": {
        "dataframeName": "_sqldf",
        "executionCount": 36
       },
       "overflow": false,
       "plotOptions": {
        "customPlotOptions": {},
        "displayType": "table",
        "pivotAggregation": null,
        "pivotColumns": null,
        "xColumns": null,
        "yColumns": null
       },
       "removedWidgets": [],
       "schema": [
        {
         "metadata": "{}",
         "name": "branch",
         "type": "\"string\""
        },
        {
         "metadata": "{}",
         "name": "city",
         "type": "\"string\""
        },
        {
         "metadata": "{}",
         "name": "total_revenue",
         "type": "\"double\""
        }
       ],
       "type": "table"
      }
     },
     "output_type": "display_data"
    }
   ],
   "source": [
    "%sql\n",
    "-- What is the city with the largest revenue?\n",
    "SELECT\n",
    "\tbranch,\n",
    "\tcity,\n",
    "\tROUND(SUM(total), 2) AS total_revenue\n",
    "from `walmartsales_dataanalysis`.`default`.`walmart_sales_data_csv`\n",
    "GROUP BY city, branch \n",
    "ORDER BY total_revenue DESC;\n"
   ]
  },
  {
   "cell_type": "code",
   "execution_count": 0,
   "metadata": {
    "application/vnd.databricks.v1+cell": {
     "cellMetadata": {
      "byteLimit": 2048000,
      "implicitDf": true,
      "rowLimit": 10000
     },
     "inputWidgets": {},
     "nuid": "3267d532-11a9-4ea1-954e-afde3984b638",
     "showTitle": false,
     "title": ""
    }
   },
   "outputs": [
    {
     "output_type": "display_data",
     "data": {
      "text/html": [
       "<style scoped>\n",
       "  .table-result-container {\n",
       "    max-height: 300px;\n",
       "    overflow: auto;\n",
       "  }\n",
       "  table, th, td {\n",
       "    border: 1px solid black;\n",
       "    border-collapse: collapse;\n",
       "  }\n",
       "  th, td {\n",
       "    padding: 5px;\n",
       "  }\n",
       "  th {\n",
       "    text-align: left;\n",
       "  }\n",
       "</style><div class='table-result-container'><table class='table-result'><thead style='background-color: white'><tr><th>product line</th><th>avg_tax</th></tr></thead><tbody><tr><td>Food and beverages</td><td>2673.56</td></tr><tr><td>Sports and travel</td><td>2624.9</td></tr><tr><td>Electronic accessories</td><td>2587.5</td></tr><tr><td>Fashion accessories</td><td>2586.0</td></tr><tr><td>Home and lifestyle</td><td>2564.85</td></tr><tr><td>Health and beauty</td><td>2342.56</td></tr></tbody></table></div>"
      ]
     },
     "metadata": {
      "application/vnd.databricks.v1+output": {
       "addedWidgets": {},
       "aggData": [],
       "aggError": "",
       "aggOverflow": false,
       "aggSchema": [],
       "aggSeriesLimitReached": false,
       "aggType": "",
       "arguments": {},
       "columnCustomDisplayInfos": {},
       "data": [
        [
         "Food and beverages",
         2673.56
        ],
        [
         "Sports and travel",
         2624.9
        ],
        [
         "Electronic accessories",
         2587.5
        ],
        [
         "Fashion accessories",
         2586.0
        ],
        [
         "Home and lifestyle",
         2564.85
        ],
        [
         "Health and beauty",
         2342.56
        ]
       ],
       "datasetInfos": [],
       "dbfsResultPath": null,
       "isJsonSchema": true,
       "metadata": {
        "dataframeName": "_sqldf",
        "executionCount": 39
       },
       "overflow": false,
       "plotOptions": {
        "customPlotOptions": {},
        "displayType": "table",
        "pivotAggregation": null,
        "pivotColumns": null,
        "xColumns": null,
        "yColumns": null
       },
       "removedWidgets": [],
       "schema": [
        {
         "metadata": "{}",
         "name": "product line",
         "type": "\"string\""
        },
        {
         "metadata": "{}",
         "name": "avg_tax",
         "type": "\"double\""
        }
       ],
       "type": "table"
      }
     },
     "output_type": "display_data"
    }
   ],
   "source": [
    "%sql\n",
    "-- What product line had the largest VAT?\n",
    "SELECT\n",
    "\t`product line`,\n",
    "\tROUND(SUM(`Tax 5%`), 2) as avg_tax\n",
    "from `walmartsales_dataanalysis`.`default`.`walmart_sales_data_csv`\n",
    "GROUP BY `product line`\n",
    "ORDER BY avg_tax DESC;\n"
   ]
  },
  {
   "cell_type": "code",
   "execution_count": 0,
   "metadata": {
    "application/vnd.databricks.v1+cell": {
     "cellMetadata": {
      "byteLimit": 2048000,
      "implicitDf": true,
      "rowLimit": 10000
     },
     "inputWidgets": {},
     "nuid": "cc363003-2375-49cb-bd24-59e35389488b",
     "showTitle": false,
     "title": ""
    }
   },
   "outputs": [
    {
     "output_type": "display_data",
     "data": {
      "text/html": [
       "<style scoped>\n",
       "  .table-result-container {\n",
       "    max-height: 300px;\n",
       "    overflow: auto;\n",
       "  }\n",
       "  table, th, td {\n",
       "    border: 1px solid black;\n",
       "    border-collapse: collapse;\n",
       "  }\n",
       "  th, td {\n",
       "    padding: 5px;\n",
       "  }\n",
       "  th {\n",
       "    text-align: left;\n",
       "  }\n",
       "</style><div class='table-result-container'><table class='table-result'><thead style='background-color: white'><tr><th>product line</th><th>remark</th></tr></thead><tbody><tr><td>Home and lifestyle</td><td>Bad</td></tr><tr><td>Fashion accessories</td><td>Bad</td></tr><tr><td>Health and beauty</td><td>Bad</td></tr><tr><td>Electronic accessories</td><td>Bad</td></tr><tr><td>Food and beverages</td><td>Bad</td></tr><tr><td>Sports and travel</td><td>Bad</td></tr></tbody></table></div>"
      ]
     },
     "metadata": {
      "application/vnd.databricks.v1+output": {
       "addedWidgets": {},
       "aggData": [],
       "aggError": "",
       "aggOverflow": false,
       "aggSchema": [],
       "aggSeriesLimitReached": false,
       "aggType": "",
       "arguments": {},
       "columnCustomDisplayInfos": {},
       "data": [
        [
         "Home and lifestyle",
         "Bad"
        ],
        [
         "Fashion accessories",
         "Bad"
        ],
        [
         "Health and beauty",
         "Bad"
        ],
        [
         "Electronic accessories",
         "Bad"
        ],
        [
         "Food and beverages",
         "Bad"
        ],
        [
         "Sports and travel",
         "Bad"
        ]
       ],
       "datasetInfos": [],
       "dbfsResultPath": null,
       "isJsonSchema": true,
       "metadata": {
        "dataframeName": "_sqldf",
        "executionCount": 40
       },
       "overflow": false,
       "plotOptions": {
        "customPlotOptions": {},
        "displayType": "table",
        "pivotAggregation": null,
        "pivotColumns": null,
        "xColumns": null,
        "yColumns": null
       },
       "removedWidgets": [],
       "schema": [
        {
         "metadata": "{}",
         "name": "product line",
         "type": "\"string\""
        },
        {
         "metadata": "{}",
         "name": "remark",
         "type": "\"string\""
        }
       ],
       "type": "table"
      }
     },
     "output_type": "display_data"
    }
   ],
   "source": [
    "%sql\n",
    "-- Fetch each product line and add a column to those product \n",
    "-- line showing \"Good\", \"Bad\". Good if its greater than average sales\n",
    "\n",
    "SELECT \n",
    "\tAVG(quantity) AS avg_qnty\n",
    "from `walmartsales_dataanalysis`.`default`.`walmart_sales_data_csv`;\n",
    "\n",
    "SELECT\n",
    "\t`product line`,\n",
    "\tCASE\n",
    "\t\tWHEN AVG(quantity) > 6 THEN \"Good\"\n",
    "        ELSE \"Bad\"\n",
    "    END AS remark\n",
    "from `walmartsales_dataanalysis`.`default`.`walmart_sales_data_csv`\n",
    "GROUP BY `product line`;"
   ]
  },
  {
   "cell_type": "code",
   "execution_count": 0,
   "metadata": {
    "application/vnd.databricks.v1+cell": {
     "cellMetadata": {
      "byteLimit": 2048000,
      "implicitDf": true,
      "rowLimit": 10000
     },
     "inputWidgets": {},
     "nuid": "6dd1b315-d9bc-4c82-a893-19806a0d9f4c",
     "showTitle": false,
     "title": ""
    }
   },
   "outputs": [
    {
     "output_type": "display_data",
     "data": {
      "text/html": [
       "<style scoped>\n",
       "  .table-result-container {\n",
       "    max-height: 300px;\n",
       "    overflow: auto;\n",
       "  }\n",
       "  table, th, td {\n",
       "    border: 1px solid black;\n",
       "    border-collapse: collapse;\n",
       "  }\n",
       "  th, td {\n",
       "    padding: 5px;\n",
       "  }\n",
       "  th {\n",
       "    text-align: left;\n",
       "  }\n",
       "</style><div class='table-result-container'><table class='table-result'><thead style='background-color: white'><tr><th>Payment</th><th>Number of transactions</th></tr></thead><tbody><tr><td>Ewallet</td><td>345</td></tr><tr><td>Cash</td><td>344</td></tr><tr><td>Credit card</td><td>311</td></tr></tbody></table></div>"
      ]
     },
     "metadata": {
      "application/vnd.databricks.v1+output": {
       "addedWidgets": {},
       "aggData": [],
       "aggError": "",
       "aggOverflow": false,
       "aggSchema": [],
       "aggSeriesLimitReached": false,
       "aggType": "",
       "arguments": {},
       "columnCustomDisplayInfos": {},
       "data": [
        [
         "Ewallet",
         345
        ],
        [
         "Cash",
         344
        ],
        [
         "Credit card",
         311
        ]
       ],
       "datasetInfos": [],
       "dbfsResultPath": null,
       "isJsonSchema": true,
       "metadata": {
        "dataframeName": "_sqldf",
        "executionCount": 45
       },
       "overflow": false,
       "plotOptions": {
        "customPlotOptions": {},
        "displayType": "table",
        "pivotAggregation": null,
        "pivotColumns": null,
        "xColumns": null,
        "yColumns": null
       },
       "removedWidgets": [],
       "schema": [
        {
         "metadata": "{}",
         "name": "Payment",
         "type": "\"string\""
        },
        {
         "metadata": "{}",
         "name": "Number of transactions",
         "type": "\"long\""
        }
       ],
       "type": "table"
      }
     },
     "output_type": "display_data"
    }
   ],
   "source": [
    "%sql\n",
    "-- what is the most common payment method \n",
    "select distinct Payment, count(Payment) as `Number of transactions` from `walmartsales_dataanalysis`.`default`.`walmart_sales_data_csv` \n",
    "group by 1 "
   ]
  },
  {
   "cell_type": "code",
   "execution_count": 0,
   "metadata": {
    "application/vnd.databricks.v1+cell": {
     "cellMetadata": {
      "byteLimit": 2048000,
      "implicitDf": true,
      "rowLimit": 10000
     },
     "inputWidgets": {},
     "nuid": "b396c520-926a-4963-a2df-0d90cc10f3ec",
     "showTitle": false,
     "title": ""
    }
   },
   "outputs": [
    {
     "output_type": "display_data",
     "data": {
      "text/html": [
       "<style scoped>\n",
       "  .table-result-container {\n",
       "    max-height: 300px;\n",
       "    overflow: auto;\n",
       "  }\n",
       "  table, th, td {\n",
       "    border: 1px solid black;\n",
       "    border-collapse: collapse;\n",
       "  }\n",
       "  th, td {\n",
       "    padding: 5px;\n",
       "  }\n",
       "  th {\n",
       "    text-align: left;\n",
       "  }\n",
       "</style><div class='table-result-container'><table class='table-result'><thead style='background-color: white'><tr><th>branch</th><th>qnty</th></tr></thead><tbody><tr><td>A</td><td>1859</td></tr><tr><td>C</td><td>1831</td></tr><tr><td>B</td><td>1820</td></tr></tbody></table></div>"
      ]
     },
     "metadata": {
      "application/vnd.databricks.v1+output": {
       "addedWidgets": {},
       "aggData": [],
       "aggError": "",
       "aggOverflow": false,
       "aggSchema": [],
       "aggSeriesLimitReached": false,
       "aggType": "",
       "arguments": {},
       "columnCustomDisplayInfos": {},
       "data": [
        [
         "A",
         1859
        ],
        [
         "C",
         1831
        ],
        [
         "B",
         1820
        ]
       ],
       "datasetInfos": [],
       "dbfsResultPath": null,
       "isJsonSchema": true,
       "metadata": {
        "dataframeName": "_sqldf",
        "executionCount": 50
       },
       "overflow": false,
       "plotOptions": {
        "customPlotOptions": {},
        "displayType": "table",
        "pivotAggregation": null,
        "pivotColumns": null,
        "xColumns": null,
        "yColumns": null
       },
       "removedWidgets": [],
       "schema": [
        {
         "metadata": "{}",
         "name": "branch",
         "type": "\"string\""
        },
        {
         "metadata": "{}",
         "name": "qnty",
         "type": "\"long\""
        }
       ],
       "type": "table"
      }
     },
     "output_type": "display_data"
    }
   ],
   "source": [
    "%sql\n",
    "-- Which branch sold more products than average product sold?\n",
    "select \n",
    "\tbranch, \n",
    "    SUM(quantity) AS qnty\n",
    "from `walmartsales_dataanalysis`.`default`.`walmart_sales_data_csv` \n",
    "group by branch\n",
    "having SUM(quantity) > (select AVG(quantity)  from `walmartsales_dataanalysis`.`default`.`walmart_sales_data_csv` )\n",
    "order by 2 desc;"
   ]
  },
  {
   "cell_type": "code",
   "execution_count": 0,
   "metadata": {
    "application/vnd.databricks.v1+cell": {
     "cellMetadata": {
      "byteLimit": 2048000,
      "implicitDf": true,
      "rowLimit": 10000
     },
     "inputWidgets": {},
     "nuid": "941375db-cda8-4a28-8bd3-141ac54b0b11",
     "showTitle": false,
     "title": ""
    }
   },
   "outputs": [
    {
     "output_type": "display_data",
     "data": {
      "text/html": [
       "<style scoped>\n",
       "  .table-result-container {\n",
       "    max-height: 300px;\n",
       "    overflow: auto;\n",
       "  }\n",
       "  table, th, td {\n",
       "    border: 1px solid black;\n",
       "    border-collapse: collapse;\n",
       "  }\n",
       "  th, td {\n",
       "    padding: 5px;\n",
       "  }\n",
       "  th {\n",
       "    text-align: left;\n",
       "  }\n",
       "</style><div class='table-result-container'><table class='table-result'><thead style='background-color: white'><tr><th>gender</th><th>product line</th><th>total_cnt</th></tr></thead><tbody><tr><td>Female</td><td>Fashion accessories</td><td>96</td></tr><tr><td>Female</td><td>Food and beverages</td><td>90</td></tr><tr><td>Female</td><td>Sports and travel</td><td>88</td></tr><tr><td>Male</td><td>Health and beauty</td><td>88</td></tr><tr><td>Male</td><td>Electronic accessories</td><td>86</td></tr><tr><td>Male</td><td>Food and beverages</td><td>84</td></tr><tr><td>Female</td><td>Electronic accessories</td><td>84</td></tr><tr><td>Male</td><td>Fashion accessories</td><td>82</td></tr><tr><td>Male</td><td>Home and lifestyle</td><td>81</td></tr><tr><td>Female</td><td>Home and lifestyle</td><td>79</td></tr><tr><td>Male</td><td>Sports and travel</td><td>78</td></tr><tr><td>Female</td><td>Health and beauty</td><td>64</td></tr></tbody></table></div>"
      ]
     },
     "metadata": {
      "application/vnd.databricks.v1+output": {
       "addedWidgets": {},
       "aggData": [],
       "aggError": "",
       "aggOverflow": false,
       "aggSchema": [],
       "aggSeriesLimitReached": false,
       "aggType": "",
       "arguments": {},
       "columnCustomDisplayInfos": {},
       "data": [
        [
         "Female",
         "Fashion accessories",
         96
        ],
        [
         "Female",
         "Food and beverages",
         90
        ],
        [
         "Female",
         "Sports and travel",
         88
        ],
        [
         "Male",
         "Health and beauty",
         88
        ],
        [
         "Male",
         "Electronic accessories",
         86
        ],
        [
         "Male",
         "Food and beverages",
         84
        ],
        [
         "Female",
         "Electronic accessories",
         84
        ],
        [
         "Male",
         "Fashion accessories",
         82
        ],
        [
         "Male",
         "Home and lifestyle",
         81
        ],
        [
         "Female",
         "Home and lifestyle",
         79
        ],
        [
         "Male",
         "Sports and travel",
         78
        ],
        [
         "Female",
         "Health and beauty",
         64
        ]
       ],
       "datasetInfos": [],
       "dbfsResultPath": null,
       "isJsonSchema": true,
       "metadata": {
        "dataframeName": "_sqldf",
        "executionCount": 51
       },
       "overflow": false,
       "plotOptions": {
        "customPlotOptions": {},
        "displayType": "table",
        "pivotAggregation": null,
        "pivotColumns": null,
        "xColumns": null,
        "yColumns": null
       },
       "removedWidgets": [],
       "schema": [
        {
         "metadata": "{}",
         "name": "gender",
         "type": "\"string\""
        },
        {
         "metadata": "{}",
         "name": "product line",
         "type": "\"string\""
        },
        {
         "metadata": "{}",
         "name": "total_cnt",
         "type": "\"long\""
        }
       ],
       "type": "table"
      }
     },
     "output_type": "display_data"
    }
   ],
   "source": [
    "%sql\n",
    "\n",
    "-- What is the most common product line by gender\n",
    "SELECT\n",
    "\tgender,\n",
    "    `product line`,\n",
    "    COUNT(gender) AS total_cnt\n",
    "FROM `walmartsales_dataanalysis`.`default`.`walmart_sales_data_csv`\n",
    "GROUP BY gender, `product line`\n",
    "\n",
    "ORDER BY total_cnt DESC;"
   ]
  },
  {
   "cell_type": "code",
   "execution_count": 0,
   "metadata": {
    "application/vnd.databricks.v1+cell": {
     "cellMetadata": {
      "byteLimit": 2048000,
      "implicitDf": true,
      "rowLimit": 10000
     },
     "inputWidgets": {},
     "nuid": "9186e966-d604-4a2a-84ff-f1e5ee8e246d",
     "showTitle": false,
     "title": ""
    }
   },
   "outputs": [
    {
     "output_type": "display_data",
     "data": {
      "text/html": [
       "<style scoped>\n",
       "  .table-result-container {\n",
       "    max-height: 300px;\n",
       "    overflow: auto;\n",
       "  }\n",
       "  table, th, td {\n",
       "    border: 1px solid black;\n",
       "    border-collapse: collapse;\n",
       "  }\n",
       "  th, td {\n",
       "    padding: 5px;\n",
       "  }\n",
       "  th {\n",
       "    text-align: left;\n",
       "  }\n",
       "</style><div class='table-result-container'><table class='table-result'><thead style='background-color: white'><tr><th>avg_rating</th><th>product line</th></tr></thead><tbody><tr><td>7.11</td><td>Food and beverages</td></tr><tr><td>7.03</td><td>Fashion accessories</td></tr><tr><td>7.0</td><td>Health and beauty</td></tr><tr><td>6.92</td><td>Electronic accessories</td></tr><tr><td>6.92</td><td>Sports and travel</td></tr><tr><td>6.84</td><td>Home and lifestyle</td></tr></tbody></table></div>"
      ]
     },
     "metadata": {
      "application/vnd.databricks.v1+output": {
       "addedWidgets": {},
       "aggData": [],
       "aggError": "",
       "aggOverflow": false,
       "aggSchema": [],
       "aggSeriesLimitReached": false,
       "aggType": "",
       "arguments": {},
       "columnCustomDisplayInfos": {},
       "data": [
        [
         7.11,
         "Food and beverages"
        ],
        [
         7.03,
         "Fashion accessories"
        ],
        [
         7.0,
         "Health and beauty"
        ],
        [
         6.92,
         "Electronic accessories"
        ],
        [
         6.92,
         "Sports and travel"
        ],
        [
         6.84,
         "Home and lifestyle"
        ]
       ],
       "datasetInfos": [],
       "dbfsResultPath": null,
       "isJsonSchema": true,
       "metadata": {
        "dataframeName": "_sqldf",
        "executionCount": 53
       },
       "overflow": false,
       "plotOptions": {
        "customPlotOptions": {},
        "displayType": "table",
        "pivotAggregation": null,
        "pivotColumns": null,
        "xColumns": null,
        "yColumns": null
       },
       "removedWidgets": [],
       "schema": [
        {
         "metadata": "{}",
         "name": "avg_rating",
         "type": "\"double\""
        },
        {
         "metadata": "{}",
         "name": "product line",
         "type": "\"string\""
        }
       ],
       "type": "table"
      }
     },
     "output_type": "display_data"
    }
   ],
   "source": [
    "%sql\n",
    "-- What is the average rating of each product line\n",
    "SELECT\n",
    "\tROUND(AVG(rating), 2) as avg_rating,\n",
    "    `product line`\n",
    "FROM `walmartsales_dataanalysis`.`default`.`walmart_sales_data_csv`\n",
    "GROUP BY `product line`\n",
    "ORDER BY avg_rating DESC;"
   ]
  },
  {
   "cell_type": "markdown",
   "metadata": {
    "application/vnd.databricks.v1+cell": {
     "cellMetadata": {},
     "inputWidgets": {},
     "nuid": "29662e15-7f05-4474-b344-c2d04094f018",
     "showTitle": false,
     "title": ""
    }
   },
   "source": [
    "\n",
    "# Customers Analysis Questions "
   ]
  },
  {
   "cell_type": "code",
   "execution_count": 0,
   "metadata": {
    "application/vnd.databricks.v1+cell": {
     "cellMetadata": {
      "byteLimit": 2048000,
      "implicitDf": true,
      "rowLimit": 10000
     },
     "inputWidgets": {},
     "nuid": "dab7985b-a932-44cc-a6c6-3e42fac7b8d7",
     "showTitle": false,
     "title": ""
    }
   },
   "outputs": [
    {
     "output_type": "display_data",
     "data": {
      "text/html": [
       "<style scoped>\n",
       "  .table-result-container {\n",
       "    max-height: 300px;\n",
       "    overflow: auto;\n",
       "  }\n",
       "  table, th, td {\n",
       "    border: 1px solid black;\n",
       "    border-collapse: collapse;\n",
       "  }\n",
       "  th, td {\n",
       "    padding: 5px;\n",
       "  }\n",
       "  th {\n",
       "    text-align: left;\n",
       "  }\n",
       "</style><div class='table-result-container'><table class='table-result'><thead style='background-color: white'><tr><th>customer type</th></tr></thead><tbody><tr><td>Member</td></tr><tr><td>Normal</td></tr></tbody></table></div>"
      ]
     },
     "metadata": {
      "application/vnd.databricks.v1+output": {
       "addedWidgets": {},
       "aggData": [],
       "aggError": "",
       "aggOverflow": false,
       "aggSchema": [],
       "aggSeriesLimitReached": false,
       "aggType": "",
       "arguments": {},
       "columnCustomDisplayInfos": {},
       "data": [
        [
         "Member"
        ],
        [
         "Normal"
        ]
       ],
       "datasetInfos": [],
       "dbfsResultPath": null,
       "isJsonSchema": true,
       "metadata": {
        "dataframeName": "_sqldf",
        "executionCount": 55
       },
       "overflow": false,
       "plotOptions": {
        "customPlotOptions": {},
        "displayType": "table",
        "pivotAggregation": null,
        "pivotColumns": null,
        "xColumns": null,
        "yColumns": null
       },
       "removedWidgets": [],
       "schema": [
        {
         "metadata": "{}",
         "name": "customer type",
         "type": "\"string\""
        }
       ],
       "type": "table"
      }
     },
     "output_type": "display_data"
    }
   ],
   "source": [
    "%sql\n",
    "-- How many unique customer types does the data have?\n",
    "SELECT\n",
    "\tDISTINCT `customer type`\n",
    "FROM `walmartsales_dataanalysis`.`default`.`walmart_sales_data_csv`;\n"
   ]
  },
  {
   "cell_type": "code",
   "execution_count": 0,
   "metadata": {
    "application/vnd.databricks.v1+cell": {
     "cellMetadata": {
      "byteLimit": 2048000,
      "implicitDf": true,
      "rowLimit": 10000
     },
     "inputWidgets": {},
     "nuid": "a530d916-b7df-4e20-abbc-c9d78196c576",
     "showTitle": false,
     "title": ""
    }
   },
   "outputs": [
    {
     "output_type": "display_data",
     "data": {
      "text/html": [
       "<style scoped>\n",
       "  .table-result-container {\n",
       "    max-height: 300px;\n",
       "    overflow: auto;\n",
       "  }\n",
       "  table, th, td {\n",
       "    border: 1px solid black;\n",
       "    border-collapse: collapse;\n",
       "  }\n",
       "  th, td {\n",
       "    padding: 5px;\n",
       "  }\n",
       "  th {\n",
       "    text-align: left;\n",
       "  }\n",
       "</style><div class='table-result-container'><table class='table-result'><thead style='background-color: white'><tr><th>payment</th></tr></thead><tbody><tr><td>Ewallet</td></tr><tr><td>Cash</td></tr><tr><td>Credit card</td></tr></tbody></table></div>"
      ]
     },
     "metadata": {
      "application/vnd.databricks.v1+output": {
       "addedWidgets": {},
       "aggData": [],
       "aggError": "",
       "aggOverflow": false,
       "aggSchema": [],
       "aggSeriesLimitReached": false,
       "aggType": "",
       "arguments": {},
       "columnCustomDisplayInfos": {},
       "data": [
        [
         "Ewallet"
        ],
        [
         "Cash"
        ],
        [
         "Credit card"
        ]
       ],
       "datasetInfos": [],
       "dbfsResultPath": null,
       "isJsonSchema": true,
       "metadata": {
        "dataframeName": "_sqldf",
        "executionCount": 57
       },
       "overflow": false,
       "plotOptions": {
        "customPlotOptions": {},
        "displayType": "table",
        "pivotAggregation": null,
        "pivotColumns": null,
        "xColumns": null,
        "yColumns": null
       },
       "removedWidgets": [],
       "schema": [
        {
         "metadata": "{}",
         "name": "payment",
         "type": "\"string\""
        }
       ],
       "type": "table"
      }
     },
     "output_type": "display_data"
    }
   ],
   "source": [
    "%sql\n",
    "\n",
    "-- How many unique payment methods does the data have?\n",
    "SELECT\n",
    "\tDISTINCT payment\n",
    "FROM `walmartsales_dataanalysis`.`default`.`walmart_sales_data_csv`;\n"
   ]
  },
  {
   "cell_type": "code",
   "execution_count": 0,
   "metadata": {
    "application/vnd.databricks.v1+cell": {
     "cellMetadata": {
      "byteLimit": 2048000,
      "implicitDf": true,
      "rowLimit": 10000
     },
     "inputWidgets": {},
     "nuid": "8c2d5215-1383-4296-b7bf-1f6841b009d5",
     "showTitle": false,
     "title": ""
    }
   },
   "outputs": [
    {
     "output_type": "display_data",
     "data": {
      "text/html": [
       "<style scoped>\n",
       "  .table-result-container {\n",
       "    max-height: 300px;\n",
       "    overflow: auto;\n",
       "  }\n",
       "  table, th, td {\n",
       "    border: 1px solid black;\n",
       "    border-collapse: collapse;\n",
       "  }\n",
       "  th, td {\n",
       "    padding: 5px;\n",
       "  }\n",
       "  th {\n",
       "    text-align: left;\n",
       "  }\n",
       "</style><div class='table-result-container'><table class='table-result'><thead style='background-color: white'><tr><th>customer type</th><th>count</th></tr></thead><tbody><tr><td>Member</td><td>501</td></tr><tr><td>Normal</td><td>499</td></tr></tbody></table></div>"
      ]
     },
     "metadata": {
      "application/vnd.databricks.v1+output": {
       "addedWidgets": {},
       "aggData": [],
       "aggError": "",
       "aggOverflow": false,
       "aggSchema": [],
       "aggSeriesLimitReached": false,
       "aggType": "",
       "arguments": {},
       "columnCustomDisplayInfos": {},
       "data": [
        [
         "Member",
         501
        ],
        [
         "Normal",
         499
        ]
       ],
       "datasetInfos": [],
       "dbfsResultPath": null,
       "isJsonSchema": true,
       "metadata": {
        "dataframeName": "_sqldf",
        "executionCount": 59
       },
       "overflow": false,
       "plotOptions": {
        "customPlotOptions": {},
        "displayType": "table",
        "pivotAggregation": null,
        "pivotColumns": null,
        "xColumns": null,
        "yColumns": null
       },
       "removedWidgets": [],
       "schema": [
        {
         "metadata": "{}",
         "name": "customer type",
         "type": "\"string\""
        },
        {
         "metadata": "{}",
         "name": "count",
         "type": "\"long\""
        }
       ],
       "type": "table"
      }
     },
     "output_type": "display_data"
    }
   ],
   "source": [
    "%sql\n",
    "\n",
    "-- What is the most common customer type?\n",
    "SELECT\n",
    "\t`customer type`,\n",
    "\tcount(*) as count\n",
    "FROM `walmartsales_dataanalysis`.`default`.`walmart_sales_data_csv`\n",
    "GROUP BY `customer type`\n",
    "ORDER BY count DESC;"
   ]
  },
  {
   "cell_type": "code",
   "execution_count": 0,
   "metadata": {
    "application/vnd.databricks.v1+cell": {
     "cellMetadata": {
      "byteLimit": 2048000,
      "implicitDf": true,
      "rowLimit": 10000
     },
     "inputWidgets": {},
     "nuid": "858e1c9d-893a-4472-ad07-ab29bdbdf30f",
     "showTitle": false,
     "title": ""
    }
   },
   "outputs": [
    {
     "output_type": "display_data",
     "data": {
      "text/html": [
       "<style scoped>\n",
       "  .table-result-container {\n",
       "    max-height: 300px;\n",
       "    overflow: auto;\n",
       "  }\n",
       "  table, th, td {\n",
       "    border: 1px solid black;\n",
       "    border-collapse: collapse;\n",
       "  }\n",
       "  th, td {\n",
       "    padding: 5px;\n",
       "  }\n",
       "  th {\n",
       "    text-align: left;\n",
       "  }\n",
       "</style><div class='table-result-container'><table class='table-result'><thead style='background-color: white'><tr><th>gender</th><th>gender_cnt</th></tr></thead><tbody><tr><td>Female</td><td>501</td></tr><tr><td>Male</td><td>499</td></tr></tbody></table></div>"
      ]
     },
     "metadata": {
      "application/vnd.databricks.v1+output": {
       "addedWidgets": {},
       "aggData": [],
       "aggError": "",
       "aggOverflow": false,
       "aggSchema": [],
       "aggSeriesLimitReached": false,
       "aggType": "",
       "arguments": {},
       "columnCustomDisplayInfos": {},
       "data": [
        [
         "Female",
         501
        ],
        [
         "Male",
         499
        ]
       ],
       "datasetInfos": [],
       "dbfsResultPath": null,
       "isJsonSchema": true,
       "metadata": {
        "dataframeName": "_sqldf",
        "executionCount": 62
       },
       "overflow": false,
       "plotOptions": {
        "customPlotOptions": {},
        "displayType": "table",
        "pivotAggregation": null,
        "pivotColumns": null,
        "xColumns": null,
        "yColumns": null
       },
       "removedWidgets": [],
       "schema": [
        {
         "metadata": "{}",
         "name": "gender",
         "type": "\"string\""
        },
        {
         "metadata": "{}",
         "name": "gender_cnt",
         "type": "\"long\""
        }
       ],
       "type": "table"
      }
     },
     "output_type": "display_data"
    }
   ],
   "source": [
    "%sql\n",
    "-- What is the gender of most of the customers?\n",
    "SELECT\n",
    "\tgender,\n",
    "\tCOUNT(*) as gender_cnt\n",
    "FROM `walmartsales_dataanalysis`.`default`.`walmart_sales_data_csv`\n",
    "GROUP BY gender\n",
    "ORDER BY gender_cnt DESC;"
   ]
  },
  {
   "cell_type": "code",
   "execution_count": 0,
   "metadata": {
    "application/vnd.databricks.v1+cell": {
     "cellMetadata": {
      "byteLimit": 2048000,
      "implicitDf": true,
      "rowLimit": 10000
     },
     "inputWidgets": {},
     "nuid": "9bcdcfe3-a446-4dd3-8fb8-c7a0aa0de53d",
     "showTitle": false,
     "title": ""
    }
   },
   "outputs": [
    {
     "output_type": "display_data",
     "data": {
      "text/html": [
       "<style scoped>\n",
       "  .table-result-container {\n",
       "    max-height: 300px;\n",
       "    overflow: auto;\n",
       "  }\n",
       "  table, th, td {\n",
       "    border: 1px solid black;\n",
       "    border-collapse: collapse;\n",
       "  }\n",
       "  th, td {\n",
       "    padding: 5px;\n",
       "  }\n",
       "  th {\n",
       "    text-align: left;\n",
       "  }\n",
       "</style><div class='table-result-container'><table class='table-result'><thead style='background-color: white'><tr><th>gender</th><th>gender_cnt</th></tr></thead><tbody><tr><td>Female</td><td>178</td></tr><tr><td>Male</td><td>150</td></tr></tbody></table></div>"
      ]
     },
     "metadata": {
      "application/vnd.databricks.v1+output": {
       "addedWidgets": {},
       "aggData": [],
       "aggError": "",
       "aggOverflow": false,
       "aggSchema": [],
       "aggSeriesLimitReached": false,
       "aggType": "",
       "arguments": {},
       "columnCustomDisplayInfos": {},
       "data": [
        [
         "Female",
         178
        ],
        [
         "Male",
         150
        ]
       ],
       "datasetInfos": [],
       "dbfsResultPath": null,
       "isJsonSchema": true,
       "metadata": {
        "dataframeName": "_sqldf",
        "executionCount": 64
       },
       "overflow": false,
       "plotOptions": {
        "customPlotOptions": {},
        "displayType": "table",
        "pivotAggregation": null,
        "pivotColumns": null,
        "xColumns": null,
        "yColumns": null
       },
       "removedWidgets": [],
       "schema": [
        {
         "metadata": "{}",
         "name": "gender",
         "type": "\"string\""
        },
        {
         "metadata": "{}",
         "name": "gender_cnt",
         "type": "\"long\""
        }
       ],
       "type": "table"
      }
     },
     "output_type": "display_data"
    }
   ],
   "source": [
    "%sql\n",
    "\n",
    "-- What is the gender distribution per branch?\n",
    "SELECT\n",
    "\tgender,\n",
    "\tCOUNT(*) as gender_cnt\n",
    "FROM `walmartsales_dataanalysis`.`default`.`walmart_sales_data_csv`\n",
    "WHERE branch = \"C\"\n",
    "GROUP BY gender\n",
    "ORDER BY gender_cnt DESC;"
   ]
  },
  {
   "cell_type": "code",
   "execution_count": 0,
   "metadata": {
    "application/vnd.databricks.v1+cell": {
     "cellMetadata": {
      "byteLimit": 2048000,
      "implicitDf": true,
      "rowLimit": 10000
     },
     "inputWidgets": {},
     "nuid": "4f7ed797-0a98-4007-9842-df9568f8d42c",
     "showTitle": false,
     "title": ""
    }
   },
   "outputs": [
    {
     "output_type": "display_data",
     "data": {
      "text/html": [
       "<style scoped>\n",
       "  .table-result-container {\n",
       "    max-height: 300px;\n",
       "    overflow: auto;\n",
       "  }\n",
       "  table, th, td {\n",
       "    border: 1px solid black;\n",
       "    border-collapse: collapse;\n",
       "  }\n",
       "  th, td {\n",
       "    padding: 5px;\n",
       "  }\n",
       "  th {\n",
       "    text-align: left;\n",
       "  }\n",
       "</style><div class='table-result-container'><table class='table-result'><thead style='background-color: white'><tr><th>time_of_day</th><th>avg_rating</th></tr></thead><tbody><tr><td>Afternoon</td><td>7.031299734748012</td></tr><tr><td>Morning</td><td>6.960732984293193</td></tr><tr><td>Evening</td><td>6.926851851851853</td></tr></tbody></table></div>"
      ]
     },
     "metadata": {
      "application/vnd.databricks.v1+output": {
       "addedWidgets": {},
       "aggData": [],
       "aggError": "",
       "aggOverflow": false,
       "aggSchema": [],
       "aggSeriesLimitReached": false,
       "aggType": "",
       "arguments": {},
       "columnCustomDisplayInfos": {},
       "data": [
        [
         "Afternoon",
         7.031299734748012
        ],
        [
         "Morning",
         6.960732984293193
        ],
        [
         "Evening",
         6.926851851851853
        ]
       ],
       "datasetInfos": [],
       "dbfsResultPath": null,
       "isJsonSchema": true,
       "metadata": {
        "dataframeName": "_sqldf",
        "executionCount": 65
       },
       "overflow": false,
       "plotOptions": {
        "customPlotOptions": {},
        "displayType": "table",
        "pivotAggregation": null,
        "pivotColumns": null,
        "xColumns": null,
        "yColumns": null
       },
       "removedWidgets": [],
       "schema": [
        {
         "metadata": "{\"__CHAR_VARCHAR_TYPE_STRING\":\"varchar(20)\"}",
         "name": "time_of_day",
         "type": "\"string\""
        },
        {
         "metadata": "{}",
         "name": "avg_rating",
         "type": "\"double\""
        }
       ],
       "type": "table"
      }
     },
     "output_type": "display_data"
    }
   ],
   "source": [
    "%sql\n",
    "\n",
    "-- Which time of the day do customers give most ratings?\n",
    "SELECT\n",
    "\ttime_of_day,\n",
    "\tAVG(rating) AS avg_rating\n",
    "FROM `walmartsales_dataanalysis`.`default`.`walmart_sales_data_csv`\n",
    "GROUP BY time_of_day\n",
    "ORDER BY avg_rating DESC;"
   ]
  },
  {
   "cell_type": "markdown",
   "metadata": {
    "application/vnd.databricks.v1+cell": {
     "cellMetadata": {},
     "inputWidgets": {},
     "nuid": "9be43677-3e8c-4d83-a21f-d6cd9f3a2373",
     "showTitle": false,
     "title": ""
    }
   },
   "source": [
    "\n",
    "# Sales Analysis Questions "
   ]
  },
  {
   "cell_type": "code",
   "execution_count": 0,
   "metadata": {
    "application/vnd.databricks.v1+cell": {
     "cellMetadata": {
      "byteLimit": 2048000,
      "implicitDf": true,
      "rowLimit": 10000
     },
     "inputWidgets": {},
     "nuid": "8ede2d79-6f99-4910-9ff0-a29bd8a31bd5",
     "showTitle": false,
     "title": ""
    }
   },
   "outputs": [
    {
     "output_type": "display_data",
     "data": {
      "text/html": [
       "<style scoped>\n",
       "  .table-result-container {\n",
       "    max-height: 300px;\n",
       "    overflow: auto;\n",
       "  }\n",
       "  table, th, td {\n",
       "    border: 1px solid black;\n",
       "    border-collapse: collapse;\n",
       "  }\n",
       "  th, td {\n",
       "    padding: 5px;\n",
       "  }\n",
       "  th {\n",
       "    text-align: left;\n",
       "  }\n",
       "</style><div class='table-result-container'><table class='table-result'><thead style='background-color: white'><tr><th>Customer type</th><th>total_revenue</th></tr></thead><tbody><tr><td>Normal</td><td>158743.30500000005</td></tr><tr><td>Member</td><td>164223.44400000002</td></tr></tbody></table></div>"
      ]
     },
     "metadata": {
      "application/vnd.databricks.v1+output": {
       "addedWidgets": {},
       "aggData": [],
       "aggError": "",
       "aggOverflow": false,
       "aggSchema": [],
       "aggSeriesLimitReached": false,
       "aggType": "",
       "arguments": {},
       "columnCustomDisplayInfos": {},
       "data": [
        [
         "Normal",
         158743.30500000005
        ],
        [
         "Member",
         164223.44400000002
        ]
       ],
       "datasetInfos": [],
       "dbfsResultPath": null,
       "isJsonSchema": true,
       "metadata": {
        "dataframeName": "_sqldf",
        "executionCount": 67
       },
       "overflow": false,
       "plotOptions": {
        "customPlotOptions": {},
        "displayType": "table",
        "pivotAggregation": null,
        "pivotColumns": null,
        "xColumns": null,
        "yColumns": null
       },
       "removedWidgets": [],
       "schema": [
        {
         "metadata": "{}",
         "name": "Customer type",
         "type": "\"string\""
        },
        {
         "metadata": "{}",
         "name": "total_revenue",
         "type": "\"double\""
        }
       ],
       "type": "table"
      }
     },
     "output_type": "display_data"
    }
   ],
   "source": [
    "%sql\n",
    "-- Which of the customer types brings the most revenue?\n",
    "SELECT\n",
    "\t`Customer type`,\n",
    "\tSUM(total) AS total_revenue\n",
    "FROM `walmartsales_dataanalysis`.`default`.`walmart_sales_data_csv`\n",
    "GROUP BY `Customer type`\n",
    "ORDER BY total_revenue;\n"
   ]
  },
  {
   "cell_type": "code",
   "execution_count": 0,
   "metadata": {
    "application/vnd.databricks.v1+cell": {
     "cellMetadata": {
      "byteLimit": 2048000,
      "implicitDf": true,
      "rowLimit": 10000
     },
     "inputWidgets": {},
     "nuid": "66118e0f-9781-4463-9691-b232e3c19a5f",
     "showTitle": false,
     "title": ""
    }
   },
   "outputs": [
    {
     "output_type": "display_data",
     "data": {
      "text/html": [
       "<style scoped>\n",
       "  .table-result-container {\n",
       "    max-height: 300px;\n",
       "    overflow: auto;\n",
       "  }\n",
       "  table, th, td {\n",
       "    border: 1px solid black;\n",
       "    border-collapse: collapse;\n",
       "  }\n",
       "  th, td {\n",
       "    padding: 5px;\n",
       "  }\n",
       "  th {\n",
       "    text-align: left;\n",
       "  }\n",
       "</style><div class='table-result-container'><table class='table-result'><thead style='background-color: white'><tr><th>city</th><th>avg_tax_pct</th></tr></thead><tbody><tr><td>Naypyitaw</td><td>16.05</td></tr><tr><td>Mandalay</td><td>15.23</td></tr><tr><td>Yangon</td><td>14.87</td></tr></tbody></table></div>"
      ]
     },
     "metadata": {
      "application/vnd.databricks.v1+output": {
       "addedWidgets": {},
       "aggData": [],
       "aggError": "",
       "aggOverflow": false,
       "aggSchema": [],
       "aggSeriesLimitReached": false,
       "aggType": "",
       "arguments": {},
       "columnCustomDisplayInfos": {},
       "data": [
        [
         "Naypyitaw",
         16.05
        ],
        [
         "Mandalay",
         15.23
        ],
        [
         "Yangon",
         14.87
        ]
       ],
       "datasetInfos": [],
       "dbfsResultPath": null,
       "isJsonSchema": true,
       "metadata": {
        "dataframeName": "_sqldf",
        "executionCount": 69
       },
       "overflow": false,
       "plotOptions": {
        "customPlotOptions": {},
        "displayType": "table",
        "pivotAggregation": null,
        "pivotColumns": null,
        "xColumns": null,
        "yColumns": null
       },
       "removedWidgets": [],
       "schema": [
        {
         "metadata": "{}",
         "name": "city",
         "type": "\"string\""
        },
        {
         "metadata": "{}",
         "name": "avg_tax_pct",
         "type": "\"double\""
        }
       ],
       "type": "table"
      }
     },
     "output_type": "display_data"
    }
   ],
   "source": [
    "%sql\n",
    "-- Which city has the largest tax/VAT percent?\n",
    "SELECT\n",
    "\tcity,\n",
    "    ROUND(AVG(`Tax 5%`), 2) AS avg_tax_pct\n",
    "FROM `walmartsales_dataanalysis`.`default`.`walmart_sales_data_csv`\n",
    "GROUP BY city \n",
    "ORDER BY avg_tax_pct DESC;"
   ]
  },
  {
   "cell_type": "code",
   "execution_count": 0,
   "metadata": {
    "application/vnd.databricks.v1+cell": {
     "cellMetadata": {
      "byteLimit": 2048000,
      "implicitDf": true,
      "rowLimit": 10000
     },
     "inputWidgets": {},
     "nuid": "40ab0abb-158d-4fb7-bfc4-0aa1896134c1",
     "showTitle": false,
     "title": ""
    }
   },
   "outputs": [
    {
     "output_type": "display_data",
     "data": {
      "text/html": [
       "<style scoped>\n",
       "  .table-result-container {\n",
       "    max-height: 300px;\n",
       "    overflow: auto;\n",
       "  }\n",
       "  table, th, td {\n",
       "    border: 1px solid black;\n",
       "    border-collapse: collapse;\n",
       "  }\n",
       "  th, td {\n",
       "    padding: 5px;\n",
       "  }\n",
       "  th {\n",
       "    text-align: left;\n",
       "  }\n",
       "</style><div class='table-result-container'><table class='table-result'><thead style='background-color: white'><tr><th>Customer type</th><th>total_tax</th></tr></thead><tbody><tr><td>Normal</td><td>15.148707414829664</td></tr><tr><td>Member</td><td>15.609109780439125</td></tr></tbody></table></div>"
      ]
     },
     "metadata": {
      "application/vnd.databricks.v1+output": {
       "addedWidgets": {},
       "aggData": [],
       "aggError": "",
       "aggOverflow": false,
       "aggSchema": [],
       "aggSeriesLimitReached": false,
       "aggType": "",
       "arguments": {},
       "columnCustomDisplayInfos": {},
       "data": [
        [
         "Normal",
         15.148707414829664
        ],
        [
         "Member",
         15.609109780439125
        ]
       ],
       "datasetInfos": [],
       "dbfsResultPath": null,
       "isJsonSchema": true,
       "metadata": {
        "dataframeName": "_sqldf",
        "executionCount": 70
       },
       "overflow": false,
       "plotOptions": {
        "customPlotOptions": {},
        "displayType": "table",
        "pivotAggregation": null,
        "pivotColumns": null,
        "xColumns": null,
        "yColumns": null
       },
       "removedWidgets": [],
       "schema": [
        {
         "metadata": "{}",
         "name": "Customer type",
         "type": "\"string\""
        },
        {
         "metadata": "{}",
         "name": "total_tax",
         "type": "\"double\""
        }
       ],
       "type": "table"
      }
     },
     "output_type": "display_data"
    }
   ],
   "source": [
    "%sql\n",
    "-- Which customer type pays the most in VAT?\n",
    "SELECT\n",
    "\t`Customer type`,\n",
    "\tAVG(`Tax 5%`) AS total_tax\n",
    "FROM `walmartsales_dataanalysis`.`default`.`walmart_sales_data_csv`\n",
    "GROUP BY `Customer type`\n",
    "ORDER BY total_tax;\n"
   ]
  }
 ],
 "metadata": {
  "application/vnd.databricks.v1+notebook": {
   "dashboards": [],
   "language": "python",
   "notebookMetadata": {
    "mostRecentlyExecutedCommandWithImplicitDF": {
     "commandId": 2571113033597324,
     "dataframes": [
      "_sqldf"
     ]
    },
    "pythonIndentUnit": 2
   },
   "notebookName": "Explore walmartsales_dataanalysis.default.walmart_sales_data_csv",
   "widgets": {}
  }
 },
 "nbformat": 4,
 "nbformat_minor": 0
}
